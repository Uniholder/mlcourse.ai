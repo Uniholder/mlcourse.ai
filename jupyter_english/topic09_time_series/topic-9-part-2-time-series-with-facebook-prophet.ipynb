{
 "cells": [
  {
   "cell_type": "markdown",
   "metadata": {
    "_uuid": "7cda7850b33abeb277ac53c16b7b79cb9eca14bf"
   },
   "source": [
    "<center>\n",
    "<img src=\"https://habrastorage.org/webt/ia/m9/zk/iam9zkyzqebnf_okxipihkgjwnw.jpeg\">\n",
    "    \n",
    "## [mlcourse.ai](https://mlcourse.ai) – Open Machine Learning Course \n",
    "\n",
    "Authors: [Egor Polusmak](https://www.linkedin.com/in/egor-polusmak/) and [Yury Kashnitsky](https://yorko.github.io). This material is subject to the terms and conditions of the [Creative Commons CC BY-NC-SA 4.0](https://creativecommons.org/licenses/by-nc-sa/4.0/) license. Free use is permitted for any non-commercial purpose.\n",
    "\n",
    "*You can also check out the latest version of this notebook in the [course repository](https://github.com/Yorko/mlcourse.ai).*"
   ]
  },
  {
   "cell_type": "markdown",
   "metadata": {
    "_uuid": "1b45695547343f391e12f19370d455c05ab236ef"
   },
   "source": [
    "# <center>Topic 9. Time series analysis in Python</center>\n",
    "## <center>Part 2. Predicting the future with Facebook Prophet</center>"
   ]
  },
  {
   "cell_type": "markdown",
   "metadata": {
    "_uuid": "3ee6262e3146ba0c422d18145a207e0d39388b49"
   },
   "source": [
    "Time series forecasting finds wide application in data analytics. These are only some of the conceivable predictions of future trends that might be useful:\n",
    "- The number of servers that an online service will need next year.\n",
    "- The demand for a grocery product at a supermarket on a given day.\n",
    "- The tomorrow closing price of a tradable financial asset.\n",
    "\n",
    "For another example, we can make a prediction of some team's performance and then use it as a baseline: first to set goals for the team, and then to measure the actual team performance relative to the baseline.\n",
    "\n",
    "There are quite a few different methods to predict future trends, for example, [ARIMA](https://en.wikipedia.org/wiki/Autoregressive_integrated_moving_average), [ARCH](https://en.wikipedia.org/wiki/Autoregressive_conditional_heteroskedasticity), [regressive models](https://en.wikipedia.org/wiki/Autoregressive_model), [neural networks](https://medium.com/machine-learning-world/neural-networks-for-algorithmic-trading-1-2-correct-time-series-forecasting-backtesting-9776bfd9e589).\n",
    "\n",
    "In this article, we will look at [Prophet](https://facebook.github.io/prophet/), a library for time series forecasting released by Facebook and open-sourced on February 23, 2017. We will also try it out in the problem of predicting the daily number of posts published on Medium."
   ]
  },
  {
   "cell_type": "markdown",
   "metadata": {
    "_uuid": "d448c1e172c587cba4db5907f2d88146d20c169b"
   },
   "source": [
    "## Article outline\n",
    "\n",
    "1. Introduction\n",
    "2. The Prophet Forecasting Model\n",
    "3. Practice with Prophet\n",
    "    * 3.1 Installation in Python\n",
    "    * 3.2 Dataset\n",
    "    * 3.3 Exploratory visual analysis\n",
    "    * 3.4 Making a forecast\n",
    "    * 3.5 Forecast quality evaluation\n",
    "    * 3.6 Visualization\n",
    "4. Box-Cox Transformation\n",
    "5. Summary\n",
    "6. References"
   ]
  },
  {
   "cell_type": "markdown",
   "metadata": {
    "_uuid": "36ca5cda7b428302f27421898c459938443df4ee"
   },
   "source": [
    "## 1. Introduction\n",
    "\n",
    "According to the [article](https://research.fb.com/prophet-forecasting-at-scale/) on Facebook Research, Prophet was initially developed for the purpose of creating high quality business forecasts. This library tries to address the following difficulties common to many business time series:\n",
    "- Seasonal effects caused by human behavior: weekly, monthly and yearly cycles, dips and peaks on public holidays.\n",
    "- Changes in trend due to new products and market events.\n",
    "- Outliers.\n",
    "\n",
    "The authors claim that, even with the default settings, in many cases, their library produces forecasts as accurate as those delivered by experienced analysts.\n",
    "\n",
    "Moreover, Prophet has a number of intuitive and easily interpretable customizations that allow gradually improving the quality of the forecasting model. What is especially important, these paramaters are quite comprehensible even for non-experts in time series analysis, which is a field of data science requiring certain skill and experience.\n",
    "\n",
    "By the way, the original article is called \"Forecasting at Scale\", but it is not about the scale in the \"usual\" sense, that is addressing computational and infrastructure problems of a large number of working programs. According to the authors, Prophet should scale well in the following 3 areas:\n",
    "- Accessibility to a wide audience of analysts, possibly without profound expertise in time series.\n",
    "- Applicability to a wide range of distinct forecasting problems.\n",
    "- Automated performance estimation of a large number of forecasts including flagging of potential problems for their subsequent inspection by the analyst."
   ]
  },
  {
   "cell_type": "markdown",
   "metadata": {
    "_uuid": "7802a24b4448477f4cc69e537fc918847e63387c"
   },
   "source": [
    "## 2. The Prophet Forecasting Model\n",
    "\n",
    "Now, let's take a closer look at how Prophet works. In its essence, this library utilizes the [additive regression model](https://en.wikipedia.org/wiki/Additive_model) $y(t)$ comprising the following components:\n",
    "\n",
    "$$y(t) = g(t) + s(t) + h(t) + \\epsilon_{t},$$\n",
    "\n",
    "where:\n",
    "* Trend $g(t)$ models non-periodic changes.\n",
    "* Seasonality $s(t)$ represents periodic changes.\n",
    "* Holidays component $h(t)$ contributes information about holidays and events.\n",
    "\n",
    "Below, we will consider some important properties of these model components."
   ]
  },
  {
   "cell_type": "markdown",
   "metadata": {
    "_uuid": "9370c9a96f07a9186b89c7423d17383a5d373a40"
   },
   "source": [
    "### Trend\n",
    "\n",
    "The Prophet library implements two possible trend models for $g(t)$.\n",
    "\n",
    "The first one is called *Nonlinear, Saturating Growth*. It is represented in the form of the [logistic growth model](https://en.wikipedia.org/wiki/Logistic_function):\n",
    "\n",
    "$$g(t) = \\frac{C}{1+e^{-k(t - m)}},$$\n",
    "\n",
    "where:\n",
    "* $C$ is the carrying capacity (that is the curve's maximum value).\n",
    "* $k$ is the growth rate (which represents \"the steepness\" of the curve).\n",
    "* $m$ is an offset parameter.\n",
    "\n",
    "This logistic equation allows modelling non-linear growth with saturation, that is when the growth rate of a value decreases with its growth. One of the typical examples would be representing the growth of the audience of an application or a website.\n",
    "\n",
    "Actually, $C$ and $k$ are not necessarily constants and may vary over time. Prophet supports both automatic and manual tuning of their variability. The library can itself choose optimal points of trend changes by fitting the supplied historical data. \n",
    "\n",
    "Also, Prophet allows analysts to manually set changepoints of the growth rate and capacity values at different points in time. For instance, analysts may have insights about dates of past releases that prominently influenced some key product indicators.\n",
    "\n",
    "The second trend model is a simple *Piecewise Linear Model* with a constant rate of growth. It is best suited for problems without saturating growth."
   ]
  },
  {
   "cell_type": "markdown",
   "metadata": {
    "_uuid": "0f53b585ab18cf85a709dc3f27dc10b412560a69"
   },
   "source": [
    "### Seasonality\n",
    "\n",
    "The seasonal component $s(t)$ provides a flexible model of periodic changes due to weekly and yearly seasonality.\n",
    "\n",
    "Weekly seasonal data is modeled with dummy variables. Six new variables are added: `monday`, `tuesday`, `wednesday`, `thursday`, `friday`, `saturday`, which take values 0 or 1 depending on the day of the week. The feature `sunday` is not added because it would be a linear combination of the other days of the week, and this fact would have an adverse effect on the model.\n",
    "\n",
    "Yearly seasonality model in Prophet relies on Fourier series.\n",
    "\n",
    "Since [version 0.2](https://github.com/facebook/prophet) you can also use *sub-daily time series* and make *sub-daily forecasts* as well as employ the new *daily seasonality* feature."
   ]
  },
  {
   "cell_type": "markdown",
   "metadata": {
    "_uuid": "d5fa7273168f7fc9c5775c09ca23739d345ff0b9"
   },
   "source": [
    "### Holidays and Events\n",
    "\n",
    "The component $h(t)$ represents predictable abnormal days of the year including those on irregular schedules, e.g., Black Fridays.\n",
    "\n",
    "To utilize this feature, the analyst needs to provide a custom list of events."
   ]
  },
  {
   "cell_type": "markdown",
   "metadata": {
    "_uuid": "3f1e4536d60790db9952d80af545f98cf974837c"
   },
   "source": [
    "### Error\n",
    "\n",
    "The error term $\\epsilon(t)$ represents information that was not reflected in the model. Usually it is modeled as normally distributed noise."
   ]
  },
  {
   "cell_type": "markdown",
   "metadata": {
    "_uuid": "388175043a39b3a6d3240cebbf715e436627764f"
   },
   "source": [
    "### Prophet Benchmarking\n",
    "\n",
    "For a detailed description of the model and algorithms behind Prophet refer to the paper [\"Forecasting at scale\"](https://peerj.com/preprints/3190/) by Sean J. Taylor and Benjamin Letham.\n",
    "\n",
    "The authors also compared their library with several other methods for time series forecasting. They used [Mean Absolute Percentage Error (MAPE)](https://en.wikipedia.org/wiki/Mean_absolute_percentage_error) as a measure of prediction accuracy. In this research, Prophet has shown substantially lower forecasting error than the other models."
   ]
  },
  {
   "cell_type": "markdown",
   "metadata": {
    "_uuid": "27a9e0f517fe2b121ebf97d92dc3412f66d9a10e"
   },
   "source": [
    "<img src=https://habrastorage.org/webt/7l/cx/no/7lcxnoboz_ubpwuoq5bxcxd_toa.png>"
   ]
  },
  {
   "cell_type": "markdown",
   "metadata": {
    "_uuid": "980b12982a124cdecfa2c8e73c9c2d56842a8468"
   },
   "source": [
    "Let's look closer at how the forcasting quality was measured in the article. To do this, we will need the formula of Mean Absolute Percentage Error.\n",
    "\n",
    "Let $y_{i}$ be the *actual (historical) value* and $\\hat{y}_{i}$ be the *forecast value* given by our model.\n",
    "\n",
    "Then $e_{i} = y_{i} - \\hat{y}_{i}$ is the *forecast error* and $p_{i} =\\frac{\\displaystyle e_{i}}{\\displaystyle y_{i}}$ is the *relative forecast error*.\n",
    "\n",
    "We define\n",
    "\n",
    "$$MAPE = mean\\big(\\left |p_{i} \\right |\\big)$$\n",
    "\n",
    "MAPE is widely used as a measure of prediction accuracy because it expresses error as a percentage and thus can be used in model evaluations on different datasets.\n",
    "\n",
    "In addition, when evaluating a forecasting algorithm, it may prove useful to calculate [MAE (Mean Absolute Error)](https://en.wikipedia.org/wiki/Mean_absolute_error) in order to have a picture of errors in absolute numbers. Using previously defined components, its equation will be\n",
    "\n",
    "$$MAE = mean\\big(\\left |e_{i}\\right |\\big)$$"
   ]
  },
  {
   "cell_type": "markdown",
   "metadata": {
    "_uuid": "b77241e6b52d51eaaa087e22100e97add98e9246"
   },
   "source": [
    "A few words about the algorithms that Prophet was compared with. Most of them are quite simple and often are used as a baseline for other models:\n",
    "* `naive` is a simplistic forecasting approach where we predict all future values relying solely on the observation at the last available point of time.\n",
    "* `snaive` (seasonal naive) is a model that makes constant predictions taking into account information about seasonality. For instance, in the case of weekly seasonal data for each future Monday, we would predict the value from the last Monday, and for all future Tuesdays we would use the value from the last Tuesday and so on.\n",
    "* `mean` uses the averaged value of data as a forecast.\n",
    "* `arima` stands for *Autoregressive Integrated Moving Average*, see [Wikipedia](https://en.wikipedia.org/wiki/Autoregressive_integrated_moving_average) for details.\n",
    "* `ets` stands for *Exponential Smoothing*, see [Wikipedia](https://en.wikipedia.org/wiki/Exponential_smoothing) for more."
   ]
  },
  {
   "cell_type": "markdown",
   "metadata": {
    "_uuid": "980ad6ccf8671b45897bb37798ef31ad043ca58f"
   },
   "source": [
    "## 3. Practice with Facebook Prophet\n",
    "\n",
    "### 3.1 Installation in Python\n",
    "\n",
    "First, you need to install the library. Prophet is available for Python and R. The choice will depend on your personal preferences and project requirements. Further in this article we will use Python.\n",
    "\n",
    "In Python you can install Prophet using PyPI:\n",
    "```\n",
    "$ pip install fbprophet\n",
    "```\n",
    "\n",
    "In R you can find the corresponing CRAN package. Refer to the [documentation](https://facebookincubator.github.io/prophet/docs/installation.html) for details.\n",
    "\n",
    "Let's import the modules that we will need, and initialize our environment:"
   ]
  },
  {
   "cell_type": "code",
   "execution_count": 8,
   "metadata": {
    "_uuid": "ae20e66c0f75c5459f88531bc4a41f8b59b81a25"
   },
   "outputs": [],
   "source": [
    "import warnings\n",
    "warnings.filterwarnings('ignore')\n",
    "\n",
    "import numpy as np\n",
    "import pandas as pd\n",
    "from scipy import stats\n",
    "import statsmodels.api as sm\n",
    "import matplotlib.pyplot as plt\n",
    "\n",
    "# sharper plots\n",
    "%config InlineBackend.figure_format = 'retina'\n",
    "%matplotlib inline"
   ]
  },
  {
   "cell_type": "markdown",
   "metadata": {
    "_uuid": "360cb126193a6f0786939795286b136552f934ed"
   },
   "source": [
    "### 3.2 Dataset\n",
    "\n",
    "We will predict the daily number of posts published on [Medium](https://medium.com/).\n",
    "\n",
    "First, we load our dataset (download it from [here](https://drive.google.com/file/d/1G3YjM6mR32iPnQ6O3f6rE9BVbhiTiLyU/view?usp=sharing) and place in the '../../data' folder if you'd like to reproduce the following code):"
   ]
  },
  {
   "cell_type": "code",
   "execution_count": 9,
   "metadata": {
    "_uuid": "f3987c00479aa9e0cca538bd29c8a8e4e99ddb32"
   },
   "outputs": [],
   "source": [
    "df = pd.read_csv('../../data/medium_posts.csv', delimiter='\\t')"
   ]
  },
  {
   "cell_type": "code",
   "execution_count": 10,
   "metadata": {},
   "outputs": [
    {
     "data": {
      "text/html": [
       "<div>\n",
       "<style scoped>\n",
       "    .dataframe tbody tr th:only-of-type {\n",
       "        vertical-align: middle;\n",
       "    }\n",
       "\n",
       "    .dataframe tbody tr th {\n",
       "        vertical-align: top;\n",
       "    }\n",
       "\n",
       "    .dataframe thead th {\n",
       "        text-align: right;\n",
       "    }\n",
       "</style>\n",
       "<table border=\"1\" class=\"dataframe\">\n",
       "  <thead>\n",
       "    <tr style=\"text-align: right;\">\n",
       "      <th></th>\n",
       "      <th>published</th>\n",
       "      <th>domain</th>\n",
       "      <th>url</th>\n",
       "    </tr>\n",
       "  </thead>\n",
       "  <tbody>\n",
       "    <tr>\n",
       "      <th>0</th>\n",
       "      <td>2012-08-13 22:54:53.510Z</td>\n",
       "      <td>medium.com</td>\n",
       "      <td>https://medium.com/policy/medium-terms-of-serv...</td>\n",
       "    </tr>\n",
       "    <tr>\n",
       "      <th>1</th>\n",
       "      <td>2012-08-13 22:57:17.248Z</td>\n",
       "      <td>medium.com</td>\n",
       "      <td>https://medium.com/policy/medium-privacy-polic...</td>\n",
       "    </tr>\n",
       "    <tr>\n",
       "      <th>2</th>\n",
       "      <td>2016-11-04 23:40:43.364Z</td>\n",
       "      <td>medium.com</td>\n",
       "      <td>https://medium.com/@Medium/personalize-your-me...</td>\n",
       "    </tr>\n",
       "    <tr>\n",
       "      <th>3</th>\n",
       "      <td>2016-12-24 18:21:13.427Z</td>\n",
       "      <td>medium.com</td>\n",
       "      <td>https://medium.com/holiday-poems/xmas-morning-...</td>\n",
       "    </tr>\n",
       "    <tr>\n",
       "      <th>4</th>\n",
       "      <td>2015-09-22 21:37:48.207Z</td>\n",
       "      <td>blog.medium.com</td>\n",
       "      <td>https://blog.medium.com/taking-a-side-on-net-n...</td>\n",
       "    </tr>\n",
       "    <tr>\n",
       "      <th>...</th>\n",
       "      <td>...</td>\n",
       "      <td>...</td>\n",
       "      <td>...</td>\n",
       "    </tr>\n",
       "    <tr>\n",
       "      <th>92186</th>\n",
       "      <td>2017-05-23 17:15:09.193Z</td>\n",
       "      <td>medium.com</td>\n",
       "      <td>https://medium.com/@KyleAndrews1994/its-time-t...</td>\n",
       "    </tr>\n",
       "    <tr>\n",
       "      <th>92187</th>\n",
       "      <td>2017-01-31 09:59:12.316Z</td>\n",
       "      <td>medium.com</td>\n",
       "      <td>https://medium.com/silent-protagonist/next-wee...</td>\n",
       "    </tr>\n",
       "    <tr>\n",
       "      <th>92188</th>\n",
       "      <td>2017-02-16 14:15:20.116Z</td>\n",
       "      <td>medium.com</td>\n",
       "      <td>https://medium.com/@utapartment26/there-used-t...</td>\n",
       "    </tr>\n",
       "    <tr>\n",
       "      <th>92189</th>\n",
       "      <td>2017-06-27 10:16:21.668Z</td>\n",
       "      <td>medium.com</td>\n",
       "      <td>https://medium.com/silent-protagonist/the-snes...</td>\n",
       "    </tr>\n",
       "    <tr>\n",
       "      <th>92190</th>\n",
       "      <td>2017-06-12 06:49:29.954Z</td>\n",
       "      <td>medium.com</td>\n",
       "      <td>https://medium.com/silent-protagonist/assassin...</td>\n",
       "    </tr>\n",
       "  </tbody>\n",
       "</table>\n",
       "<p>92191 rows × 3 columns</p>\n",
       "</div>"
      ],
      "text/plain": [
       "                      published           domain  \\\n",
       "0      2012-08-13 22:54:53.510Z       medium.com   \n",
       "1      2012-08-13 22:57:17.248Z       medium.com   \n",
       "2      2016-11-04 23:40:43.364Z       medium.com   \n",
       "3      2016-12-24 18:21:13.427Z       medium.com   \n",
       "4      2015-09-22 21:37:48.207Z  blog.medium.com   \n",
       "...                         ...              ...   \n",
       "92186  2017-05-23 17:15:09.193Z       medium.com   \n",
       "92187  2017-01-31 09:59:12.316Z       medium.com   \n",
       "92188  2017-02-16 14:15:20.116Z       medium.com   \n",
       "92189  2017-06-27 10:16:21.668Z       medium.com   \n",
       "92190  2017-06-12 06:49:29.954Z       medium.com   \n",
       "\n",
       "                                                     url  \n",
       "0      https://medium.com/policy/medium-terms-of-serv...  \n",
       "1      https://medium.com/policy/medium-privacy-polic...  \n",
       "2      https://medium.com/@Medium/personalize-your-me...  \n",
       "3      https://medium.com/holiday-poems/xmas-morning-...  \n",
       "4      https://blog.medium.com/taking-a-side-on-net-n...  \n",
       "...                                                  ...  \n",
       "92186  https://medium.com/@KyleAndrews1994/its-time-t...  \n",
       "92187  https://medium.com/silent-protagonist/next-wee...  \n",
       "92188  https://medium.com/@utapartment26/there-used-t...  \n",
       "92189  https://medium.com/silent-protagonist/the-snes...  \n",
       "92190  https://medium.com/silent-protagonist/assassin...  \n",
       "\n",
       "[92191 rows x 3 columns]"
      ]
     },
     "execution_count": 10,
     "metadata": {},
     "output_type": "execute_result"
    }
   ],
   "source": [
    "df"
   ]
  },
  {
   "cell_type": "markdown",
   "metadata": {
    "_uuid": "1de5bc19bfb8a9346910d7905cdc72db70d62a53"
   },
   "source": [
    "Next, we leave out all columns except `published` and `url`. The former corresonds to the time dimension while the latter uniquely identifies a post by its URL. Along the way we get rid of possible duplicates and missing values in the data:"
   ]
  },
  {
   "cell_type": "code",
   "execution_count": 11,
   "metadata": {
    "_uuid": "16a86f9a6944446d495ec5f47704c2a0478b5fb0"
   },
   "outputs": [],
   "source": [
    "df = df[['published', 'url']].dropna().drop_duplicates()"
   ]
  },
  {
   "cell_type": "markdown",
   "metadata": {
    "_uuid": "771cdb7020457e497f581aa6a42e7106625a93a7"
   },
   "source": [
    "Next, we need to convert `published` to the datetime format because by default `pandas` treats this field as string-valued."
   ]
  },
  {
   "cell_type": "code",
   "execution_count": 12,
   "metadata": {
    "_uuid": "c483cc50d636d11701b2d8dee0c786fc4d144b12"
   },
   "outputs": [],
   "source": [
    "df['published'] = pd.to_datetime(df['published'])"
   ]
  },
  {
   "cell_type": "markdown",
   "metadata": {
    "_uuid": "9b2ce888af440d33ad69211bcaf120abae5e4095"
   },
   "source": [
    "Let's sort the dataframe by time and take a look at what we've got:"
   ]
  },
  {
   "cell_type": "code",
   "execution_count": 13,
   "metadata": {
    "_uuid": "d9e0315daa7bdec0fca1c37c8aaae059563d334d"
   },
   "outputs": [
    {
     "data": {
      "text/html": [
       "<div>\n",
       "<style scoped>\n",
       "    .dataframe tbody tr th:only-of-type {\n",
       "        vertical-align: middle;\n",
       "    }\n",
       "\n",
       "    .dataframe tbody tr th {\n",
       "        vertical-align: top;\n",
       "    }\n",
       "\n",
       "    .dataframe thead th {\n",
       "        text-align: right;\n",
       "    }\n",
       "</style>\n",
       "<table border=\"1\" class=\"dataframe\">\n",
       "  <thead>\n",
       "    <tr style=\"text-align: right;\">\n",
       "      <th></th>\n",
       "      <th>published</th>\n",
       "      <th>url</th>\n",
       "    </tr>\n",
       "  </thead>\n",
       "  <tbody>\n",
       "    <tr>\n",
       "      <th>50931</th>\n",
       "      <td>1970-01-01 00:00:00.001000+00:00</td>\n",
       "      <td>https://medium.com/iiot</td>\n",
       "    </tr>\n",
       "    <tr>\n",
       "      <th>40243</th>\n",
       "      <td>1970-01-01 00:00:00.001000+00:00</td>\n",
       "      <td>https://medium.com/@ikaella/melon-rebranding-b...</td>\n",
       "    </tr>\n",
       "    <tr>\n",
       "      <th>37395</th>\n",
       "      <td>1970-01-18 05:11:46.500000+00:00</td>\n",
       "      <td>http://www.novosti.rs/%D0%B2%D0%B5%D1%81%D1%82...</td>\n",
       "    </tr>\n",
       "  </tbody>\n",
       "</table>\n",
       "</div>"
      ],
      "text/plain": [
       "                             published  \\\n",
       "50931 1970-01-01 00:00:00.001000+00:00   \n",
       "40243 1970-01-01 00:00:00.001000+00:00   \n",
       "37395 1970-01-18 05:11:46.500000+00:00   \n",
       "\n",
       "                                                     url  \n",
       "50931                            https://medium.com/iiot  \n",
       "40243  https://medium.com/@ikaella/melon-rebranding-b...  \n",
       "37395  http://www.novosti.rs/%D0%B2%D0%B5%D1%81%D1%82...  "
      ]
     },
     "execution_count": 13,
     "metadata": {},
     "output_type": "execute_result"
    }
   ],
   "source": [
    "df.sort_values(by=['published']).head(n=3)"
   ]
  },
  {
   "cell_type": "markdown",
   "metadata": {
    "_uuid": "4994d2f362bbd6419772afd5b3692c610f1c1d8b"
   },
   "source": [
    "Medium's public release date was August 15, 2012. But, as you can see from the data above, there are at least several rows with much earlier publication dates. They have somehow turned up in our dataset, but they are hardly legitimate ones. We will just trim our time series to keep only those rows that fall onto the period from August 15, 2012 to June 25, 2017:"
   ]
  },
  {
   "cell_type": "code",
   "execution_count": 14,
   "metadata": {
    "_uuid": "8b89bad8dfe09a01693b1757f4e1305e2db503f2"
   },
   "outputs": [
    {
     "data": {
      "text/html": [
       "<div>\n",
       "<style scoped>\n",
       "    .dataframe tbody tr th:only-of-type {\n",
       "        vertical-align: middle;\n",
       "    }\n",
       "\n",
       "    .dataframe tbody tr th {\n",
       "        vertical-align: top;\n",
       "    }\n",
       "\n",
       "    .dataframe thead th {\n",
       "        text-align: right;\n",
       "    }\n",
       "</style>\n",
       "<table border=\"1\" class=\"dataframe\">\n",
       "  <thead>\n",
       "    <tr style=\"text-align: right;\">\n",
       "      <th></th>\n",
       "      <th>published</th>\n",
       "      <th>url</th>\n",
       "    </tr>\n",
       "  </thead>\n",
       "  <tbody>\n",
       "    <tr>\n",
       "      <th>24630</th>\n",
       "      <td>2012-08-15 00:25:03.373000+00:00</td>\n",
       "      <td>https://medium.com/launch-day/jean-attempts-to...</td>\n",
       "    </tr>\n",
       "    <tr>\n",
       "      <th>24631</th>\n",
       "      <td>2012-08-15 00:25:29.419000+00:00</td>\n",
       "      <td>https://medium.com/launch-day/dan-and-kristin-...</td>\n",
       "    </tr>\n",
       "    <tr>\n",
       "      <th>17811</th>\n",
       "      <td>2012-08-15 00:34:59.502000+00:00</td>\n",
       "      <td>https://medium.com/i-m-h-o/the-world-is-social...</td>\n",
       "    </tr>\n",
       "  </tbody>\n",
       "</table>\n",
       "</div>"
      ],
      "text/plain": [
       "                             published  \\\n",
       "24630 2012-08-15 00:25:03.373000+00:00   \n",
       "24631 2012-08-15 00:25:29.419000+00:00   \n",
       "17811 2012-08-15 00:34:59.502000+00:00   \n",
       "\n",
       "                                                     url  \n",
       "24630  https://medium.com/launch-day/jean-attempts-to...  \n",
       "24631  https://medium.com/launch-day/dan-and-kristin-...  \n",
       "17811  https://medium.com/i-m-h-o/the-world-is-social...  "
      ]
     },
     "execution_count": 14,
     "metadata": {},
     "output_type": "execute_result"
    }
   ],
   "source": [
    "df = df[(df['published'] > '2012-08-15') & (df['published'] < '2017-06-26')].sort_values(by=['published'])\n",
    "df.head(n=3)"
   ]
  },
  {
   "cell_type": "code",
   "execution_count": 15,
   "metadata": {
    "_uuid": "176c8e99183a3f28f11aee79628e463987b16c6e"
   },
   "outputs": [
    {
     "data": {
      "text/html": [
       "<div>\n",
       "<style scoped>\n",
       "    .dataframe tbody tr th:only-of-type {\n",
       "        vertical-align: middle;\n",
       "    }\n",
       "\n",
       "    .dataframe tbody tr th {\n",
       "        vertical-align: top;\n",
       "    }\n",
       "\n",
       "    .dataframe thead th {\n",
       "        text-align: right;\n",
       "    }\n",
       "</style>\n",
       "<table border=\"1\" class=\"dataframe\">\n",
       "  <thead>\n",
       "    <tr style=\"text-align: right;\">\n",
       "      <th></th>\n",
       "      <th>published</th>\n",
       "      <th>url</th>\n",
       "    </tr>\n",
       "  </thead>\n",
       "  <tbody>\n",
       "    <tr>\n",
       "      <th>62122</th>\n",
       "      <td>2017-06-25 23:36:01.171000+00:00</td>\n",
       "      <td>https://medium.com/push-the-pace/the-official-...</td>\n",
       "    </tr>\n",
       "    <tr>\n",
       "      <th>72471</th>\n",
       "      <td>2017-06-25 23:41:48.295000+00:00</td>\n",
       "      <td>https://medium.com/parti-xyz-developers/%EA%B4...</td>\n",
       "    </tr>\n",
       "    <tr>\n",
       "      <th>83283</th>\n",
       "      <td>2017-06-25 23:51:43+00:00</td>\n",
       "      <td>http://www.johanr.com/blog/people-support-dreams</td>\n",
       "    </tr>\n",
       "  </tbody>\n",
       "</table>\n",
       "</div>"
      ],
      "text/plain": [
       "                             published  \\\n",
       "62122 2017-06-25 23:36:01.171000+00:00   \n",
       "72471 2017-06-25 23:41:48.295000+00:00   \n",
       "83283        2017-06-25 23:51:43+00:00   \n",
       "\n",
       "                                                     url  \n",
       "62122  https://medium.com/push-the-pace/the-official-...  \n",
       "72471  https://medium.com/parti-xyz-developers/%EA%B4...  \n",
       "83283   http://www.johanr.com/blog/people-support-dreams  "
      ]
     },
     "execution_count": 15,
     "metadata": {},
     "output_type": "execute_result"
    }
   ],
   "source": [
    "df.tail(n=3)"
   ]
  },
  {
   "cell_type": "markdown",
   "metadata": {
    "_uuid": "c62261b848d69281dba39a14c6b473f0bfe603fc"
   },
   "source": [
    "As we are going to predict the number of published posts, we will aggregate and count unique posts at each given point in time. We will name the corresponding new column `posts`:"
   ]
  },
  {
   "cell_type": "code",
   "execution_count": 16,
   "metadata": {
    "_uuid": "b676670adcc8124cbca7aaa1aa81d85ea68ce090"
   },
   "outputs": [],
   "source": [
    "aggr_df = df.groupby('published')[['url']].count()\n",
    "aggr_df.columns = ['posts']"
   ]
  },
  {
   "cell_type": "markdown",
   "metadata": {
    "_uuid": "8d8d1a8bd7ac54a9bf18fc1dd6fdce171a50fdfb"
   },
   "source": [
    "In this practice, we are interested in the number of posts **a day**. But at this moment all our data is divided into irregular time intervals that are less than a day. This is called a *sub-daily time series*. To see it, let's print out the first 3 rows:"
   ]
  },
  {
   "cell_type": "code",
   "execution_count": 17,
   "metadata": {
    "_uuid": "b4c472b778bcedc4d831b83e54f053cc942293ec"
   },
   "outputs": [
    {
     "data": {
      "text/html": [
       "<div>\n",
       "<style scoped>\n",
       "    .dataframe tbody tr th:only-of-type {\n",
       "        vertical-align: middle;\n",
       "    }\n",
       "\n",
       "    .dataframe tbody tr th {\n",
       "        vertical-align: top;\n",
       "    }\n",
       "\n",
       "    .dataframe thead th {\n",
       "        text-align: right;\n",
       "    }\n",
       "</style>\n",
       "<table border=\"1\" class=\"dataframe\">\n",
       "  <thead>\n",
       "    <tr style=\"text-align: right;\">\n",
       "      <th></th>\n",
       "      <th>posts</th>\n",
       "    </tr>\n",
       "    <tr>\n",
       "      <th>published</th>\n",
       "      <th></th>\n",
       "    </tr>\n",
       "  </thead>\n",
       "  <tbody>\n",
       "    <tr>\n",
       "      <th>2012-08-15 00:25:03.373000+00:00</th>\n",
       "      <td>1</td>\n",
       "    </tr>\n",
       "    <tr>\n",
       "      <th>2012-08-15 00:25:29.419000+00:00</th>\n",
       "      <td>1</td>\n",
       "    </tr>\n",
       "    <tr>\n",
       "      <th>2012-08-15 00:34:59.502000+00:00</th>\n",
       "      <td>1</td>\n",
       "    </tr>\n",
       "  </tbody>\n",
       "</table>\n",
       "</div>"
      ],
      "text/plain": [
       "                                  posts\n",
       "published                              \n",
       "2012-08-15 00:25:03.373000+00:00      1\n",
       "2012-08-15 00:25:29.419000+00:00      1\n",
       "2012-08-15 00:34:59.502000+00:00      1"
      ]
     },
     "execution_count": 17,
     "metadata": {},
     "output_type": "execute_result"
    }
   ],
   "source": [
    "aggr_df.head(n=3)"
   ]
  },
  {
   "cell_type": "markdown",
   "metadata": {
    "_uuid": "b99962819e95c247a1440213c4023ca21b5ef9d2"
   },
   "source": [
    "To fix this, we need to aggregate the post counts by \"bins\" of a date size. In time series analysis, this process is referred to as *resampling*. And if we *reduce* the sampling rate of data it is often called *downsampling*.\n",
    "\n",
    "Luckily, `pandas` has a built-in functionality for this task. We will resample our time index down to 1-day bins:"
   ]
  },
  {
   "cell_type": "code",
   "execution_count": 18,
   "metadata": {
    "_uuid": "0d5489f6508ea3fe5ad6438c2de34df9946f162b",
    "scrolled": false
   },
   "outputs": [
    {
     "data": {
      "text/html": [
       "<div>\n",
       "<style scoped>\n",
       "    .dataframe tbody tr th:only-of-type {\n",
       "        vertical-align: middle;\n",
       "    }\n",
       "\n",
       "    .dataframe tbody tr th {\n",
       "        vertical-align: top;\n",
       "    }\n",
       "\n",
       "    .dataframe thead th {\n",
       "        text-align: right;\n",
       "    }\n",
       "</style>\n",
       "<table border=\"1\" class=\"dataframe\">\n",
       "  <thead>\n",
       "    <tr style=\"text-align: right;\">\n",
       "      <th></th>\n",
       "      <th>posts</th>\n",
       "    </tr>\n",
       "    <tr>\n",
       "      <th>published</th>\n",
       "      <th></th>\n",
       "    </tr>\n",
       "  </thead>\n",
       "  <tbody>\n",
       "    <tr>\n",
       "      <th>2012-08-15 00:00:00+00:00</th>\n",
       "      <td>16</td>\n",
       "    </tr>\n",
       "    <tr>\n",
       "      <th>2012-08-16 00:00:00+00:00</th>\n",
       "      <td>11</td>\n",
       "    </tr>\n",
       "    <tr>\n",
       "      <th>2012-08-17 00:00:00+00:00</th>\n",
       "      <td>4</td>\n",
       "    </tr>\n",
       "  </tbody>\n",
       "</table>\n",
       "</div>"
      ],
      "text/plain": [
       "                           posts\n",
       "published                       \n",
       "2012-08-15 00:00:00+00:00     16\n",
       "2012-08-16 00:00:00+00:00     11\n",
       "2012-08-17 00:00:00+00:00      4"
      ]
     },
     "execution_count": 18,
     "metadata": {},
     "output_type": "execute_result"
    }
   ],
   "source": [
    "daily_df = aggr_df.resample('D').apply(sum)\n",
    "daily_df.head(n=3)"
   ]
  },
  {
   "cell_type": "markdown",
   "metadata": {
    "_uuid": "2f7620c623595a7d386df0add5f53ea3fb6f3c30"
   },
   "source": [
    "### 3.3 Exploratory visual analysis\n",
    "\n",
    "As always, it may be helpful and instructive to look at a graphical representation of your data.\n",
    "\n",
    "We will create a time series plot for the whole time range. Displaying data over such a long period of time can give clues about seasonality and conspicuous abnormal deviations.\n",
    "\n",
    "First, we import and initialize the `Plotly` library, which allows creating beautiful interactive plots:"
   ]
  },
  {
   "cell_type": "code",
   "execution_count": 19,
   "metadata": {
    "_uuid": "b107063f4937cfd79ac3c5c01b24890bf9d7fad2"
   },
   "outputs": [
    {
     "data": {
      "text/html": [
       "        <script type=\"text/javascript\">\n",
       "        window.PlotlyConfig = {MathJaxConfig: 'local'};\n",
       "        if (window.MathJax) {MathJax.Hub.Config({SVG: {font: \"STIX-Web\"}});}\n",
       "        if (typeof require !== 'undefined') {\n",
       "        require.undef(\"plotly\");\n",
       "        requirejs.config({\n",
       "            paths: {\n",
       "                'plotly': ['https://cdn.plot.ly/plotly-latest.min']\n",
       "            }\n",
       "        });\n",
       "        require(['plotly'], function(Plotly) {\n",
       "            window._Plotly = Plotly;\n",
       "        });\n",
       "        }\n",
       "        </script>\n",
       "        "
      ]
     },
     "metadata": {},
     "output_type": "display_data"
    }
   ],
   "source": [
    "from plotly.offline import init_notebook_mode, iplot\n",
    "from plotly import graph_objs as go\n",
    "\n",
    "# Initialize plotly\n",
    "init_notebook_mode(connected=True)"
   ]
  },
  {
   "cell_type": "markdown",
   "metadata": {
    "_uuid": "61e7cf3d9691549c6dfb7d457efe3c6bc34ebbbd"
   },
   "source": [
    "We also define a helper function, which will plot our dataframes throughout the article:"
   ]
  },
  {
   "cell_type": "code",
   "execution_count": 20,
   "metadata": {
    "_uuid": "33a287a1f6865b17c5338453f8aa5149cdc45f64"
   },
   "outputs": [],
   "source": [
    "def plotly_df(df, title=''):\n",
    "    \"\"\"Visualize all the dataframe columns as line plots.\"\"\"\n",
    "    common_kw = dict(x=df.index, mode='lines')\n",
    "    data = [go.Scatter(y=df[c], name=c, **common_kw) for c in df.columns]\n",
    "    layout = dict(title=title)\n",
    "    fig = dict(data=data, layout=layout)\n",
    "    iplot(fig, show_link=False)"
   ]
  },
  {
   "cell_type": "markdown",
   "metadata": {
    "_uuid": "f82e75310e2b3ec1ada2458fc156e446a6fe4f5b"
   },
   "source": [
    "Let's try and plot our dataset *as is*:"
   ]
  },
  {
   "cell_type": "code",
   "execution_count": 21,
   "metadata": {
    "_uuid": "43d02e991d274a2f2fd813a0ccf53c6bdbec339a"
   },
   "outputs": [
    {
     "data": {
      "application/vnd.plotly.v1+json": {
       "config": {
        "linkText": "Export to plot.ly",
        "plotlyServerURL": "https://plot.ly",
        "showLink": false
       },
       "data": [
        {
         "mode": "lines",
         "name": "posts",
         "type": "scatter",
         "x": [
          "2012-08-15T00:00:00+00:00",
          "2012-08-16T00:00:00+00:00",
          "2012-08-17T00:00:00+00:00",
          "2012-08-18T00:00:00+00:00",
          "2012-08-19T00:00:00+00:00",
          "2012-08-20T00:00:00+00:00",
          "2012-08-21T00:00:00+00:00",
          "2012-08-22T00:00:00+00:00",
          "2012-08-23T00:00:00+00:00",
          "2012-08-24T00:00:00+00:00",
          "2012-08-25T00:00:00+00:00",
          "2012-08-26T00:00:00+00:00",
          "2012-08-27T00:00:00+00:00",
          "2012-08-28T00:00:00+00:00",
          "2012-08-29T00:00:00+00:00",
          "2012-08-30T00:00:00+00:00",
          "2012-08-31T00:00:00+00:00",
          "2012-09-01T00:00:00+00:00",
          "2012-09-02T00:00:00+00:00",
          "2012-09-03T00:00:00+00:00",
          "2012-09-04T00:00:00+00:00",
          "2012-09-05T00:00:00+00:00",
          "2012-09-06T00:00:00+00:00",
          "2012-09-07T00:00:00+00:00",
          "2012-09-08T00:00:00+00:00",
          "2012-09-09T00:00:00+00:00",
          "2012-09-10T00:00:00+00:00",
          "2012-09-11T00:00:00+00:00",
          "2012-09-12T00:00:00+00:00",
          "2012-09-13T00:00:00+00:00",
          "2012-09-14T00:00:00+00:00",
          "2012-09-15T00:00:00+00:00",
          "2012-09-16T00:00:00+00:00",
          "2012-09-17T00:00:00+00:00",
          "2012-09-18T00:00:00+00:00",
          "2012-09-19T00:00:00+00:00",
          "2012-09-20T00:00:00+00:00",
          "2012-09-21T00:00:00+00:00",
          "2012-09-22T00:00:00+00:00",
          "2012-09-23T00:00:00+00:00",
          "2012-09-24T00:00:00+00:00",
          "2012-09-25T00:00:00+00:00",
          "2012-09-26T00:00:00+00:00",
          "2012-09-27T00:00:00+00:00",
          "2012-09-28T00:00:00+00:00",
          "2012-09-29T00:00:00+00:00",
          "2012-09-30T00:00:00+00:00",
          "2012-10-01T00:00:00+00:00",
          "2012-10-02T00:00:00+00:00",
          "2012-10-03T00:00:00+00:00",
          "2012-10-04T00:00:00+00:00",
          "2012-10-05T00:00:00+00:00",
          "2012-10-06T00:00:00+00:00",
          "2012-10-07T00:00:00+00:00",
          "2012-10-08T00:00:00+00:00",
          "2012-10-09T00:00:00+00:00",
          "2012-10-10T00:00:00+00:00",
          "2012-10-11T00:00:00+00:00",
          "2012-10-12T00:00:00+00:00",
          "2012-10-13T00:00:00+00:00",
          "2012-10-14T00:00:00+00:00",
          "2012-10-15T00:00:00+00:00",
          "2012-10-16T00:00:00+00:00",
          "2012-10-17T00:00:00+00:00",
          "2012-10-18T00:00:00+00:00",
          "2012-10-19T00:00:00+00:00",
          "2012-10-20T00:00:00+00:00",
          "2012-10-21T00:00:00+00:00",
          "2012-10-22T00:00:00+00:00",
          "2012-10-23T00:00:00+00:00",
          "2012-10-24T00:00:00+00:00",
          "2012-10-25T00:00:00+00:00",
          "2012-10-26T00:00:00+00:00",
          "2012-10-27T00:00:00+00:00",
          "2012-10-28T00:00:00+00:00",
          "2012-10-29T00:00:00+00:00",
          "2012-10-30T00:00:00+00:00",
          "2012-10-31T00:00:00+00:00",
          "2012-11-01T00:00:00+00:00",
          "2012-11-02T00:00:00+00:00",
          "2012-11-03T00:00:00+00:00",
          "2012-11-04T00:00:00+00:00",
          "2012-11-05T00:00:00+00:00",
          "2012-11-06T00:00:00+00:00",
          "2012-11-07T00:00:00+00:00",
          "2012-11-08T00:00:00+00:00",
          "2012-11-09T00:00:00+00:00",
          "2012-11-10T00:00:00+00:00",
          "2012-11-11T00:00:00+00:00",
          "2012-11-12T00:00:00+00:00",
          "2012-11-13T00:00:00+00:00",
          "2012-11-14T00:00:00+00:00",
          "2012-11-15T00:00:00+00:00",
          "2012-11-16T00:00:00+00:00",
          "2012-11-17T00:00:00+00:00",
          "2012-11-18T00:00:00+00:00",
          "2012-11-19T00:00:00+00:00",
          "2012-11-20T00:00:00+00:00",
          "2012-11-21T00:00:00+00:00",
          "2012-11-22T00:00:00+00:00",
          "2012-11-23T00:00:00+00:00",
          "2012-11-24T00:00:00+00:00",
          "2012-11-25T00:00:00+00:00",
          "2012-11-26T00:00:00+00:00",
          "2012-11-27T00:00:00+00:00",
          "2012-11-28T00:00:00+00:00",
          "2012-11-29T00:00:00+00:00",
          "2012-11-30T00:00:00+00:00",
          "2012-12-01T00:00:00+00:00",
          "2012-12-02T00:00:00+00:00",
          "2012-12-03T00:00:00+00:00",
          "2012-12-04T00:00:00+00:00",
          "2012-12-05T00:00:00+00:00",
          "2012-12-06T00:00:00+00:00",
          "2012-12-07T00:00:00+00:00",
          "2012-12-08T00:00:00+00:00",
          "2012-12-09T00:00:00+00:00",
          "2012-12-10T00:00:00+00:00",
          "2012-12-11T00:00:00+00:00",
          "2012-12-12T00:00:00+00:00",
          "2012-12-13T00:00:00+00:00",
          "2012-12-14T00:00:00+00:00",
          "2012-12-15T00:00:00+00:00",
          "2012-12-16T00:00:00+00:00",
          "2012-12-17T00:00:00+00:00",
          "2012-12-18T00:00:00+00:00",
          "2012-12-19T00:00:00+00:00",
          "2012-12-20T00:00:00+00:00",
          "2012-12-21T00:00:00+00:00",
          "2012-12-22T00:00:00+00:00",
          "2012-12-23T00:00:00+00:00",
          "2012-12-24T00:00:00+00:00",
          "2012-12-25T00:00:00+00:00",
          "2012-12-26T00:00:00+00:00",
          "2012-12-27T00:00:00+00:00",
          "2012-12-28T00:00:00+00:00",
          "2012-12-29T00:00:00+00:00",
          "2012-12-30T00:00:00+00:00",
          "2012-12-31T00:00:00+00:00",
          "2013-01-01T00:00:00+00:00",
          "2013-01-02T00:00:00+00:00",
          "2013-01-03T00:00:00+00:00",
          "2013-01-04T00:00:00+00:00",
          "2013-01-05T00:00:00+00:00",
          "2013-01-06T00:00:00+00:00",
          "2013-01-07T00:00:00+00:00",
          "2013-01-08T00:00:00+00:00",
          "2013-01-09T00:00:00+00:00",
          "2013-01-10T00:00:00+00:00",
          "2013-01-11T00:00:00+00:00",
          "2013-01-12T00:00:00+00:00",
          "2013-01-13T00:00:00+00:00",
          "2013-01-14T00:00:00+00:00",
          "2013-01-15T00:00:00+00:00",
          "2013-01-16T00:00:00+00:00",
          "2013-01-17T00:00:00+00:00",
          "2013-01-18T00:00:00+00:00",
          "2013-01-19T00:00:00+00:00",
          "2013-01-20T00:00:00+00:00",
          "2013-01-21T00:00:00+00:00",
          "2013-01-22T00:00:00+00:00",
          "2013-01-23T00:00:00+00:00",
          "2013-01-24T00:00:00+00:00",
          "2013-01-25T00:00:00+00:00",
          "2013-01-26T00:00:00+00:00",
          "2013-01-27T00:00:00+00:00",
          "2013-01-28T00:00:00+00:00",
          "2013-01-29T00:00:00+00:00",
          "2013-01-30T00:00:00+00:00",
          "2013-01-31T00:00:00+00:00",
          "2013-02-01T00:00:00+00:00",
          "2013-02-02T00:00:00+00:00",
          "2013-02-03T00:00:00+00:00",
          "2013-02-04T00:00:00+00:00",
          "2013-02-05T00:00:00+00:00",
          "2013-02-06T00:00:00+00:00",
          "2013-02-07T00:00:00+00:00",
          "2013-02-08T00:00:00+00:00",
          "2013-02-09T00:00:00+00:00",
          "2013-02-10T00:00:00+00:00",
          "2013-02-11T00:00:00+00:00",
          "2013-02-12T00:00:00+00:00",
          "2013-02-13T00:00:00+00:00",
          "2013-02-14T00:00:00+00:00",
          "2013-02-15T00:00:00+00:00",
          "2013-02-16T00:00:00+00:00",
          "2013-02-17T00:00:00+00:00",
          "2013-02-18T00:00:00+00:00",
          "2013-02-19T00:00:00+00:00",
          "2013-02-20T00:00:00+00:00",
          "2013-02-21T00:00:00+00:00",
          "2013-02-22T00:00:00+00:00",
          "2013-02-23T00:00:00+00:00",
          "2013-02-24T00:00:00+00:00",
          "2013-02-25T00:00:00+00:00",
          "2013-02-26T00:00:00+00:00",
          "2013-02-27T00:00:00+00:00",
          "2013-02-28T00:00:00+00:00",
          "2013-03-01T00:00:00+00:00",
          "2013-03-02T00:00:00+00:00",
          "2013-03-03T00:00:00+00:00",
          "2013-03-04T00:00:00+00:00",
          "2013-03-05T00:00:00+00:00",
          "2013-03-06T00:00:00+00:00",
          "2013-03-07T00:00:00+00:00",
          "2013-03-08T00:00:00+00:00",
          "2013-03-09T00:00:00+00:00",
          "2013-03-10T00:00:00+00:00",
          "2013-03-11T00:00:00+00:00",
          "2013-03-12T00:00:00+00:00",
          "2013-03-13T00:00:00+00:00",
          "2013-03-14T00:00:00+00:00",
          "2013-03-15T00:00:00+00:00",
          "2013-03-16T00:00:00+00:00",
          "2013-03-17T00:00:00+00:00",
          "2013-03-18T00:00:00+00:00",
          "2013-03-19T00:00:00+00:00",
          "2013-03-20T00:00:00+00:00",
          "2013-03-21T00:00:00+00:00",
          "2013-03-22T00:00:00+00:00",
          "2013-03-23T00:00:00+00:00",
          "2013-03-24T00:00:00+00:00",
          "2013-03-25T00:00:00+00:00",
          "2013-03-26T00:00:00+00:00",
          "2013-03-27T00:00:00+00:00",
          "2013-03-28T00:00:00+00:00",
          "2013-03-29T00:00:00+00:00",
          "2013-03-30T00:00:00+00:00",
          "2013-03-31T00:00:00+00:00",
          "2013-04-01T00:00:00+00:00",
          "2013-04-02T00:00:00+00:00",
          "2013-04-03T00:00:00+00:00",
          "2013-04-04T00:00:00+00:00",
          "2013-04-05T00:00:00+00:00",
          "2013-04-06T00:00:00+00:00",
          "2013-04-07T00:00:00+00:00",
          "2013-04-08T00:00:00+00:00",
          "2013-04-09T00:00:00+00:00",
          "2013-04-10T00:00:00+00:00",
          "2013-04-11T00:00:00+00:00",
          "2013-04-12T00:00:00+00:00",
          "2013-04-13T00:00:00+00:00",
          "2013-04-14T00:00:00+00:00",
          "2013-04-15T00:00:00+00:00",
          "2013-04-16T00:00:00+00:00",
          "2013-04-17T00:00:00+00:00",
          "2013-04-18T00:00:00+00:00",
          "2013-04-19T00:00:00+00:00",
          "2013-04-20T00:00:00+00:00",
          "2013-04-21T00:00:00+00:00",
          "2013-04-22T00:00:00+00:00",
          "2013-04-23T00:00:00+00:00",
          "2013-04-24T00:00:00+00:00",
          "2013-04-25T00:00:00+00:00",
          "2013-04-26T00:00:00+00:00",
          "2013-04-27T00:00:00+00:00",
          "2013-04-28T00:00:00+00:00",
          "2013-04-29T00:00:00+00:00",
          "2013-04-30T00:00:00+00:00",
          "2013-05-01T00:00:00+00:00",
          "2013-05-02T00:00:00+00:00",
          "2013-05-03T00:00:00+00:00",
          "2013-05-04T00:00:00+00:00",
          "2013-05-05T00:00:00+00:00",
          "2013-05-06T00:00:00+00:00",
          "2013-05-07T00:00:00+00:00",
          "2013-05-08T00:00:00+00:00",
          "2013-05-09T00:00:00+00:00",
          "2013-05-10T00:00:00+00:00",
          "2013-05-11T00:00:00+00:00",
          "2013-05-12T00:00:00+00:00",
          "2013-05-13T00:00:00+00:00",
          "2013-05-14T00:00:00+00:00",
          "2013-05-15T00:00:00+00:00",
          "2013-05-16T00:00:00+00:00",
          "2013-05-17T00:00:00+00:00",
          "2013-05-18T00:00:00+00:00",
          "2013-05-19T00:00:00+00:00",
          "2013-05-20T00:00:00+00:00",
          "2013-05-21T00:00:00+00:00",
          "2013-05-22T00:00:00+00:00",
          "2013-05-23T00:00:00+00:00",
          "2013-05-24T00:00:00+00:00",
          "2013-05-25T00:00:00+00:00",
          "2013-05-26T00:00:00+00:00",
          "2013-05-27T00:00:00+00:00",
          "2013-05-28T00:00:00+00:00",
          "2013-05-29T00:00:00+00:00",
          "2013-05-30T00:00:00+00:00",
          "2013-05-31T00:00:00+00:00",
          "2013-06-01T00:00:00+00:00",
          "2013-06-02T00:00:00+00:00",
          "2013-06-03T00:00:00+00:00",
          "2013-06-04T00:00:00+00:00",
          "2013-06-05T00:00:00+00:00",
          "2013-06-06T00:00:00+00:00",
          "2013-06-07T00:00:00+00:00",
          "2013-06-08T00:00:00+00:00",
          "2013-06-09T00:00:00+00:00",
          "2013-06-10T00:00:00+00:00",
          "2013-06-11T00:00:00+00:00",
          "2013-06-12T00:00:00+00:00",
          "2013-06-13T00:00:00+00:00",
          "2013-06-14T00:00:00+00:00",
          "2013-06-15T00:00:00+00:00",
          "2013-06-16T00:00:00+00:00",
          "2013-06-17T00:00:00+00:00",
          "2013-06-18T00:00:00+00:00",
          "2013-06-19T00:00:00+00:00",
          "2013-06-20T00:00:00+00:00",
          "2013-06-21T00:00:00+00:00",
          "2013-06-22T00:00:00+00:00",
          "2013-06-23T00:00:00+00:00",
          "2013-06-24T00:00:00+00:00",
          "2013-06-25T00:00:00+00:00",
          "2013-06-26T00:00:00+00:00",
          "2013-06-27T00:00:00+00:00",
          "2013-06-28T00:00:00+00:00",
          "2013-06-29T00:00:00+00:00",
          "2013-06-30T00:00:00+00:00",
          "2013-07-01T00:00:00+00:00",
          "2013-07-02T00:00:00+00:00",
          "2013-07-03T00:00:00+00:00",
          "2013-07-04T00:00:00+00:00",
          "2013-07-05T00:00:00+00:00",
          "2013-07-06T00:00:00+00:00",
          "2013-07-07T00:00:00+00:00",
          "2013-07-08T00:00:00+00:00",
          "2013-07-09T00:00:00+00:00",
          "2013-07-10T00:00:00+00:00",
          "2013-07-11T00:00:00+00:00",
          "2013-07-12T00:00:00+00:00",
          "2013-07-13T00:00:00+00:00",
          "2013-07-14T00:00:00+00:00",
          "2013-07-15T00:00:00+00:00",
          "2013-07-16T00:00:00+00:00",
          "2013-07-17T00:00:00+00:00",
          "2013-07-18T00:00:00+00:00",
          "2013-07-19T00:00:00+00:00",
          "2013-07-20T00:00:00+00:00",
          "2013-07-21T00:00:00+00:00",
          "2013-07-22T00:00:00+00:00",
          "2013-07-23T00:00:00+00:00",
          "2013-07-24T00:00:00+00:00",
          "2013-07-25T00:00:00+00:00",
          "2013-07-26T00:00:00+00:00",
          "2013-07-27T00:00:00+00:00",
          "2013-07-28T00:00:00+00:00",
          "2013-07-29T00:00:00+00:00",
          "2013-07-30T00:00:00+00:00",
          "2013-07-31T00:00:00+00:00",
          "2013-08-01T00:00:00+00:00",
          "2013-08-02T00:00:00+00:00",
          "2013-08-03T00:00:00+00:00",
          "2013-08-04T00:00:00+00:00",
          "2013-08-05T00:00:00+00:00",
          "2013-08-06T00:00:00+00:00",
          "2013-08-07T00:00:00+00:00",
          "2013-08-08T00:00:00+00:00",
          "2013-08-09T00:00:00+00:00",
          "2013-08-10T00:00:00+00:00",
          "2013-08-11T00:00:00+00:00",
          "2013-08-12T00:00:00+00:00",
          "2013-08-13T00:00:00+00:00",
          "2013-08-14T00:00:00+00:00",
          "2013-08-15T00:00:00+00:00",
          "2013-08-16T00:00:00+00:00",
          "2013-08-17T00:00:00+00:00",
          "2013-08-18T00:00:00+00:00",
          "2013-08-19T00:00:00+00:00",
          "2013-08-20T00:00:00+00:00",
          "2013-08-21T00:00:00+00:00",
          "2013-08-22T00:00:00+00:00",
          "2013-08-23T00:00:00+00:00",
          "2013-08-24T00:00:00+00:00",
          "2013-08-25T00:00:00+00:00",
          "2013-08-26T00:00:00+00:00",
          "2013-08-27T00:00:00+00:00",
          "2013-08-28T00:00:00+00:00",
          "2013-08-29T00:00:00+00:00",
          "2013-08-30T00:00:00+00:00",
          "2013-08-31T00:00:00+00:00",
          "2013-09-01T00:00:00+00:00",
          "2013-09-02T00:00:00+00:00",
          "2013-09-03T00:00:00+00:00",
          "2013-09-04T00:00:00+00:00",
          "2013-09-05T00:00:00+00:00",
          "2013-09-06T00:00:00+00:00",
          "2013-09-07T00:00:00+00:00",
          "2013-09-08T00:00:00+00:00",
          "2013-09-09T00:00:00+00:00",
          "2013-09-10T00:00:00+00:00",
          "2013-09-11T00:00:00+00:00",
          "2013-09-12T00:00:00+00:00",
          "2013-09-13T00:00:00+00:00",
          "2013-09-14T00:00:00+00:00",
          "2013-09-15T00:00:00+00:00",
          "2013-09-16T00:00:00+00:00",
          "2013-09-17T00:00:00+00:00",
          "2013-09-18T00:00:00+00:00",
          "2013-09-19T00:00:00+00:00",
          "2013-09-20T00:00:00+00:00",
          "2013-09-21T00:00:00+00:00",
          "2013-09-22T00:00:00+00:00",
          "2013-09-23T00:00:00+00:00",
          "2013-09-24T00:00:00+00:00",
          "2013-09-25T00:00:00+00:00",
          "2013-09-26T00:00:00+00:00",
          "2013-09-27T00:00:00+00:00",
          "2013-09-28T00:00:00+00:00",
          "2013-09-29T00:00:00+00:00",
          "2013-09-30T00:00:00+00:00",
          "2013-10-01T00:00:00+00:00",
          "2013-10-02T00:00:00+00:00",
          "2013-10-03T00:00:00+00:00",
          "2013-10-04T00:00:00+00:00",
          "2013-10-05T00:00:00+00:00",
          "2013-10-06T00:00:00+00:00",
          "2013-10-07T00:00:00+00:00",
          "2013-10-08T00:00:00+00:00",
          "2013-10-09T00:00:00+00:00",
          "2013-10-10T00:00:00+00:00",
          "2013-10-11T00:00:00+00:00",
          "2013-10-12T00:00:00+00:00",
          "2013-10-13T00:00:00+00:00",
          "2013-10-14T00:00:00+00:00",
          "2013-10-15T00:00:00+00:00",
          "2013-10-16T00:00:00+00:00",
          "2013-10-17T00:00:00+00:00",
          "2013-10-18T00:00:00+00:00",
          "2013-10-19T00:00:00+00:00",
          "2013-10-20T00:00:00+00:00",
          "2013-10-21T00:00:00+00:00",
          "2013-10-22T00:00:00+00:00",
          "2013-10-23T00:00:00+00:00",
          "2013-10-24T00:00:00+00:00",
          "2013-10-25T00:00:00+00:00",
          "2013-10-26T00:00:00+00:00",
          "2013-10-27T00:00:00+00:00",
          "2013-10-28T00:00:00+00:00",
          "2013-10-29T00:00:00+00:00",
          "2013-10-30T00:00:00+00:00",
          "2013-10-31T00:00:00+00:00",
          "2013-11-01T00:00:00+00:00",
          "2013-11-02T00:00:00+00:00",
          "2013-11-03T00:00:00+00:00",
          "2013-11-04T00:00:00+00:00",
          "2013-11-05T00:00:00+00:00",
          "2013-11-06T00:00:00+00:00",
          "2013-11-07T00:00:00+00:00",
          "2013-11-08T00:00:00+00:00",
          "2013-11-09T00:00:00+00:00",
          "2013-11-10T00:00:00+00:00",
          "2013-11-11T00:00:00+00:00",
          "2013-11-12T00:00:00+00:00",
          "2013-11-13T00:00:00+00:00",
          "2013-11-14T00:00:00+00:00",
          "2013-11-15T00:00:00+00:00",
          "2013-11-16T00:00:00+00:00",
          "2013-11-17T00:00:00+00:00",
          "2013-11-18T00:00:00+00:00",
          "2013-11-19T00:00:00+00:00",
          "2013-11-20T00:00:00+00:00",
          "2013-11-21T00:00:00+00:00",
          "2013-11-22T00:00:00+00:00",
          "2013-11-23T00:00:00+00:00",
          "2013-11-24T00:00:00+00:00",
          "2013-11-25T00:00:00+00:00",
          "2013-11-26T00:00:00+00:00",
          "2013-11-27T00:00:00+00:00",
          "2013-11-28T00:00:00+00:00",
          "2013-11-29T00:00:00+00:00",
          "2013-11-30T00:00:00+00:00",
          "2013-12-01T00:00:00+00:00",
          "2013-12-02T00:00:00+00:00",
          "2013-12-03T00:00:00+00:00",
          "2013-12-04T00:00:00+00:00",
          "2013-12-05T00:00:00+00:00",
          "2013-12-06T00:00:00+00:00",
          "2013-12-07T00:00:00+00:00",
          "2013-12-08T00:00:00+00:00",
          "2013-12-09T00:00:00+00:00",
          "2013-12-10T00:00:00+00:00",
          "2013-12-11T00:00:00+00:00",
          "2013-12-12T00:00:00+00:00",
          "2013-12-13T00:00:00+00:00",
          "2013-12-14T00:00:00+00:00",
          "2013-12-15T00:00:00+00:00",
          "2013-12-16T00:00:00+00:00",
          "2013-12-17T00:00:00+00:00",
          "2013-12-18T00:00:00+00:00",
          "2013-12-19T00:00:00+00:00",
          "2013-12-20T00:00:00+00:00",
          "2013-12-21T00:00:00+00:00",
          "2013-12-22T00:00:00+00:00",
          "2013-12-23T00:00:00+00:00",
          "2013-12-24T00:00:00+00:00",
          "2013-12-25T00:00:00+00:00",
          "2013-12-26T00:00:00+00:00",
          "2013-12-27T00:00:00+00:00",
          "2013-12-28T00:00:00+00:00",
          "2013-12-29T00:00:00+00:00",
          "2013-12-30T00:00:00+00:00",
          "2013-12-31T00:00:00+00:00",
          "2014-01-01T00:00:00+00:00",
          "2014-01-02T00:00:00+00:00",
          "2014-01-03T00:00:00+00:00",
          "2014-01-04T00:00:00+00:00",
          "2014-01-05T00:00:00+00:00",
          "2014-01-06T00:00:00+00:00",
          "2014-01-07T00:00:00+00:00",
          "2014-01-08T00:00:00+00:00",
          "2014-01-09T00:00:00+00:00",
          "2014-01-10T00:00:00+00:00",
          "2014-01-11T00:00:00+00:00",
          "2014-01-12T00:00:00+00:00",
          "2014-01-13T00:00:00+00:00",
          "2014-01-14T00:00:00+00:00",
          "2014-01-15T00:00:00+00:00",
          "2014-01-16T00:00:00+00:00",
          "2014-01-17T00:00:00+00:00",
          "2014-01-18T00:00:00+00:00",
          "2014-01-19T00:00:00+00:00",
          "2014-01-20T00:00:00+00:00",
          "2014-01-21T00:00:00+00:00",
          "2014-01-22T00:00:00+00:00",
          "2014-01-23T00:00:00+00:00",
          "2014-01-24T00:00:00+00:00",
          "2014-01-25T00:00:00+00:00",
          "2014-01-26T00:00:00+00:00",
          "2014-01-27T00:00:00+00:00",
          "2014-01-28T00:00:00+00:00",
          "2014-01-29T00:00:00+00:00",
          "2014-01-30T00:00:00+00:00",
          "2014-01-31T00:00:00+00:00",
          "2014-02-01T00:00:00+00:00",
          "2014-02-02T00:00:00+00:00",
          "2014-02-03T00:00:00+00:00",
          "2014-02-04T00:00:00+00:00",
          "2014-02-05T00:00:00+00:00",
          "2014-02-06T00:00:00+00:00",
          "2014-02-07T00:00:00+00:00",
          "2014-02-08T00:00:00+00:00",
          "2014-02-09T00:00:00+00:00",
          "2014-02-10T00:00:00+00:00",
          "2014-02-11T00:00:00+00:00",
          "2014-02-12T00:00:00+00:00",
          "2014-02-13T00:00:00+00:00",
          "2014-02-14T00:00:00+00:00",
          "2014-02-15T00:00:00+00:00",
          "2014-02-16T00:00:00+00:00",
          "2014-02-17T00:00:00+00:00",
          "2014-02-18T00:00:00+00:00",
          "2014-02-19T00:00:00+00:00",
          "2014-02-20T00:00:00+00:00",
          "2014-02-21T00:00:00+00:00",
          "2014-02-22T00:00:00+00:00",
          "2014-02-23T00:00:00+00:00",
          "2014-02-24T00:00:00+00:00",
          "2014-02-25T00:00:00+00:00",
          "2014-02-26T00:00:00+00:00",
          "2014-02-27T00:00:00+00:00",
          "2014-02-28T00:00:00+00:00",
          "2014-03-01T00:00:00+00:00",
          "2014-03-02T00:00:00+00:00",
          "2014-03-03T00:00:00+00:00",
          "2014-03-04T00:00:00+00:00",
          "2014-03-05T00:00:00+00:00",
          "2014-03-06T00:00:00+00:00",
          "2014-03-07T00:00:00+00:00",
          "2014-03-08T00:00:00+00:00",
          "2014-03-09T00:00:00+00:00",
          "2014-03-10T00:00:00+00:00",
          "2014-03-11T00:00:00+00:00",
          "2014-03-12T00:00:00+00:00",
          "2014-03-13T00:00:00+00:00",
          "2014-03-14T00:00:00+00:00",
          "2014-03-15T00:00:00+00:00",
          "2014-03-16T00:00:00+00:00",
          "2014-03-17T00:00:00+00:00",
          "2014-03-18T00:00:00+00:00",
          "2014-03-19T00:00:00+00:00",
          "2014-03-20T00:00:00+00:00",
          "2014-03-21T00:00:00+00:00",
          "2014-03-22T00:00:00+00:00",
          "2014-03-23T00:00:00+00:00",
          "2014-03-24T00:00:00+00:00",
          "2014-03-25T00:00:00+00:00",
          "2014-03-26T00:00:00+00:00",
          "2014-03-27T00:00:00+00:00",
          "2014-03-28T00:00:00+00:00",
          "2014-03-29T00:00:00+00:00",
          "2014-03-30T00:00:00+00:00",
          "2014-03-31T00:00:00+00:00",
          "2014-04-01T00:00:00+00:00",
          "2014-04-02T00:00:00+00:00",
          "2014-04-03T00:00:00+00:00",
          "2014-04-04T00:00:00+00:00",
          "2014-04-05T00:00:00+00:00",
          "2014-04-06T00:00:00+00:00",
          "2014-04-07T00:00:00+00:00",
          "2014-04-08T00:00:00+00:00",
          "2014-04-09T00:00:00+00:00",
          "2014-04-10T00:00:00+00:00",
          "2014-04-11T00:00:00+00:00",
          "2014-04-12T00:00:00+00:00",
          "2014-04-13T00:00:00+00:00",
          "2014-04-14T00:00:00+00:00",
          "2014-04-15T00:00:00+00:00",
          "2014-04-16T00:00:00+00:00",
          "2014-04-17T00:00:00+00:00",
          "2014-04-18T00:00:00+00:00",
          "2014-04-19T00:00:00+00:00",
          "2014-04-20T00:00:00+00:00",
          "2014-04-21T00:00:00+00:00",
          "2014-04-22T00:00:00+00:00",
          "2014-04-23T00:00:00+00:00",
          "2014-04-24T00:00:00+00:00",
          "2014-04-25T00:00:00+00:00",
          "2014-04-26T00:00:00+00:00",
          "2014-04-27T00:00:00+00:00",
          "2014-04-28T00:00:00+00:00",
          "2014-04-29T00:00:00+00:00",
          "2014-04-30T00:00:00+00:00",
          "2014-05-01T00:00:00+00:00",
          "2014-05-02T00:00:00+00:00",
          "2014-05-03T00:00:00+00:00",
          "2014-05-04T00:00:00+00:00",
          "2014-05-05T00:00:00+00:00",
          "2014-05-06T00:00:00+00:00",
          "2014-05-07T00:00:00+00:00",
          "2014-05-08T00:00:00+00:00",
          "2014-05-09T00:00:00+00:00",
          "2014-05-10T00:00:00+00:00",
          "2014-05-11T00:00:00+00:00",
          "2014-05-12T00:00:00+00:00",
          "2014-05-13T00:00:00+00:00",
          "2014-05-14T00:00:00+00:00",
          "2014-05-15T00:00:00+00:00",
          "2014-05-16T00:00:00+00:00",
          "2014-05-17T00:00:00+00:00",
          "2014-05-18T00:00:00+00:00",
          "2014-05-19T00:00:00+00:00",
          "2014-05-20T00:00:00+00:00",
          "2014-05-21T00:00:00+00:00",
          "2014-05-22T00:00:00+00:00",
          "2014-05-23T00:00:00+00:00",
          "2014-05-24T00:00:00+00:00",
          "2014-05-25T00:00:00+00:00",
          "2014-05-26T00:00:00+00:00",
          "2014-05-27T00:00:00+00:00",
          "2014-05-28T00:00:00+00:00",
          "2014-05-29T00:00:00+00:00",
          "2014-05-30T00:00:00+00:00",
          "2014-05-31T00:00:00+00:00",
          "2014-06-01T00:00:00+00:00",
          "2014-06-02T00:00:00+00:00",
          "2014-06-03T00:00:00+00:00",
          "2014-06-04T00:00:00+00:00",
          "2014-06-05T00:00:00+00:00",
          "2014-06-06T00:00:00+00:00",
          "2014-06-07T00:00:00+00:00",
          "2014-06-08T00:00:00+00:00",
          "2014-06-09T00:00:00+00:00",
          "2014-06-10T00:00:00+00:00",
          "2014-06-11T00:00:00+00:00",
          "2014-06-12T00:00:00+00:00",
          "2014-06-13T00:00:00+00:00",
          "2014-06-14T00:00:00+00:00",
          "2014-06-15T00:00:00+00:00",
          "2014-06-16T00:00:00+00:00",
          "2014-06-17T00:00:00+00:00",
          "2014-06-18T00:00:00+00:00",
          "2014-06-19T00:00:00+00:00",
          "2014-06-20T00:00:00+00:00",
          "2014-06-21T00:00:00+00:00",
          "2014-06-22T00:00:00+00:00",
          "2014-06-23T00:00:00+00:00",
          "2014-06-24T00:00:00+00:00",
          "2014-06-25T00:00:00+00:00",
          "2014-06-26T00:00:00+00:00",
          "2014-06-27T00:00:00+00:00",
          "2014-06-28T00:00:00+00:00",
          "2014-06-29T00:00:00+00:00",
          "2014-06-30T00:00:00+00:00",
          "2014-07-01T00:00:00+00:00",
          "2014-07-02T00:00:00+00:00",
          "2014-07-03T00:00:00+00:00",
          "2014-07-04T00:00:00+00:00",
          "2014-07-05T00:00:00+00:00",
          "2014-07-06T00:00:00+00:00",
          "2014-07-07T00:00:00+00:00",
          "2014-07-08T00:00:00+00:00",
          "2014-07-09T00:00:00+00:00",
          "2014-07-10T00:00:00+00:00",
          "2014-07-11T00:00:00+00:00",
          "2014-07-12T00:00:00+00:00",
          "2014-07-13T00:00:00+00:00",
          "2014-07-14T00:00:00+00:00",
          "2014-07-15T00:00:00+00:00",
          "2014-07-16T00:00:00+00:00",
          "2014-07-17T00:00:00+00:00",
          "2014-07-18T00:00:00+00:00",
          "2014-07-19T00:00:00+00:00",
          "2014-07-20T00:00:00+00:00",
          "2014-07-21T00:00:00+00:00",
          "2014-07-22T00:00:00+00:00",
          "2014-07-23T00:00:00+00:00",
          "2014-07-24T00:00:00+00:00",
          "2014-07-25T00:00:00+00:00",
          "2014-07-26T00:00:00+00:00",
          "2014-07-27T00:00:00+00:00",
          "2014-07-28T00:00:00+00:00",
          "2014-07-29T00:00:00+00:00",
          "2014-07-30T00:00:00+00:00",
          "2014-07-31T00:00:00+00:00",
          "2014-08-01T00:00:00+00:00",
          "2014-08-02T00:00:00+00:00",
          "2014-08-03T00:00:00+00:00",
          "2014-08-04T00:00:00+00:00",
          "2014-08-05T00:00:00+00:00",
          "2014-08-06T00:00:00+00:00",
          "2014-08-07T00:00:00+00:00",
          "2014-08-08T00:00:00+00:00",
          "2014-08-09T00:00:00+00:00",
          "2014-08-10T00:00:00+00:00",
          "2014-08-11T00:00:00+00:00",
          "2014-08-12T00:00:00+00:00",
          "2014-08-13T00:00:00+00:00",
          "2014-08-14T00:00:00+00:00",
          "2014-08-15T00:00:00+00:00",
          "2014-08-16T00:00:00+00:00",
          "2014-08-17T00:00:00+00:00",
          "2014-08-18T00:00:00+00:00",
          "2014-08-19T00:00:00+00:00",
          "2014-08-20T00:00:00+00:00",
          "2014-08-21T00:00:00+00:00",
          "2014-08-22T00:00:00+00:00",
          "2014-08-23T00:00:00+00:00",
          "2014-08-24T00:00:00+00:00",
          "2014-08-25T00:00:00+00:00",
          "2014-08-26T00:00:00+00:00",
          "2014-08-27T00:00:00+00:00",
          "2014-08-28T00:00:00+00:00",
          "2014-08-29T00:00:00+00:00",
          "2014-08-30T00:00:00+00:00",
          "2014-08-31T00:00:00+00:00",
          "2014-09-01T00:00:00+00:00",
          "2014-09-02T00:00:00+00:00",
          "2014-09-03T00:00:00+00:00",
          "2014-09-04T00:00:00+00:00",
          "2014-09-05T00:00:00+00:00",
          "2014-09-06T00:00:00+00:00",
          "2014-09-07T00:00:00+00:00",
          "2014-09-08T00:00:00+00:00",
          "2014-09-09T00:00:00+00:00",
          "2014-09-10T00:00:00+00:00",
          "2014-09-11T00:00:00+00:00",
          "2014-09-12T00:00:00+00:00",
          "2014-09-13T00:00:00+00:00",
          "2014-09-14T00:00:00+00:00",
          "2014-09-15T00:00:00+00:00",
          "2014-09-16T00:00:00+00:00",
          "2014-09-17T00:00:00+00:00",
          "2014-09-18T00:00:00+00:00",
          "2014-09-19T00:00:00+00:00",
          "2014-09-20T00:00:00+00:00",
          "2014-09-21T00:00:00+00:00",
          "2014-09-22T00:00:00+00:00",
          "2014-09-23T00:00:00+00:00",
          "2014-09-24T00:00:00+00:00",
          "2014-09-25T00:00:00+00:00",
          "2014-09-26T00:00:00+00:00",
          "2014-09-27T00:00:00+00:00",
          "2014-09-28T00:00:00+00:00",
          "2014-09-29T00:00:00+00:00",
          "2014-09-30T00:00:00+00:00",
          "2014-10-01T00:00:00+00:00",
          "2014-10-02T00:00:00+00:00",
          "2014-10-03T00:00:00+00:00",
          "2014-10-04T00:00:00+00:00",
          "2014-10-05T00:00:00+00:00",
          "2014-10-06T00:00:00+00:00",
          "2014-10-07T00:00:00+00:00",
          "2014-10-08T00:00:00+00:00",
          "2014-10-09T00:00:00+00:00",
          "2014-10-10T00:00:00+00:00",
          "2014-10-11T00:00:00+00:00",
          "2014-10-12T00:00:00+00:00",
          "2014-10-13T00:00:00+00:00",
          "2014-10-14T00:00:00+00:00",
          "2014-10-15T00:00:00+00:00",
          "2014-10-16T00:00:00+00:00",
          "2014-10-17T00:00:00+00:00",
          "2014-10-18T00:00:00+00:00",
          "2014-10-19T00:00:00+00:00",
          "2014-10-20T00:00:00+00:00",
          "2014-10-21T00:00:00+00:00",
          "2014-10-22T00:00:00+00:00",
          "2014-10-23T00:00:00+00:00",
          "2014-10-24T00:00:00+00:00",
          "2014-10-25T00:00:00+00:00",
          "2014-10-26T00:00:00+00:00",
          "2014-10-27T00:00:00+00:00",
          "2014-10-28T00:00:00+00:00",
          "2014-10-29T00:00:00+00:00",
          "2014-10-30T00:00:00+00:00",
          "2014-10-31T00:00:00+00:00",
          "2014-11-01T00:00:00+00:00",
          "2014-11-02T00:00:00+00:00",
          "2014-11-03T00:00:00+00:00",
          "2014-11-04T00:00:00+00:00",
          "2014-11-05T00:00:00+00:00",
          "2014-11-06T00:00:00+00:00",
          "2014-11-07T00:00:00+00:00",
          "2014-11-08T00:00:00+00:00",
          "2014-11-09T00:00:00+00:00",
          "2014-11-10T00:00:00+00:00",
          "2014-11-11T00:00:00+00:00",
          "2014-11-12T00:00:00+00:00",
          "2014-11-13T00:00:00+00:00",
          "2014-11-14T00:00:00+00:00",
          "2014-11-15T00:00:00+00:00",
          "2014-11-16T00:00:00+00:00",
          "2014-11-17T00:00:00+00:00",
          "2014-11-18T00:00:00+00:00",
          "2014-11-19T00:00:00+00:00",
          "2014-11-20T00:00:00+00:00",
          "2014-11-21T00:00:00+00:00",
          "2014-11-22T00:00:00+00:00",
          "2014-11-23T00:00:00+00:00",
          "2014-11-24T00:00:00+00:00",
          "2014-11-25T00:00:00+00:00",
          "2014-11-26T00:00:00+00:00",
          "2014-11-27T00:00:00+00:00",
          "2014-11-28T00:00:00+00:00",
          "2014-11-29T00:00:00+00:00",
          "2014-11-30T00:00:00+00:00",
          "2014-12-01T00:00:00+00:00",
          "2014-12-02T00:00:00+00:00",
          "2014-12-03T00:00:00+00:00",
          "2014-12-04T00:00:00+00:00",
          "2014-12-05T00:00:00+00:00",
          "2014-12-06T00:00:00+00:00",
          "2014-12-07T00:00:00+00:00",
          "2014-12-08T00:00:00+00:00",
          "2014-12-09T00:00:00+00:00",
          "2014-12-10T00:00:00+00:00",
          "2014-12-11T00:00:00+00:00",
          "2014-12-12T00:00:00+00:00",
          "2014-12-13T00:00:00+00:00",
          "2014-12-14T00:00:00+00:00",
          "2014-12-15T00:00:00+00:00",
          "2014-12-16T00:00:00+00:00",
          "2014-12-17T00:00:00+00:00",
          "2014-12-18T00:00:00+00:00",
          "2014-12-19T00:00:00+00:00",
          "2014-12-20T00:00:00+00:00",
          "2014-12-21T00:00:00+00:00",
          "2014-12-22T00:00:00+00:00",
          "2014-12-23T00:00:00+00:00",
          "2014-12-24T00:00:00+00:00",
          "2014-12-25T00:00:00+00:00",
          "2014-12-26T00:00:00+00:00",
          "2014-12-27T00:00:00+00:00",
          "2014-12-28T00:00:00+00:00",
          "2014-12-29T00:00:00+00:00",
          "2014-12-30T00:00:00+00:00",
          "2014-12-31T00:00:00+00:00",
          "2015-01-01T00:00:00+00:00",
          "2015-01-02T00:00:00+00:00",
          "2015-01-03T00:00:00+00:00",
          "2015-01-04T00:00:00+00:00",
          "2015-01-05T00:00:00+00:00",
          "2015-01-06T00:00:00+00:00",
          "2015-01-07T00:00:00+00:00",
          "2015-01-08T00:00:00+00:00",
          "2015-01-09T00:00:00+00:00",
          "2015-01-10T00:00:00+00:00",
          "2015-01-11T00:00:00+00:00",
          "2015-01-12T00:00:00+00:00",
          "2015-01-13T00:00:00+00:00",
          "2015-01-14T00:00:00+00:00",
          "2015-01-15T00:00:00+00:00",
          "2015-01-16T00:00:00+00:00",
          "2015-01-17T00:00:00+00:00",
          "2015-01-18T00:00:00+00:00",
          "2015-01-19T00:00:00+00:00",
          "2015-01-20T00:00:00+00:00",
          "2015-01-21T00:00:00+00:00",
          "2015-01-22T00:00:00+00:00",
          "2015-01-23T00:00:00+00:00",
          "2015-01-24T00:00:00+00:00",
          "2015-01-25T00:00:00+00:00",
          "2015-01-26T00:00:00+00:00",
          "2015-01-27T00:00:00+00:00",
          "2015-01-28T00:00:00+00:00",
          "2015-01-29T00:00:00+00:00",
          "2015-01-30T00:00:00+00:00",
          "2015-01-31T00:00:00+00:00",
          "2015-02-01T00:00:00+00:00",
          "2015-02-02T00:00:00+00:00",
          "2015-02-03T00:00:00+00:00",
          "2015-02-04T00:00:00+00:00",
          "2015-02-05T00:00:00+00:00",
          "2015-02-06T00:00:00+00:00",
          "2015-02-07T00:00:00+00:00",
          "2015-02-08T00:00:00+00:00",
          "2015-02-09T00:00:00+00:00",
          "2015-02-10T00:00:00+00:00",
          "2015-02-11T00:00:00+00:00",
          "2015-02-12T00:00:00+00:00",
          "2015-02-13T00:00:00+00:00",
          "2015-02-14T00:00:00+00:00",
          "2015-02-15T00:00:00+00:00",
          "2015-02-16T00:00:00+00:00",
          "2015-02-17T00:00:00+00:00",
          "2015-02-18T00:00:00+00:00",
          "2015-02-19T00:00:00+00:00",
          "2015-02-20T00:00:00+00:00",
          "2015-02-21T00:00:00+00:00",
          "2015-02-22T00:00:00+00:00",
          "2015-02-23T00:00:00+00:00",
          "2015-02-24T00:00:00+00:00",
          "2015-02-25T00:00:00+00:00",
          "2015-02-26T00:00:00+00:00",
          "2015-02-27T00:00:00+00:00",
          "2015-02-28T00:00:00+00:00",
          "2015-03-01T00:00:00+00:00",
          "2015-03-02T00:00:00+00:00",
          "2015-03-03T00:00:00+00:00",
          "2015-03-04T00:00:00+00:00",
          "2015-03-05T00:00:00+00:00",
          "2015-03-06T00:00:00+00:00",
          "2015-03-07T00:00:00+00:00",
          "2015-03-08T00:00:00+00:00",
          "2015-03-09T00:00:00+00:00",
          "2015-03-10T00:00:00+00:00",
          "2015-03-11T00:00:00+00:00",
          "2015-03-12T00:00:00+00:00",
          "2015-03-13T00:00:00+00:00",
          "2015-03-14T00:00:00+00:00",
          "2015-03-15T00:00:00+00:00",
          "2015-03-16T00:00:00+00:00",
          "2015-03-17T00:00:00+00:00",
          "2015-03-18T00:00:00+00:00",
          "2015-03-19T00:00:00+00:00",
          "2015-03-20T00:00:00+00:00",
          "2015-03-21T00:00:00+00:00",
          "2015-03-22T00:00:00+00:00",
          "2015-03-23T00:00:00+00:00",
          "2015-03-24T00:00:00+00:00",
          "2015-03-25T00:00:00+00:00",
          "2015-03-26T00:00:00+00:00",
          "2015-03-27T00:00:00+00:00",
          "2015-03-28T00:00:00+00:00",
          "2015-03-29T00:00:00+00:00",
          "2015-03-30T00:00:00+00:00",
          "2015-03-31T00:00:00+00:00",
          "2015-04-01T00:00:00+00:00",
          "2015-04-02T00:00:00+00:00",
          "2015-04-03T00:00:00+00:00",
          "2015-04-04T00:00:00+00:00",
          "2015-04-05T00:00:00+00:00",
          "2015-04-06T00:00:00+00:00",
          "2015-04-07T00:00:00+00:00",
          "2015-04-08T00:00:00+00:00",
          "2015-04-09T00:00:00+00:00",
          "2015-04-10T00:00:00+00:00",
          "2015-04-11T00:00:00+00:00",
          "2015-04-12T00:00:00+00:00",
          "2015-04-13T00:00:00+00:00",
          "2015-04-14T00:00:00+00:00",
          "2015-04-15T00:00:00+00:00",
          "2015-04-16T00:00:00+00:00",
          "2015-04-17T00:00:00+00:00",
          "2015-04-18T00:00:00+00:00",
          "2015-04-19T00:00:00+00:00",
          "2015-04-20T00:00:00+00:00",
          "2015-04-21T00:00:00+00:00",
          "2015-04-22T00:00:00+00:00",
          "2015-04-23T00:00:00+00:00",
          "2015-04-24T00:00:00+00:00",
          "2015-04-25T00:00:00+00:00",
          "2015-04-26T00:00:00+00:00",
          "2015-04-27T00:00:00+00:00",
          "2015-04-28T00:00:00+00:00",
          "2015-04-29T00:00:00+00:00",
          "2015-04-30T00:00:00+00:00",
          "2015-05-01T00:00:00+00:00",
          "2015-05-02T00:00:00+00:00",
          "2015-05-03T00:00:00+00:00",
          "2015-05-04T00:00:00+00:00",
          "2015-05-05T00:00:00+00:00",
          "2015-05-06T00:00:00+00:00",
          "2015-05-07T00:00:00+00:00",
          "2015-05-08T00:00:00+00:00",
          "2015-05-09T00:00:00+00:00",
          "2015-05-10T00:00:00+00:00",
          "2015-05-11T00:00:00+00:00",
          "2015-05-12T00:00:00+00:00",
          "2015-05-13T00:00:00+00:00",
          "2015-05-14T00:00:00+00:00",
          "2015-05-15T00:00:00+00:00",
          "2015-05-16T00:00:00+00:00",
          "2015-05-17T00:00:00+00:00",
          "2015-05-18T00:00:00+00:00",
          "2015-05-19T00:00:00+00:00",
          "2015-05-20T00:00:00+00:00",
          "2015-05-21T00:00:00+00:00",
          "2015-05-22T00:00:00+00:00",
          "2015-05-23T00:00:00+00:00",
          "2015-05-24T00:00:00+00:00",
          "2015-05-25T00:00:00+00:00",
          "2015-05-26T00:00:00+00:00",
          "2015-05-27T00:00:00+00:00",
          "2015-05-28T00:00:00+00:00",
          "2015-05-29T00:00:00+00:00",
          "2015-05-30T00:00:00+00:00",
          "2015-05-31T00:00:00+00:00",
          "2015-06-01T00:00:00+00:00",
          "2015-06-02T00:00:00+00:00",
          "2015-06-03T00:00:00+00:00",
          "2015-06-04T00:00:00+00:00",
          "2015-06-05T00:00:00+00:00",
          "2015-06-06T00:00:00+00:00",
          "2015-06-07T00:00:00+00:00",
          "2015-06-08T00:00:00+00:00",
          "2015-06-09T00:00:00+00:00",
          "2015-06-10T00:00:00+00:00",
          "2015-06-11T00:00:00+00:00",
          "2015-06-12T00:00:00+00:00",
          "2015-06-13T00:00:00+00:00",
          "2015-06-14T00:00:00+00:00",
          "2015-06-15T00:00:00+00:00",
          "2015-06-16T00:00:00+00:00",
          "2015-06-17T00:00:00+00:00",
          "2015-06-18T00:00:00+00:00",
          "2015-06-19T00:00:00+00:00",
          "2015-06-20T00:00:00+00:00",
          "2015-06-21T00:00:00+00:00",
          "2015-06-22T00:00:00+00:00",
          "2015-06-23T00:00:00+00:00",
          "2015-06-24T00:00:00+00:00",
          "2015-06-25T00:00:00+00:00",
          "2015-06-26T00:00:00+00:00",
          "2015-06-27T00:00:00+00:00",
          "2015-06-28T00:00:00+00:00",
          "2015-06-29T00:00:00+00:00",
          "2015-06-30T00:00:00+00:00",
          "2015-07-01T00:00:00+00:00",
          "2015-07-02T00:00:00+00:00",
          "2015-07-03T00:00:00+00:00",
          "2015-07-04T00:00:00+00:00",
          "2015-07-05T00:00:00+00:00",
          "2015-07-06T00:00:00+00:00",
          "2015-07-07T00:00:00+00:00",
          "2015-07-08T00:00:00+00:00",
          "2015-07-09T00:00:00+00:00",
          "2015-07-10T00:00:00+00:00",
          "2015-07-11T00:00:00+00:00",
          "2015-07-12T00:00:00+00:00",
          "2015-07-13T00:00:00+00:00",
          "2015-07-14T00:00:00+00:00",
          "2015-07-15T00:00:00+00:00",
          "2015-07-16T00:00:00+00:00",
          "2015-07-17T00:00:00+00:00",
          "2015-07-18T00:00:00+00:00",
          "2015-07-19T00:00:00+00:00",
          "2015-07-20T00:00:00+00:00",
          "2015-07-21T00:00:00+00:00",
          "2015-07-22T00:00:00+00:00",
          "2015-07-23T00:00:00+00:00",
          "2015-07-24T00:00:00+00:00",
          "2015-07-25T00:00:00+00:00",
          "2015-07-26T00:00:00+00:00",
          "2015-07-27T00:00:00+00:00",
          "2015-07-28T00:00:00+00:00",
          "2015-07-29T00:00:00+00:00",
          "2015-07-30T00:00:00+00:00",
          "2015-07-31T00:00:00+00:00",
          "2015-08-01T00:00:00+00:00",
          "2015-08-02T00:00:00+00:00",
          "2015-08-03T00:00:00+00:00",
          "2015-08-04T00:00:00+00:00",
          "2015-08-05T00:00:00+00:00",
          "2015-08-06T00:00:00+00:00",
          "2015-08-07T00:00:00+00:00",
          "2015-08-08T00:00:00+00:00",
          "2015-08-09T00:00:00+00:00",
          "2015-08-10T00:00:00+00:00",
          "2015-08-11T00:00:00+00:00",
          "2015-08-12T00:00:00+00:00",
          "2015-08-13T00:00:00+00:00",
          "2015-08-14T00:00:00+00:00",
          "2015-08-15T00:00:00+00:00",
          "2015-08-16T00:00:00+00:00",
          "2015-08-17T00:00:00+00:00",
          "2015-08-18T00:00:00+00:00",
          "2015-08-19T00:00:00+00:00",
          "2015-08-20T00:00:00+00:00",
          "2015-08-21T00:00:00+00:00",
          "2015-08-22T00:00:00+00:00",
          "2015-08-23T00:00:00+00:00",
          "2015-08-24T00:00:00+00:00",
          "2015-08-25T00:00:00+00:00",
          "2015-08-26T00:00:00+00:00",
          "2015-08-27T00:00:00+00:00",
          "2015-08-28T00:00:00+00:00",
          "2015-08-29T00:00:00+00:00",
          "2015-08-30T00:00:00+00:00",
          "2015-08-31T00:00:00+00:00",
          "2015-09-01T00:00:00+00:00",
          "2015-09-02T00:00:00+00:00",
          "2015-09-03T00:00:00+00:00",
          "2015-09-04T00:00:00+00:00",
          "2015-09-05T00:00:00+00:00",
          "2015-09-06T00:00:00+00:00",
          "2015-09-07T00:00:00+00:00",
          "2015-09-08T00:00:00+00:00",
          "2015-09-09T00:00:00+00:00",
          "2015-09-10T00:00:00+00:00",
          "2015-09-11T00:00:00+00:00",
          "2015-09-12T00:00:00+00:00",
          "2015-09-13T00:00:00+00:00",
          "2015-09-14T00:00:00+00:00",
          "2015-09-15T00:00:00+00:00",
          "2015-09-16T00:00:00+00:00",
          "2015-09-17T00:00:00+00:00",
          "2015-09-18T00:00:00+00:00",
          "2015-09-19T00:00:00+00:00",
          "2015-09-20T00:00:00+00:00",
          "2015-09-21T00:00:00+00:00",
          "2015-09-22T00:00:00+00:00",
          "2015-09-23T00:00:00+00:00",
          "2015-09-24T00:00:00+00:00",
          "2015-09-25T00:00:00+00:00",
          "2015-09-26T00:00:00+00:00",
          "2015-09-27T00:00:00+00:00",
          "2015-09-28T00:00:00+00:00",
          "2015-09-29T00:00:00+00:00",
          "2015-09-30T00:00:00+00:00",
          "2015-10-01T00:00:00+00:00",
          "2015-10-02T00:00:00+00:00",
          "2015-10-03T00:00:00+00:00",
          "2015-10-04T00:00:00+00:00",
          "2015-10-05T00:00:00+00:00",
          "2015-10-06T00:00:00+00:00",
          "2015-10-07T00:00:00+00:00",
          "2015-10-08T00:00:00+00:00",
          "2015-10-09T00:00:00+00:00",
          "2015-10-10T00:00:00+00:00",
          "2015-10-11T00:00:00+00:00",
          "2015-10-12T00:00:00+00:00",
          "2015-10-13T00:00:00+00:00",
          "2015-10-14T00:00:00+00:00",
          "2015-10-15T00:00:00+00:00",
          "2015-10-16T00:00:00+00:00",
          "2015-10-17T00:00:00+00:00",
          "2015-10-18T00:00:00+00:00",
          "2015-10-19T00:00:00+00:00",
          "2015-10-20T00:00:00+00:00",
          "2015-10-21T00:00:00+00:00",
          "2015-10-22T00:00:00+00:00",
          "2015-10-23T00:00:00+00:00",
          "2015-10-24T00:00:00+00:00",
          "2015-10-25T00:00:00+00:00",
          "2015-10-26T00:00:00+00:00",
          "2015-10-27T00:00:00+00:00",
          "2015-10-28T00:00:00+00:00",
          "2015-10-29T00:00:00+00:00",
          "2015-10-30T00:00:00+00:00",
          "2015-10-31T00:00:00+00:00",
          "2015-11-01T00:00:00+00:00",
          "2015-11-02T00:00:00+00:00",
          "2015-11-03T00:00:00+00:00",
          "2015-11-04T00:00:00+00:00",
          "2015-11-05T00:00:00+00:00",
          "2015-11-06T00:00:00+00:00",
          "2015-11-07T00:00:00+00:00",
          "2015-11-08T00:00:00+00:00",
          "2015-11-09T00:00:00+00:00",
          "2015-11-10T00:00:00+00:00",
          "2015-11-11T00:00:00+00:00",
          "2015-11-12T00:00:00+00:00",
          "2015-11-13T00:00:00+00:00",
          "2015-11-14T00:00:00+00:00",
          "2015-11-15T00:00:00+00:00",
          "2015-11-16T00:00:00+00:00",
          "2015-11-17T00:00:00+00:00",
          "2015-11-18T00:00:00+00:00",
          "2015-11-19T00:00:00+00:00",
          "2015-11-20T00:00:00+00:00",
          "2015-11-21T00:00:00+00:00",
          "2015-11-22T00:00:00+00:00",
          "2015-11-23T00:00:00+00:00",
          "2015-11-24T00:00:00+00:00",
          "2015-11-25T00:00:00+00:00",
          "2015-11-26T00:00:00+00:00",
          "2015-11-27T00:00:00+00:00",
          "2015-11-28T00:00:00+00:00",
          "2015-11-29T00:00:00+00:00",
          "2015-11-30T00:00:00+00:00",
          "2015-12-01T00:00:00+00:00",
          "2015-12-02T00:00:00+00:00",
          "2015-12-03T00:00:00+00:00",
          "2015-12-04T00:00:00+00:00",
          "2015-12-05T00:00:00+00:00",
          "2015-12-06T00:00:00+00:00",
          "2015-12-07T00:00:00+00:00",
          "2015-12-08T00:00:00+00:00",
          "2015-12-09T00:00:00+00:00",
          "2015-12-10T00:00:00+00:00",
          "2015-12-11T00:00:00+00:00",
          "2015-12-12T00:00:00+00:00",
          "2015-12-13T00:00:00+00:00",
          "2015-12-14T00:00:00+00:00",
          "2015-12-15T00:00:00+00:00",
          "2015-12-16T00:00:00+00:00",
          "2015-12-17T00:00:00+00:00",
          "2015-12-18T00:00:00+00:00",
          "2015-12-19T00:00:00+00:00",
          "2015-12-20T00:00:00+00:00",
          "2015-12-21T00:00:00+00:00",
          "2015-12-22T00:00:00+00:00",
          "2015-12-23T00:00:00+00:00",
          "2015-12-24T00:00:00+00:00",
          "2015-12-25T00:00:00+00:00",
          "2015-12-26T00:00:00+00:00",
          "2015-12-27T00:00:00+00:00",
          "2015-12-28T00:00:00+00:00",
          "2015-12-29T00:00:00+00:00",
          "2015-12-30T00:00:00+00:00",
          "2015-12-31T00:00:00+00:00",
          "2016-01-01T00:00:00+00:00",
          "2016-01-02T00:00:00+00:00",
          "2016-01-03T00:00:00+00:00",
          "2016-01-04T00:00:00+00:00",
          "2016-01-05T00:00:00+00:00",
          "2016-01-06T00:00:00+00:00",
          "2016-01-07T00:00:00+00:00",
          "2016-01-08T00:00:00+00:00",
          "2016-01-09T00:00:00+00:00",
          "2016-01-10T00:00:00+00:00",
          "2016-01-11T00:00:00+00:00",
          "2016-01-12T00:00:00+00:00",
          "2016-01-13T00:00:00+00:00",
          "2016-01-14T00:00:00+00:00",
          "2016-01-15T00:00:00+00:00",
          "2016-01-16T00:00:00+00:00",
          "2016-01-17T00:00:00+00:00",
          "2016-01-18T00:00:00+00:00",
          "2016-01-19T00:00:00+00:00",
          "2016-01-20T00:00:00+00:00",
          "2016-01-21T00:00:00+00:00",
          "2016-01-22T00:00:00+00:00",
          "2016-01-23T00:00:00+00:00",
          "2016-01-24T00:00:00+00:00",
          "2016-01-25T00:00:00+00:00",
          "2016-01-26T00:00:00+00:00",
          "2016-01-27T00:00:00+00:00",
          "2016-01-28T00:00:00+00:00",
          "2016-01-29T00:00:00+00:00",
          "2016-01-30T00:00:00+00:00",
          "2016-01-31T00:00:00+00:00",
          "2016-02-01T00:00:00+00:00",
          "2016-02-02T00:00:00+00:00",
          "2016-02-03T00:00:00+00:00",
          "2016-02-04T00:00:00+00:00",
          "2016-02-05T00:00:00+00:00",
          "2016-02-06T00:00:00+00:00",
          "2016-02-07T00:00:00+00:00",
          "2016-02-08T00:00:00+00:00",
          "2016-02-09T00:00:00+00:00",
          "2016-02-10T00:00:00+00:00",
          "2016-02-11T00:00:00+00:00",
          "2016-02-12T00:00:00+00:00",
          "2016-02-13T00:00:00+00:00",
          "2016-02-14T00:00:00+00:00",
          "2016-02-15T00:00:00+00:00",
          "2016-02-16T00:00:00+00:00",
          "2016-02-17T00:00:00+00:00",
          "2016-02-18T00:00:00+00:00",
          "2016-02-19T00:00:00+00:00",
          "2016-02-20T00:00:00+00:00",
          "2016-02-21T00:00:00+00:00",
          "2016-02-22T00:00:00+00:00",
          "2016-02-23T00:00:00+00:00",
          "2016-02-24T00:00:00+00:00",
          "2016-02-25T00:00:00+00:00",
          "2016-02-26T00:00:00+00:00",
          "2016-02-27T00:00:00+00:00",
          "2016-02-28T00:00:00+00:00",
          "2016-02-29T00:00:00+00:00",
          "2016-03-01T00:00:00+00:00",
          "2016-03-02T00:00:00+00:00",
          "2016-03-03T00:00:00+00:00",
          "2016-03-04T00:00:00+00:00",
          "2016-03-05T00:00:00+00:00",
          "2016-03-06T00:00:00+00:00",
          "2016-03-07T00:00:00+00:00",
          "2016-03-08T00:00:00+00:00",
          "2016-03-09T00:00:00+00:00",
          "2016-03-10T00:00:00+00:00",
          "2016-03-11T00:00:00+00:00",
          "2016-03-12T00:00:00+00:00",
          "2016-03-13T00:00:00+00:00",
          "2016-03-14T00:00:00+00:00",
          "2016-03-15T00:00:00+00:00",
          "2016-03-16T00:00:00+00:00",
          "2016-03-17T00:00:00+00:00",
          "2016-03-18T00:00:00+00:00",
          "2016-03-19T00:00:00+00:00",
          "2016-03-20T00:00:00+00:00",
          "2016-03-21T00:00:00+00:00",
          "2016-03-22T00:00:00+00:00",
          "2016-03-23T00:00:00+00:00",
          "2016-03-24T00:00:00+00:00",
          "2016-03-25T00:00:00+00:00",
          "2016-03-26T00:00:00+00:00",
          "2016-03-27T00:00:00+00:00",
          "2016-03-28T00:00:00+00:00",
          "2016-03-29T00:00:00+00:00",
          "2016-03-30T00:00:00+00:00",
          "2016-03-31T00:00:00+00:00",
          "2016-04-01T00:00:00+00:00",
          "2016-04-02T00:00:00+00:00",
          "2016-04-03T00:00:00+00:00",
          "2016-04-04T00:00:00+00:00",
          "2016-04-05T00:00:00+00:00",
          "2016-04-06T00:00:00+00:00",
          "2016-04-07T00:00:00+00:00",
          "2016-04-08T00:00:00+00:00",
          "2016-04-09T00:00:00+00:00",
          "2016-04-10T00:00:00+00:00",
          "2016-04-11T00:00:00+00:00",
          "2016-04-12T00:00:00+00:00",
          "2016-04-13T00:00:00+00:00",
          "2016-04-14T00:00:00+00:00",
          "2016-04-15T00:00:00+00:00",
          "2016-04-16T00:00:00+00:00",
          "2016-04-17T00:00:00+00:00",
          "2016-04-18T00:00:00+00:00",
          "2016-04-19T00:00:00+00:00",
          "2016-04-20T00:00:00+00:00",
          "2016-04-21T00:00:00+00:00",
          "2016-04-22T00:00:00+00:00",
          "2016-04-23T00:00:00+00:00",
          "2016-04-24T00:00:00+00:00",
          "2016-04-25T00:00:00+00:00",
          "2016-04-26T00:00:00+00:00",
          "2016-04-27T00:00:00+00:00",
          "2016-04-28T00:00:00+00:00",
          "2016-04-29T00:00:00+00:00",
          "2016-04-30T00:00:00+00:00",
          "2016-05-01T00:00:00+00:00",
          "2016-05-02T00:00:00+00:00",
          "2016-05-03T00:00:00+00:00",
          "2016-05-04T00:00:00+00:00",
          "2016-05-05T00:00:00+00:00",
          "2016-05-06T00:00:00+00:00",
          "2016-05-07T00:00:00+00:00",
          "2016-05-08T00:00:00+00:00",
          "2016-05-09T00:00:00+00:00",
          "2016-05-10T00:00:00+00:00",
          "2016-05-11T00:00:00+00:00",
          "2016-05-12T00:00:00+00:00",
          "2016-05-13T00:00:00+00:00",
          "2016-05-14T00:00:00+00:00",
          "2016-05-15T00:00:00+00:00",
          "2016-05-16T00:00:00+00:00",
          "2016-05-17T00:00:00+00:00",
          "2016-05-18T00:00:00+00:00",
          "2016-05-19T00:00:00+00:00",
          "2016-05-20T00:00:00+00:00",
          "2016-05-21T00:00:00+00:00",
          "2016-05-22T00:00:00+00:00",
          "2016-05-23T00:00:00+00:00",
          "2016-05-24T00:00:00+00:00",
          "2016-05-25T00:00:00+00:00",
          "2016-05-26T00:00:00+00:00",
          "2016-05-27T00:00:00+00:00",
          "2016-05-28T00:00:00+00:00",
          "2016-05-29T00:00:00+00:00",
          "2016-05-30T00:00:00+00:00",
          "2016-05-31T00:00:00+00:00",
          "2016-06-01T00:00:00+00:00",
          "2016-06-02T00:00:00+00:00",
          "2016-06-03T00:00:00+00:00",
          "2016-06-04T00:00:00+00:00",
          "2016-06-05T00:00:00+00:00",
          "2016-06-06T00:00:00+00:00",
          "2016-06-07T00:00:00+00:00",
          "2016-06-08T00:00:00+00:00",
          "2016-06-09T00:00:00+00:00",
          "2016-06-10T00:00:00+00:00",
          "2016-06-11T00:00:00+00:00",
          "2016-06-12T00:00:00+00:00",
          "2016-06-13T00:00:00+00:00",
          "2016-06-14T00:00:00+00:00",
          "2016-06-15T00:00:00+00:00",
          "2016-06-16T00:00:00+00:00",
          "2016-06-17T00:00:00+00:00",
          "2016-06-18T00:00:00+00:00",
          "2016-06-19T00:00:00+00:00",
          "2016-06-20T00:00:00+00:00",
          "2016-06-21T00:00:00+00:00",
          "2016-06-22T00:00:00+00:00",
          "2016-06-23T00:00:00+00:00",
          "2016-06-24T00:00:00+00:00",
          "2016-06-25T00:00:00+00:00",
          "2016-06-26T00:00:00+00:00",
          "2016-06-27T00:00:00+00:00",
          "2016-06-28T00:00:00+00:00",
          "2016-06-29T00:00:00+00:00",
          "2016-06-30T00:00:00+00:00",
          "2016-07-01T00:00:00+00:00",
          "2016-07-02T00:00:00+00:00",
          "2016-07-03T00:00:00+00:00",
          "2016-07-04T00:00:00+00:00",
          "2016-07-05T00:00:00+00:00",
          "2016-07-06T00:00:00+00:00",
          "2016-07-07T00:00:00+00:00",
          "2016-07-08T00:00:00+00:00",
          "2016-07-09T00:00:00+00:00",
          "2016-07-10T00:00:00+00:00",
          "2016-07-11T00:00:00+00:00",
          "2016-07-12T00:00:00+00:00",
          "2016-07-13T00:00:00+00:00",
          "2016-07-14T00:00:00+00:00",
          "2016-07-15T00:00:00+00:00",
          "2016-07-16T00:00:00+00:00",
          "2016-07-17T00:00:00+00:00",
          "2016-07-18T00:00:00+00:00",
          "2016-07-19T00:00:00+00:00",
          "2016-07-20T00:00:00+00:00",
          "2016-07-21T00:00:00+00:00",
          "2016-07-22T00:00:00+00:00",
          "2016-07-23T00:00:00+00:00",
          "2016-07-24T00:00:00+00:00",
          "2016-07-25T00:00:00+00:00",
          "2016-07-26T00:00:00+00:00",
          "2016-07-27T00:00:00+00:00",
          "2016-07-28T00:00:00+00:00",
          "2016-07-29T00:00:00+00:00",
          "2016-07-30T00:00:00+00:00",
          "2016-07-31T00:00:00+00:00",
          "2016-08-01T00:00:00+00:00",
          "2016-08-02T00:00:00+00:00",
          "2016-08-03T00:00:00+00:00",
          "2016-08-04T00:00:00+00:00",
          "2016-08-05T00:00:00+00:00",
          "2016-08-06T00:00:00+00:00",
          "2016-08-07T00:00:00+00:00",
          "2016-08-08T00:00:00+00:00",
          "2016-08-09T00:00:00+00:00",
          "2016-08-10T00:00:00+00:00",
          "2016-08-11T00:00:00+00:00",
          "2016-08-12T00:00:00+00:00",
          "2016-08-13T00:00:00+00:00",
          "2016-08-14T00:00:00+00:00",
          "2016-08-15T00:00:00+00:00",
          "2016-08-16T00:00:00+00:00",
          "2016-08-17T00:00:00+00:00",
          "2016-08-18T00:00:00+00:00",
          "2016-08-19T00:00:00+00:00",
          "2016-08-20T00:00:00+00:00",
          "2016-08-21T00:00:00+00:00",
          "2016-08-22T00:00:00+00:00",
          "2016-08-23T00:00:00+00:00",
          "2016-08-24T00:00:00+00:00",
          "2016-08-25T00:00:00+00:00",
          "2016-08-26T00:00:00+00:00",
          "2016-08-27T00:00:00+00:00",
          "2016-08-28T00:00:00+00:00",
          "2016-08-29T00:00:00+00:00",
          "2016-08-30T00:00:00+00:00",
          "2016-08-31T00:00:00+00:00",
          "2016-09-01T00:00:00+00:00",
          "2016-09-02T00:00:00+00:00",
          "2016-09-03T00:00:00+00:00",
          "2016-09-04T00:00:00+00:00",
          "2016-09-05T00:00:00+00:00",
          "2016-09-06T00:00:00+00:00",
          "2016-09-07T00:00:00+00:00",
          "2016-09-08T00:00:00+00:00",
          "2016-09-09T00:00:00+00:00",
          "2016-09-10T00:00:00+00:00",
          "2016-09-11T00:00:00+00:00",
          "2016-09-12T00:00:00+00:00",
          "2016-09-13T00:00:00+00:00",
          "2016-09-14T00:00:00+00:00",
          "2016-09-15T00:00:00+00:00",
          "2016-09-16T00:00:00+00:00",
          "2016-09-17T00:00:00+00:00",
          "2016-09-18T00:00:00+00:00",
          "2016-09-19T00:00:00+00:00",
          "2016-09-20T00:00:00+00:00",
          "2016-09-21T00:00:00+00:00",
          "2016-09-22T00:00:00+00:00",
          "2016-09-23T00:00:00+00:00",
          "2016-09-24T00:00:00+00:00",
          "2016-09-25T00:00:00+00:00",
          "2016-09-26T00:00:00+00:00",
          "2016-09-27T00:00:00+00:00",
          "2016-09-28T00:00:00+00:00",
          "2016-09-29T00:00:00+00:00",
          "2016-09-30T00:00:00+00:00",
          "2016-10-01T00:00:00+00:00",
          "2016-10-02T00:00:00+00:00",
          "2016-10-03T00:00:00+00:00",
          "2016-10-04T00:00:00+00:00",
          "2016-10-05T00:00:00+00:00",
          "2016-10-06T00:00:00+00:00",
          "2016-10-07T00:00:00+00:00",
          "2016-10-08T00:00:00+00:00",
          "2016-10-09T00:00:00+00:00",
          "2016-10-10T00:00:00+00:00",
          "2016-10-11T00:00:00+00:00",
          "2016-10-12T00:00:00+00:00",
          "2016-10-13T00:00:00+00:00",
          "2016-10-14T00:00:00+00:00",
          "2016-10-15T00:00:00+00:00",
          "2016-10-16T00:00:00+00:00",
          "2016-10-17T00:00:00+00:00",
          "2016-10-18T00:00:00+00:00",
          "2016-10-19T00:00:00+00:00",
          "2016-10-20T00:00:00+00:00",
          "2016-10-21T00:00:00+00:00",
          "2016-10-22T00:00:00+00:00",
          "2016-10-23T00:00:00+00:00",
          "2016-10-24T00:00:00+00:00",
          "2016-10-25T00:00:00+00:00",
          "2016-10-26T00:00:00+00:00",
          "2016-10-27T00:00:00+00:00",
          "2016-10-28T00:00:00+00:00",
          "2016-10-29T00:00:00+00:00",
          "2016-10-30T00:00:00+00:00",
          "2016-10-31T00:00:00+00:00",
          "2016-11-01T00:00:00+00:00",
          "2016-11-02T00:00:00+00:00",
          "2016-11-03T00:00:00+00:00",
          "2016-11-04T00:00:00+00:00",
          "2016-11-05T00:00:00+00:00",
          "2016-11-06T00:00:00+00:00",
          "2016-11-07T00:00:00+00:00",
          "2016-11-08T00:00:00+00:00",
          "2016-11-09T00:00:00+00:00",
          "2016-11-10T00:00:00+00:00",
          "2016-11-11T00:00:00+00:00",
          "2016-11-12T00:00:00+00:00",
          "2016-11-13T00:00:00+00:00",
          "2016-11-14T00:00:00+00:00",
          "2016-11-15T00:00:00+00:00",
          "2016-11-16T00:00:00+00:00",
          "2016-11-17T00:00:00+00:00",
          "2016-11-18T00:00:00+00:00",
          "2016-11-19T00:00:00+00:00",
          "2016-11-20T00:00:00+00:00",
          "2016-11-21T00:00:00+00:00",
          "2016-11-22T00:00:00+00:00",
          "2016-11-23T00:00:00+00:00",
          "2016-11-24T00:00:00+00:00",
          "2016-11-25T00:00:00+00:00",
          "2016-11-26T00:00:00+00:00",
          "2016-11-27T00:00:00+00:00",
          "2016-11-28T00:00:00+00:00",
          "2016-11-29T00:00:00+00:00",
          "2016-11-30T00:00:00+00:00",
          "2016-12-01T00:00:00+00:00",
          "2016-12-02T00:00:00+00:00",
          "2016-12-03T00:00:00+00:00",
          "2016-12-04T00:00:00+00:00",
          "2016-12-05T00:00:00+00:00",
          "2016-12-06T00:00:00+00:00",
          "2016-12-07T00:00:00+00:00",
          "2016-12-08T00:00:00+00:00",
          "2016-12-09T00:00:00+00:00",
          "2016-12-10T00:00:00+00:00",
          "2016-12-11T00:00:00+00:00",
          "2016-12-12T00:00:00+00:00",
          "2016-12-13T00:00:00+00:00",
          "2016-12-14T00:00:00+00:00",
          "2016-12-15T00:00:00+00:00",
          "2016-12-16T00:00:00+00:00",
          "2016-12-17T00:00:00+00:00",
          "2016-12-18T00:00:00+00:00",
          "2016-12-19T00:00:00+00:00",
          "2016-12-20T00:00:00+00:00",
          "2016-12-21T00:00:00+00:00",
          "2016-12-22T00:00:00+00:00",
          "2016-12-23T00:00:00+00:00",
          "2016-12-24T00:00:00+00:00",
          "2016-12-25T00:00:00+00:00",
          "2016-12-26T00:00:00+00:00",
          "2016-12-27T00:00:00+00:00",
          "2016-12-28T00:00:00+00:00",
          "2016-12-29T00:00:00+00:00",
          "2016-12-30T00:00:00+00:00",
          "2016-12-31T00:00:00+00:00",
          "2017-01-01T00:00:00+00:00",
          "2017-01-02T00:00:00+00:00",
          "2017-01-03T00:00:00+00:00",
          "2017-01-04T00:00:00+00:00",
          "2017-01-05T00:00:00+00:00",
          "2017-01-06T00:00:00+00:00",
          "2017-01-07T00:00:00+00:00",
          "2017-01-08T00:00:00+00:00",
          "2017-01-09T00:00:00+00:00",
          "2017-01-10T00:00:00+00:00",
          "2017-01-11T00:00:00+00:00",
          "2017-01-12T00:00:00+00:00",
          "2017-01-13T00:00:00+00:00",
          "2017-01-14T00:00:00+00:00",
          "2017-01-15T00:00:00+00:00",
          "2017-01-16T00:00:00+00:00",
          "2017-01-17T00:00:00+00:00",
          "2017-01-18T00:00:00+00:00",
          "2017-01-19T00:00:00+00:00",
          "2017-01-20T00:00:00+00:00",
          "2017-01-21T00:00:00+00:00",
          "2017-01-22T00:00:00+00:00",
          "2017-01-23T00:00:00+00:00",
          "2017-01-24T00:00:00+00:00",
          "2017-01-25T00:00:00+00:00",
          "2017-01-26T00:00:00+00:00",
          "2017-01-27T00:00:00+00:00",
          "2017-01-28T00:00:00+00:00",
          "2017-01-29T00:00:00+00:00",
          "2017-01-30T00:00:00+00:00",
          "2017-01-31T00:00:00+00:00",
          "2017-02-01T00:00:00+00:00",
          "2017-02-02T00:00:00+00:00",
          "2017-02-03T00:00:00+00:00",
          "2017-02-04T00:00:00+00:00",
          "2017-02-05T00:00:00+00:00",
          "2017-02-06T00:00:00+00:00",
          "2017-02-07T00:00:00+00:00",
          "2017-02-08T00:00:00+00:00",
          "2017-02-09T00:00:00+00:00",
          "2017-02-10T00:00:00+00:00",
          "2017-02-11T00:00:00+00:00",
          "2017-02-12T00:00:00+00:00",
          "2017-02-13T00:00:00+00:00",
          "2017-02-14T00:00:00+00:00",
          "2017-02-15T00:00:00+00:00",
          "2017-02-16T00:00:00+00:00",
          "2017-02-17T00:00:00+00:00",
          "2017-02-18T00:00:00+00:00",
          "2017-02-19T00:00:00+00:00",
          "2017-02-20T00:00:00+00:00",
          "2017-02-21T00:00:00+00:00",
          "2017-02-22T00:00:00+00:00",
          "2017-02-23T00:00:00+00:00",
          "2017-02-24T00:00:00+00:00",
          "2017-02-25T00:00:00+00:00",
          "2017-02-26T00:00:00+00:00",
          "2017-02-27T00:00:00+00:00",
          "2017-02-28T00:00:00+00:00",
          "2017-03-01T00:00:00+00:00",
          "2017-03-02T00:00:00+00:00",
          "2017-03-03T00:00:00+00:00",
          "2017-03-04T00:00:00+00:00",
          "2017-03-05T00:00:00+00:00",
          "2017-03-06T00:00:00+00:00",
          "2017-03-07T00:00:00+00:00",
          "2017-03-08T00:00:00+00:00",
          "2017-03-09T00:00:00+00:00",
          "2017-03-10T00:00:00+00:00",
          "2017-03-11T00:00:00+00:00",
          "2017-03-12T00:00:00+00:00",
          "2017-03-13T00:00:00+00:00",
          "2017-03-14T00:00:00+00:00",
          "2017-03-15T00:00:00+00:00",
          "2017-03-16T00:00:00+00:00",
          "2017-03-17T00:00:00+00:00",
          "2017-03-18T00:00:00+00:00",
          "2017-03-19T00:00:00+00:00",
          "2017-03-20T00:00:00+00:00",
          "2017-03-21T00:00:00+00:00",
          "2017-03-22T00:00:00+00:00",
          "2017-03-23T00:00:00+00:00",
          "2017-03-24T00:00:00+00:00",
          "2017-03-25T00:00:00+00:00",
          "2017-03-26T00:00:00+00:00",
          "2017-03-27T00:00:00+00:00",
          "2017-03-28T00:00:00+00:00",
          "2017-03-29T00:00:00+00:00",
          "2017-03-30T00:00:00+00:00",
          "2017-03-31T00:00:00+00:00",
          "2017-04-01T00:00:00+00:00",
          "2017-04-02T00:00:00+00:00",
          "2017-04-03T00:00:00+00:00",
          "2017-04-04T00:00:00+00:00",
          "2017-04-05T00:00:00+00:00",
          "2017-04-06T00:00:00+00:00",
          "2017-04-07T00:00:00+00:00",
          "2017-04-08T00:00:00+00:00",
          "2017-04-09T00:00:00+00:00",
          "2017-04-10T00:00:00+00:00",
          "2017-04-11T00:00:00+00:00",
          "2017-04-12T00:00:00+00:00",
          "2017-04-13T00:00:00+00:00",
          "2017-04-14T00:00:00+00:00",
          "2017-04-15T00:00:00+00:00",
          "2017-04-16T00:00:00+00:00",
          "2017-04-17T00:00:00+00:00",
          "2017-04-18T00:00:00+00:00",
          "2017-04-19T00:00:00+00:00",
          "2017-04-20T00:00:00+00:00",
          "2017-04-21T00:00:00+00:00",
          "2017-04-22T00:00:00+00:00",
          "2017-04-23T00:00:00+00:00",
          "2017-04-24T00:00:00+00:00",
          "2017-04-25T00:00:00+00:00",
          "2017-04-26T00:00:00+00:00",
          "2017-04-27T00:00:00+00:00",
          "2017-04-28T00:00:00+00:00",
          "2017-04-29T00:00:00+00:00",
          "2017-04-30T00:00:00+00:00",
          "2017-05-01T00:00:00+00:00",
          "2017-05-02T00:00:00+00:00",
          "2017-05-03T00:00:00+00:00",
          "2017-05-04T00:00:00+00:00",
          "2017-05-05T00:00:00+00:00",
          "2017-05-06T00:00:00+00:00",
          "2017-05-07T00:00:00+00:00",
          "2017-05-08T00:00:00+00:00",
          "2017-05-09T00:00:00+00:00",
          "2017-05-10T00:00:00+00:00",
          "2017-05-11T00:00:00+00:00",
          "2017-05-12T00:00:00+00:00",
          "2017-05-13T00:00:00+00:00",
          "2017-05-14T00:00:00+00:00",
          "2017-05-15T00:00:00+00:00",
          "2017-05-16T00:00:00+00:00",
          "2017-05-17T00:00:00+00:00",
          "2017-05-18T00:00:00+00:00",
          "2017-05-19T00:00:00+00:00",
          "2017-05-20T00:00:00+00:00",
          "2017-05-21T00:00:00+00:00",
          "2017-05-22T00:00:00+00:00",
          "2017-05-23T00:00:00+00:00",
          "2017-05-24T00:00:00+00:00",
          "2017-05-25T00:00:00+00:00",
          "2017-05-26T00:00:00+00:00",
          "2017-05-27T00:00:00+00:00",
          "2017-05-28T00:00:00+00:00",
          "2017-05-29T00:00:00+00:00",
          "2017-05-30T00:00:00+00:00",
          "2017-05-31T00:00:00+00:00",
          "2017-06-01T00:00:00+00:00",
          "2017-06-02T00:00:00+00:00",
          "2017-06-03T00:00:00+00:00",
          "2017-06-04T00:00:00+00:00",
          "2017-06-05T00:00:00+00:00",
          "2017-06-06T00:00:00+00:00",
          "2017-06-07T00:00:00+00:00",
          "2017-06-08T00:00:00+00:00",
          "2017-06-09T00:00:00+00:00",
          "2017-06-10T00:00:00+00:00",
          "2017-06-11T00:00:00+00:00",
          "2017-06-12T00:00:00+00:00",
          "2017-06-13T00:00:00+00:00",
          "2017-06-14T00:00:00+00:00",
          "2017-06-15T00:00:00+00:00",
          "2017-06-16T00:00:00+00:00",
          "2017-06-17T00:00:00+00:00",
          "2017-06-18T00:00:00+00:00",
          "2017-06-19T00:00:00+00:00",
          "2017-06-20T00:00:00+00:00",
          "2017-06-21T00:00:00+00:00",
          "2017-06-22T00:00:00+00:00",
          "2017-06-23T00:00:00+00:00",
          "2017-06-24T00:00:00+00:00",
          "2017-06-25T00:00:00+00:00"
         ],
         "y": [
          16,
          11,
          4,
          2,
          1,
          0,
          2,
          1,
          1,
          0,
          0,
          0,
          0,
          0,
          1,
          0,
          0,
          0,
          0,
          1,
          1,
          0,
          0,
          1,
          0,
          0,
          0,
          3,
          1,
          0,
          0,
          0,
          0,
          0,
          0,
          0,
          1,
          0,
          1,
          0,
          0,
          1,
          0,
          0,
          0,
          0,
          0,
          0,
          1,
          0,
          0,
          0,
          0,
          0,
          1,
          0,
          1,
          1,
          0,
          0,
          0,
          2,
          0,
          1,
          0,
          0,
          0,
          0,
          1,
          0,
          0,
          0,
          2,
          0,
          0,
          0,
          0,
          2,
          0,
          1,
          0,
          0,
          0,
          1,
          0,
          0,
          0,
          1,
          0,
          1,
          3,
          1,
          7,
          3,
          1,
          1,
          1,
          2,
          2,
          0,
          0,
          0,
          1,
          0,
          1,
          1,
          0,
          1,
          0,
          2,
          1,
          1,
          1,
          2,
          0,
          0,
          0,
          1,
          0,
          1,
          2,
          1,
          0,
          0,
          1,
          0,
          0,
          0,
          1,
          0,
          0,
          0,
          0,
          0,
          1,
          0,
          1,
          1,
          0,
          1,
          1,
          0,
          0,
          1,
          3,
          3,
          0,
          0,
          0,
          0,
          1,
          1,
          0,
          4,
          0,
          0,
          1,
          0,
          0,
          0,
          1,
          2,
          0,
          0,
          1,
          0,
          2,
          0,
          1,
          2,
          4,
          0,
          0,
          1,
          0,
          0,
          0,
          1,
          2,
          1,
          3,
          3,
          0,
          0,
          1,
          1,
          0,
          1,
          1,
          1,
          1,
          1,
          1,
          2,
          1,
          1,
          3,
          1,
          1,
          2,
          0,
          1,
          0,
          2,
          0,
          0,
          0,
          1,
          1,
          2,
          3,
          2,
          0,
          1,
          0,
          1,
          1,
          1,
          2,
          2,
          2,
          1,
          2,
          0,
          3,
          4,
          2,
          1,
          1,
          1,
          0,
          1,
          1,
          6,
          0,
          1,
          2,
          3,
          3,
          3,
          3,
          1,
          2,
          0,
          4,
          4,
          3,
          3,
          4,
          0,
          3,
          2,
          2,
          2,
          4,
          3,
          0,
          5,
          4,
          2,
          3,
          5,
          4,
          1,
          7,
          4,
          5,
          1,
          4,
          2,
          1,
          3,
          7,
          2,
          3,
          1,
          2,
          1,
          6,
          7,
          2,
          3,
          1,
          2,
          2,
          3,
          8,
          5,
          3,
          5,
          1,
          3,
          3,
          2,
          4,
          7,
          6,
          2,
          3,
          8,
          4,
          7,
          7,
          3,
          8,
          3,
          6,
          5,
          4,
          6,
          4,
          4,
          6,
          3,
          4,
          9,
          2,
          4,
          3,
          2,
          4,
          7,
          8,
          4,
          3,
          2,
          4,
          8,
          1,
          3,
          2,
          4,
          2,
          0,
          9,
          5,
          6,
          5,
          6,
          2,
          1,
          7,
          7,
          6,
          0,
          2,
          2,
          1,
          4,
          4,
          8,
          3,
          5,
          3,
          3,
          2,
          6,
          3,
          7,
          3,
          2,
          3,
          7,
          11,
          2,
          6,
          5,
          2,
          1,
          11,
          7,
          7,
          5,
          7,
          1,
          4,
          6,
          5,
          5,
          7,
          5,
          1,
          3,
          2,
          5,
          6,
          3,
          5,
          3,
          3,
          6,
          9,
          7,
          4,
          2,
          1,
          4,
          4,
          8,
          7,
          9,
          4,
          3,
          2,
          4,
          4,
          4,
          11,
          7,
          6,
          2,
          5,
          6,
          11,
          4,
          2,
          2,
          2,
          4,
          10,
          5,
          3,
          5,
          3,
          1,
          6,
          4,
          6,
          5,
          6,
          5,
          3,
          9,
          7,
          11,
          3,
          7,
          7,
          2,
          10,
          6,
          5,
          11,
          1,
          3,
          3,
          3,
          7,
          10,
          8,
          1,
          7,
          3,
          8,
          7,
          3,
          14,
          4,
          3,
          2,
          7,
          11,
          8,
          12,
          8,
          3,
          7,
          6,
          9,
          9,
          1,
          3,
          2,
          4,
          5,
          6,
          12,
          5,
          8,
          3,
          1,
          7,
          7,
          7,
          9,
          3,
          2,
          7,
          4,
          9,
          12,
          2,
          3,
          3,
          2,
          5,
          1,
          3,
          1,
          1,
          4,
          7,
          4,
          6,
          6,
          5,
          7,
          5,
          7,
          12,
          5,
          8,
          10,
          11,
          2,
          4,
          8,
          7,
          7,
          7,
          10,
          1,
          5,
          9,
          8,
          10,
          5,
          5,
          7,
          3,
          11,
          7,
          10,
          12,
          16,
          4,
          2,
          10,
          5,
          9,
          12,
          4,
          4,
          4,
          15,
          9,
          12,
          10,
          6,
          0,
          4,
          9,
          14,
          9,
          5,
          5,
          6,
          4,
          9,
          6,
          6,
          3,
          2,
          6,
          7,
          4,
          12,
          8,
          9,
          11,
          4,
          5,
          8,
          8,
          4,
          5,
          8,
          5,
          0,
          8,
          13,
          13,
          20,
          10,
          3,
          4,
          9,
          5,
          12,
          7,
          5,
          10,
          9,
          8,
          5,
          10,
          8,
          3,
          4,
          4,
          11,
          11,
          8,
          14,
          11,
          4,
          2,
          10,
          4,
          9,
          8,
          5,
          4,
          6,
          3,
          8,
          9,
          9,
          12,
          9,
          4,
          16,
          17,
          9,
          3,
          6,
          6,
          5,
          11,
          13,
          3,
          7,
          4,
          7,
          9,
          6,
          11,
          14,
          12,
          7,
          5,
          3,
          12,
          12,
          13,
          6,
          7,
          5,
          2,
          8,
          8,
          18,
          16,
          8,
          3,
          7,
          10,
          7,
          11,
          12,
          7,
          7,
          3,
          13,
          6,
          9,
          8,
          8,
          5,
          5,
          11,
          9,
          6,
          10,
          7,
          5,
          5,
          12,
          10,
          11,
          11,
          7,
          3,
          3,
          13,
          11,
          5,
          14,
          5,
          6,
          4,
          11,
          14,
          7,
          5,
          4,
          9,
          5,
          6,
          9,
          8,
          9,
          9,
          5,
          7,
          8,
          7,
          8,
          8,
          11,
          2,
          7,
          9,
          11,
          8,
          7,
          8,
          5,
          4,
          11,
          9,
          10,
          8,
          9,
          3,
          7,
          10,
          8,
          15,
          14,
          11,
          2,
          5,
          12,
          13,
          9,
          12,
          10,
          2,
          4,
          14,
          8,
          8,
          13,
          10,
          7,
          5,
          10,
          13,
          14,
          11,
          5,
          1,
          4,
          10,
          7,
          13,
          16,
          6,
          5,
          2,
          9,
          8,
          15,
          9,
          6,
          3,
          6,
          11,
          12,
          14,
          15,
          9,
          5,
          7,
          16,
          12,
          17,
          9,
          11,
          3,
          7,
          13,
          14,
          19,
          10,
          8,
          6,
          8,
          16,
          16,
          15,
          12,
          18,
          10,
          6,
          22,
          18,
          11,
          19,
          12,
          6,
          9,
          11,
          18,
          21,
          18,
          16,
          9,
          4,
          20,
          12,
          16,
          8,
          14,
          13,
          2,
          18,
          16,
          13,
          8,
          18,
          4,
          7,
          10,
          7,
          12,
          17,
          12,
          9,
          4,
          20,
          19,
          6,
          9,
          9,
          9,
          9,
          12,
          18,
          11,
          13,
          15,
          8,
          11,
          12,
          20,
          10,
          16,
          16,
          5,
          7,
          16,
          22,
          16,
          15,
          15,
          8,
          5,
          15,
          19,
          14,
          6,
          9,
          4,
          7,
          27,
          22,
          23,
          8,
          11,
          11,
          8,
          27,
          17,
          26,
          23,
          17,
          6,
          12,
          24,
          15,
          25,
          19,
          20,
          13,
          12,
          18,
          28,
          33,
          22,
          13,
          6,
          12,
          21,
          27,
          22,
          15,
          20,
          5,
          10,
          17,
          23,
          23,
          14,
          24,
          10,
          7,
          25,
          33,
          27,
          22,
          14,
          11,
          6,
          18,
          26,
          13,
          19,
          15,
          7,
          9,
          38,
          35,
          36,
          15,
          28,
          10,
          11,
          25,
          20,
          25,
          25,
          25,
          13,
          11,
          28,
          22,
          30,
          16,
          22,
          17,
          16,
          23,
          19,
          35,
          27,
          26,
          13,
          9,
          26,
          16,
          26,
          31,
          18,
          4,
          11,
          41,
          33,
          23,
          24,
          18,
          13,
          7,
          33,
          32,
          23,
          17,
          22,
          13,
          7,
          25,
          22,
          28,
          27,
          12,
          6,
          11,
          26,
          29,
          25,
          14,
          18,
          10,
          10,
          30,
          37,
          24,
          34,
          22,
          13,
          9,
          19,
          21,
          39,
          28,
          27,
          12,
          16,
          37,
          28,
          27,
          26,
          32,
          12,
          8,
          31,
          32,
          31,
          34,
          29,
          12,
          10,
          23,
          28,
          26,
          32,
          35,
          11,
          14,
          30,
          34,
          30,
          34,
          26,
          17,
          21,
          27,
          30,
          34,
          31,
          32,
          10,
          27,
          34,
          23,
          27,
          27,
          24,
          22,
          23,
          41,
          26,
          35,
          38,
          29,
          16,
          14,
          27,
          40,
          43,
          31,
          20,
          13,
          15,
          38,
          31,
          33,
          35,
          24,
          22,
          13,
          46,
          39,
          29,
          42,
          37,
          17,
          19,
          36,
          35,
          27,
          32,
          22,
          21,
          15,
          40,
          27,
          32,
          43,
          35,
          18,
          17,
          37,
          39,
          35,
          43,
          23,
          17,
          20,
          33,
          64,
          48,
          39,
          41,
          17,
          26,
          54,
          45,
          44,
          46,
          44,
          27,
          20,
          39,
          35,
          41,
          42,
          33,
          24,
          36,
          37,
          48,
          50,
          45,
          49,
          24,
          17,
          41,
          62,
          47,
          48,
          37,
          24,
          22,
          35,
          37,
          55,
          47,
          40,
          20,
          25,
          41,
          65,
          50,
          54,
          39,
          18,
          18,
          40,
          47,
          62,
          64,
          38,
          26,
          31,
          50,
          61,
          74,
          89,
          61,
          34,
          47,
          76,
          69,
          71,
          60,
          52,
          38,
          29,
          60,
          81,
          73,
          68,
          64,
          35,
          40,
          81,
          72,
          74,
          70,
          53,
          33,
          36,
          62,
          70,
          74,
          72,
          75,
          33,
          45,
          79,
          81,
          74,
          56,
          56,
          33,
          30,
          59,
          73,
          58,
          62,
          47,
          19,
          33,
          57,
          59,
          51,
          35,
          35,
          29,
          31,
          60,
          54,
          61,
          57,
          51,
          29,
          38,
          85,
          69,
          63,
          66,
          52,
          29,
          43,
          55,
          70,
          60,
          58,
          60,
          39,
          37,
          69,
          60,
          45,
          39,
          17,
          26,
          28,
          53,
          52,
          56,
          78,
          42,
          44,
          58,
          94,
          82,
          83,
          90,
          51,
          39,
          53,
          78,
          94,
          79,
          82,
          87,
          46,
          45,
          62,
          65,
          90,
          64,
          88,
          37,
          51,
          76,
          85,
          76,
          69,
          88,
          52,
          54,
          83,
          107,
          89,
          79,
          105,
          37,
          54,
          81,
          98,
          105,
          80,
          84,
          47,
          61,
          93,
          87,
          90,
          80,
          79,
          64,
          61,
          98,
          105,
          101,
          126,
          89,
          56,
          55,
          103,
          108,
          96,
          117,
          87,
          49,
          50,
          89,
          103,
          96,
          108,
          102,
          53,
          51,
          94,
          106,
          95,
          84,
          86,
          46,
          55,
          112,
          116,
          104,
          89,
          74,
          53,
          47,
          87,
          100,
          86,
          116,
          65,
          48,
          53,
          89,
          106,
          100,
          77,
          86,
          43,
          62,
          96,
          98,
          93,
          106,
          91,
          41,
          45,
          101,
          90,
          81,
          92,
          86,
          34,
          51,
          92,
          90,
          104,
          101,
          87,
          38,
          48,
          73,
          100,
          103,
          98,
          75,
          39,
          50,
          89,
          104,
          99,
          106,
          69,
          35,
          49,
          99,
          78,
          104,
          89,
          89,
          46,
          54,
          79,
          91,
          87,
          81,
          84,
          39,
          44,
          78,
          87,
          96,
          99,
          91,
          46,
          67,
          103,
          99,
          112,
          109,
          82,
          50,
          48,
          98,
          95,
          122,
          124,
          105,
          55,
          70,
          116,
          104,
          110,
          99,
          105,
          55,
          74,
          101,
          100,
          114,
          116,
          109,
          54,
          60,
          81,
          102,
          125,
          122,
          106,
          47,
          77,
          105,
          132,
          122,
          125,
          111,
          51,
          55,
          111,
          109,
          104,
          92,
          105,
          60,
          69,
          140,
          118,
          121,
          111,
          108,
          78,
          61,
          140,
          106,
          106,
          133,
          112,
          55,
          60,
          107,
          107,
          92,
          110,
          96,
          71,
          70,
          117,
          129,
          129,
          112,
          97,
          56,
          50,
          123,
          126,
          124,
          103,
          92,
          64,
          66,
          130,
          117,
          117,
          112,
          96,
          66,
          58,
          91,
          121,
          100,
          111,
          111,
          66,
          64,
          139,
          118,
          125,
          123,
          116,
          70,
          73,
          133,
          122,
          150,
          106,
          108,
          53,
          81,
          129,
          142,
          130,
          109,
          120,
          87,
          71,
          134,
          129,
          143,
          139,
          110,
          67,
          78,
          143,
          147,
          133,
          122,
          144,
          68,
          91,
          142,
          143,
          138,
          139,
          132,
          73,
          78,
          152,
          138,
          158,
          131,
          142,
          60,
          81,
          150,
          124,
          131,
          146,
          141,
          67,
          97,
          158,
          160,
          198,
          198,
          147,
          99,
          95,
          156,
          197,
          186,
          171,
          144,
          74,
          74,
          160,
          158,
          177,
          97,
          112,
          83,
          92,
          126,
          165,
          156,
          136,
          148,
          82,
          73,
          164,
          180,
          192,
          145,
          164,
          79,
          85,
          174,
          168,
          164,
          147,
          125,
          78,
          91,
          167,
          182,
          175,
          150,
          113,
          69,
          52,
          109,
          140,
          166,
          149,
          148,
          124,
          114,
          146,
          174,
          190,
          176,
          149,
          124,
          114,
          186,
          197,
          187,
          187,
          180,
          99,
          112,
          181,
          171,
          172,
          172,
          181,
          97,
          153,
          206,
          194,
          195,
          171,
          162,
          123,
          131,
          199,
          203,
          206,
          232,
          190,
          125,
          163,
          195,
          201,
          197,
          220,
          205,
          111,
          100,
          193,
          207,
          188,
          192,
          190,
          139,
          117,
          194,
          224,
          205,
          189,
          196,
          121,
          111,
          225,
          187,
          219,
          231,
          218,
          112,
          119,
          224,
          205,
          219,
          229,
          206,
          124,
          136,
          201,
          227,
          241,
          225,
          189,
          123,
          99,
          205,
          247,
          246,
          228,
          208,
          135,
          129,
          230,
          225,
          238,
          257,
          207,
          125,
          142,
          259,
          221,
          203,
          274,
          221,
          140,
          149,
          238,
          258,
          239,
          250,
          204,
          137,
          143,
          233,
          264,
          278,
          274,
          259,
          178,
          168,
          296,
          306,
          270,
          277,
          262,
          187,
          148,
          305,
          332,
          286,
          284,
          264,
          133,
          136,
          267,
          262,
          264,
          267,
          281,
          205,
          180,
          341,
          345,
          367,
          336,
          301,
          156,
          194,
          341,
          388,
          375,
          298,
          269,
          157,
          172,
          297,
          365,
          407,
          392,
          328,
          170,
          194,
          340,
          348,
          323,
          347,
          291,
          165,
          193,
          349,
          358,
          344,
          336,
          345,
          188,
          243,
          408,
          417,
          422,
          441,
          421,
          277,
          253
         ]
        }
       ],
       "layout": {
        "template": {
         "data": {
          "bar": [
           {
            "error_x": {
             "color": "#2a3f5f"
            },
            "error_y": {
             "color": "#2a3f5f"
            },
            "marker": {
             "line": {
              "color": "#E5ECF6",
              "width": 0.5
             }
            },
            "type": "bar"
           }
          ],
          "barpolar": [
           {
            "marker": {
             "line": {
              "color": "#E5ECF6",
              "width": 0.5
             }
            },
            "type": "barpolar"
           }
          ],
          "carpet": [
           {
            "aaxis": {
             "endlinecolor": "#2a3f5f",
             "gridcolor": "white",
             "linecolor": "white",
             "minorgridcolor": "white",
             "startlinecolor": "#2a3f5f"
            },
            "baxis": {
             "endlinecolor": "#2a3f5f",
             "gridcolor": "white",
             "linecolor": "white",
             "minorgridcolor": "white",
             "startlinecolor": "#2a3f5f"
            },
            "type": "carpet"
           }
          ],
          "choropleth": [
           {
            "colorbar": {
             "outlinewidth": 0,
             "ticks": ""
            },
            "type": "choropleth"
           }
          ],
          "contour": [
           {
            "colorbar": {
             "outlinewidth": 0,
             "ticks": ""
            },
            "colorscale": [
             [
              0,
              "#0d0887"
             ],
             [
              0.1111111111111111,
              "#46039f"
             ],
             [
              0.2222222222222222,
              "#7201a8"
             ],
             [
              0.3333333333333333,
              "#9c179e"
             ],
             [
              0.4444444444444444,
              "#bd3786"
             ],
             [
              0.5555555555555556,
              "#d8576b"
             ],
             [
              0.6666666666666666,
              "#ed7953"
             ],
             [
              0.7777777777777778,
              "#fb9f3a"
             ],
             [
              0.8888888888888888,
              "#fdca26"
             ],
             [
              1,
              "#f0f921"
             ]
            ],
            "type": "contour"
           }
          ],
          "contourcarpet": [
           {
            "colorbar": {
             "outlinewidth": 0,
             "ticks": ""
            },
            "type": "contourcarpet"
           }
          ],
          "heatmap": [
           {
            "colorbar": {
             "outlinewidth": 0,
             "ticks": ""
            },
            "colorscale": [
             [
              0,
              "#0d0887"
             ],
             [
              0.1111111111111111,
              "#46039f"
             ],
             [
              0.2222222222222222,
              "#7201a8"
             ],
             [
              0.3333333333333333,
              "#9c179e"
             ],
             [
              0.4444444444444444,
              "#bd3786"
             ],
             [
              0.5555555555555556,
              "#d8576b"
             ],
             [
              0.6666666666666666,
              "#ed7953"
             ],
             [
              0.7777777777777778,
              "#fb9f3a"
             ],
             [
              0.8888888888888888,
              "#fdca26"
             ],
             [
              1,
              "#f0f921"
             ]
            ],
            "type": "heatmap"
           }
          ],
          "heatmapgl": [
           {
            "colorbar": {
             "outlinewidth": 0,
             "ticks": ""
            },
            "colorscale": [
             [
              0,
              "#0d0887"
             ],
             [
              0.1111111111111111,
              "#46039f"
             ],
             [
              0.2222222222222222,
              "#7201a8"
             ],
             [
              0.3333333333333333,
              "#9c179e"
             ],
             [
              0.4444444444444444,
              "#bd3786"
             ],
             [
              0.5555555555555556,
              "#d8576b"
             ],
             [
              0.6666666666666666,
              "#ed7953"
             ],
             [
              0.7777777777777778,
              "#fb9f3a"
             ],
             [
              0.8888888888888888,
              "#fdca26"
             ],
             [
              1,
              "#f0f921"
             ]
            ],
            "type": "heatmapgl"
           }
          ],
          "histogram": [
           {
            "marker": {
             "colorbar": {
              "outlinewidth": 0,
              "ticks": ""
             }
            },
            "type": "histogram"
           }
          ],
          "histogram2d": [
           {
            "colorbar": {
             "outlinewidth": 0,
             "ticks": ""
            },
            "colorscale": [
             [
              0,
              "#0d0887"
             ],
             [
              0.1111111111111111,
              "#46039f"
             ],
             [
              0.2222222222222222,
              "#7201a8"
             ],
             [
              0.3333333333333333,
              "#9c179e"
             ],
             [
              0.4444444444444444,
              "#bd3786"
             ],
             [
              0.5555555555555556,
              "#d8576b"
             ],
             [
              0.6666666666666666,
              "#ed7953"
             ],
             [
              0.7777777777777778,
              "#fb9f3a"
             ],
             [
              0.8888888888888888,
              "#fdca26"
             ],
             [
              1,
              "#f0f921"
             ]
            ],
            "type": "histogram2d"
           }
          ],
          "histogram2dcontour": [
           {
            "colorbar": {
             "outlinewidth": 0,
             "ticks": ""
            },
            "colorscale": [
             [
              0,
              "#0d0887"
             ],
             [
              0.1111111111111111,
              "#46039f"
             ],
             [
              0.2222222222222222,
              "#7201a8"
             ],
             [
              0.3333333333333333,
              "#9c179e"
             ],
             [
              0.4444444444444444,
              "#bd3786"
             ],
             [
              0.5555555555555556,
              "#d8576b"
             ],
             [
              0.6666666666666666,
              "#ed7953"
             ],
             [
              0.7777777777777778,
              "#fb9f3a"
             ],
             [
              0.8888888888888888,
              "#fdca26"
             ],
             [
              1,
              "#f0f921"
             ]
            ],
            "type": "histogram2dcontour"
           }
          ],
          "mesh3d": [
           {
            "colorbar": {
             "outlinewidth": 0,
             "ticks": ""
            },
            "type": "mesh3d"
           }
          ],
          "parcoords": [
           {
            "line": {
             "colorbar": {
              "outlinewidth": 0,
              "ticks": ""
             }
            },
            "type": "parcoords"
           }
          ],
          "pie": [
           {
            "automargin": true,
            "type": "pie"
           }
          ],
          "scatter": [
           {
            "marker": {
             "colorbar": {
              "outlinewidth": 0,
              "ticks": ""
             }
            },
            "type": "scatter"
           }
          ],
          "scatter3d": [
           {
            "line": {
             "colorbar": {
              "outlinewidth": 0,
              "ticks": ""
             }
            },
            "marker": {
             "colorbar": {
              "outlinewidth": 0,
              "ticks": ""
             }
            },
            "type": "scatter3d"
           }
          ],
          "scattercarpet": [
           {
            "marker": {
             "colorbar": {
              "outlinewidth": 0,
              "ticks": ""
             }
            },
            "type": "scattercarpet"
           }
          ],
          "scattergeo": [
           {
            "marker": {
             "colorbar": {
              "outlinewidth": 0,
              "ticks": ""
             }
            },
            "type": "scattergeo"
           }
          ],
          "scattergl": [
           {
            "marker": {
             "colorbar": {
              "outlinewidth": 0,
              "ticks": ""
             }
            },
            "type": "scattergl"
           }
          ],
          "scattermapbox": [
           {
            "marker": {
             "colorbar": {
              "outlinewidth": 0,
              "ticks": ""
             }
            },
            "type": "scattermapbox"
           }
          ],
          "scatterpolar": [
           {
            "marker": {
             "colorbar": {
              "outlinewidth": 0,
              "ticks": ""
             }
            },
            "type": "scatterpolar"
           }
          ],
          "scatterpolargl": [
           {
            "marker": {
             "colorbar": {
              "outlinewidth": 0,
              "ticks": ""
             }
            },
            "type": "scatterpolargl"
           }
          ],
          "scatterternary": [
           {
            "marker": {
             "colorbar": {
              "outlinewidth": 0,
              "ticks": ""
             }
            },
            "type": "scatterternary"
           }
          ],
          "surface": [
           {
            "colorbar": {
             "outlinewidth": 0,
             "ticks": ""
            },
            "colorscale": [
             [
              0,
              "#0d0887"
             ],
             [
              0.1111111111111111,
              "#46039f"
             ],
             [
              0.2222222222222222,
              "#7201a8"
             ],
             [
              0.3333333333333333,
              "#9c179e"
             ],
             [
              0.4444444444444444,
              "#bd3786"
             ],
             [
              0.5555555555555556,
              "#d8576b"
             ],
             [
              0.6666666666666666,
              "#ed7953"
             ],
             [
              0.7777777777777778,
              "#fb9f3a"
             ],
             [
              0.8888888888888888,
              "#fdca26"
             ],
             [
              1,
              "#f0f921"
             ]
            ],
            "type": "surface"
           }
          ],
          "table": [
           {
            "cells": {
             "fill": {
              "color": "#EBF0F8"
             },
             "line": {
              "color": "white"
             }
            },
            "header": {
             "fill": {
              "color": "#C8D4E3"
             },
             "line": {
              "color": "white"
             }
            },
            "type": "table"
           }
          ]
         },
         "layout": {
          "annotationdefaults": {
           "arrowcolor": "#2a3f5f",
           "arrowhead": 0,
           "arrowwidth": 1
          },
          "autotypenumbers": "strict",
          "coloraxis": {
           "colorbar": {
            "outlinewidth": 0,
            "ticks": ""
           }
          },
          "colorscale": {
           "diverging": [
            [
             0,
             "#8e0152"
            ],
            [
             0.1,
             "#c51b7d"
            ],
            [
             0.2,
             "#de77ae"
            ],
            [
             0.3,
             "#f1b6da"
            ],
            [
             0.4,
             "#fde0ef"
            ],
            [
             0.5,
             "#f7f7f7"
            ],
            [
             0.6,
             "#e6f5d0"
            ],
            [
             0.7,
             "#b8e186"
            ],
            [
             0.8,
             "#7fbc41"
            ],
            [
             0.9,
             "#4d9221"
            ],
            [
             1,
             "#276419"
            ]
           ],
           "sequential": [
            [
             0,
             "#0d0887"
            ],
            [
             0.1111111111111111,
             "#46039f"
            ],
            [
             0.2222222222222222,
             "#7201a8"
            ],
            [
             0.3333333333333333,
             "#9c179e"
            ],
            [
             0.4444444444444444,
             "#bd3786"
            ],
            [
             0.5555555555555556,
             "#d8576b"
            ],
            [
             0.6666666666666666,
             "#ed7953"
            ],
            [
             0.7777777777777778,
             "#fb9f3a"
            ],
            [
             0.8888888888888888,
             "#fdca26"
            ],
            [
             1,
             "#f0f921"
            ]
           ],
           "sequentialminus": [
            [
             0,
             "#0d0887"
            ],
            [
             0.1111111111111111,
             "#46039f"
            ],
            [
             0.2222222222222222,
             "#7201a8"
            ],
            [
             0.3333333333333333,
             "#9c179e"
            ],
            [
             0.4444444444444444,
             "#bd3786"
            ],
            [
             0.5555555555555556,
             "#d8576b"
            ],
            [
             0.6666666666666666,
             "#ed7953"
            ],
            [
             0.7777777777777778,
             "#fb9f3a"
            ],
            [
             0.8888888888888888,
             "#fdca26"
            ],
            [
             1,
             "#f0f921"
            ]
           ]
          },
          "colorway": [
           "#636efa",
           "#EF553B",
           "#00cc96",
           "#ab63fa",
           "#FFA15A",
           "#19d3f3",
           "#FF6692",
           "#B6E880",
           "#FF97FF",
           "#FECB52"
          ],
          "font": {
           "color": "#2a3f5f"
          },
          "geo": {
           "bgcolor": "white",
           "lakecolor": "white",
           "landcolor": "#E5ECF6",
           "showlakes": true,
           "showland": true,
           "subunitcolor": "white"
          },
          "hoverlabel": {
           "align": "left"
          },
          "hovermode": "closest",
          "mapbox": {
           "style": "light"
          },
          "paper_bgcolor": "white",
          "plot_bgcolor": "#E5ECF6",
          "polar": {
           "angularaxis": {
            "gridcolor": "white",
            "linecolor": "white",
            "ticks": ""
           },
           "bgcolor": "#E5ECF6",
           "radialaxis": {
            "gridcolor": "white",
            "linecolor": "white",
            "ticks": ""
           }
          },
          "scene": {
           "xaxis": {
            "backgroundcolor": "#E5ECF6",
            "gridcolor": "white",
            "gridwidth": 2,
            "linecolor": "white",
            "showbackground": true,
            "ticks": "",
            "zerolinecolor": "white"
           },
           "yaxis": {
            "backgroundcolor": "#E5ECF6",
            "gridcolor": "white",
            "gridwidth": 2,
            "linecolor": "white",
            "showbackground": true,
            "ticks": "",
            "zerolinecolor": "white"
           },
           "zaxis": {
            "backgroundcolor": "#E5ECF6",
            "gridcolor": "white",
            "gridwidth": 2,
            "linecolor": "white",
            "showbackground": true,
            "ticks": "",
            "zerolinecolor": "white"
           }
          },
          "shapedefaults": {
           "line": {
            "color": "#2a3f5f"
           }
          },
          "ternary": {
           "aaxis": {
            "gridcolor": "white",
            "linecolor": "white",
            "ticks": ""
           },
           "baxis": {
            "gridcolor": "white",
            "linecolor": "white",
            "ticks": ""
           },
           "bgcolor": "#E5ECF6",
           "caxis": {
            "gridcolor": "white",
            "linecolor": "white",
            "ticks": ""
           }
          },
          "title": {
           "x": 0.05
          },
          "xaxis": {
           "automargin": true,
           "gridcolor": "white",
           "linecolor": "white",
           "ticks": "",
           "title": {
            "standoff": 15
           },
           "zerolinecolor": "white",
           "zerolinewidth": 2
          },
          "yaxis": {
           "automargin": true,
           "gridcolor": "white",
           "linecolor": "white",
           "ticks": "",
           "title": {
            "standoff": 15
           },
           "zerolinecolor": "white",
           "zerolinewidth": 2
          }
         }
        },
        "title": {
         "text": "Posts on Medium (daily)"
        }
       }
      },
      "text/html": [
       "<div>                            <div id=\"1f2f0745-d178-4be0-b9b9-978938064cff\" class=\"plotly-graph-div\" style=\"height:525px; width:100%;\"></div>            <script type=\"text/javascript\">                require([\"plotly\"], function(Plotly) {                    window.PLOTLYENV=window.PLOTLYENV || {};                                    if (document.getElementById(\"1f2f0745-d178-4be0-b9b9-978938064cff\")) {                    Plotly.newPlot(                        \"1f2f0745-d178-4be0-b9b9-978938064cff\",                        [{\"mode\": \"lines\", \"name\": \"posts\", \"type\": \"scatter\", \"x\": [\"2012-08-15T00:00:00+00:00\", \"2012-08-16T00:00:00+00:00\", \"2012-08-17T00:00:00+00:00\", \"2012-08-18T00:00:00+00:00\", \"2012-08-19T00:00:00+00:00\", \"2012-08-20T00:00:00+00:00\", \"2012-08-21T00:00:00+00:00\", \"2012-08-22T00:00:00+00:00\", \"2012-08-23T00:00:00+00:00\", \"2012-08-24T00:00:00+00:00\", \"2012-08-25T00:00:00+00:00\", \"2012-08-26T00:00:00+00:00\", \"2012-08-27T00:00:00+00:00\", \"2012-08-28T00:00:00+00:00\", \"2012-08-29T00:00:00+00:00\", \"2012-08-30T00:00:00+00:00\", \"2012-08-31T00:00:00+00:00\", \"2012-09-01T00:00:00+00:00\", \"2012-09-02T00:00:00+00:00\", \"2012-09-03T00:00:00+00:00\", \"2012-09-04T00:00:00+00:00\", \"2012-09-05T00:00:00+00:00\", \"2012-09-06T00:00:00+00:00\", \"2012-09-07T00:00:00+00:00\", \"2012-09-08T00:00:00+00:00\", \"2012-09-09T00:00:00+00:00\", \"2012-09-10T00:00:00+00:00\", \"2012-09-11T00:00:00+00:00\", \"2012-09-12T00:00:00+00:00\", \"2012-09-13T00:00:00+00:00\", \"2012-09-14T00:00:00+00:00\", \"2012-09-15T00:00:00+00:00\", \"2012-09-16T00:00:00+00:00\", \"2012-09-17T00:00:00+00:00\", \"2012-09-18T00:00:00+00:00\", \"2012-09-19T00:00:00+00:00\", \"2012-09-20T00:00:00+00:00\", \"2012-09-21T00:00:00+00:00\", \"2012-09-22T00:00:00+00:00\", \"2012-09-23T00:00:00+00:00\", \"2012-09-24T00:00:00+00:00\", \"2012-09-25T00:00:00+00:00\", \"2012-09-26T00:00:00+00:00\", \"2012-09-27T00:00:00+00:00\", \"2012-09-28T00:00:00+00:00\", \"2012-09-29T00:00:00+00:00\", \"2012-09-30T00:00:00+00:00\", \"2012-10-01T00:00:00+00:00\", \"2012-10-02T00:00:00+00:00\", \"2012-10-03T00:00:00+00:00\", \"2012-10-04T00:00:00+00:00\", \"2012-10-05T00:00:00+00:00\", \"2012-10-06T00:00:00+00:00\", \"2012-10-07T00:00:00+00:00\", \"2012-10-08T00:00:00+00:00\", \"2012-10-09T00:00:00+00:00\", \"2012-10-10T00:00:00+00:00\", \"2012-10-11T00:00:00+00:00\", \"2012-10-12T00:00:00+00:00\", \"2012-10-13T00:00:00+00:00\", \"2012-10-14T00:00:00+00:00\", \"2012-10-15T00:00:00+00:00\", \"2012-10-16T00:00:00+00:00\", \"2012-10-17T00:00:00+00:00\", \"2012-10-18T00:00:00+00:00\", \"2012-10-19T00:00:00+00:00\", \"2012-10-20T00:00:00+00:00\", \"2012-10-21T00:00:00+00:00\", \"2012-10-22T00:00:00+00:00\", \"2012-10-23T00:00:00+00:00\", \"2012-10-24T00:00:00+00:00\", \"2012-10-25T00:00:00+00:00\", \"2012-10-26T00:00:00+00:00\", \"2012-10-27T00:00:00+00:00\", \"2012-10-28T00:00:00+00:00\", \"2012-10-29T00:00:00+00:00\", \"2012-10-30T00:00:00+00:00\", \"2012-10-31T00:00:00+00:00\", \"2012-11-01T00:00:00+00:00\", \"2012-11-02T00:00:00+00:00\", \"2012-11-03T00:00:00+00:00\", \"2012-11-04T00:00:00+00:00\", \"2012-11-05T00:00:00+00:00\", \"2012-11-06T00:00:00+00:00\", \"2012-11-07T00:00:00+00:00\", \"2012-11-08T00:00:00+00:00\", \"2012-11-09T00:00:00+00:00\", \"2012-11-10T00:00:00+00:00\", \"2012-11-11T00:00:00+00:00\", \"2012-11-12T00:00:00+00:00\", \"2012-11-13T00:00:00+00:00\", \"2012-11-14T00:00:00+00:00\", \"2012-11-15T00:00:00+00:00\", \"2012-11-16T00:00:00+00:00\", \"2012-11-17T00:00:00+00:00\", \"2012-11-18T00:00:00+00:00\", \"2012-11-19T00:00:00+00:00\", \"2012-11-20T00:00:00+00:00\", \"2012-11-21T00:00:00+00:00\", \"2012-11-22T00:00:00+00:00\", \"2012-11-23T00:00:00+00:00\", \"2012-11-24T00:00:00+00:00\", \"2012-11-25T00:00:00+00:00\", \"2012-11-26T00:00:00+00:00\", \"2012-11-27T00:00:00+00:00\", \"2012-11-28T00:00:00+00:00\", \"2012-11-29T00:00:00+00:00\", \"2012-11-30T00:00:00+00:00\", \"2012-12-01T00:00:00+00:00\", \"2012-12-02T00:00:00+00:00\", \"2012-12-03T00:00:00+00:00\", \"2012-12-04T00:00:00+00:00\", \"2012-12-05T00:00:00+00:00\", \"2012-12-06T00:00:00+00:00\", \"2012-12-07T00:00:00+00:00\", \"2012-12-08T00:00:00+00:00\", \"2012-12-09T00:00:00+00:00\", \"2012-12-10T00:00:00+00:00\", \"2012-12-11T00:00:00+00:00\", \"2012-12-12T00:00:00+00:00\", \"2012-12-13T00:00:00+00:00\", \"2012-12-14T00:00:00+00:00\", \"2012-12-15T00:00:00+00:00\", \"2012-12-16T00:00:00+00:00\", \"2012-12-17T00:00:00+00:00\", \"2012-12-18T00:00:00+00:00\", \"2012-12-19T00:00:00+00:00\", \"2012-12-20T00:00:00+00:00\", \"2012-12-21T00:00:00+00:00\", \"2012-12-22T00:00:00+00:00\", \"2012-12-23T00:00:00+00:00\", \"2012-12-24T00:00:00+00:00\", \"2012-12-25T00:00:00+00:00\", \"2012-12-26T00:00:00+00:00\", \"2012-12-27T00:00:00+00:00\", \"2012-12-28T00:00:00+00:00\", \"2012-12-29T00:00:00+00:00\", \"2012-12-30T00:00:00+00:00\", \"2012-12-31T00:00:00+00:00\", \"2013-01-01T00:00:00+00:00\", \"2013-01-02T00:00:00+00:00\", \"2013-01-03T00:00:00+00:00\", \"2013-01-04T00:00:00+00:00\", \"2013-01-05T00:00:00+00:00\", \"2013-01-06T00:00:00+00:00\", \"2013-01-07T00:00:00+00:00\", \"2013-01-08T00:00:00+00:00\", \"2013-01-09T00:00:00+00:00\", \"2013-01-10T00:00:00+00:00\", \"2013-01-11T00:00:00+00:00\", \"2013-01-12T00:00:00+00:00\", \"2013-01-13T00:00:00+00:00\", \"2013-01-14T00:00:00+00:00\", \"2013-01-15T00:00:00+00:00\", \"2013-01-16T00:00:00+00:00\", \"2013-01-17T00:00:00+00:00\", \"2013-01-18T00:00:00+00:00\", \"2013-01-19T00:00:00+00:00\", \"2013-01-20T00:00:00+00:00\", \"2013-01-21T00:00:00+00:00\", \"2013-01-22T00:00:00+00:00\", \"2013-01-23T00:00:00+00:00\", \"2013-01-24T00:00:00+00:00\", \"2013-01-25T00:00:00+00:00\", \"2013-01-26T00:00:00+00:00\", \"2013-01-27T00:00:00+00:00\", \"2013-01-28T00:00:00+00:00\", \"2013-01-29T00:00:00+00:00\", \"2013-01-30T00:00:00+00:00\", \"2013-01-31T00:00:00+00:00\", \"2013-02-01T00:00:00+00:00\", \"2013-02-02T00:00:00+00:00\", \"2013-02-03T00:00:00+00:00\", \"2013-02-04T00:00:00+00:00\", \"2013-02-05T00:00:00+00:00\", \"2013-02-06T00:00:00+00:00\", \"2013-02-07T00:00:00+00:00\", \"2013-02-08T00:00:00+00:00\", \"2013-02-09T00:00:00+00:00\", \"2013-02-10T00:00:00+00:00\", \"2013-02-11T00:00:00+00:00\", \"2013-02-12T00:00:00+00:00\", \"2013-02-13T00:00:00+00:00\", \"2013-02-14T00:00:00+00:00\", \"2013-02-15T00:00:00+00:00\", \"2013-02-16T00:00:00+00:00\", \"2013-02-17T00:00:00+00:00\", \"2013-02-18T00:00:00+00:00\", \"2013-02-19T00:00:00+00:00\", \"2013-02-20T00:00:00+00:00\", \"2013-02-21T00:00:00+00:00\", \"2013-02-22T00:00:00+00:00\", \"2013-02-23T00:00:00+00:00\", \"2013-02-24T00:00:00+00:00\", \"2013-02-25T00:00:00+00:00\", \"2013-02-26T00:00:00+00:00\", \"2013-02-27T00:00:00+00:00\", \"2013-02-28T00:00:00+00:00\", \"2013-03-01T00:00:00+00:00\", \"2013-03-02T00:00:00+00:00\", \"2013-03-03T00:00:00+00:00\", \"2013-03-04T00:00:00+00:00\", \"2013-03-05T00:00:00+00:00\", \"2013-03-06T00:00:00+00:00\", \"2013-03-07T00:00:00+00:00\", \"2013-03-08T00:00:00+00:00\", \"2013-03-09T00:00:00+00:00\", \"2013-03-10T00:00:00+00:00\", \"2013-03-11T00:00:00+00:00\", \"2013-03-12T00:00:00+00:00\", \"2013-03-13T00:00:00+00:00\", \"2013-03-14T00:00:00+00:00\", \"2013-03-15T00:00:00+00:00\", \"2013-03-16T00:00:00+00:00\", \"2013-03-17T00:00:00+00:00\", \"2013-03-18T00:00:00+00:00\", \"2013-03-19T00:00:00+00:00\", \"2013-03-20T00:00:00+00:00\", \"2013-03-21T00:00:00+00:00\", \"2013-03-22T00:00:00+00:00\", \"2013-03-23T00:00:00+00:00\", \"2013-03-24T00:00:00+00:00\", \"2013-03-25T00:00:00+00:00\", \"2013-03-26T00:00:00+00:00\", \"2013-03-27T00:00:00+00:00\", \"2013-03-28T00:00:00+00:00\", \"2013-03-29T00:00:00+00:00\", \"2013-03-30T00:00:00+00:00\", \"2013-03-31T00:00:00+00:00\", \"2013-04-01T00:00:00+00:00\", \"2013-04-02T00:00:00+00:00\", \"2013-04-03T00:00:00+00:00\", \"2013-04-04T00:00:00+00:00\", \"2013-04-05T00:00:00+00:00\", \"2013-04-06T00:00:00+00:00\", \"2013-04-07T00:00:00+00:00\", \"2013-04-08T00:00:00+00:00\", \"2013-04-09T00:00:00+00:00\", \"2013-04-10T00:00:00+00:00\", \"2013-04-11T00:00:00+00:00\", \"2013-04-12T00:00:00+00:00\", \"2013-04-13T00:00:00+00:00\", \"2013-04-14T00:00:00+00:00\", \"2013-04-15T00:00:00+00:00\", \"2013-04-16T00:00:00+00:00\", \"2013-04-17T00:00:00+00:00\", \"2013-04-18T00:00:00+00:00\", \"2013-04-19T00:00:00+00:00\", \"2013-04-20T00:00:00+00:00\", \"2013-04-21T00:00:00+00:00\", \"2013-04-22T00:00:00+00:00\", \"2013-04-23T00:00:00+00:00\", \"2013-04-24T00:00:00+00:00\", \"2013-04-25T00:00:00+00:00\", \"2013-04-26T00:00:00+00:00\", \"2013-04-27T00:00:00+00:00\", \"2013-04-28T00:00:00+00:00\", \"2013-04-29T00:00:00+00:00\", \"2013-04-30T00:00:00+00:00\", \"2013-05-01T00:00:00+00:00\", \"2013-05-02T00:00:00+00:00\", \"2013-05-03T00:00:00+00:00\", \"2013-05-04T00:00:00+00:00\", \"2013-05-05T00:00:00+00:00\", \"2013-05-06T00:00:00+00:00\", \"2013-05-07T00:00:00+00:00\", \"2013-05-08T00:00:00+00:00\", \"2013-05-09T00:00:00+00:00\", \"2013-05-10T00:00:00+00:00\", \"2013-05-11T00:00:00+00:00\", \"2013-05-12T00:00:00+00:00\", \"2013-05-13T00:00:00+00:00\", \"2013-05-14T00:00:00+00:00\", \"2013-05-15T00:00:00+00:00\", \"2013-05-16T00:00:00+00:00\", \"2013-05-17T00:00:00+00:00\", \"2013-05-18T00:00:00+00:00\", \"2013-05-19T00:00:00+00:00\", \"2013-05-20T00:00:00+00:00\", \"2013-05-21T00:00:00+00:00\", \"2013-05-22T00:00:00+00:00\", \"2013-05-23T00:00:00+00:00\", \"2013-05-24T00:00:00+00:00\", \"2013-05-25T00:00:00+00:00\", \"2013-05-26T00:00:00+00:00\", \"2013-05-27T00:00:00+00:00\", \"2013-05-28T00:00:00+00:00\", \"2013-05-29T00:00:00+00:00\", \"2013-05-30T00:00:00+00:00\", \"2013-05-31T00:00:00+00:00\", \"2013-06-01T00:00:00+00:00\", \"2013-06-02T00:00:00+00:00\", \"2013-06-03T00:00:00+00:00\", \"2013-06-04T00:00:00+00:00\", \"2013-06-05T00:00:00+00:00\", \"2013-06-06T00:00:00+00:00\", \"2013-06-07T00:00:00+00:00\", \"2013-06-08T00:00:00+00:00\", \"2013-06-09T00:00:00+00:00\", \"2013-06-10T00:00:00+00:00\", \"2013-06-11T00:00:00+00:00\", \"2013-06-12T00:00:00+00:00\", \"2013-06-13T00:00:00+00:00\", \"2013-06-14T00:00:00+00:00\", \"2013-06-15T00:00:00+00:00\", \"2013-06-16T00:00:00+00:00\", \"2013-06-17T00:00:00+00:00\", \"2013-06-18T00:00:00+00:00\", \"2013-06-19T00:00:00+00:00\", \"2013-06-20T00:00:00+00:00\", \"2013-06-21T00:00:00+00:00\", \"2013-06-22T00:00:00+00:00\", \"2013-06-23T00:00:00+00:00\", \"2013-06-24T00:00:00+00:00\", \"2013-06-25T00:00:00+00:00\", \"2013-06-26T00:00:00+00:00\", \"2013-06-27T00:00:00+00:00\", \"2013-06-28T00:00:00+00:00\", \"2013-06-29T00:00:00+00:00\", \"2013-06-30T00:00:00+00:00\", \"2013-07-01T00:00:00+00:00\", \"2013-07-02T00:00:00+00:00\", \"2013-07-03T00:00:00+00:00\", \"2013-07-04T00:00:00+00:00\", \"2013-07-05T00:00:00+00:00\", \"2013-07-06T00:00:00+00:00\", \"2013-07-07T00:00:00+00:00\", \"2013-07-08T00:00:00+00:00\", \"2013-07-09T00:00:00+00:00\", \"2013-07-10T00:00:00+00:00\", \"2013-07-11T00:00:00+00:00\", \"2013-07-12T00:00:00+00:00\", \"2013-07-13T00:00:00+00:00\", \"2013-07-14T00:00:00+00:00\", \"2013-07-15T00:00:00+00:00\", \"2013-07-16T00:00:00+00:00\", \"2013-07-17T00:00:00+00:00\", \"2013-07-18T00:00:00+00:00\", \"2013-07-19T00:00:00+00:00\", \"2013-07-20T00:00:00+00:00\", \"2013-07-21T00:00:00+00:00\", \"2013-07-22T00:00:00+00:00\", \"2013-07-23T00:00:00+00:00\", \"2013-07-24T00:00:00+00:00\", \"2013-07-25T00:00:00+00:00\", \"2013-07-26T00:00:00+00:00\", \"2013-07-27T00:00:00+00:00\", \"2013-07-28T00:00:00+00:00\", \"2013-07-29T00:00:00+00:00\", \"2013-07-30T00:00:00+00:00\", \"2013-07-31T00:00:00+00:00\", \"2013-08-01T00:00:00+00:00\", \"2013-08-02T00:00:00+00:00\", \"2013-08-03T00:00:00+00:00\", \"2013-08-04T00:00:00+00:00\", \"2013-08-05T00:00:00+00:00\", \"2013-08-06T00:00:00+00:00\", \"2013-08-07T00:00:00+00:00\", \"2013-08-08T00:00:00+00:00\", \"2013-08-09T00:00:00+00:00\", \"2013-08-10T00:00:00+00:00\", \"2013-08-11T00:00:00+00:00\", \"2013-08-12T00:00:00+00:00\", \"2013-08-13T00:00:00+00:00\", \"2013-08-14T00:00:00+00:00\", \"2013-08-15T00:00:00+00:00\", \"2013-08-16T00:00:00+00:00\", \"2013-08-17T00:00:00+00:00\", \"2013-08-18T00:00:00+00:00\", \"2013-08-19T00:00:00+00:00\", \"2013-08-20T00:00:00+00:00\", \"2013-08-21T00:00:00+00:00\", \"2013-08-22T00:00:00+00:00\", \"2013-08-23T00:00:00+00:00\", \"2013-08-24T00:00:00+00:00\", \"2013-08-25T00:00:00+00:00\", \"2013-08-26T00:00:00+00:00\", \"2013-08-27T00:00:00+00:00\", \"2013-08-28T00:00:00+00:00\", \"2013-08-29T00:00:00+00:00\", \"2013-08-30T00:00:00+00:00\", \"2013-08-31T00:00:00+00:00\", \"2013-09-01T00:00:00+00:00\", \"2013-09-02T00:00:00+00:00\", \"2013-09-03T00:00:00+00:00\", \"2013-09-04T00:00:00+00:00\", \"2013-09-05T00:00:00+00:00\", \"2013-09-06T00:00:00+00:00\", \"2013-09-07T00:00:00+00:00\", \"2013-09-08T00:00:00+00:00\", \"2013-09-09T00:00:00+00:00\", \"2013-09-10T00:00:00+00:00\", \"2013-09-11T00:00:00+00:00\", \"2013-09-12T00:00:00+00:00\", \"2013-09-13T00:00:00+00:00\", \"2013-09-14T00:00:00+00:00\", \"2013-09-15T00:00:00+00:00\", \"2013-09-16T00:00:00+00:00\", \"2013-09-17T00:00:00+00:00\", \"2013-09-18T00:00:00+00:00\", \"2013-09-19T00:00:00+00:00\", \"2013-09-20T00:00:00+00:00\", \"2013-09-21T00:00:00+00:00\", \"2013-09-22T00:00:00+00:00\", \"2013-09-23T00:00:00+00:00\", \"2013-09-24T00:00:00+00:00\", \"2013-09-25T00:00:00+00:00\", \"2013-09-26T00:00:00+00:00\", \"2013-09-27T00:00:00+00:00\", \"2013-09-28T00:00:00+00:00\", \"2013-09-29T00:00:00+00:00\", \"2013-09-30T00:00:00+00:00\", \"2013-10-01T00:00:00+00:00\", \"2013-10-02T00:00:00+00:00\", \"2013-10-03T00:00:00+00:00\", \"2013-10-04T00:00:00+00:00\", \"2013-10-05T00:00:00+00:00\", \"2013-10-06T00:00:00+00:00\", \"2013-10-07T00:00:00+00:00\", \"2013-10-08T00:00:00+00:00\", \"2013-10-09T00:00:00+00:00\", \"2013-10-10T00:00:00+00:00\", \"2013-10-11T00:00:00+00:00\", \"2013-10-12T00:00:00+00:00\", \"2013-10-13T00:00:00+00:00\", \"2013-10-14T00:00:00+00:00\", \"2013-10-15T00:00:00+00:00\", \"2013-10-16T00:00:00+00:00\", \"2013-10-17T00:00:00+00:00\", \"2013-10-18T00:00:00+00:00\", \"2013-10-19T00:00:00+00:00\", \"2013-10-20T00:00:00+00:00\", \"2013-10-21T00:00:00+00:00\", \"2013-10-22T00:00:00+00:00\", \"2013-10-23T00:00:00+00:00\", \"2013-10-24T00:00:00+00:00\", \"2013-10-25T00:00:00+00:00\", \"2013-10-26T00:00:00+00:00\", \"2013-10-27T00:00:00+00:00\", \"2013-10-28T00:00:00+00:00\", \"2013-10-29T00:00:00+00:00\", \"2013-10-30T00:00:00+00:00\", \"2013-10-31T00:00:00+00:00\", \"2013-11-01T00:00:00+00:00\", \"2013-11-02T00:00:00+00:00\", \"2013-11-03T00:00:00+00:00\", \"2013-11-04T00:00:00+00:00\", \"2013-11-05T00:00:00+00:00\", \"2013-11-06T00:00:00+00:00\", \"2013-11-07T00:00:00+00:00\", \"2013-11-08T00:00:00+00:00\", \"2013-11-09T00:00:00+00:00\", \"2013-11-10T00:00:00+00:00\", \"2013-11-11T00:00:00+00:00\", \"2013-11-12T00:00:00+00:00\", \"2013-11-13T00:00:00+00:00\", \"2013-11-14T00:00:00+00:00\", \"2013-11-15T00:00:00+00:00\", \"2013-11-16T00:00:00+00:00\", \"2013-11-17T00:00:00+00:00\", \"2013-11-18T00:00:00+00:00\", \"2013-11-19T00:00:00+00:00\", \"2013-11-20T00:00:00+00:00\", \"2013-11-21T00:00:00+00:00\", \"2013-11-22T00:00:00+00:00\", \"2013-11-23T00:00:00+00:00\", \"2013-11-24T00:00:00+00:00\", \"2013-11-25T00:00:00+00:00\", \"2013-11-26T00:00:00+00:00\", \"2013-11-27T00:00:00+00:00\", \"2013-11-28T00:00:00+00:00\", \"2013-11-29T00:00:00+00:00\", \"2013-11-30T00:00:00+00:00\", \"2013-12-01T00:00:00+00:00\", \"2013-12-02T00:00:00+00:00\", \"2013-12-03T00:00:00+00:00\", \"2013-12-04T00:00:00+00:00\", \"2013-12-05T00:00:00+00:00\", \"2013-12-06T00:00:00+00:00\", \"2013-12-07T00:00:00+00:00\", \"2013-12-08T00:00:00+00:00\", \"2013-12-09T00:00:00+00:00\", \"2013-12-10T00:00:00+00:00\", \"2013-12-11T00:00:00+00:00\", \"2013-12-12T00:00:00+00:00\", \"2013-12-13T00:00:00+00:00\", \"2013-12-14T00:00:00+00:00\", \"2013-12-15T00:00:00+00:00\", \"2013-12-16T00:00:00+00:00\", \"2013-12-17T00:00:00+00:00\", \"2013-12-18T00:00:00+00:00\", \"2013-12-19T00:00:00+00:00\", \"2013-12-20T00:00:00+00:00\", \"2013-12-21T00:00:00+00:00\", \"2013-12-22T00:00:00+00:00\", \"2013-12-23T00:00:00+00:00\", \"2013-12-24T00:00:00+00:00\", \"2013-12-25T00:00:00+00:00\", \"2013-12-26T00:00:00+00:00\", \"2013-12-27T00:00:00+00:00\", \"2013-12-28T00:00:00+00:00\", \"2013-12-29T00:00:00+00:00\", \"2013-12-30T00:00:00+00:00\", \"2013-12-31T00:00:00+00:00\", \"2014-01-01T00:00:00+00:00\", \"2014-01-02T00:00:00+00:00\", \"2014-01-03T00:00:00+00:00\", \"2014-01-04T00:00:00+00:00\", \"2014-01-05T00:00:00+00:00\", \"2014-01-06T00:00:00+00:00\", \"2014-01-07T00:00:00+00:00\", \"2014-01-08T00:00:00+00:00\", \"2014-01-09T00:00:00+00:00\", \"2014-01-10T00:00:00+00:00\", \"2014-01-11T00:00:00+00:00\", \"2014-01-12T00:00:00+00:00\", \"2014-01-13T00:00:00+00:00\", \"2014-01-14T00:00:00+00:00\", \"2014-01-15T00:00:00+00:00\", \"2014-01-16T00:00:00+00:00\", \"2014-01-17T00:00:00+00:00\", \"2014-01-18T00:00:00+00:00\", \"2014-01-19T00:00:00+00:00\", \"2014-01-20T00:00:00+00:00\", \"2014-01-21T00:00:00+00:00\", \"2014-01-22T00:00:00+00:00\", \"2014-01-23T00:00:00+00:00\", \"2014-01-24T00:00:00+00:00\", \"2014-01-25T00:00:00+00:00\", \"2014-01-26T00:00:00+00:00\", \"2014-01-27T00:00:00+00:00\", \"2014-01-28T00:00:00+00:00\", \"2014-01-29T00:00:00+00:00\", \"2014-01-30T00:00:00+00:00\", \"2014-01-31T00:00:00+00:00\", \"2014-02-01T00:00:00+00:00\", \"2014-02-02T00:00:00+00:00\", \"2014-02-03T00:00:00+00:00\", \"2014-02-04T00:00:00+00:00\", \"2014-02-05T00:00:00+00:00\", \"2014-02-06T00:00:00+00:00\", \"2014-02-07T00:00:00+00:00\", \"2014-02-08T00:00:00+00:00\", \"2014-02-09T00:00:00+00:00\", \"2014-02-10T00:00:00+00:00\", \"2014-02-11T00:00:00+00:00\", \"2014-02-12T00:00:00+00:00\", \"2014-02-13T00:00:00+00:00\", \"2014-02-14T00:00:00+00:00\", \"2014-02-15T00:00:00+00:00\", \"2014-02-16T00:00:00+00:00\", \"2014-02-17T00:00:00+00:00\", \"2014-02-18T00:00:00+00:00\", \"2014-02-19T00:00:00+00:00\", \"2014-02-20T00:00:00+00:00\", \"2014-02-21T00:00:00+00:00\", \"2014-02-22T00:00:00+00:00\", \"2014-02-23T00:00:00+00:00\", \"2014-02-24T00:00:00+00:00\", \"2014-02-25T00:00:00+00:00\", \"2014-02-26T00:00:00+00:00\", \"2014-02-27T00:00:00+00:00\", \"2014-02-28T00:00:00+00:00\", \"2014-03-01T00:00:00+00:00\", \"2014-03-02T00:00:00+00:00\", \"2014-03-03T00:00:00+00:00\", \"2014-03-04T00:00:00+00:00\", \"2014-03-05T00:00:00+00:00\", \"2014-03-06T00:00:00+00:00\", \"2014-03-07T00:00:00+00:00\", \"2014-03-08T00:00:00+00:00\", \"2014-03-09T00:00:00+00:00\", \"2014-03-10T00:00:00+00:00\", \"2014-03-11T00:00:00+00:00\", \"2014-03-12T00:00:00+00:00\", \"2014-03-13T00:00:00+00:00\", \"2014-03-14T00:00:00+00:00\", \"2014-03-15T00:00:00+00:00\", \"2014-03-16T00:00:00+00:00\", \"2014-03-17T00:00:00+00:00\", \"2014-03-18T00:00:00+00:00\", \"2014-03-19T00:00:00+00:00\", \"2014-03-20T00:00:00+00:00\", \"2014-03-21T00:00:00+00:00\", \"2014-03-22T00:00:00+00:00\", \"2014-03-23T00:00:00+00:00\", \"2014-03-24T00:00:00+00:00\", \"2014-03-25T00:00:00+00:00\", \"2014-03-26T00:00:00+00:00\", \"2014-03-27T00:00:00+00:00\", \"2014-03-28T00:00:00+00:00\", \"2014-03-29T00:00:00+00:00\", \"2014-03-30T00:00:00+00:00\", \"2014-03-31T00:00:00+00:00\", \"2014-04-01T00:00:00+00:00\", \"2014-04-02T00:00:00+00:00\", \"2014-04-03T00:00:00+00:00\", \"2014-04-04T00:00:00+00:00\", \"2014-04-05T00:00:00+00:00\", \"2014-04-06T00:00:00+00:00\", \"2014-04-07T00:00:00+00:00\", \"2014-04-08T00:00:00+00:00\", \"2014-04-09T00:00:00+00:00\", \"2014-04-10T00:00:00+00:00\", \"2014-04-11T00:00:00+00:00\", \"2014-04-12T00:00:00+00:00\", \"2014-04-13T00:00:00+00:00\", \"2014-04-14T00:00:00+00:00\", \"2014-04-15T00:00:00+00:00\", \"2014-04-16T00:00:00+00:00\", \"2014-04-17T00:00:00+00:00\", \"2014-04-18T00:00:00+00:00\", \"2014-04-19T00:00:00+00:00\", \"2014-04-20T00:00:00+00:00\", \"2014-04-21T00:00:00+00:00\", \"2014-04-22T00:00:00+00:00\", \"2014-04-23T00:00:00+00:00\", \"2014-04-24T00:00:00+00:00\", \"2014-04-25T00:00:00+00:00\", \"2014-04-26T00:00:00+00:00\", \"2014-04-27T00:00:00+00:00\", \"2014-04-28T00:00:00+00:00\", \"2014-04-29T00:00:00+00:00\", \"2014-04-30T00:00:00+00:00\", \"2014-05-01T00:00:00+00:00\", \"2014-05-02T00:00:00+00:00\", \"2014-05-03T00:00:00+00:00\", \"2014-05-04T00:00:00+00:00\", \"2014-05-05T00:00:00+00:00\", \"2014-05-06T00:00:00+00:00\", \"2014-05-07T00:00:00+00:00\", \"2014-05-08T00:00:00+00:00\", \"2014-05-09T00:00:00+00:00\", \"2014-05-10T00:00:00+00:00\", \"2014-05-11T00:00:00+00:00\", \"2014-05-12T00:00:00+00:00\", \"2014-05-13T00:00:00+00:00\", \"2014-05-14T00:00:00+00:00\", \"2014-05-15T00:00:00+00:00\", \"2014-05-16T00:00:00+00:00\", \"2014-05-17T00:00:00+00:00\", \"2014-05-18T00:00:00+00:00\", \"2014-05-19T00:00:00+00:00\", \"2014-05-20T00:00:00+00:00\", \"2014-05-21T00:00:00+00:00\", \"2014-05-22T00:00:00+00:00\", \"2014-05-23T00:00:00+00:00\", \"2014-05-24T00:00:00+00:00\", \"2014-05-25T00:00:00+00:00\", \"2014-05-26T00:00:00+00:00\", \"2014-05-27T00:00:00+00:00\", \"2014-05-28T00:00:00+00:00\", \"2014-05-29T00:00:00+00:00\", \"2014-05-30T00:00:00+00:00\", \"2014-05-31T00:00:00+00:00\", \"2014-06-01T00:00:00+00:00\", \"2014-06-02T00:00:00+00:00\", \"2014-06-03T00:00:00+00:00\", \"2014-06-04T00:00:00+00:00\", \"2014-06-05T00:00:00+00:00\", \"2014-06-06T00:00:00+00:00\", \"2014-06-07T00:00:00+00:00\", \"2014-06-08T00:00:00+00:00\", \"2014-06-09T00:00:00+00:00\", \"2014-06-10T00:00:00+00:00\", \"2014-06-11T00:00:00+00:00\", \"2014-06-12T00:00:00+00:00\", \"2014-06-13T00:00:00+00:00\", \"2014-06-14T00:00:00+00:00\", \"2014-06-15T00:00:00+00:00\", \"2014-06-16T00:00:00+00:00\", \"2014-06-17T00:00:00+00:00\", \"2014-06-18T00:00:00+00:00\", \"2014-06-19T00:00:00+00:00\", \"2014-06-20T00:00:00+00:00\", \"2014-06-21T00:00:00+00:00\", \"2014-06-22T00:00:00+00:00\", \"2014-06-23T00:00:00+00:00\", \"2014-06-24T00:00:00+00:00\", \"2014-06-25T00:00:00+00:00\", \"2014-06-26T00:00:00+00:00\", \"2014-06-27T00:00:00+00:00\", \"2014-06-28T00:00:00+00:00\", \"2014-06-29T00:00:00+00:00\", \"2014-06-30T00:00:00+00:00\", \"2014-07-01T00:00:00+00:00\", \"2014-07-02T00:00:00+00:00\", \"2014-07-03T00:00:00+00:00\", \"2014-07-04T00:00:00+00:00\", \"2014-07-05T00:00:00+00:00\", \"2014-07-06T00:00:00+00:00\", \"2014-07-07T00:00:00+00:00\", \"2014-07-08T00:00:00+00:00\", \"2014-07-09T00:00:00+00:00\", \"2014-07-10T00:00:00+00:00\", \"2014-07-11T00:00:00+00:00\", \"2014-07-12T00:00:00+00:00\", \"2014-07-13T00:00:00+00:00\", \"2014-07-14T00:00:00+00:00\", \"2014-07-15T00:00:00+00:00\", \"2014-07-16T00:00:00+00:00\", \"2014-07-17T00:00:00+00:00\", \"2014-07-18T00:00:00+00:00\", \"2014-07-19T00:00:00+00:00\", \"2014-07-20T00:00:00+00:00\", \"2014-07-21T00:00:00+00:00\", \"2014-07-22T00:00:00+00:00\", \"2014-07-23T00:00:00+00:00\", \"2014-07-24T00:00:00+00:00\", \"2014-07-25T00:00:00+00:00\", \"2014-07-26T00:00:00+00:00\", \"2014-07-27T00:00:00+00:00\", \"2014-07-28T00:00:00+00:00\", \"2014-07-29T00:00:00+00:00\", \"2014-07-30T00:00:00+00:00\", \"2014-07-31T00:00:00+00:00\", \"2014-08-01T00:00:00+00:00\", \"2014-08-02T00:00:00+00:00\", \"2014-08-03T00:00:00+00:00\", \"2014-08-04T00:00:00+00:00\", \"2014-08-05T00:00:00+00:00\", \"2014-08-06T00:00:00+00:00\", \"2014-08-07T00:00:00+00:00\", \"2014-08-08T00:00:00+00:00\", \"2014-08-09T00:00:00+00:00\", \"2014-08-10T00:00:00+00:00\", \"2014-08-11T00:00:00+00:00\", \"2014-08-12T00:00:00+00:00\", \"2014-08-13T00:00:00+00:00\", \"2014-08-14T00:00:00+00:00\", \"2014-08-15T00:00:00+00:00\", \"2014-08-16T00:00:00+00:00\", \"2014-08-17T00:00:00+00:00\", \"2014-08-18T00:00:00+00:00\", \"2014-08-19T00:00:00+00:00\", \"2014-08-20T00:00:00+00:00\", \"2014-08-21T00:00:00+00:00\", \"2014-08-22T00:00:00+00:00\", \"2014-08-23T00:00:00+00:00\", \"2014-08-24T00:00:00+00:00\", \"2014-08-25T00:00:00+00:00\", \"2014-08-26T00:00:00+00:00\", \"2014-08-27T00:00:00+00:00\", \"2014-08-28T00:00:00+00:00\", \"2014-08-29T00:00:00+00:00\", \"2014-08-30T00:00:00+00:00\", \"2014-08-31T00:00:00+00:00\", \"2014-09-01T00:00:00+00:00\", \"2014-09-02T00:00:00+00:00\", \"2014-09-03T00:00:00+00:00\", \"2014-09-04T00:00:00+00:00\", \"2014-09-05T00:00:00+00:00\", \"2014-09-06T00:00:00+00:00\", \"2014-09-07T00:00:00+00:00\", \"2014-09-08T00:00:00+00:00\", \"2014-09-09T00:00:00+00:00\", \"2014-09-10T00:00:00+00:00\", \"2014-09-11T00:00:00+00:00\", \"2014-09-12T00:00:00+00:00\", \"2014-09-13T00:00:00+00:00\", \"2014-09-14T00:00:00+00:00\", \"2014-09-15T00:00:00+00:00\", \"2014-09-16T00:00:00+00:00\", \"2014-09-17T00:00:00+00:00\", \"2014-09-18T00:00:00+00:00\", \"2014-09-19T00:00:00+00:00\", \"2014-09-20T00:00:00+00:00\", \"2014-09-21T00:00:00+00:00\", \"2014-09-22T00:00:00+00:00\", \"2014-09-23T00:00:00+00:00\", \"2014-09-24T00:00:00+00:00\", \"2014-09-25T00:00:00+00:00\", \"2014-09-26T00:00:00+00:00\", \"2014-09-27T00:00:00+00:00\", \"2014-09-28T00:00:00+00:00\", \"2014-09-29T00:00:00+00:00\", \"2014-09-30T00:00:00+00:00\", \"2014-10-01T00:00:00+00:00\", \"2014-10-02T00:00:00+00:00\", \"2014-10-03T00:00:00+00:00\", \"2014-10-04T00:00:00+00:00\", \"2014-10-05T00:00:00+00:00\", \"2014-10-06T00:00:00+00:00\", \"2014-10-07T00:00:00+00:00\", \"2014-10-08T00:00:00+00:00\", \"2014-10-09T00:00:00+00:00\", \"2014-10-10T00:00:00+00:00\", \"2014-10-11T00:00:00+00:00\", \"2014-10-12T00:00:00+00:00\", \"2014-10-13T00:00:00+00:00\", \"2014-10-14T00:00:00+00:00\", \"2014-10-15T00:00:00+00:00\", \"2014-10-16T00:00:00+00:00\", \"2014-10-17T00:00:00+00:00\", \"2014-10-18T00:00:00+00:00\", \"2014-10-19T00:00:00+00:00\", \"2014-10-20T00:00:00+00:00\", \"2014-10-21T00:00:00+00:00\", \"2014-10-22T00:00:00+00:00\", \"2014-10-23T00:00:00+00:00\", \"2014-10-24T00:00:00+00:00\", \"2014-10-25T00:00:00+00:00\", \"2014-10-26T00:00:00+00:00\", \"2014-10-27T00:00:00+00:00\", \"2014-10-28T00:00:00+00:00\", \"2014-10-29T00:00:00+00:00\", \"2014-10-30T00:00:00+00:00\", \"2014-10-31T00:00:00+00:00\", \"2014-11-01T00:00:00+00:00\", \"2014-11-02T00:00:00+00:00\", \"2014-11-03T00:00:00+00:00\", \"2014-11-04T00:00:00+00:00\", \"2014-11-05T00:00:00+00:00\", \"2014-11-06T00:00:00+00:00\", \"2014-11-07T00:00:00+00:00\", \"2014-11-08T00:00:00+00:00\", \"2014-11-09T00:00:00+00:00\", \"2014-11-10T00:00:00+00:00\", \"2014-11-11T00:00:00+00:00\", \"2014-11-12T00:00:00+00:00\", \"2014-11-13T00:00:00+00:00\", \"2014-11-14T00:00:00+00:00\", \"2014-11-15T00:00:00+00:00\", \"2014-11-16T00:00:00+00:00\", \"2014-11-17T00:00:00+00:00\", \"2014-11-18T00:00:00+00:00\", \"2014-11-19T00:00:00+00:00\", \"2014-11-20T00:00:00+00:00\", \"2014-11-21T00:00:00+00:00\", \"2014-11-22T00:00:00+00:00\", \"2014-11-23T00:00:00+00:00\", \"2014-11-24T00:00:00+00:00\", \"2014-11-25T00:00:00+00:00\", \"2014-11-26T00:00:00+00:00\", \"2014-11-27T00:00:00+00:00\", \"2014-11-28T00:00:00+00:00\", \"2014-11-29T00:00:00+00:00\", \"2014-11-30T00:00:00+00:00\", \"2014-12-01T00:00:00+00:00\", \"2014-12-02T00:00:00+00:00\", \"2014-12-03T00:00:00+00:00\", \"2014-12-04T00:00:00+00:00\", \"2014-12-05T00:00:00+00:00\", \"2014-12-06T00:00:00+00:00\", \"2014-12-07T00:00:00+00:00\", \"2014-12-08T00:00:00+00:00\", \"2014-12-09T00:00:00+00:00\", \"2014-12-10T00:00:00+00:00\", \"2014-12-11T00:00:00+00:00\", \"2014-12-12T00:00:00+00:00\", \"2014-12-13T00:00:00+00:00\", \"2014-12-14T00:00:00+00:00\", \"2014-12-15T00:00:00+00:00\", \"2014-12-16T00:00:00+00:00\", \"2014-12-17T00:00:00+00:00\", \"2014-12-18T00:00:00+00:00\", \"2014-12-19T00:00:00+00:00\", \"2014-12-20T00:00:00+00:00\", \"2014-12-21T00:00:00+00:00\", \"2014-12-22T00:00:00+00:00\", \"2014-12-23T00:00:00+00:00\", \"2014-12-24T00:00:00+00:00\", \"2014-12-25T00:00:00+00:00\", \"2014-12-26T00:00:00+00:00\", \"2014-12-27T00:00:00+00:00\", \"2014-12-28T00:00:00+00:00\", \"2014-12-29T00:00:00+00:00\", \"2014-12-30T00:00:00+00:00\", \"2014-12-31T00:00:00+00:00\", \"2015-01-01T00:00:00+00:00\", \"2015-01-02T00:00:00+00:00\", \"2015-01-03T00:00:00+00:00\", \"2015-01-04T00:00:00+00:00\", \"2015-01-05T00:00:00+00:00\", \"2015-01-06T00:00:00+00:00\", \"2015-01-07T00:00:00+00:00\", \"2015-01-08T00:00:00+00:00\", \"2015-01-09T00:00:00+00:00\", \"2015-01-10T00:00:00+00:00\", \"2015-01-11T00:00:00+00:00\", \"2015-01-12T00:00:00+00:00\", \"2015-01-13T00:00:00+00:00\", \"2015-01-14T00:00:00+00:00\", \"2015-01-15T00:00:00+00:00\", \"2015-01-16T00:00:00+00:00\", \"2015-01-17T00:00:00+00:00\", \"2015-01-18T00:00:00+00:00\", \"2015-01-19T00:00:00+00:00\", \"2015-01-20T00:00:00+00:00\", \"2015-01-21T00:00:00+00:00\", \"2015-01-22T00:00:00+00:00\", \"2015-01-23T00:00:00+00:00\", \"2015-01-24T00:00:00+00:00\", \"2015-01-25T00:00:00+00:00\", \"2015-01-26T00:00:00+00:00\", \"2015-01-27T00:00:00+00:00\", \"2015-01-28T00:00:00+00:00\", \"2015-01-29T00:00:00+00:00\", \"2015-01-30T00:00:00+00:00\", \"2015-01-31T00:00:00+00:00\", \"2015-02-01T00:00:00+00:00\", \"2015-02-02T00:00:00+00:00\", \"2015-02-03T00:00:00+00:00\", \"2015-02-04T00:00:00+00:00\", \"2015-02-05T00:00:00+00:00\", \"2015-02-06T00:00:00+00:00\", \"2015-02-07T00:00:00+00:00\", \"2015-02-08T00:00:00+00:00\", \"2015-02-09T00:00:00+00:00\", \"2015-02-10T00:00:00+00:00\", \"2015-02-11T00:00:00+00:00\", \"2015-02-12T00:00:00+00:00\", \"2015-02-13T00:00:00+00:00\", \"2015-02-14T00:00:00+00:00\", \"2015-02-15T00:00:00+00:00\", \"2015-02-16T00:00:00+00:00\", \"2015-02-17T00:00:00+00:00\", \"2015-02-18T00:00:00+00:00\", \"2015-02-19T00:00:00+00:00\", \"2015-02-20T00:00:00+00:00\", \"2015-02-21T00:00:00+00:00\", \"2015-02-22T00:00:00+00:00\", \"2015-02-23T00:00:00+00:00\", \"2015-02-24T00:00:00+00:00\", \"2015-02-25T00:00:00+00:00\", \"2015-02-26T00:00:00+00:00\", \"2015-02-27T00:00:00+00:00\", \"2015-02-28T00:00:00+00:00\", \"2015-03-01T00:00:00+00:00\", \"2015-03-02T00:00:00+00:00\", \"2015-03-03T00:00:00+00:00\", \"2015-03-04T00:00:00+00:00\", \"2015-03-05T00:00:00+00:00\", \"2015-03-06T00:00:00+00:00\", \"2015-03-07T00:00:00+00:00\", \"2015-03-08T00:00:00+00:00\", \"2015-03-09T00:00:00+00:00\", \"2015-03-10T00:00:00+00:00\", \"2015-03-11T00:00:00+00:00\", \"2015-03-12T00:00:00+00:00\", \"2015-03-13T00:00:00+00:00\", \"2015-03-14T00:00:00+00:00\", \"2015-03-15T00:00:00+00:00\", \"2015-03-16T00:00:00+00:00\", \"2015-03-17T00:00:00+00:00\", \"2015-03-18T00:00:00+00:00\", \"2015-03-19T00:00:00+00:00\", \"2015-03-20T00:00:00+00:00\", \"2015-03-21T00:00:00+00:00\", \"2015-03-22T00:00:00+00:00\", \"2015-03-23T00:00:00+00:00\", \"2015-03-24T00:00:00+00:00\", \"2015-03-25T00:00:00+00:00\", \"2015-03-26T00:00:00+00:00\", \"2015-03-27T00:00:00+00:00\", \"2015-03-28T00:00:00+00:00\", \"2015-03-29T00:00:00+00:00\", \"2015-03-30T00:00:00+00:00\", \"2015-03-31T00:00:00+00:00\", \"2015-04-01T00:00:00+00:00\", \"2015-04-02T00:00:00+00:00\", \"2015-04-03T00:00:00+00:00\", \"2015-04-04T00:00:00+00:00\", \"2015-04-05T00:00:00+00:00\", \"2015-04-06T00:00:00+00:00\", \"2015-04-07T00:00:00+00:00\", \"2015-04-08T00:00:00+00:00\", \"2015-04-09T00:00:00+00:00\", \"2015-04-10T00:00:00+00:00\", \"2015-04-11T00:00:00+00:00\", \"2015-04-12T00:00:00+00:00\", \"2015-04-13T00:00:00+00:00\", \"2015-04-14T00:00:00+00:00\", \"2015-04-15T00:00:00+00:00\", \"2015-04-16T00:00:00+00:00\", \"2015-04-17T00:00:00+00:00\", \"2015-04-18T00:00:00+00:00\", \"2015-04-19T00:00:00+00:00\", \"2015-04-20T00:00:00+00:00\", \"2015-04-21T00:00:00+00:00\", \"2015-04-22T00:00:00+00:00\", \"2015-04-23T00:00:00+00:00\", \"2015-04-24T00:00:00+00:00\", \"2015-04-25T00:00:00+00:00\", \"2015-04-26T00:00:00+00:00\", \"2015-04-27T00:00:00+00:00\", \"2015-04-28T00:00:00+00:00\", \"2015-04-29T00:00:00+00:00\", \"2015-04-30T00:00:00+00:00\", \"2015-05-01T00:00:00+00:00\", \"2015-05-02T00:00:00+00:00\", \"2015-05-03T00:00:00+00:00\", \"2015-05-04T00:00:00+00:00\", \"2015-05-05T00:00:00+00:00\", \"2015-05-06T00:00:00+00:00\", \"2015-05-07T00:00:00+00:00\", \"2015-05-08T00:00:00+00:00\", \"2015-05-09T00:00:00+00:00\", \"2015-05-10T00:00:00+00:00\", \"2015-05-11T00:00:00+00:00\", \"2015-05-12T00:00:00+00:00\", \"2015-05-13T00:00:00+00:00\", \"2015-05-14T00:00:00+00:00\", \"2015-05-15T00:00:00+00:00\", \"2015-05-16T00:00:00+00:00\", \"2015-05-17T00:00:00+00:00\", \"2015-05-18T00:00:00+00:00\", \"2015-05-19T00:00:00+00:00\", \"2015-05-20T00:00:00+00:00\", \"2015-05-21T00:00:00+00:00\", \"2015-05-22T00:00:00+00:00\", \"2015-05-23T00:00:00+00:00\", \"2015-05-24T00:00:00+00:00\", \"2015-05-25T00:00:00+00:00\", \"2015-05-26T00:00:00+00:00\", \"2015-05-27T00:00:00+00:00\", \"2015-05-28T00:00:00+00:00\", \"2015-05-29T00:00:00+00:00\", \"2015-05-30T00:00:00+00:00\", \"2015-05-31T00:00:00+00:00\", \"2015-06-01T00:00:00+00:00\", \"2015-06-02T00:00:00+00:00\", \"2015-06-03T00:00:00+00:00\", \"2015-06-04T00:00:00+00:00\", \"2015-06-05T00:00:00+00:00\", \"2015-06-06T00:00:00+00:00\", \"2015-06-07T00:00:00+00:00\", \"2015-06-08T00:00:00+00:00\", \"2015-06-09T00:00:00+00:00\", \"2015-06-10T00:00:00+00:00\", \"2015-06-11T00:00:00+00:00\", \"2015-06-12T00:00:00+00:00\", \"2015-06-13T00:00:00+00:00\", \"2015-06-14T00:00:00+00:00\", \"2015-06-15T00:00:00+00:00\", \"2015-06-16T00:00:00+00:00\", \"2015-06-17T00:00:00+00:00\", \"2015-06-18T00:00:00+00:00\", \"2015-06-19T00:00:00+00:00\", \"2015-06-20T00:00:00+00:00\", \"2015-06-21T00:00:00+00:00\", \"2015-06-22T00:00:00+00:00\", \"2015-06-23T00:00:00+00:00\", \"2015-06-24T00:00:00+00:00\", \"2015-06-25T00:00:00+00:00\", \"2015-06-26T00:00:00+00:00\", \"2015-06-27T00:00:00+00:00\", \"2015-06-28T00:00:00+00:00\", \"2015-06-29T00:00:00+00:00\", \"2015-06-30T00:00:00+00:00\", \"2015-07-01T00:00:00+00:00\", \"2015-07-02T00:00:00+00:00\", \"2015-07-03T00:00:00+00:00\", \"2015-07-04T00:00:00+00:00\", \"2015-07-05T00:00:00+00:00\", \"2015-07-06T00:00:00+00:00\", \"2015-07-07T00:00:00+00:00\", \"2015-07-08T00:00:00+00:00\", \"2015-07-09T00:00:00+00:00\", \"2015-07-10T00:00:00+00:00\", \"2015-07-11T00:00:00+00:00\", \"2015-07-12T00:00:00+00:00\", \"2015-07-13T00:00:00+00:00\", \"2015-07-14T00:00:00+00:00\", \"2015-07-15T00:00:00+00:00\", \"2015-07-16T00:00:00+00:00\", \"2015-07-17T00:00:00+00:00\", \"2015-07-18T00:00:00+00:00\", \"2015-07-19T00:00:00+00:00\", \"2015-07-20T00:00:00+00:00\", \"2015-07-21T00:00:00+00:00\", \"2015-07-22T00:00:00+00:00\", \"2015-07-23T00:00:00+00:00\", \"2015-07-24T00:00:00+00:00\", \"2015-07-25T00:00:00+00:00\", \"2015-07-26T00:00:00+00:00\", \"2015-07-27T00:00:00+00:00\", \"2015-07-28T00:00:00+00:00\", \"2015-07-29T00:00:00+00:00\", \"2015-07-30T00:00:00+00:00\", \"2015-07-31T00:00:00+00:00\", \"2015-08-01T00:00:00+00:00\", \"2015-08-02T00:00:00+00:00\", \"2015-08-03T00:00:00+00:00\", \"2015-08-04T00:00:00+00:00\", \"2015-08-05T00:00:00+00:00\", \"2015-08-06T00:00:00+00:00\", \"2015-08-07T00:00:00+00:00\", \"2015-08-08T00:00:00+00:00\", \"2015-08-09T00:00:00+00:00\", \"2015-08-10T00:00:00+00:00\", \"2015-08-11T00:00:00+00:00\", \"2015-08-12T00:00:00+00:00\", \"2015-08-13T00:00:00+00:00\", \"2015-08-14T00:00:00+00:00\", \"2015-08-15T00:00:00+00:00\", \"2015-08-16T00:00:00+00:00\", \"2015-08-17T00:00:00+00:00\", \"2015-08-18T00:00:00+00:00\", \"2015-08-19T00:00:00+00:00\", \"2015-08-20T00:00:00+00:00\", \"2015-08-21T00:00:00+00:00\", \"2015-08-22T00:00:00+00:00\", \"2015-08-23T00:00:00+00:00\", \"2015-08-24T00:00:00+00:00\", \"2015-08-25T00:00:00+00:00\", \"2015-08-26T00:00:00+00:00\", \"2015-08-27T00:00:00+00:00\", \"2015-08-28T00:00:00+00:00\", \"2015-08-29T00:00:00+00:00\", \"2015-08-30T00:00:00+00:00\", \"2015-08-31T00:00:00+00:00\", \"2015-09-01T00:00:00+00:00\", \"2015-09-02T00:00:00+00:00\", \"2015-09-03T00:00:00+00:00\", \"2015-09-04T00:00:00+00:00\", \"2015-09-05T00:00:00+00:00\", \"2015-09-06T00:00:00+00:00\", \"2015-09-07T00:00:00+00:00\", \"2015-09-08T00:00:00+00:00\", \"2015-09-09T00:00:00+00:00\", \"2015-09-10T00:00:00+00:00\", \"2015-09-11T00:00:00+00:00\", \"2015-09-12T00:00:00+00:00\", \"2015-09-13T00:00:00+00:00\", \"2015-09-14T00:00:00+00:00\", \"2015-09-15T00:00:00+00:00\", \"2015-09-16T00:00:00+00:00\", \"2015-09-17T00:00:00+00:00\", \"2015-09-18T00:00:00+00:00\", \"2015-09-19T00:00:00+00:00\", \"2015-09-20T00:00:00+00:00\", \"2015-09-21T00:00:00+00:00\", \"2015-09-22T00:00:00+00:00\", \"2015-09-23T00:00:00+00:00\", \"2015-09-24T00:00:00+00:00\", \"2015-09-25T00:00:00+00:00\", \"2015-09-26T00:00:00+00:00\", \"2015-09-27T00:00:00+00:00\", \"2015-09-28T00:00:00+00:00\", \"2015-09-29T00:00:00+00:00\", \"2015-09-30T00:00:00+00:00\", \"2015-10-01T00:00:00+00:00\", \"2015-10-02T00:00:00+00:00\", \"2015-10-03T00:00:00+00:00\", \"2015-10-04T00:00:00+00:00\", \"2015-10-05T00:00:00+00:00\", \"2015-10-06T00:00:00+00:00\", \"2015-10-07T00:00:00+00:00\", \"2015-10-08T00:00:00+00:00\", \"2015-10-09T00:00:00+00:00\", \"2015-10-10T00:00:00+00:00\", \"2015-10-11T00:00:00+00:00\", \"2015-10-12T00:00:00+00:00\", \"2015-10-13T00:00:00+00:00\", \"2015-10-14T00:00:00+00:00\", \"2015-10-15T00:00:00+00:00\", \"2015-10-16T00:00:00+00:00\", \"2015-10-17T00:00:00+00:00\", \"2015-10-18T00:00:00+00:00\", \"2015-10-19T00:00:00+00:00\", \"2015-10-20T00:00:00+00:00\", \"2015-10-21T00:00:00+00:00\", \"2015-10-22T00:00:00+00:00\", \"2015-10-23T00:00:00+00:00\", \"2015-10-24T00:00:00+00:00\", \"2015-10-25T00:00:00+00:00\", \"2015-10-26T00:00:00+00:00\", \"2015-10-27T00:00:00+00:00\", \"2015-10-28T00:00:00+00:00\", \"2015-10-29T00:00:00+00:00\", \"2015-10-30T00:00:00+00:00\", \"2015-10-31T00:00:00+00:00\", \"2015-11-01T00:00:00+00:00\", \"2015-11-02T00:00:00+00:00\", \"2015-11-03T00:00:00+00:00\", \"2015-11-04T00:00:00+00:00\", \"2015-11-05T00:00:00+00:00\", \"2015-11-06T00:00:00+00:00\", \"2015-11-07T00:00:00+00:00\", \"2015-11-08T00:00:00+00:00\", \"2015-11-09T00:00:00+00:00\", \"2015-11-10T00:00:00+00:00\", \"2015-11-11T00:00:00+00:00\", \"2015-11-12T00:00:00+00:00\", \"2015-11-13T00:00:00+00:00\", \"2015-11-14T00:00:00+00:00\", \"2015-11-15T00:00:00+00:00\", \"2015-11-16T00:00:00+00:00\", \"2015-11-17T00:00:00+00:00\", \"2015-11-18T00:00:00+00:00\", \"2015-11-19T00:00:00+00:00\", \"2015-11-20T00:00:00+00:00\", \"2015-11-21T00:00:00+00:00\", \"2015-11-22T00:00:00+00:00\", \"2015-11-23T00:00:00+00:00\", \"2015-11-24T00:00:00+00:00\", \"2015-11-25T00:00:00+00:00\", \"2015-11-26T00:00:00+00:00\", \"2015-11-27T00:00:00+00:00\", \"2015-11-28T00:00:00+00:00\", \"2015-11-29T00:00:00+00:00\", \"2015-11-30T00:00:00+00:00\", \"2015-12-01T00:00:00+00:00\", \"2015-12-02T00:00:00+00:00\", \"2015-12-03T00:00:00+00:00\", \"2015-12-04T00:00:00+00:00\", \"2015-12-05T00:00:00+00:00\", \"2015-12-06T00:00:00+00:00\", \"2015-12-07T00:00:00+00:00\", \"2015-12-08T00:00:00+00:00\", \"2015-12-09T00:00:00+00:00\", \"2015-12-10T00:00:00+00:00\", \"2015-12-11T00:00:00+00:00\", \"2015-12-12T00:00:00+00:00\", \"2015-12-13T00:00:00+00:00\", \"2015-12-14T00:00:00+00:00\", \"2015-12-15T00:00:00+00:00\", \"2015-12-16T00:00:00+00:00\", \"2015-12-17T00:00:00+00:00\", \"2015-12-18T00:00:00+00:00\", \"2015-12-19T00:00:00+00:00\", \"2015-12-20T00:00:00+00:00\", \"2015-12-21T00:00:00+00:00\", \"2015-12-22T00:00:00+00:00\", \"2015-12-23T00:00:00+00:00\", \"2015-12-24T00:00:00+00:00\", \"2015-12-25T00:00:00+00:00\", \"2015-12-26T00:00:00+00:00\", \"2015-12-27T00:00:00+00:00\", \"2015-12-28T00:00:00+00:00\", \"2015-12-29T00:00:00+00:00\", \"2015-12-30T00:00:00+00:00\", \"2015-12-31T00:00:00+00:00\", \"2016-01-01T00:00:00+00:00\", \"2016-01-02T00:00:00+00:00\", \"2016-01-03T00:00:00+00:00\", \"2016-01-04T00:00:00+00:00\", \"2016-01-05T00:00:00+00:00\", \"2016-01-06T00:00:00+00:00\", \"2016-01-07T00:00:00+00:00\", \"2016-01-08T00:00:00+00:00\", \"2016-01-09T00:00:00+00:00\", \"2016-01-10T00:00:00+00:00\", \"2016-01-11T00:00:00+00:00\", \"2016-01-12T00:00:00+00:00\", \"2016-01-13T00:00:00+00:00\", \"2016-01-14T00:00:00+00:00\", \"2016-01-15T00:00:00+00:00\", \"2016-01-16T00:00:00+00:00\", \"2016-01-17T00:00:00+00:00\", \"2016-01-18T00:00:00+00:00\", \"2016-01-19T00:00:00+00:00\", \"2016-01-20T00:00:00+00:00\", \"2016-01-21T00:00:00+00:00\", \"2016-01-22T00:00:00+00:00\", \"2016-01-23T00:00:00+00:00\", \"2016-01-24T00:00:00+00:00\", \"2016-01-25T00:00:00+00:00\", \"2016-01-26T00:00:00+00:00\", \"2016-01-27T00:00:00+00:00\", \"2016-01-28T00:00:00+00:00\", \"2016-01-29T00:00:00+00:00\", \"2016-01-30T00:00:00+00:00\", \"2016-01-31T00:00:00+00:00\", \"2016-02-01T00:00:00+00:00\", \"2016-02-02T00:00:00+00:00\", \"2016-02-03T00:00:00+00:00\", \"2016-02-04T00:00:00+00:00\", \"2016-02-05T00:00:00+00:00\", \"2016-02-06T00:00:00+00:00\", \"2016-02-07T00:00:00+00:00\", \"2016-02-08T00:00:00+00:00\", \"2016-02-09T00:00:00+00:00\", \"2016-02-10T00:00:00+00:00\", \"2016-02-11T00:00:00+00:00\", \"2016-02-12T00:00:00+00:00\", \"2016-02-13T00:00:00+00:00\", \"2016-02-14T00:00:00+00:00\", \"2016-02-15T00:00:00+00:00\", \"2016-02-16T00:00:00+00:00\", \"2016-02-17T00:00:00+00:00\", \"2016-02-18T00:00:00+00:00\", \"2016-02-19T00:00:00+00:00\", \"2016-02-20T00:00:00+00:00\", \"2016-02-21T00:00:00+00:00\", \"2016-02-22T00:00:00+00:00\", \"2016-02-23T00:00:00+00:00\", \"2016-02-24T00:00:00+00:00\", \"2016-02-25T00:00:00+00:00\", \"2016-02-26T00:00:00+00:00\", \"2016-02-27T00:00:00+00:00\", \"2016-02-28T00:00:00+00:00\", \"2016-02-29T00:00:00+00:00\", \"2016-03-01T00:00:00+00:00\", \"2016-03-02T00:00:00+00:00\", \"2016-03-03T00:00:00+00:00\", \"2016-03-04T00:00:00+00:00\", \"2016-03-05T00:00:00+00:00\", \"2016-03-06T00:00:00+00:00\", \"2016-03-07T00:00:00+00:00\", \"2016-03-08T00:00:00+00:00\", \"2016-03-09T00:00:00+00:00\", \"2016-03-10T00:00:00+00:00\", \"2016-03-11T00:00:00+00:00\", \"2016-03-12T00:00:00+00:00\", \"2016-03-13T00:00:00+00:00\", \"2016-03-14T00:00:00+00:00\", \"2016-03-15T00:00:00+00:00\", \"2016-03-16T00:00:00+00:00\", \"2016-03-17T00:00:00+00:00\", \"2016-03-18T00:00:00+00:00\", \"2016-03-19T00:00:00+00:00\", \"2016-03-20T00:00:00+00:00\", \"2016-03-21T00:00:00+00:00\", \"2016-03-22T00:00:00+00:00\", \"2016-03-23T00:00:00+00:00\", \"2016-03-24T00:00:00+00:00\", \"2016-03-25T00:00:00+00:00\", \"2016-03-26T00:00:00+00:00\", \"2016-03-27T00:00:00+00:00\", \"2016-03-28T00:00:00+00:00\", \"2016-03-29T00:00:00+00:00\", \"2016-03-30T00:00:00+00:00\", \"2016-03-31T00:00:00+00:00\", \"2016-04-01T00:00:00+00:00\", \"2016-04-02T00:00:00+00:00\", \"2016-04-03T00:00:00+00:00\", \"2016-04-04T00:00:00+00:00\", \"2016-04-05T00:00:00+00:00\", \"2016-04-06T00:00:00+00:00\", \"2016-04-07T00:00:00+00:00\", \"2016-04-08T00:00:00+00:00\", \"2016-04-09T00:00:00+00:00\", \"2016-04-10T00:00:00+00:00\", \"2016-04-11T00:00:00+00:00\", \"2016-04-12T00:00:00+00:00\", \"2016-04-13T00:00:00+00:00\", \"2016-04-14T00:00:00+00:00\", \"2016-04-15T00:00:00+00:00\", \"2016-04-16T00:00:00+00:00\", \"2016-04-17T00:00:00+00:00\", \"2016-04-18T00:00:00+00:00\", \"2016-04-19T00:00:00+00:00\", \"2016-04-20T00:00:00+00:00\", \"2016-04-21T00:00:00+00:00\", \"2016-04-22T00:00:00+00:00\", \"2016-04-23T00:00:00+00:00\", \"2016-04-24T00:00:00+00:00\", \"2016-04-25T00:00:00+00:00\", \"2016-04-26T00:00:00+00:00\", \"2016-04-27T00:00:00+00:00\", \"2016-04-28T00:00:00+00:00\", \"2016-04-29T00:00:00+00:00\", \"2016-04-30T00:00:00+00:00\", \"2016-05-01T00:00:00+00:00\", \"2016-05-02T00:00:00+00:00\", \"2016-05-03T00:00:00+00:00\", \"2016-05-04T00:00:00+00:00\", \"2016-05-05T00:00:00+00:00\", \"2016-05-06T00:00:00+00:00\", \"2016-05-07T00:00:00+00:00\", \"2016-05-08T00:00:00+00:00\", \"2016-05-09T00:00:00+00:00\", \"2016-05-10T00:00:00+00:00\", \"2016-05-11T00:00:00+00:00\", \"2016-05-12T00:00:00+00:00\", \"2016-05-13T00:00:00+00:00\", \"2016-05-14T00:00:00+00:00\", \"2016-05-15T00:00:00+00:00\", \"2016-05-16T00:00:00+00:00\", \"2016-05-17T00:00:00+00:00\", \"2016-05-18T00:00:00+00:00\", \"2016-05-19T00:00:00+00:00\", \"2016-05-20T00:00:00+00:00\", \"2016-05-21T00:00:00+00:00\", \"2016-05-22T00:00:00+00:00\", \"2016-05-23T00:00:00+00:00\", \"2016-05-24T00:00:00+00:00\", \"2016-05-25T00:00:00+00:00\", \"2016-05-26T00:00:00+00:00\", \"2016-05-27T00:00:00+00:00\", \"2016-05-28T00:00:00+00:00\", \"2016-05-29T00:00:00+00:00\", \"2016-05-30T00:00:00+00:00\", \"2016-05-31T00:00:00+00:00\", \"2016-06-01T00:00:00+00:00\", \"2016-06-02T00:00:00+00:00\", \"2016-06-03T00:00:00+00:00\", \"2016-06-04T00:00:00+00:00\", \"2016-06-05T00:00:00+00:00\", \"2016-06-06T00:00:00+00:00\", \"2016-06-07T00:00:00+00:00\", \"2016-06-08T00:00:00+00:00\", \"2016-06-09T00:00:00+00:00\", \"2016-06-10T00:00:00+00:00\", \"2016-06-11T00:00:00+00:00\", \"2016-06-12T00:00:00+00:00\", \"2016-06-13T00:00:00+00:00\", \"2016-06-14T00:00:00+00:00\", \"2016-06-15T00:00:00+00:00\", \"2016-06-16T00:00:00+00:00\", \"2016-06-17T00:00:00+00:00\", \"2016-06-18T00:00:00+00:00\", \"2016-06-19T00:00:00+00:00\", \"2016-06-20T00:00:00+00:00\", \"2016-06-21T00:00:00+00:00\", \"2016-06-22T00:00:00+00:00\", \"2016-06-23T00:00:00+00:00\", \"2016-06-24T00:00:00+00:00\", \"2016-06-25T00:00:00+00:00\", \"2016-06-26T00:00:00+00:00\", \"2016-06-27T00:00:00+00:00\", \"2016-06-28T00:00:00+00:00\", \"2016-06-29T00:00:00+00:00\", \"2016-06-30T00:00:00+00:00\", \"2016-07-01T00:00:00+00:00\", \"2016-07-02T00:00:00+00:00\", \"2016-07-03T00:00:00+00:00\", \"2016-07-04T00:00:00+00:00\", \"2016-07-05T00:00:00+00:00\", \"2016-07-06T00:00:00+00:00\", \"2016-07-07T00:00:00+00:00\", \"2016-07-08T00:00:00+00:00\", \"2016-07-09T00:00:00+00:00\", \"2016-07-10T00:00:00+00:00\", \"2016-07-11T00:00:00+00:00\", \"2016-07-12T00:00:00+00:00\", \"2016-07-13T00:00:00+00:00\", \"2016-07-14T00:00:00+00:00\", \"2016-07-15T00:00:00+00:00\", \"2016-07-16T00:00:00+00:00\", \"2016-07-17T00:00:00+00:00\", \"2016-07-18T00:00:00+00:00\", \"2016-07-19T00:00:00+00:00\", \"2016-07-20T00:00:00+00:00\", \"2016-07-21T00:00:00+00:00\", \"2016-07-22T00:00:00+00:00\", \"2016-07-23T00:00:00+00:00\", \"2016-07-24T00:00:00+00:00\", \"2016-07-25T00:00:00+00:00\", \"2016-07-26T00:00:00+00:00\", \"2016-07-27T00:00:00+00:00\", \"2016-07-28T00:00:00+00:00\", \"2016-07-29T00:00:00+00:00\", \"2016-07-30T00:00:00+00:00\", \"2016-07-31T00:00:00+00:00\", \"2016-08-01T00:00:00+00:00\", \"2016-08-02T00:00:00+00:00\", \"2016-08-03T00:00:00+00:00\", \"2016-08-04T00:00:00+00:00\", \"2016-08-05T00:00:00+00:00\", \"2016-08-06T00:00:00+00:00\", \"2016-08-07T00:00:00+00:00\", \"2016-08-08T00:00:00+00:00\", \"2016-08-09T00:00:00+00:00\", \"2016-08-10T00:00:00+00:00\", \"2016-08-11T00:00:00+00:00\", \"2016-08-12T00:00:00+00:00\", \"2016-08-13T00:00:00+00:00\", \"2016-08-14T00:00:00+00:00\", \"2016-08-15T00:00:00+00:00\", \"2016-08-16T00:00:00+00:00\", \"2016-08-17T00:00:00+00:00\", \"2016-08-18T00:00:00+00:00\", \"2016-08-19T00:00:00+00:00\", \"2016-08-20T00:00:00+00:00\", \"2016-08-21T00:00:00+00:00\", \"2016-08-22T00:00:00+00:00\", \"2016-08-23T00:00:00+00:00\", \"2016-08-24T00:00:00+00:00\", \"2016-08-25T00:00:00+00:00\", \"2016-08-26T00:00:00+00:00\", \"2016-08-27T00:00:00+00:00\", \"2016-08-28T00:00:00+00:00\", \"2016-08-29T00:00:00+00:00\", \"2016-08-30T00:00:00+00:00\", \"2016-08-31T00:00:00+00:00\", \"2016-09-01T00:00:00+00:00\", \"2016-09-02T00:00:00+00:00\", \"2016-09-03T00:00:00+00:00\", \"2016-09-04T00:00:00+00:00\", \"2016-09-05T00:00:00+00:00\", \"2016-09-06T00:00:00+00:00\", \"2016-09-07T00:00:00+00:00\", \"2016-09-08T00:00:00+00:00\", \"2016-09-09T00:00:00+00:00\", \"2016-09-10T00:00:00+00:00\", \"2016-09-11T00:00:00+00:00\", \"2016-09-12T00:00:00+00:00\", \"2016-09-13T00:00:00+00:00\", \"2016-09-14T00:00:00+00:00\", \"2016-09-15T00:00:00+00:00\", \"2016-09-16T00:00:00+00:00\", \"2016-09-17T00:00:00+00:00\", \"2016-09-18T00:00:00+00:00\", \"2016-09-19T00:00:00+00:00\", \"2016-09-20T00:00:00+00:00\", \"2016-09-21T00:00:00+00:00\", \"2016-09-22T00:00:00+00:00\", \"2016-09-23T00:00:00+00:00\", \"2016-09-24T00:00:00+00:00\", \"2016-09-25T00:00:00+00:00\", \"2016-09-26T00:00:00+00:00\", \"2016-09-27T00:00:00+00:00\", \"2016-09-28T00:00:00+00:00\", \"2016-09-29T00:00:00+00:00\", \"2016-09-30T00:00:00+00:00\", \"2016-10-01T00:00:00+00:00\", \"2016-10-02T00:00:00+00:00\", \"2016-10-03T00:00:00+00:00\", \"2016-10-04T00:00:00+00:00\", \"2016-10-05T00:00:00+00:00\", \"2016-10-06T00:00:00+00:00\", \"2016-10-07T00:00:00+00:00\", \"2016-10-08T00:00:00+00:00\", \"2016-10-09T00:00:00+00:00\", \"2016-10-10T00:00:00+00:00\", \"2016-10-11T00:00:00+00:00\", \"2016-10-12T00:00:00+00:00\", \"2016-10-13T00:00:00+00:00\", \"2016-10-14T00:00:00+00:00\", \"2016-10-15T00:00:00+00:00\", \"2016-10-16T00:00:00+00:00\", \"2016-10-17T00:00:00+00:00\", \"2016-10-18T00:00:00+00:00\", \"2016-10-19T00:00:00+00:00\", \"2016-10-20T00:00:00+00:00\", \"2016-10-21T00:00:00+00:00\", \"2016-10-22T00:00:00+00:00\", \"2016-10-23T00:00:00+00:00\", \"2016-10-24T00:00:00+00:00\", \"2016-10-25T00:00:00+00:00\", \"2016-10-26T00:00:00+00:00\", \"2016-10-27T00:00:00+00:00\", \"2016-10-28T00:00:00+00:00\", \"2016-10-29T00:00:00+00:00\", \"2016-10-30T00:00:00+00:00\", \"2016-10-31T00:00:00+00:00\", \"2016-11-01T00:00:00+00:00\", \"2016-11-02T00:00:00+00:00\", \"2016-11-03T00:00:00+00:00\", \"2016-11-04T00:00:00+00:00\", \"2016-11-05T00:00:00+00:00\", \"2016-11-06T00:00:00+00:00\", \"2016-11-07T00:00:00+00:00\", \"2016-11-08T00:00:00+00:00\", \"2016-11-09T00:00:00+00:00\", \"2016-11-10T00:00:00+00:00\", \"2016-11-11T00:00:00+00:00\", \"2016-11-12T00:00:00+00:00\", \"2016-11-13T00:00:00+00:00\", \"2016-11-14T00:00:00+00:00\", \"2016-11-15T00:00:00+00:00\", \"2016-11-16T00:00:00+00:00\", \"2016-11-17T00:00:00+00:00\", \"2016-11-18T00:00:00+00:00\", \"2016-11-19T00:00:00+00:00\", \"2016-11-20T00:00:00+00:00\", \"2016-11-21T00:00:00+00:00\", \"2016-11-22T00:00:00+00:00\", \"2016-11-23T00:00:00+00:00\", \"2016-11-24T00:00:00+00:00\", \"2016-11-25T00:00:00+00:00\", \"2016-11-26T00:00:00+00:00\", \"2016-11-27T00:00:00+00:00\", \"2016-11-28T00:00:00+00:00\", \"2016-11-29T00:00:00+00:00\", \"2016-11-30T00:00:00+00:00\", \"2016-12-01T00:00:00+00:00\", \"2016-12-02T00:00:00+00:00\", \"2016-12-03T00:00:00+00:00\", \"2016-12-04T00:00:00+00:00\", \"2016-12-05T00:00:00+00:00\", \"2016-12-06T00:00:00+00:00\", \"2016-12-07T00:00:00+00:00\", \"2016-12-08T00:00:00+00:00\", \"2016-12-09T00:00:00+00:00\", \"2016-12-10T00:00:00+00:00\", \"2016-12-11T00:00:00+00:00\", \"2016-12-12T00:00:00+00:00\", \"2016-12-13T00:00:00+00:00\", \"2016-12-14T00:00:00+00:00\", \"2016-12-15T00:00:00+00:00\", \"2016-12-16T00:00:00+00:00\", \"2016-12-17T00:00:00+00:00\", \"2016-12-18T00:00:00+00:00\", \"2016-12-19T00:00:00+00:00\", \"2016-12-20T00:00:00+00:00\", \"2016-12-21T00:00:00+00:00\", \"2016-12-22T00:00:00+00:00\", \"2016-12-23T00:00:00+00:00\", \"2016-12-24T00:00:00+00:00\", \"2016-12-25T00:00:00+00:00\", \"2016-12-26T00:00:00+00:00\", \"2016-12-27T00:00:00+00:00\", \"2016-12-28T00:00:00+00:00\", \"2016-12-29T00:00:00+00:00\", \"2016-12-30T00:00:00+00:00\", \"2016-12-31T00:00:00+00:00\", \"2017-01-01T00:00:00+00:00\", \"2017-01-02T00:00:00+00:00\", \"2017-01-03T00:00:00+00:00\", \"2017-01-04T00:00:00+00:00\", \"2017-01-05T00:00:00+00:00\", \"2017-01-06T00:00:00+00:00\", \"2017-01-07T00:00:00+00:00\", \"2017-01-08T00:00:00+00:00\", \"2017-01-09T00:00:00+00:00\", \"2017-01-10T00:00:00+00:00\", \"2017-01-11T00:00:00+00:00\", \"2017-01-12T00:00:00+00:00\", \"2017-01-13T00:00:00+00:00\", \"2017-01-14T00:00:00+00:00\", \"2017-01-15T00:00:00+00:00\", \"2017-01-16T00:00:00+00:00\", \"2017-01-17T00:00:00+00:00\", \"2017-01-18T00:00:00+00:00\", \"2017-01-19T00:00:00+00:00\", \"2017-01-20T00:00:00+00:00\", \"2017-01-21T00:00:00+00:00\", \"2017-01-22T00:00:00+00:00\", \"2017-01-23T00:00:00+00:00\", \"2017-01-24T00:00:00+00:00\", \"2017-01-25T00:00:00+00:00\", \"2017-01-26T00:00:00+00:00\", \"2017-01-27T00:00:00+00:00\", \"2017-01-28T00:00:00+00:00\", \"2017-01-29T00:00:00+00:00\", \"2017-01-30T00:00:00+00:00\", \"2017-01-31T00:00:00+00:00\", \"2017-02-01T00:00:00+00:00\", \"2017-02-02T00:00:00+00:00\", \"2017-02-03T00:00:00+00:00\", \"2017-02-04T00:00:00+00:00\", \"2017-02-05T00:00:00+00:00\", \"2017-02-06T00:00:00+00:00\", \"2017-02-07T00:00:00+00:00\", \"2017-02-08T00:00:00+00:00\", \"2017-02-09T00:00:00+00:00\", \"2017-02-10T00:00:00+00:00\", \"2017-02-11T00:00:00+00:00\", \"2017-02-12T00:00:00+00:00\", \"2017-02-13T00:00:00+00:00\", \"2017-02-14T00:00:00+00:00\", \"2017-02-15T00:00:00+00:00\", \"2017-02-16T00:00:00+00:00\", \"2017-02-17T00:00:00+00:00\", \"2017-02-18T00:00:00+00:00\", \"2017-02-19T00:00:00+00:00\", \"2017-02-20T00:00:00+00:00\", \"2017-02-21T00:00:00+00:00\", \"2017-02-22T00:00:00+00:00\", \"2017-02-23T00:00:00+00:00\", \"2017-02-24T00:00:00+00:00\", \"2017-02-25T00:00:00+00:00\", \"2017-02-26T00:00:00+00:00\", \"2017-02-27T00:00:00+00:00\", \"2017-02-28T00:00:00+00:00\", \"2017-03-01T00:00:00+00:00\", \"2017-03-02T00:00:00+00:00\", \"2017-03-03T00:00:00+00:00\", \"2017-03-04T00:00:00+00:00\", \"2017-03-05T00:00:00+00:00\", \"2017-03-06T00:00:00+00:00\", \"2017-03-07T00:00:00+00:00\", \"2017-03-08T00:00:00+00:00\", \"2017-03-09T00:00:00+00:00\", \"2017-03-10T00:00:00+00:00\", \"2017-03-11T00:00:00+00:00\", \"2017-03-12T00:00:00+00:00\", \"2017-03-13T00:00:00+00:00\", \"2017-03-14T00:00:00+00:00\", \"2017-03-15T00:00:00+00:00\", \"2017-03-16T00:00:00+00:00\", \"2017-03-17T00:00:00+00:00\", \"2017-03-18T00:00:00+00:00\", \"2017-03-19T00:00:00+00:00\", \"2017-03-20T00:00:00+00:00\", \"2017-03-21T00:00:00+00:00\", \"2017-03-22T00:00:00+00:00\", \"2017-03-23T00:00:00+00:00\", \"2017-03-24T00:00:00+00:00\", \"2017-03-25T00:00:00+00:00\", \"2017-03-26T00:00:00+00:00\", \"2017-03-27T00:00:00+00:00\", \"2017-03-28T00:00:00+00:00\", \"2017-03-29T00:00:00+00:00\", \"2017-03-30T00:00:00+00:00\", \"2017-03-31T00:00:00+00:00\", \"2017-04-01T00:00:00+00:00\", \"2017-04-02T00:00:00+00:00\", \"2017-04-03T00:00:00+00:00\", \"2017-04-04T00:00:00+00:00\", \"2017-04-05T00:00:00+00:00\", \"2017-04-06T00:00:00+00:00\", \"2017-04-07T00:00:00+00:00\", \"2017-04-08T00:00:00+00:00\", \"2017-04-09T00:00:00+00:00\", \"2017-04-10T00:00:00+00:00\", \"2017-04-11T00:00:00+00:00\", \"2017-04-12T00:00:00+00:00\", \"2017-04-13T00:00:00+00:00\", \"2017-04-14T00:00:00+00:00\", \"2017-04-15T00:00:00+00:00\", \"2017-04-16T00:00:00+00:00\", \"2017-04-17T00:00:00+00:00\", \"2017-04-18T00:00:00+00:00\", \"2017-04-19T00:00:00+00:00\", \"2017-04-20T00:00:00+00:00\", \"2017-04-21T00:00:00+00:00\", \"2017-04-22T00:00:00+00:00\", \"2017-04-23T00:00:00+00:00\", \"2017-04-24T00:00:00+00:00\", \"2017-04-25T00:00:00+00:00\", \"2017-04-26T00:00:00+00:00\", \"2017-04-27T00:00:00+00:00\", \"2017-04-28T00:00:00+00:00\", \"2017-04-29T00:00:00+00:00\", \"2017-04-30T00:00:00+00:00\", \"2017-05-01T00:00:00+00:00\", \"2017-05-02T00:00:00+00:00\", \"2017-05-03T00:00:00+00:00\", \"2017-05-04T00:00:00+00:00\", \"2017-05-05T00:00:00+00:00\", \"2017-05-06T00:00:00+00:00\", \"2017-05-07T00:00:00+00:00\", \"2017-05-08T00:00:00+00:00\", \"2017-05-09T00:00:00+00:00\", \"2017-05-10T00:00:00+00:00\", \"2017-05-11T00:00:00+00:00\", \"2017-05-12T00:00:00+00:00\", \"2017-05-13T00:00:00+00:00\", \"2017-05-14T00:00:00+00:00\", \"2017-05-15T00:00:00+00:00\", \"2017-05-16T00:00:00+00:00\", \"2017-05-17T00:00:00+00:00\", \"2017-05-18T00:00:00+00:00\", \"2017-05-19T00:00:00+00:00\", \"2017-05-20T00:00:00+00:00\", \"2017-05-21T00:00:00+00:00\", \"2017-05-22T00:00:00+00:00\", \"2017-05-23T00:00:00+00:00\", \"2017-05-24T00:00:00+00:00\", \"2017-05-25T00:00:00+00:00\", \"2017-05-26T00:00:00+00:00\", \"2017-05-27T00:00:00+00:00\", \"2017-05-28T00:00:00+00:00\", \"2017-05-29T00:00:00+00:00\", \"2017-05-30T00:00:00+00:00\", \"2017-05-31T00:00:00+00:00\", \"2017-06-01T00:00:00+00:00\", \"2017-06-02T00:00:00+00:00\", \"2017-06-03T00:00:00+00:00\", \"2017-06-04T00:00:00+00:00\", \"2017-06-05T00:00:00+00:00\", \"2017-06-06T00:00:00+00:00\", \"2017-06-07T00:00:00+00:00\", \"2017-06-08T00:00:00+00:00\", \"2017-06-09T00:00:00+00:00\", \"2017-06-10T00:00:00+00:00\", \"2017-06-11T00:00:00+00:00\", \"2017-06-12T00:00:00+00:00\", \"2017-06-13T00:00:00+00:00\", \"2017-06-14T00:00:00+00:00\", \"2017-06-15T00:00:00+00:00\", \"2017-06-16T00:00:00+00:00\", \"2017-06-17T00:00:00+00:00\", \"2017-06-18T00:00:00+00:00\", \"2017-06-19T00:00:00+00:00\", \"2017-06-20T00:00:00+00:00\", \"2017-06-21T00:00:00+00:00\", \"2017-06-22T00:00:00+00:00\", \"2017-06-23T00:00:00+00:00\", \"2017-06-24T00:00:00+00:00\", \"2017-06-25T00:00:00+00:00\"], \"y\": [16, 11, 4, 2, 1, 0, 2, 1, 1, 0, 0, 0, 0, 0, 1, 0, 0, 0, 0, 1, 1, 0, 0, 1, 0, 0, 0, 3, 1, 0, 0, 0, 0, 0, 0, 0, 1, 0, 1, 0, 0, 1, 0, 0, 0, 0, 0, 0, 1, 0, 0, 0, 0, 0, 1, 0, 1, 1, 0, 0, 0, 2, 0, 1, 0, 0, 0, 0, 1, 0, 0, 0, 2, 0, 0, 0, 0, 2, 0, 1, 0, 0, 0, 1, 0, 0, 0, 1, 0, 1, 3, 1, 7, 3, 1, 1, 1, 2, 2, 0, 0, 0, 1, 0, 1, 1, 0, 1, 0, 2, 1, 1, 1, 2, 0, 0, 0, 1, 0, 1, 2, 1, 0, 0, 1, 0, 0, 0, 1, 0, 0, 0, 0, 0, 1, 0, 1, 1, 0, 1, 1, 0, 0, 1, 3, 3, 0, 0, 0, 0, 1, 1, 0, 4, 0, 0, 1, 0, 0, 0, 1, 2, 0, 0, 1, 0, 2, 0, 1, 2, 4, 0, 0, 1, 0, 0, 0, 1, 2, 1, 3, 3, 0, 0, 1, 1, 0, 1, 1, 1, 1, 1, 1, 2, 1, 1, 3, 1, 1, 2, 0, 1, 0, 2, 0, 0, 0, 1, 1, 2, 3, 2, 0, 1, 0, 1, 1, 1, 2, 2, 2, 1, 2, 0, 3, 4, 2, 1, 1, 1, 0, 1, 1, 6, 0, 1, 2, 3, 3, 3, 3, 1, 2, 0, 4, 4, 3, 3, 4, 0, 3, 2, 2, 2, 4, 3, 0, 5, 4, 2, 3, 5, 4, 1, 7, 4, 5, 1, 4, 2, 1, 3, 7, 2, 3, 1, 2, 1, 6, 7, 2, 3, 1, 2, 2, 3, 8, 5, 3, 5, 1, 3, 3, 2, 4, 7, 6, 2, 3, 8, 4, 7, 7, 3, 8, 3, 6, 5, 4, 6, 4, 4, 6, 3, 4, 9, 2, 4, 3, 2, 4, 7, 8, 4, 3, 2, 4, 8, 1, 3, 2, 4, 2, 0, 9, 5, 6, 5, 6, 2, 1, 7, 7, 6, 0, 2, 2, 1, 4, 4, 8, 3, 5, 3, 3, 2, 6, 3, 7, 3, 2, 3, 7, 11, 2, 6, 5, 2, 1, 11, 7, 7, 5, 7, 1, 4, 6, 5, 5, 7, 5, 1, 3, 2, 5, 6, 3, 5, 3, 3, 6, 9, 7, 4, 2, 1, 4, 4, 8, 7, 9, 4, 3, 2, 4, 4, 4, 11, 7, 6, 2, 5, 6, 11, 4, 2, 2, 2, 4, 10, 5, 3, 5, 3, 1, 6, 4, 6, 5, 6, 5, 3, 9, 7, 11, 3, 7, 7, 2, 10, 6, 5, 11, 1, 3, 3, 3, 7, 10, 8, 1, 7, 3, 8, 7, 3, 14, 4, 3, 2, 7, 11, 8, 12, 8, 3, 7, 6, 9, 9, 1, 3, 2, 4, 5, 6, 12, 5, 8, 3, 1, 7, 7, 7, 9, 3, 2, 7, 4, 9, 12, 2, 3, 3, 2, 5, 1, 3, 1, 1, 4, 7, 4, 6, 6, 5, 7, 5, 7, 12, 5, 8, 10, 11, 2, 4, 8, 7, 7, 7, 10, 1, 5, 9, 8, 10, 5, 5, 7, 3, 11, 7, 10, 12, 16, 4, 2, 10, 5, 9, 12, 4, 4, 4, 15, 9, 12, 10, 6, 0, 4, 9, 14, 9, 5, 5, 6, 4, 9, 6, 6, 3, 2, 6, 7, 4, 12, 8, 9, 11, 4, 5, 8, 8, 4, 5, 8, 5, 0, 8, 13, 13, 20, 10, 3, 4, 9, 5, 12, 7, 5, 10, 9, 8, 5, 10, 8, 3, 4, 4, 11, 11, 8, 14, 11, 4, 2, 10, 4, 9, 8, 5, 4, 6, 3, 8, 9, 9, 12, 9, 4, 16, 17, 9, 3, 6, 6, 5, 11, 13, 3, 7, 4, 7, 9, 6, 11, 14, 12, 7, 5, 3, 12, 12, 13, 6, 7, 5, 2, 8, 8, 18, 16, 8, 3, 7, 10, 7, 11, 12, 7, 7, 3, 13, 6, 9, 8, 8, 5, 5, 11, 9, 6, 10, 7, 5, 5, 12, 10, 11, 11, 7, 3, 3, 13, 11, 5, 14, 5, 6, 4, 11, 14, 7, 5, 4, 9, 5, 6, 9, 8, 9, 9, 5, 7, 8, 7, 8, 8, 11, 2, 7, 9, 11, 8, 7, 8, 5, 4, 11, 9, 10, 8, 9, 3, 7, 10, 8, 15, 14, 11, 2, 5, 12, 13, 9, 12, 10, 2, 4, 14, 8, 8, 13, 10, 7, 5, 10, 13, 14, 11, 5, 1, 4, 10, 7, 13, 16, 6, 5, 2, 9, 8, 15, 9, 6, 3, 6, 11, 12, 14, 15, 9, 5, 7, 16, 12, 17, 9, 11, 3, 7, 13, 14, 19, 10, 8, 6, 8, 16, 16, 15, 12, 18, 10, 6, 22, 18, 11, 19, 12, 6, 9, 11, 18, 21, 18, 16, 9, 4, 20, 12, 16, 8, 14, 13, 2, 18, 16, 13, 8, 18, 4, 7, 10, 7, 12, 17, 12, 9, 4, 20, 19, 6, 9, 9, 9, 9, 12, 18, 11, 13, 15, 8, 11, 12, 20, 10, 16, 16, 5, 7, 16, 22, 16, 15, 15, 8, 5, 15, 19, 14, 6, 9, 4, 7, 27, 22, 23, 8, 11, 11, 8, 27, 17, 26, 23, 17, 6, 12, 24, 15, 25, 19, 20, 13, 12, 18, 28, 33, 22, 13, 6, 12, 21, 27, 22, 15, 20, 5, 10, 17, 23, 23, 14, 24, 10, 7, 25, 33, 27, 22, 14, 11, 6, 18, 26, 13, 19, 15, 7, 9, 38, 35, 36, 15, 28, 10, 11, 25, 20, 25, 25, 25, 13, 11, 28, 22, 30, 16, 22, 17, 16, 23, 19, 35, 27, 26, 13, 9, 26, 16, 26, 31, 18, 4, 11, 41, 33, 23, 24, 18, 13, 7, 33, 32, 23, 17, 22, 13, 7, 25, 22, 28, 27, 12, 6, 11, 26, 29, 25, 14, 18, 10, 10, 30, 37, 24, 34, 22, 13, 9, 19, 21, 39, 28, 27, 12, 16, 37, 28, 27, 26, 32, 12, 8, 31, 32, 31, 34, 29, 12, 10, 23, 28, 26, 32, 35, 11, 14, 30, 34, 30, 34, 26, 17, 21, 27, 30, 34, 31, 32, 10, 27, 34, 23, 27, 27, 24, 22, 23, 41, 26, 35, 38, 29, 16, 14, 27, 40, 43, 31, 20, 13, 15, 38, 31, 33, 35, 24, 22, 13, 46, 39, 29, 42, 37, 17, 19, 36, 35, 27, 32, 22, 21, 15, 40, 27, 32, 43, 35, 18, 17, 37, 39, 35, 43, 23, 17, 20, 33, 64, 48, 39, 41, 17, 26, 54, 45, 44, 46, 44, 27, 20, 39, 35, 41, 42, 33, 24, 36, 37, 48, 50, 45, 49, 24, 17, 41, 62, 47, 48, 37, 24, 22, 35, 37, 55, 47, 40, 20, 25, 41, 65, 50, 54, 39, 18, 18, 40, 47, 62, 64, 38, 26, 31, 50, 61, 74, 89, 61, 34, 47, 76, 69, 71, 60, 52, 38, 29, 60, 81, 73, 68, 64, 35, 40, 81, 72, 74, 70, 53, 33, 36, 62, 70, 74, 72, 75, 33, 45, 79, 81, 74, 56, 56, 33, 30, 59, 73, 58, 62, 47, 19, 33, 57, 59, 51, 35, 35, 29, 31, 60, 54, 61, 57, 51, 29, 38, 85, 69, 63, 66, 52, 29, 43, 55, 70, 60, 58, 60, 39, 37, 69, 60, 45, 39, 17, 26, 28, 53, 52, 56, 78, 42, 44, 58, 94, 82, 83, 90, 51, 39, 53, 78, 94, 79, 82, 87, 46, 45, 62, 65, 90, 64, 88, 37, 51, 76, 85, 76, 69, 88, 52, 54, 83, 107, 89, 79, 105, 37, 54, 81, 98, 105, 80, 84, 47, 61, 93, 87, 90, 80, 79, 64, 61, 98, 105, 101, 126, 89, 56, 55, 103, 108, 96, 117, 87, 49, 50, 89, 103, 96, 108, 102, 53, 51, 94, 106, 95, 84, 86, 46, 55, 112, 116, 104, 89, 74, 53, 47, 87, 100, 86, 116, 65, 48, 53, 89, 106, 100, 77, 86, 43, 62, 96, 98, 93, 106, 91, 41, 45, 101, 90, 81, 92, 86, 34, 51, 92, 90, 104, 101, 87, 38, 48, 73, 100, 103, 98, 75, 39, 50, 89, 104, 99, 106, 69, 35, 49, 99, 78, 104, 89, 89, 46, 54, 79, 91, 87, 81, 84, 39, 44, 78, 87, 96, 99, 91, 46, 67, 103, 99, 112, 109, 82, 50, 48, 98, 95, 122, 124, 105, 55, 70, 116, 104, 110, 99, 105, 55, 74, 101, 100, 114, 116, 109, 54, 60, 81, 102, 125, 122, 106, 47, 77, 105, 132, 122, 125, 111, 51, 55, 111, 109, 104, 92, 105, 60, 69, 140, 118, 121, 111, 108, 78, 61, 140, 106, 106, 133, 112, 55, 60, 107, 107, 92, 110, 96, 71, 70, 117, 129, 129, 112, 97, 56, 50, 123, 126, 124, 103, 92, 64, 66, 130, 117, 117, 112, 96, 66, 58, 91, 121, 100, 111, 111, 66, 64, 139, 118, 125, 123, 116, 70, 73, 133, 122, 150, 106, 108, 53, 81, 129, 142, 130, 109, 120, 87, 71, 134, 129, 143, 139, 110, 67, 78, 143, 147, 133, 122, 144, 68, 91, 142, 143, 138, 139, 132, 73, 78, 152, 138, 158, 131, 142, 60, 81, 150, 124, 131, 146, 141, 67, 97, 158, 160, 198, 198, 147, 99, 95, 156, 197, 186, 171, 144, 74, 74, 160, 158, 177, 97, 112, 83, 92, 126, 165, 156, 136, 148, 82, 73, 164, 180, 192, 145, 164, 79, 85, 174, 168, 164, 147, 125, 78, 91, 167, 182, 175, 150, 113, 69, 52, 109, 140, 166, 149, 148, 124, 114, 146, 174, 190, 176, 149, 124, 114, 186, 197, 187, 187, 180, 99, 112, 181, 171, 172, 172, 181, 97, 153, 206, 194, 195, 171, 162, 123, 131, 199, 203, 206, 232, 190, 125, 163, 195, 201, 197, 220, 205, 111, 100, 193, 207, 188, 192, 190, 139, 117, 194, 224, 205, 189, 196, 121, 111, 225, 187, 219, 231, 218, 112, 119, 224, 205, 219, 229, 206, 124, 136, 201, 227, 241, 225, 189, 123, 99, 205, 247, 246, 228, 208, 135, 129, 230, 225, 238, 257, 207, 125, 142, 259, 221, 203, 274, 221, 140, 149, 238, 258, 239, 250, 204, 137, 143, 233, 264, 278, 274, 259, 178, 168, 296, 306, 270, 277, 262, 187, 148, 305, 332, 286, 284, 264, 133, 136, 267, 262, 264, 267, 281, 205, 180, 341, 345, 367, 336, 301, 156, 194, 341, 388, 375, 298, 269, 157, 172, 297, 365, 407, 392, 328, 170, 194, 340, 348, 323, 347, 291, 165, 193, 349, 358, 344, 336, 345, 188, 243, 408, 417, 422, 441, 421, 277, 253]}],                        {\"template\": {\"data\": {\"bar\": [{\"error_x\": {\"color\": \"#2a3f5f\"}, \"error_y\": {\"color\": \"#2a3f5f\"}, \"marker\": {\"line\": {\"color\": \"#E5ECF6\", \"width\": 0.5}}, \"type\": \"bar\"}], \"barpolar\": [{\"marker\": {\"line\": {\"color\": \"#E5ECF6\", \"width\": 0.5}}, \"type\": \"barpolar\"}], \"carpet\": [{\"aaxis\": {\"endlinecolor\": \"#2a3f5f\", \"gridcolor\": \"white\", \"linecolor\": \"white\", \"minorgridcolor\": \"white\", \"startlinecolor\": \"#2a3f5f\"}, \"baxis\": {\"endlinecolor\": \"#2a3f5f\", \"gridcolor\": \"white\", \"linecolor\": \"white\", \"minorgridcolor\": \"white\", \"startlinecolor\": \"#2a3f5f\"}, \"type\": \"carpet\"}], \"choropleth\": [{\"colorbar\": {\"outlinewidth\": 0, \"ticks\": \"\"}, \"type\": \"choropleth\"}], \"contour\": [{\"colorbar\": {\"outlinewidth\": 0, \"ticks\": \"\"}, \"colorscale\": [[0.0, \"#0d0887\"], [0.1111111111111111, \"#46039f\"], [0.2222222222222222, \"#7201a8\"], [0.3333333333333333, \"#9c179e\"], [0.4444444444444444, \"#bd3786\"], [0.5555555555555556, \"#d8576b\"], [0.6666666666666666, \"#ed7953\"], [0.7777777777777778, \"#fb9f3a\"], [0.8888888888888888, \"#fdca26\"], [1.0, \"#f0f921\"]], \"type\": \"contour\"}], \"contourcarpet\": [{\"colorbar\": {\"outlinewidth\": 0, \"ticks\": \"\"}, \"type\": \"contourcarpet\"}], \"heatmap\": [{\"colorbar\": {\"outlinewidth\": 0, \"ticks\": \"\"}, \"colorscale\": [[0.0, \"#0d0887\"], [0.1111111111111111, \"#46039f\"], [0.2222222222222222, \"#7201a8\"], [0.3333333333333333, \"#9c179e\"], [0.4444444444444444, \"#bd3786\"], [0.5555555555555556, \"#d8576b\"], [0.6666666666666666, \"#ed7953\"], [0.7777777777777778, \"#fb9f3a\"], [0.8888888888888888, \"#fdca26\"], [1.0, \"#f0f921\"]], \"type\": \"heatmap\"}], \"heatmapgl\": [{\"colorbar\": {\"outlinewidth\": 0, \"ticks\": \"\"}, \"colorscale\": [[0.0, \"#0d0887\"], [0.1111111111111111, \"#46039f\"], [0.2222222222222222, \"#7201a8\"], [0.3333333333333333, \"#9c179e\"], [0.4444444444444444, \"#bd3786\"], [0.5555555555555556, \"#d8576b\"], [0.6666666666666666, \"#ed7953\"], [0.7777777777777778, \"#fb9f3a\"], [0.8888888888888888, \"#fdca26\"], [1.0, \"#f0f921\"]], \"type\": \"heatmapgl\"}], \"histogram\": [{\"marker\": {\"colorbar\": {\"outlinewidth\": 0, \"ticks\": \"\"}}, \"type\": \"histogram\"}], \"histogram2d\": [{\"colorbar\": {\"outlinewidth\": 0, \"ticks\": \"\"}, \"colorscale\": [[0.0, \"#0d0887\"], [0.1111111111111111, \"#46039f\"], [0.2222222222222222, \"#7201a8\"], [0.3333333333333333, \"#9c179e\"], [0.4444444444444444, \"#bd3786\"], [0.5555555555555556, \"#d8576b\"], [0.6666666666666666, \"#ed7953\"], [0.7777777777777778, \"#fb9f3a\"], [0.8888888888888888, \"#fdca26\"], [1.0, \"#f0f921\"]], \"type\": \"histogram2d\"}], \"histogram2dcontour\": [{\"colorbar\": {\"outlinewidth\": 0, \"ticks\": \"\"}, \"colorscale\": [[0.0, \"#0d0887\"], [0.1111111111111111, \"#46039f\"], [0.2222222222222222, \"#7201a8\"], [0.3333333333333333, \"#9c179e\"], [0.4444444444444444, \"#bd3786\"], [0.5555555555555556, \"#d8576b\"], [0.6666666666666666, \"#ed7953\"], [0.7777777777777778, \"#fb9f3a\"], [0.8888888888888888, \"#fdca26\"], [1.0, \"#f0f921\"]], \"type\": \"histogram2dcontour\"}], \"mesh3d\": [{\"colorbar\": {\"outlinewidth\": 0, \"ticks\": \"\"}, \"type\": \"mesh3d\"}], \"parcoords\": [{\"line\": {\"colorbar\": {\"outlinewidth\": 0, \"ticks\": \"\"}}, \"type\": \"parcoords\"}], \"pie\": [{\"automargin\": true, \"type\": \"pie\"}], \"scatter\": [{\"marker\": {\"colorbar\": {\"outlinewidth\": 0, \"ticks\": \"\"}}, \"type\": \"scatter\"}], \"scatter3d\": [{\"line\": {\"colorbar\": {\"outlinewidth\": 0, \"ticks\": \"\"}}, \"marker\": {\"colorbar\": {\"outlinewidth\": 0, \"ticks\": \"\"}}, \"type\": \"scatter3d\"}], \"scattercarpet\": [{\"marker\": {\"colorbar\": {\"outlinewidth\": 0, \"ticks\": \"\"}}, \"type\": \"scattercarpet\"}], \"scattergeo\": [{\"marker\": {\"colorbar\": {\"outlinewidth\": 0, \"ticks\": \"\"}}, \"type\": \"scattergeo\"}], \"scattergl\": [{\"marker\": {\"colorbar\": {\"outlinewidth\": 0, \"ticks\": \"\"}}, \"type\": \"scattergl\"}], \"scattermapbox\": [{\"marker\": {\"colorbar\": {\"outlinewidth\": 0, \"ticks\": \"\"}}, \"type\": \"scattermapbox\"}], \"scatterpolar\": [{\"marker\": {\"colorbar\": {\"outlinewidth\": 0, \"ticks\": \"\"}}, \"type\": \"scatterpolar\"}], \"scatterpolargl\": [{\"marker\": {\"colorbar\": {\"outlinewidth\": 0, \"ticks\": \"\"}}, \"type\": \"scatterpolargl\"}], \"scatterternary\": [{\"marker\": {\"colorbar\": {\"outlinewidth\": 0, \"ticks\": \"\"}}, \"type\": \"scatterternary\"}], \"surface\": [{\"colorbar\": {\"outlinewidth\": 0, \"ticks\": \"\"}, \"colorscale\": [[0.0, \"#0d0887\"], [0.1111111111111111, \"#46039f\"], [0.2222222222222222, \"#7201a8\"], [0.3333333333333333, \"#9c179e\"], [0.4444444444444444, \"#bd3786\"], [0.5555555555555556, \"#d8576b\"], [0.6666666666666666, \"#ed7953\"], [0.7777777777777778, \"#fb9f3a\"], [0.8888888888888888, \"#fdca26\"], [1.0, \"#f0f921\"]], \"type\": \"surface\"}], \"table\": [{\"cells\": {\"fill\": {\"color\": \"#EBF0F8\"}, \"line\": {\"color\": \"white\"}}, \"header\": {\"fill\": {\"color\": \"#C8D4E3\"}, \"line\": {\"color\": \"white\"}}, \"type\": \"table\"}]}, \"layout\": {\"annotationdefaults\": {\"arrowcolor\": \"#2a3f5f\", \"arrowhead\": 0, \"arrowwidth\": 1}, \"autotypenumbers\": \"strict\", \"coloraxis\": {\"colorbar\": {\"outlinewidth\": 0, \"ticks\": \"\"}}, \"colorscale\": {\"diverging\": [[0, \"#8e0152\"], [0.1, \"#c51b7d\"], [0.2, \"#de77ae\"], [0.3, \"#f1b6da\"], [0.4, \"#fde0ef\"], [0.5, \"#f7f7f7\"], [0.6, \"#e6f5d0\"], [0.7, \"#b8e186\"], [0.8, \"#7fbc41\"], [0.9, \"#4d9221\"], [1, \"#276419\"]], \"sequential\": [[0.0, \"#0d0887\"], [0.1111111111111111, \"#46039f\"], [0.2222222222222222, \"#7201a8\"], [0.3333333333333333, \"#9c179e\"], [0.4444444444444444, \"#bd3786\"], [0.5555555555555556, \"#d8576b\"], [0.6666666666666666, \"#ed7953\"], [0.7777777777777778, \"#fb9f3a\"], [0.8888888888888888, \"#fdca26\"], [1.0, \"#f0f921\"]], \"sequentialminus\": [[0.0, \"#0d0887\"], [0.1111111111111111, \"#46039f\"], [0.2222222222222222, \"#7201a8\"], [0.3333333333333333, \"#9c179e\"], [0.4444444444444444, \"#bd3786\"], [0.5555555555555556, \"#d8576b\"], [0.6666666666666666, \"#ed7953\"], [0.7777777777777778, \"#fb9f3a\"], [0.8888888888888888, \"#fdca26\"], [1.0, \"#f0f921\"]]}, \"colorway\": [\"#636efa\", \"#EF553B\", \"#00cc96\", \"#ab63fa\", \"#FFA15A\", \"#19d3f3\", \"#FF6692\", \"#B6E880\", \"#FF97FF\", \"#FECB52\"], \"font\": {\"color\": \"#2a3f5f\"}, \"geo\": {\"bgcolor\": \"white\", \"lakecolor\": \"white\", \"landcolor\": \"#E5ECF6\", \"showlakes\": true, \"showland\": true, \"subunitcolor\": \"white\"}, \"hoverlabel\": {\"align\": \"left\"}, \"hovermode\": \"closest\", \"mapbox\": {\"style\": \"light\"}, \"paper_bgcolor\": \"white\", \"plot_bgcolor\": \"#E5ECF6\", \"polar\": {\"angularaxis\": {\"gridcolor\": \"white\", \"linecolor\": \"white\", \"ticks\": \"\"}, \"bgcolor\": \"#E5ECF6\", \"radialaxis\": {\"gridcolor\": \"white\", \"linecolor\": \"white\", \"ticks\": \"\"}}, \"scene\": {\"xaxis\": {\"backgroundcolor\": \"#E5ECF6\", \"gridcolor\": \"white\", \"gridwidth\": 2, \"linecolor\": \"white\", \"showbackground\": true, \"ticks\": \"\", \"zerolinecolor\": \"white\"}, \"yaxis\": {\"backgroundcolor\": \"#E5ECF6\", \"gridcolor\": \"white\", \"gridwidth\": 2, \"linecolor\": \"white\", \"showbackground\": true, \"ticks\": \"\", \"zerolinecolor\": \"white\"}, \"zaxis\": {\"backgroundcolor\": \"#E5ECF6\", \"gridcolor\": \"white\", \"gridwidth\": 2, \"linecolor\": \"white\", \"showbackground\": true, \"ticks\": \"\", \"zerolinecolor\": \"white\"}}, \"shapedefaults\": {\"line\": {\"color\": \"#2a3f5f\"}}, \"ternary\": {\"aaxis\": {\"gridcolor\": \"white\", \"linecolor\": \"white\", \"ticks\": \"\"}, \"baxis\": {\"gridcolor\": \"white\", \"linecolor\": \"white\", \"ticks\": \"\"}, \"bgcolor\": \"#E5ECF6\", \"caxis\": {\"gridcolor\": \"white\", \"linecolor\": \"white\", \"ticks\": \"\"}}, \"title\": {\"x\": 0.05}, \"xaxis\": {\"automargin\": true, \"gridcolor\": \"white\", \"linecolor\": \"white\", \"ticks\": \"\", \"title\": {\"standoff\": 15}, \"zerolinecolor\": \"white\", \"zerolinewidth\": 2}, \"yaxis\": {\"automargin\": true, \"gridcolor\": \"white\", \"linecolor\": \"white\", \"ticks\": \"\", \"title\": {\"standoff\": 15}, \"zerolinecolor\": \"white\", \"zerolinewidth\": 2}}}, \"title\": {\"text\": \"Posts on Medium (daily)\"}},                        {\"responsive\": true}                    ).then(function(){\n",
       "                            \n",
       "var gd = document.getElementById('1f2f0745-d178-4be0-b9b9-978938064cff');\n",
       "var x = new MutationObserver(function (mutations, observer) {{\n",
       "        var display = window.getComputedStyle(gd).display;\n",
       "        if (!display || display === 'none') {{\n",
       "            console.log([gd, 'removed!']);\n",
       "            Plotly.purge(gd);\n",
       "            observer.disconnect();\n",
       "        }}\n",
       "}});\n",
       "\n",
       "// Listen for the removal of the full notebook cells\n",
       "var notebookContainer = gd.closest('#notebook-container');\n",
       "if (notebookContainer) {{\n",
       "    x.observe(notebookContainer, {childList: true});\n",
       "}}\n",
       "\n",
       "// Listen for the clearing of the current output cell\n",
       "var outputEl = gd.closest('.output');\n",
       "if (outputEl) {{\n",
       "    x.observe(outputEl, {childList: true});\n",
       "}}\n",
       "\n",
       "                        })                };                });            </script>        </div>"
      ]
     },
     "metadata": {},
     "output_type": "display_data"
    }
   ],
   "source": [
    "plotly_df(daily_df, title='Posts on Medium (daily)')"
   ]
  },
  {
   "cell_type": "markdown",
   "metadata": {
    "_uuid": "a8d19ad05376f24d0b1125e4e67a8a6d1458e896"
   },
   "source": [
    "High-frequency data can be rather difficult to analyze. Even with the ability to zoom in provided by `Plotly`, it is hard to infer anything meaningful from this chart apart from the prominent upward and accelerating trend.\n",
    "\n",
    "To reduce the noise, we will resample the post counts down to weekly bins. Besides *binning*, other possible techniques of noise reduction include [Moving-Average Smoothing](https://en.wikipedia.org/wiki/Moving_average) and [Exponential Smoothing](https://en.wikipedia.org/wiki/Exponential_smoothing), among others.\n",
    "\n",
    "We save our downsampled dataframe in a separate variable because further in this practice we will work only with daily series:"
   ]
  },
  {
   "cell_type": "code",
   "execution_count": 22,
   "metadata": {
    "_uuid": "1dc9255fd111e990d9b3948dda590ee50a2d427f"
   },
   "outputs": [],
   "source": [
    "weekly_df = daily_df.resample('W').apply(sum)"
   ]
  },
  {
   "cell_type": "markdown",
   "metadata": {
    "_uuid": "220b03399c322b3a8b22834a2b885aa029e928e1"
   },
   "source": [
    "Finally, we plot the result:"
   ]
  },
  {
   "cell_type": "code",
   "execution_count": 23,
   "metadata": {
    "_uuid": "39e83db9badd18ca4e9e531f1397f1d91f248cec"
   },
   "outputs": [
    {
     "data": {
      "application/vnd.plotly.v1+json": {
       "config": {
        "linkText": "Export to plot.ly",
        "plotlyServerURL": "https://plot.ly",
        "showLink": false
       },
       "data": [
        {
         "mode": "lines",
         "name": "posts",
         "type": "scatter",
         "x": [
          "2012-08-19T00:00:00+00:00",
          "2012-08-26T00:00:00+00:00",
          "2012-09-02T00:00:00+00:00",
          "2012-09-09T00:00:00+00:00",
          "2012-09-16T00:00:00+00:00",
          "2012-09-23T00:00:00+00:00",
          "2012-09-30T00:00:00+00:00",
          "2012-10-07T00:00:00+00:00",
          "2012-10-14T00:00:00+00:00",
          "2012-10-21T00:00:00+00:00",
          "2012-10-28T00:00:00+00:00",
          "2012-11-04T00:00:00+00:00",
          "2012-11-11T00:00:00+00:00",
          "2012-11-18T00:00:00+00:00",
          "2012-11-25T00:00:00+00:00",
          "2012-12-02T00:00:00+00:00",
          "2012-12-09T00:00:00+00:00",
          "2012-12-16T00:00:00+00:00",
          "2012-12-23T00:00:00+00:00",
          "2012-12-30T00:00:00+00:00",
          "2013-01-06T00:00:00+00:00",
          "2013-01-13T00:00:00+00:00",
          "2013-01-20T00:00:00+00:00",
          "2013-01-27T00:00:00+00:00",
          "2013-02-03T00:00:00+00:00",
          "2013-02-10T00:00:00+00:00",
          "2013-02-17T00:00:00+00:00",
          "2013-02-24T00:00:00+00:00",
          "2013-03-03T00:00:00+00:00",
          "2013-03-10T00:00:00+00:00",
          "2013-03-17T00:00:00+00:00",
          "2013-03-24T00:00:00+00:00",
          "2013-03-31T00:00:00+00:00",
          "2013-04-07T00:00:00+00:00",
          "2013-04-14T00:00:00+00:00",
          "2013-04-21T00:00:00+00:00",
          "2013-04-28T00:00:00+00:00",
          "2013-05-05T00:00:00+00:00",
          "2013-05-12T00:00:00+00:00",
          "2013-05-19T00:00:00+00:00",
          "2013-05-26T00:00:00+00:00",
          "2013-06-02T00:00:00+00:00",
          "2013-06-09T00:00:00+00:00",
          "2013-06-16T00:00:00+00:00",
          "2013-06-23T00:00:00+00:00",
          "2013-06-30T00:00:00+00:00",
          "2013-07-07T00:00:00+00:00",
          "2013-07-14T00:00:00+00:00",
          "2013-07-21T00:00:00+00:00",
          "2013-07-28T00:00:00+00:00",
          "2013-08-04T00:00:00+00:00",
          "2013-08-11T00:00:00+00:00",
          "2013-08-18T00:00:00+00:00",
          "2013-08-25T00:00:00+00:00",
          "2013-09-01T00:00:00+00:00",
          "2013-09-08T00:00:00+00:00",
          "2013-09-15T00:00:00+00:00",
          "2013-09-22T00:00:00+00:00",
          "2013-09-29T00:00:00+00:00",
          "2013-10-06T00:00:00+00:00",
          "2013-10-13T00:00:00+00:00",
          "2013-10-20T00:00:00+00:00",
          "2013-10-27T00:00:00+00:00",
          "2013-11-03T00:00:00+00:00",
          "2013-11-10T00:00:00+00:00",
          "2013-11-17T00:00:00+00:00",
          "2013-11-24T00:00:00+00:00",
          "2013-12-01T00:00:00+00:00",
          "2013-12-08T00:00:00+00:00",
          "2013-12-15T00:00:00+00:00",
          "2013-12-22T00:00:00+00:00",
          "2013-12-29T00:00:00+00:00",
          "2014-01-05T00:00:00+00:00",
          "2014-01-12T00:00:00+00:00",
          "2014-01-19T00:00:00+00:00",
          "2014-01-26T00:00:00+00:00",
          "2014-02-02T00:00:00+00:00",
          "2014-02-09T00:00:00+00:00",
          "2014-02-16T00:00:00+00:00",
          "2014-02-23T00:00:00+00:00",
          "2014-03-02T00:00:00+00:00",
          "2014-03-09T00:00:00+00:00",
          "2014-03-16T00:00:00+00:00",
          "2014-03-23T00:00:00+00:00",
          "2014-03-30T00:00:00+00:00",
          "2014-04-06T00:00:00+00:00",
          "2014-04-13T00:00:00+00:00",
          "2014-04-20T00:00:00+00:00",
          "2014-04-27T00:00:00+00:00",
          "2014-05-04T00:00:00+00:00",
          "2014-05-11T00:00:00+00:00",
          "2014-05-18T00:00:00+00:00",
          "2014-05-25T00:00:00+00:00",
          "2014-06-01T00:00:00+00:00",
          "2014-06-08T00:00:00+00:00",
          "2014-06-15T00:00:00+00:00",
          "2014-06-22T00:00:00+00:00",
          "2014-06-29T00:00:00+00:00",
          "2014-07-06T00:00:00+00:00",
          "2014-07-13T00:00:00+00:00",
          "2014-07-20T00:00:00+00:00",
          "2014-07-27T00:00:00+00:00",
          "2014-08-03T00:00:00+00:00",
          "2014-08-10T00:00:00+00:00",
          "2014-08-17T00:00:00+00:00",
          "2014-08-24T00:00:00+00:00",
          "2014-08-31T00:00:00+00:00",
          "2014-09-07T00:00:00+00:00",
          "2014-09-14T00:00:00+00:00",
          "2014-09-21T00:00:00+00:00",
          "2014-09-28T00:00:00+00:00",
          "2014-10-05T00:00:00+00:00",
          "2014-10-12T00:00:00+00:00",
          "2014-10-19T00:00:00+00:00",
          "2014-10-26T00:00:00+00:00",
          "2014-11-02T00:00:00+00:00",
          "2014-11-09T00:00:00+00:00",
          "2014-11-16T00:00:00+00:00",
          "2014-11-23T00:00:00+00:00",
          "2014-11-30T00:00:00+00:00",
          "2014-12-07T00:00:00+00:00",
          "2014-12-14T00:00:00+00:00",
          "2014-12-21T00:00:00+00:00",
          "2014-12-28T00:00:00+00:00",
          "2015-01-04T00:00:00+00:00",
          "2015-01-11T00:00:00+00:00",
          "2015-01-18T00:00:00+00:00",
          "2015-01-25T00:00:00+00:00",
          "2015-02-01T00:00:00+00:00",
          "2015-02-08T00:00:00+00:00",
          "2015-02-15T00:00:00+00:00",
          "2015-02-22T00:00:00+00:00",
          "2015-03-01T00:00:00+00:00",
          "2015-03-08T00:00:00+00:00",
          "2015-03-15T00:00:00+00:00",
          "2015-03-22T00:00:00+00:00",
          "2015-03-29T00:00:00+00:00",
          "2015-04-05T00:00:00+00:00",
          "2015-04-12T00:00:00+00:00",
          "2015-04-19T00:00:00+00:00",
          "2015-04-26T00:00:00+00:00",
          "2015-05-03T00:00:00+00:00",
          "2015-05-10T00:00:00+00:00",
          "2015-05-17T00:00:00+00:00",
          "2015-05-24T00:00:00+00:00",
          "2015-05-31T00:00:00+00:00",
          "2015-06-07T00:00:00+00:00",
          "2015-06-14T00:00:00+00:00",
          "2015-06-21T00:00:00+00:00",
          "2015-06-28T00:00:00+00:00",
          "2015-07-05T00:00:00+00:00",
          "2015-07-12T00:00:00+00:00",
          "2015-07-19T00:00:00+00:00",
          "2015-07-26T00:00:00+00:00",
          "2015-08-02T00:00:00+00:00",
          "2015-08-09T00:00:00+00:00",
          "2015-08-16T00:00:00+00:00",
          "2015-08-23T00:00:00+00:00",
          "2015-08-30T00:00:00+00:00",
          "2015-09-06T00:00:00+00:00",
          "2015-09-13T00:00:00+00:00",
          "2015-09-20T00:00:00+00:00",
          "2015-09-27T00:00:00+00:00",
          "2015-10-04T00:00:00+00:00",
          "2015-10-11T00:00:00+00:00",
          "2015-10-18T00:00:00+00:00",
          "2015-10-25T00:00:00+00:00",
          "2015-11-01T00:00:00+00:00",
          "2015-11-08T00:00:00+00:00",
          "2015-11-15T00:00:00+00:00",
          "2015-11-22T00:00:00+00:00",
          "2015-11-29T00:00:00+00:00",
          "2015-12-06T00:00:00+00:00",
          "2015-12-13T00:00:00+00:00",
          "2015-12-20T00:00:00+00:00",
          "2015-12-27T00:00:00+00:00",
          "2016-01-03T00:00:00+00:00",
          "2016-01-10T00:00:00+00:00",
          "2016-01-17T00:00:00+00:00",
          "2016-01-24T00:00:00+00:00",
          "2016-01-31T00:00:00+00:00",
          "2016-02-07T00:00:00+00:00",
          "2016-02-14T00:00:00+00:00",
          "2016-02-21T00:00:00+00:00",
          "2016-02-28T00:00:00+00:00",
          "2016-03-06T00:00:00+00:00",
          "2016-03-13T00:00:00+00:00",
          "2016-03-20T00:00:00+00:00",
          "2016-03-27T00:00:00+00:00",
          "2016-04-03T00:00:00+00:00",
          "2016-04-10T00:00:00+00:00",
          "2016-04-17T00:00:00+00:00",
          "2016-04-24T00:00:00+00:00",
          "2016-05-01T00:00:00+00:00",
          "2016-05-08T00:00:00+00:00",
          "2016-05-15T00:00:00+00:00",
          "2016-05-22T00:00:00+00:00",
          "2016-05-29T00:00:00+00:00",
          "2016-06-05T00:00:00+00:00",
          "2016-06-12T00:00:00+00:00",
          "2016-06-19T00:00:00+00:00",
          "2016-06-26T00:00:00+00:00",
          "2016-07-03T00:00:00+00:00",
          "2016-07-10T00:00:00+00:00",
          "2016-07-17T00:00:00+00:00",
          "2016-07-24T00:00:00+00:00",
          "2016-07-31T00:00:00+00:00",
          "2016-08-07T00:00:00+00:00",
          "2016-08-14T00:00:00+00:00",
          "2016-08-21T00:00:00+00:00",
          "2016-08-28T00:00:00+00:00",
          "2016-09-04T00:00:00+00:00",
          "2016-09-11T00:00:00+00:00",
          "2016-09-18T00:00:00+00:00",
          "2016-09-25T00:00:00+00:00",
          "2016-10-02T00:00:00+00:00",
          "2016-10-09T00:00:00+00:00",
          "2016-10-16T00:00:00+00:00",
          "2016-10-23T00:00:00+00:00",
          "2016-10-30T00:00:00+00:00",
          "2016-11-06T00:00:00+00:00",
          "2016-11-13T00:00:00+00:00",
          "2016-11-20T00:00:00+00:00",
          "2016-11-27T00:00:00+00:00",
          "2016-12-04T00:00:00+00:00",
          "2016-12-11T00:00:00+00:00",
          "2016-12-18T00:00:00+00:00",
          "2016-12-25T00:00:00+00:00",
          "2017-01-01T00:00:00+00:00",
          "2017-01-08T00:00:00+00:00",
          "2017-01-15T00:00:00+00:00",
          "2017-01-22T00:00:00+00:00",
          "2017-01-29T00:00:00+00:00",
          "2017-02-05T00:00:00+00:00",
          "2017-02-12T00:00:00+00:00",
          "2017-02-19T00:00:00+00:00",
          "2017-02-26T00:00:00+00:00",
          "2017-03-05T00:00:00+00:00",
          "2017-03-12T00:00:00+00:00",
          "2017-03-19T00:00:00+00:00",
          "2017-03-26T00:00:00+00:00",
          "2017-04-02T00:00:00+00:00",
          "2017-04-09T00:00:00+00:00",
          "2017-04-16T00:00:00+00:00",
          "2017-04-23T00:00:00+00:00",
          "2017-04-30T00:00:00+00:00",
          "2017-05-07T00:00:00+00:00",
          "2017-05-14T00:00:00+00:00",
          "2017-05-21T00:00:00+00:00",
          "2017-05-28T00:00:00+00:00",
          "2017-06-04T00:00:00+00:00",
          "2017-06-11T00:00:00+00:00",
          "2017-06-18T00:00:00+00:00",
          "2017-06-25T00:00:00+00:00"
         ],
         "y": [
          34,
          4,
          1,
          3,
          4,
          2,
          1,
          1,
          3,
          3,
          3,
          3,
          2,
          17,
          6,
          5,
          5,
          5,
          2,
          3,
          6,
          5,
          5,
          4,
          9,
          5,
          8,
          8,
          9,
          4,
          9,
          10,
          13,
          10,
          17,
          18,
          16,
          24,
          24,
          19,
          23,
          28,
          27,
          40,
          35,
          27,
          32,
          20,
          34,
          25,
          30,
          26,
          34,
          42,
          32,
          27,
          33,
          37,
          38,
          32,
          31,
          35,
          46,
          39,
          39,
          41,
          56,
          34,
          40,
          42,
          35,
          22,
          40,
          52,
          45,
          47,
          62,
          48,
          56,
          52,
          39,
          53,
          38,
          71,
          57,
          42,
          61,
          46,
          54,
          62,
          54,
          58,
          57,
          68,
          57,
          54,
          53,
          57,
          58,
          55,
          53,
          51,
          52,
          57,
          65,
          62,
          65,
          58,
          59,
          56,
          73,
          75,
          78,
          93,
          97,
          97,
          85,
          84,
          71,
          81,
          88,
          86,
          97,
          74,
          110,
          128,
          128,
          132,
          120,
          118,
          138,
          107,
          173,
          144,
          151,
          152,
          132,
          159,
          147,
          131,
          132,
          169,
          162,
          170,
          179,
          169,
          192,
          191,
          180,
          199,
          189,
          196,
          229,
          188,
          212,
          214,
          268,
          280,
          250,
          270,
          281,
          259,
          285,
          308,
          416,
          395,
          421,
          419,
          431,
          409,
          351,
          297,
          350,
          407,
          379,
          284,
          383,
          492,
          511,
          457,
          500,
          554,
          556,
          554,
          630,
          610,
          602,
          566,
          595,
          555,
          563,
          570,
          535,
          560,
          538,
          551,
          559,
          505,
          564,
          603,
          669,
          663,
          654,
          660,
          701,
          650,
          737,
          712,
          653,
          690,
          698,
          696,
          664,
          764,
          753,
          788,
          800,
          848,
          845,
          862,
          856,
          1055,
          1002,
          879,
          886,
          1009,
          947,
          908,
          950,
          1073,
          1148,
          1127,
          1182,
          1318,
          1229,
          1226,
          1240,
          1311,
          1343,
          1305,
          1398,
          1424,
          1467,
          1469,
          1654,
          1746,
          1740,
          1726,
          2040,
          2000,
          2153,
          2007,
          2163,
          2639
         ]
        }
       ],
       "layout": {
        "template": {
         "data": {
          "bar": [
           {
            "error_x": {
             "color": "#2a3f5f"
            },
            "error_y": {
             "color": "#2a3f5f"
            },
            "marker": {
             "line": {
              "color": "#E5ECF6",
              "width": 0.5
             }
            },
            "type": "bar"
           }
          ],
          "barpolar": [
           {
            "marker": {
             "line": {
              "color": "#E5ECF6",
              "width": 0.5
             }
            },
            "type": "barpolar"
           }
          ],
          "carpet": [
           {
            "aaxis": {
             "endlinecolor": "#2a3f5f",
             "gridcolor": "white",
             "linecolor": "white",
             "minorgridcolor": "white",
             "startlinecolor": "#2a3f5f"
            },
            "baxis": {
             "endlinecolor": "#2a3f5f",
             "gridcolor": "white",
             "linecolor": "white",
             "minorgridcolor": "white",
             "startlinecolor": "#2a3f5f"
            },
            "type": "carpet"
           }
          ],
          "choropleth": [
           {
            "colorbar": {
             "outlinewidth": 0,
             "ticks": ""
            },
            "type": "choropleth"
           }
          ],
          "contour": [
           {
            "colorbar": {
             "outlinewidth": 0,
             "ticks": ""
            },
            "colorscale": [
             [
              0,
              "#0d0887"
             ],
             [
              0.1111111111111111,
              "#46039f"
             ],
             [
              0.2222222222222222,
              "#7201a8"
             ],
             [
              0.3333333333333333,
              "#9c179e"
             ],
             [
              0.4444444444444444,
              "#bd3786"
             ],
             [
              0.5555555555555556,
              "#d8576b"
             ],
             [
              0.6666666666666666,
              "#ed7953"
             ],
             [
              0.7777777777777778,
              "#fb9f3a"
             ],
             [
              0.8888888888888888,
              "#fdca26"
             ],
             [
              1,
              "#f0f921"
             ]
            ],
            "type": "contour"
           }
          ],
          "contourcarpet": [
           {
            "colorbar": {
             "outlinewidth": 0,
             "ticks": ""
            },
            "type": "contourcarpet"
           }
          ],
          "heatmap": [
           {
            "colorbar": {
             "outlinewidth": 0,
             "ticks": ""
            },
            "colorscale": [
             [
              0,
              "#0d0887"
             ],
             [
              0.1111111111111111,
              "#46039f"
             ],
             [
              0.2222222222222222,
              "#7201a8"
             ],
             [
              0.3333333333333333,
              "#9c179e"
             ],
             [
              0.4444444444444444,
              "#bd3786"
             ],
             [
              0.5555555555555556,
              "#d8576b"
             ],
             [
              0.6666666666666666,
              "#ed7953"
             ],
             [
              0.7777777777777778,
              "#fb9f3a"
             ],
             [
              0.8888888888888888,
              "#fdca26"
             ],
             [
              1,
              "#f0f921"
             ]
            ],
            "type": "heatmap"
           }
          ],
          "heatmapgl": [
           {
            "colorbar": {
             "outlinewidth": 0,
             "ticks": ""
            },
            "colorscale": [
             [
              0,
              "#0d0887"
             ],
             [
              0.1111111111111111,
              "#46039f"
             ],
             [
              0.2222222222222222,
              "#7201a8"
             ],
             [
              0.3333333333333333,
              "#9c179e"
             ],
             [
              0.4444444444444444,
              "#bd3786"
             ],
             [
              0.5555555555555556,
              "#d8576b"
             ],
             [
              0.6666666666666666,
              "#ed7953"
             ],
             [
              0.7777777777777778,
              "#fb9f3a"
             ],
             [
              0.8888888888888888,
              "#fdca26"
             ],
             [
              1,
              "#f0f921"
             ]
            ],
            "type": "heatmapgl"
           }
          ],
          "histogram": [
           {
            "marker": {
             "colorbar": {
              "outlinewidth": 0,
              "ticks": ""
             }
            },
            "type": "histogram"
           }
          ],
          "histogram2d": [
           {
            "colorbar": {
             "outlinewidth": 0,
             "ticks": ""
            },
            "colorscale": [
             [
              0,
              "#0d0887"
             ],
             [
              0.1111111111111111,
              "#46039f"
             ],
             [
              0.2222222222222222,
              "#7201a8"
             ],
             [
              0.3333333333333333,
              "#9c179e"
             ],
             [
              0.4444444444444444,
              "#bd3786"
             ],
             [
              0.5555555555555556,
              "#d8576b"
             ],
             [
              0.6666666666666666,
              "#ed7953"
             ],
             [
              0.7777777777777778,
              "#fb9f3a"
             ],
             [
              0.8888888888888888,
              "#fdca26"
             ],
             [
              1,
              "#f0f921"
             ]
            ],
            "type": "histogram2d"
           }
          ],
          "histogram2dcontour": [
           {
            "colorbar": {
             "outlinewidth": 0,
             "ticks": ""
            },
            "colorscale": [
             [
              0,
              "#0d0887"
             ],
             [
              0.1111111111111111,
              "#46039f"
             ],
             [
              0.2222222222222222,
              "#7201a8"
             ],
             [
              0.3333333333333333,
              "#9c179e"
             ],
             [
              0.4444444444444444,
              "#bd3786"
             ],
             [
              0.5555555555555556,
              "#d8576b"
             ],
             [
              0.6666666666666666,
              "#ed7953"
             ],
             [
              0.7777777777777778,
              "#fb9f3a"
             ],
             [
              0.8888888888888888,
              "#fdca26"
             ],
             [
              1,
              "#f0f921"
             ]
            ],
            "type": "histogram2dcontour"
           }
          ],
          "mesh3d": [
           {
            "colorbar": {
             "outlinewidth": 0,
             "ticks": ""
            },
            "type": "mesh3d"
           }
          ],
          "parcoords": [
           {
            "line": {
             "colorbar": {
              "outlinewidth": 0,
              "ticks": ""
             }
            },
            "type": "parcoords"
           }
          ],
          "pie": [
           {
            "automargin": true,
            "type": "pie"
           }
          ],
          "scatter": [
           {
            "marker": {
             "colorbar": {
              "outlinewidth": 0,
              "ticks": ""
             }
            },
            "type": "scatter"
           }
          ],
          "scatter3d": [
           {
            "line": {
             "colorbar": {
              "outlinewidth": 0,
              "ticks": ""
             }
            },
            "marker": {
             "colorbar": {
              "outlinewidth": 0,
              "ticks": ""
             }
            },
            "type": "scatter3d"
           }
          ],
          "scattercarpet": [
           {
            "marker": {
             "colorbar": {
              "outlinewidth": 0,
              "ticks": ""
             }
            },
            "type": "scattercarpet"
           }
          ],
          "scattergeo": [
           {
            "marker": {
             "colorbar": {
              "outlinewidth": 0,
              "ticks": ""
             }
            },
            "type": "scattergeo"
           }
          ],
          "scattergl": [
           {
            "marker": {
             "colorbar": {
              "outlinewidth": 0,
              "ticks": ""
             }
            },
            "type": "scattergl"
           }
          ],
          "scattermapbox": [
           {
            "marker": {
             "colorbar": {
              "outlinewidth": 0,
              "ticks": ""
             }
            },
            "type": "scattermapbox"
           }
          ],
          "scatterpolar": [
           {
            "marker": {
             "colorbar": {
              "outlinewidth": 0,
              "ticks": ""
             }
            },
            "type": "scatterpolar"
           }
          ],
          "scatterpolargl": [
           {
            "marker": {
             "colorbar": {
              "outlinewidth": 0,
              "ticks": ""
             }
            },
            "type": "scatterpolargl"
           }
          ],
          "scatterternary": [
           {
            "marker": {
             "colorbar": {
              "outlinewidth": 0,
              "ticks": ""
             }
            },
            "type": "scatterternary"
           }
          ],
          "surface": [
           {
            "colorbar": {
             "outlinewidth": 0,
             "ticks": ""
            },
            "colorscale": [
             [
              0,
              "#0d0887"
             ],
             [
              0.1111111111111111,
              "#46039f"
             ],
             [
              0.2222222222222222,
              "#7201a8"
             ],
             [
              0.3333333333333333,
              "#9c179e"
             ],
             [
              0.4444444444444444,
              "#bd3786"
             ],
             [
              0.5555555555555556,
              "#d8576b"
             ],
             [
              0.6666666666666666,
              "#ed7953"
             ],
             [
              0.7777777777777778,
              "#fb9f3a"
             ],
             [
              0.8888888888888888,
              "#fdca26"
             ],
             [
              1,
              "#f0f921"
             ]
            ],
            "type": "surface"
           }
          ],
          "table": [
           {
            "cells": {
             "fill": {
              "color": "#EBF0F8"
             },
             "line": {
              "color": "white"
             }
            },
            "header": {
             "fill": {
              "color": "#C8D4E3"
             },
             "line": {
              "color": "white"
             }
            },
            "type": "table"
           }
          ]
         },
         "layout": {
          "annotationdefaults": {
           "arrowcolor": "#2a3f5f",
           "arrowhead": 0,
           "arrowwidth": 1
          },
          "autotypenumbers": "strict",
          "coloraxis": {
           "colorbar": {
            "outlinewidth": 0,
            "ticks": ""
           }
          },
          "colorscale": {
           "diverging": [
            [
             0,
             "#8e0152"
            ],
            [
             0.1,
             "#c51b7d"
            ],
            [
             0.2,
             "#de77ae"
            ],
            [
             0.3,
             "#f1b6da"
            ],
            [
             0.4,
             "#fde0ef"
            ],
            [
             0.5,
             "#f7f7f7"
            ],
            [
             0.6,
             "#e6f5d0"
            ],
            [
             0.7,
             "#b8e186"
            ],
            [
             0.8,
             "#7fbc41"
            ],
            [
             0.9,
             "#4d9221"
            ],
            [
             1,
             "#276419"
            ]
           ],
           "sequential": [
            [
             0,
             "#0d0887"
            ],
            [
             0.1111111111111111,
             "#46039f"
            ],
            [
             0.2222222222222222,
             "#7201a8"
            ],
            [
             0.3333333333333333,
             "#9c179e"
            ],
            [
             0.4444444444444444,
             "#bd3786"
            ],
            [
             0.5555555555555556,
             "#d8576b"
            ],
            [
             0.6666666666666666,
             "#ed7953"
            ],
            [
             0.7777777777777778,
             "#fb9f3a"
            ],
            [
             0.8888888888888888,
             "#fdca26"
            ],
            [
             1,
             "#f0f921"
            ]
           ],
           "sequentialminus": [
            [
             0,
             "#0d0887"
            ],
            [
             0.1111111111111111,
             "#46039f"
            ],
            [
             0.2222222222222222,
             "#7201a8"
            ],
            [
             0.3333333333333333,
             "#9c179e"
            ],
            [
             0.4444444444444444,
             "#bd3786"
            ],
            [
             0.5555555555555556,
             "#d8576b"
            ],
            [
             0.6666666666666666,
             "#ed7953"
            ],
            [
             0.7777777777777778,
             "#fb9f3a"
            ],
            [
             0.8888888888888888,
             "#fdca26"
            ],
            [
             1,
             "#f0f921"
            ]
           ]
          },
          "colorway": [
           "#636efa",
           "#EF553B",
           "#00cc96",
           "#ab63fa",
           "#FFA15A",
           "#19d3f3",
           "#FF6692",
           "#B6E880",
           "#FF97FF",
           "#FECB52"
          ],
          "font": {
           "color": "#2a3f5f"
          },
          "geo": {
           "bgcolor": "white",
           "lakecolor": "white",
           "landcolor": "#E5ECF6",
           "showlakes": true,
           "showland": true,
           "subunitcolor": "white"
          },
          "hoverlabel": {
           "align": "left"
          },
          "hovermode": "closest",
          "mapbox": {
           "style": "light"
          },
          "paper_bgcolor": "white",
          "plot_bgcolor": "#E5ECF6",
          "polar": {
           "angularaxis": {
            "gridcolor": "white",
            "linecolor": "white",
            "ticks": ""
           },
           "bgcolor": "#E5ECF6",
           "radialaxis": {
            "gridcolor": "white",
            "linecolor": "white",
            "ticks": ""
           }
          },
          "scene": {
           "xaxis": {
            "backgroundcolor": "#E5ECF6",
            "gridcolor": "white",
            "gridwidth": 2,
            "linecolor": "white",
            "showbackground": true,
            "ticks": "",
            "zerolinecolor": "white"
           },
           "yaxis": {
            "backgroundcolor": "#E5ECF6",
            "gridcolor": "white",
            "gridwidth": 2,
            "linecolor": "white",
            "showbackground": true,
            "ticks": "",
            "zerolinecolor": "white"
           },
           "zaxis": {
            "backgroundcolor": "#E5ECF6",
            "gridcolor": "white",
            "gridwidth": 2,
            "linecolor": "white",
            "showbackground": true,
            "ticks": "",
            "zerolinecolor": "white"
           }
          },
          "shapedefaults": {
           "line": {
            "color": "#2a3f5f"
           }
          },
          "ternary": {
           "aaxis": {
            "gridcolor": "white",
            "linecolor": "white",
            "ticks": ""
           },
           "baxis": {
            "gridcolor": "white",
            "linecolor": "white",
            "ticks": ""
           },
           "bgcolor": "#E5ECF6",
           "caxis": {
            "gridcolor": "white",
            "linecolor": "white",
            "ticks": ""
           }
          },
          "title": {
           "x": 0.05
          },
          "xaxis": {
           "automargin": true,
           "gridcolor": "white",
           "linecolor": "white",
           "ticks": "",
           "title": {
            "standoff": 15
           },
           "zerolinecolor": "white",
           "zerolinewidth": 2
          },
          "yaxis": {
           "automargin": true,
           "gridcolor": "white",
           "linecolor": "white",
           "ticks": "",
           "title": {
            "standoff": 15
           },
           "zerolinecolor": "white",
           "zerolinewidth": 2
          }
         }
        },
        "title": {
         "text": "Posts on Medium (weekly)"
        }
       }
      },
      "text/html": [
       "<div>                            <div id=\"c43108bc-8a13-4b54-94a7-92d21e7ada00\" class=\"plotly-graph-div\" style=\"height:525px; width:100%;\"></div>            <script type=\"text/javascript\">                require([\"plotly\"], function(Plotly) {                    window.PLOTLYENV=window.PLOTLYENV || {};                                    if (document.getElementById(\"c43108bc-8a13-4b54-94a7-92d21e7ada00\")) {                    Plotly.newPlot(                        \"c43108bc-8a13-4b54-94a7-92d21e7ada00\",                        [{\"mode\": \"lines\", \"name\": \"posts\", \"type\": \"scatter\", \"x\": [\"2012-08-19T00:00:00+00:00\", \"2012-08-26T00:00:00+00:00\", \"2012-09-02T00:00:00+00:00\", \"2012-09-09T00:00:00+00:00\", \"2012-09-16T00:00:00+00:00\", \"2012-09-23T00:00:00+00:00\", \"2012-09-30T00:00:00+00:00\", \"2012-10-07T00:00:00+00:00\", \"2012-10-14T00:00:00+00:00\", \"2012-10-21T00:00:00+00:00\", \"2012-10-28T00:00:00+00:00\", \"2012-11-04T00:00:00+00:00\", \"2012-11-11T00:00:00+00:00\", \"2012-11-18T00:00:00+00:00\", \"2012-11-25T00:00:00+00:00\", \"2012-12-02T00:00:00+00:00\", \"2012-12-09T00:00:00+00:00\", \"2012-12-16T00:00:00+00:00\", \"2012-12-23T00:00:00+00:00\", \"2012-12-30T00:00:00+00:00\", \"2013-01-06T00:00:00+00:00\", \"2013-01-13T00:00:00+00:00\", \"2013-01-20T00:00:00+00:00\", \"2013-01-27T00:00:00+00:00\", \"2013-02-03T00:00:00+00:00\", \"2013-02-10T00:00:00+00:00\", \"2013-02-17T00:00:00+00:00\", \"2013-02-24T00:00:00+00:00\", \"2013-03-03T00:00:00+00:00\", \"2013-03-10T00:00:00+00:00\", \"2013-03-17T00:00:00+00:00\", \"2013-03-24T00:00:00+00:00\", \"2013-03-31T00:00:00+00:00\", \"2013-04-07T00:00:00+00:00\", \"2013-04-14T00:00:00+00:00\", \"2013-04-21T00:00:00+00:00\", \"2013-04-28T00:00:00+00:00\", \"2013-05-05T00:00:00+00:00\", \"2013-05-12T00:00:00+00:00\", \"2013-05-19T00:00:00+00:00\", \"2013-05-26T00:00:00+00:00\", \"2013-06-02T00:00:00+00:00\", \"2013-06-09T00:00:00+00:00\", \"2013-06-16T00:00:00+00:00\", \"2013-06-23T00:00:00+00:00\", \"2013-06-30T00:00:00+00:00\", \"2013-07-07T00:00:00+00:00\", \"2013-07-14T00:00:00+00:00\", \"2013-07-21T00:00:00+00:00\", \"2013-07-28T00:00:00+00:00\", \"2013-08-04T00:00:00+00:00\", \"2013-08-11T00:00:00+00:00\", \"2013-08-18T00:00:00+00:00\", \"2013-08-25T00:00:00+00:00\", \"2013-09-01T00:00:00+00:00\", \"2013-09-08T00:00:00+00:00\", \"2013-09-15T00:00:00+00:00\", \"2013-09-22T00:00:00+00:00\", \"2013-09-29T00:00:00+00:00\", \"2013-10-06T00:00:00+00:00\", \"2013-10-13T00:00:00+00:00\", \"2013-10-20T00:00:00+00:00\", \"2013-10-27T00:00:00+00:00\", \"2013-11-03T00:00:00+00:00\", \"2013-11-10T00:00:00+00:00\", \"2013-11-17T00:00:00+00:00\", \"2013-11-24T00:00:00+00:00\", \"2013-12-01T00:00:00+00:00\", \"2013-12-08T00:00:00+00:00\", \"2013-12-15T00:00:00+00:00\", \"2013-12-22T00:00:00+00:00\", \"2013-12-29T00:00:00+00:00\", \"2014-01-05T00:00:00+00:00\", \"2014-01-12T00:00:00+00:00\", \"2014-01-19T00:00:00+00:00\", \"2014-01-26T00:00:00+00:00\", \"2014-02-02T00:00:00+00:00\", \"2014-02-09T00:00:00+00:00\", \"2014-02-16T00:00:00+00:00\", \"2014-02-23T00:00:00+00:00\", \"2014-03-02T00:00:00+00:00\", \"2014-03-09T00:00:00+00:00\", \"2014-03-16T00:00:00+00:00\", \"2014-03-23T00:00:00+00:00\", \"2014-03-30T00:00:00+00:00\", \"2014-04-06T00:00:00+00:00\", \"2014-04-13T00:00:00+00:00\", \"2014-04-20T00:00:00+00:00\", \"2014-04-27T00:00:00+00:00\", \"2014-05-04T00:00:00+00:00\", \"2014-05-11T00:00:00+00:00\", \"2014-05-18T00:00:00+00:00\", \"2014-05-25T00:00:00+00:00\", \"2014-06-01T00:00:00+00:00\", \"2014-06-08T00:00:00+00:00\", \"2014-06-15T00:00:00+00:00\", \"2014-06-22T00:00:00+00:00\", \"2014-06-29T00:00:00+00:00\", \"2014-07-06T00:00:00+00:00\", \"2014-07-13T00:00:00+00:00\", \"2014-07-20T00:00:00+00:00\", \"2014-07-27T00:00:00+00:00\", \"2014-08-03T00:00:00+00:00\", \"2014-08-10T00:00:00+00:00\", \"2014-08-17T00:00:00+00:00\", \"2014-08-24T00:00:00+00:00\", \"2014-08-31T00:00:00+00:00\", \"2014-09-07T00:00:00+00:00\", \"2014-09-14T00:00:00+00:00\", \"2014-09-21T00:00:00+00:00\", \"2014-09-28T00:00:00+00:00\", \"2014-10-05T00:00:00+00:00\", \"2014-10-12T00:00:00+00:00\", \"2014-10-19T00:00:00+00:00\", \"2014-10-26T00:00:00+00:00\", \"2014-11-02T00:00:00+00:00\", \"2014-11-09T00:00:00+00:00\", \"2014-11-16T00:00:00+00:00\", \"2014-11-23T00:00:00+00:00\", \"2014-11-30T00:00:00+00:00\", \"2014-12-07T00:00:00+00:00\", \"2014-12-14T00:00:00+00:00\", \"2014-12-21T00:00:00+00:00\", \"2014-12-28T00:00:00+00:00\", \"2015-01-04T00:00:00+00:00\", \"2015-01-11T00:00:00+00:00\", \"2015-01-18T00:00:00+00:00\", \"2015-01-25T00:00:00+00:00\", \"2015-02-01T00:00:00+00:00\", \"2015-02-08T00:00:00+00:00\", \"2015-02-15T00:00:00+00:00\", \"2015-02-22T00:00:00+00:00\", \"2015-03-01T00:00:00+00:00\", \"2015-03-08T00:00:00+00:00\", \"2015-03-15T00:00:00+00:00\", \"2015-03-22T00:00:00+00:00\", \"2015-03-29T00:00:00+00:00\", \"2015-04-05T00:00:00+00:00\", \"2015-04-12T00:00:00+00:00\", \"2015-04-19T00:00:00+00:00\", \"2015-04-26T00:00:00+00:00\", \"2015-05-03T00:00:00+00:00\", \"2015-05-10T00:00:00+00:00\", \"2015-05-17T00:00:00+00:00\", \"2015-05-24T00:00:00+00:00\", \"2015-05-31T00:00:00+00:00\", \"2015-06-07T00:00:00+00:00\", \"2015-06-14T00:00:00+00:00\", \"2015-06-21T00:00:00+00:00\", \"2015-06-28T00:00:00+00:00\", \"2015-07-05T00:00:00+00:00\", \"2015-07-12T00:00:00+00:00\", \"2015-07-19T00:00:00+00:00\", \"2015-07-26T00:00:00+00:00\", \"2015-08-02T00:00:00+00:00\", \"2015-08-09T00:00:00+00:00\", \"2015-08-16T00:00:00+00:00\", \"2015-08-23T00:00:00+00:00\", \"2015-08-30T00:00:00+00:00\", \"2015-09-06T00:00:00+00:00\", \"2015-09-13T00:00:00+00:00\", \"2015-09-20T00:00:00+00:00\", \"2015-09-27T00:00:00+00:00\", \"2015-10-04T00:00:00+00:00\", \"2015-10-11T00:00:00+00:00\", \"2015-10-18T00:00:00+00:00\", \"2015-10-25T00:00:00+00:00\", \"2015-11-01T00:00:00+00:00\", \"2015-11-08T00:00:00+00:00\", \"2015-11-15T00:00:00+00:00\", \"2015-11-22T00:00:00+00:00\", \"2015-11-29T00:00:00+00:00\", \"2015-12-06T00:00:00+00:00\", \"2015-12-13T00:00:00+00:00\", \"2015-12-20T00:00:00+00:00\", \"2015-12-27T00:00:00+00:00\", \"2016-01-03T00:00:00+00:00\", \"2016-01-10T00:00:00+00:00\", \"2016-01-17T00:00:00+00:00\", \"2016-01-24T00:00:00+00:00\", \"2016-01-31T00:00:00+00:00\", \"2016-02-07T00:00:00+00:00\", \"2016-02-14T00:00:00+00:00\", \"2016-02-21T00:00:00+00:00\", \"2016-02-28T00:00:00+00:00\", \"2016-03-06T00:00:00+00:00\", \"2016-03-13T00:00:00+00:00\", \"2016-03-20T00:00:00+00:00\", \"2016-03-27T00:00:00+00:00\", \"2016-04-03T00:00:00+00:00\", \"2016-04-10T00:00:00+00:00\", \"2016-04-17T00:00:00+00:00\", \"2016-04-24T00:00:00+00:00\", \"2016-05-01T00:00:00+00:00\", \"2016-05-08T00:00:00+00:00\", \"2016-05-15T00:00:00+00:00\", \"2016-05-22T00:00:00+00:00\", \"2016-05-29T00:00:00+00:00\", \"2016-06-05T00:00:00+00:00\", \"2016-06-12T00:00:00+00:00\", \"2016-06-19T00:00:00+00:00\", \"2016-06-26T00:00:00+00:00\", \"2016-07-03T00:00:00+00:00\", \"2016-07-10T00:00:00+00:00\", \"2016-07-17T00:00:00+00:00\", \"2016-07-24T00:00:00+00:00\", \"2016-07-31T00:00:00+00:00\", \"2016-08-07T00:00:00+00:00\", \"2016-08-14T00:00:00+00:00\", \"2016-08-21T00:00:00+00:00\", \"2016-08-28T00:00:00+00:00\", \"2016-09-04T00:00:00+00:00\", \"2016-09-11T00:00:00+00:00\", \"2016-09-18T00:00:00+00:00\", \"2016-09-25T00:00:00+00:00\", \"2016-10-02T00:00:00+00:00\", \"2016-10-09T00:00:00+00:00\", \"2016-10-16T00:00:00+00:00\", \"2016-10-23T00:00:00+00:00\", \"2016-10-30T00:00:00+00:00\", \"2016-11-06T00:00:00+00:00\", \"2016-11-13T00:00:00+00:00\", \"2016-11-20T00:00:00+00:00\", \"2016-11-27T00:00:00+00:00\", \"2016-12-04T00:00:00+00:00\", \"2016-12-11T00:00:00+00:00\", \"2016-12-18T00:00:00+00:00\", \"2016-12-25T00:00:00+00:00\", \"2017-01-01T00:00:00+00:00\", \"2017-01-08T00:00:00+00:00\", \"2017-01-15T00:00:00+00:00\", \"2017-01-22T00:00:00+00:00\", \"2017-01-29T00:00:00+00:00\", \"2017-02-05T00:00:00+00:00\", \"2017-02-12T00:00:00+00:00\", \"2017-02-19T00:00:00+00:00\", \"2017-02-26T00:00:00+00:00\", \"2017-03-05T00:00:00+00:00\", \"2017-03-12T00:00:00+00:00\", \"2017-03-19T00:00:00+00:00\", \"2017-03-26T00:00:00+00:00\", \"2017-04-02T00:00:00+00:00\", \"2017-04-09T00:00:00+00:00\", \"2017-04-16T00:00:00+00:00\", \"2017-04-23T00:00:00+00:00\", \"2017-04-30T00:00:00+00:00\", \"2017-05-07T00:00:00+00:00\", \"2017-05-14T00:00:00+00:00\", \"2017-05-21T00:00:00+00:00\", \"2017-05-28T00:00:00+00:00\", \"2017-06-04T00:00:00+00:00\", \"2017-06-11T00:00:00+00:00\", \"2017-06-18T00:00:00+00:00\", \"2017-06-25T00:00:00+00:00\"], \"y\": [34, 4, 1, 3, 4, 2, 1, 1, 3, 3, 3, 3, 2, 17, 6, 5, 5, 5, 2, 3, 6, 5, 5, 4, 9, 5, 8, 8, 9, 4, 9, 10, 13, 10, 17, 18, 16, 24, 24, 19, 23, 28, 27, 40, 35, 27, 32, 20, 34, 25, 30, 26, 34, 42, 32, 27, 33, 37, 38, 32, 31, 35, 46, 39, 39, 41, 56, 34, 40, 42, 35, 22, 40, 52, 45, 47, 62, 48, 56, 52, 39, 53, 38, 71, 57, 42, 61, 46, 54, 62, 54, 58, 57, 68, 57, 54, 53, 57, 58, 55, 53, 51, 52, 57, 65, 62, 65, 58, 59, 56, 73, 75, 78, 93, 97, 97, 85, 84, 71, 81, 88, 86, 97, 74, 110, 128, 128, 132, 120, 118, 138, 107, 173, 144, 151, 152, 132, 159, 147, 131, 132, 169, 162, 170, 179, 169, 192, 191, 180, 199, 189, 196, 229, 188, 212, 214, 268, 280, 250, 270, 281, 259, 285, 308, 416, 395, 421, 419, 431, 409, 351, 297, 350, 407, 379, 284, 383, 492, 511, 457, 500, 554, 556, 554, 630, 610, 602, 566, 595, 555, 563, 570, 535, 560, 538, 551, 559, 505, 564, 603, 669, 663, 654, 660, 701, 650, 737, 712, 653, 690, 698, 696, 664, 764, 753, 788, 800, 848, 845, 862, 856, 1055, 1002, 879, 886, 1009, 947, 908, 950, 1073, 1148, 1127, 1182, 1318, 1229, 1226, 1240, 1311, 1343, 1305, 1398, 1424, 1467, 1469, 1654, 1746, 1740, 1726, 2040, 2000, 2153, 2007, 2163, 2639]}],                        {\"template\": {\"data\": {\"bar\": [{\"error_x\": {\"color\": \"#2a3f5f\"}, \"error_y\": {\"color\": \"#2a3f5f\"}, \"marker\": {\"line\": {\"color\": \"#E5ECF6\", \"width\": 0.5}}, \"type\": \"bar\"}], \"barpolar\": [{\"marker\": {\"line\": {\"color\": \"#E5ECF6\", \"width\": 0.5}}, \"type\": \"barpolar\"}], \"carpet\": [{\"aaxis\": {\"endlinecolor\": \"#2a3f5f\", \"gridcolor\": \"white\", \"linecolor\": \"white\", \"minorgridcolor\": \"white\", \"startlinecolor\": \"#2a3f5f\"}, \"baxis\": {\"endlinecolor\": \"#2a3f5f\", \"gridcolor\": \"white\", \"linecolor\": \"white\", \"minorgridcolor\": \"white\", \"startlinecolor\": \"#2a3f5f\"}, \"type\": \"carpet\"}], \"choropleth\": [{\"colorbar\": {\"outlinewidth\": 0, \"ticks\": \"\"}, \"type\": \"choropleth\"}], \"contour\": [{\"colorbar\": {\"outlinewidth\": 0, \"ticks\": \"\"}, \"colorscale\": [[0.0, \"#0d0887\"], [0.1111111111111111, \"#46039f\"], [0.2222222222222222, \"#7201a8\"], [0.3333333333333333, \"#9c179e\"], [0.4444444444444444, \"#bd3786\"], [0.5555555555555556, \"#d8576b\"], [0.6666666666666666, \"#ed7953\"], [0.7777777777777778, \"#fb9f3a\"], [0.8888888888888888, \"#fdca26\"], [1.0, \"#f0f921\"]], \"type\": \"contour\"}], \"contourcarpet\": [{\"colorbar\": {\"outlinewidth\": 0, \"ticks\": \"\"}, \"type\": \"contourcarpet\"}], \"heatmap\": [{\"colorbar\": {\"outlinewidth\": 0, \"ticks\": \"\"}, \"colorscale\": [[0.0, \"#0d0887\"], [0.1111111111111111, \"#46039f\"], [0.2222222222222222, \"#7201a8\"], [0.3333333333333333, \"#9c179e\"], [0.4444444444444444, \"#bd3786\"], [0.5555555555555556, \"#d8576b\"], [0.6666666666666666, \"#ed7953\"], [0.7777777777777778, \"#fb9f3a\"], [0.8888888888888888, \"#fdca26\"], [1.0, \"#f0f921\"]], \"type\": \"heatmap\"}], \"heatmapgl\": [{\"colorbar\": {\"outlinewidth\": 0, \"ticks\": \"\"}, \"colorscale\": [[0.0, \"#0d0887\"], [0.1111111111111111, \"#46039f\"], [0.2222222222222222, \"#7201a8\"], [0.3333333333333333, \"#9c179e\"], [0.4444444444444444, \"#bd3786\"], [0.5555555555555556, \"#d8576b\"], [0.6666666666666666, \"#ed7953\"], [0.7777777777777778, \"#fb9f3a\"], [0.8888888888888888, \"#fdca26\"], [1.0, \"#f0f921\"]], \"type\": \"heatmapgl\"}], \"histogram\": [{\"marker\": {\"colorbar\": {\"outlinewidth\": 0, \"ticks\": \"\"}}, \"type\": \"histogram\"}], \"histogram2d\": [{\"colorbar\": {\"outlinewidth\": 0, \"ticks\": \"\"}, \"colorscale\": [[0.0, \"#0d0887\"], [0.1111111111111111, \"#46039f\"], [0.2222222222222222, \"#7201a8\"], [0.3333333333333333, \"#9c179e\"], [0.4444444444444444, \"#bd3786\"], [0.5555555555555556, \"#d8576b\"], [0.6666666666666666, \"#ed7953\"], [0.7777777777777778, \"#fb9f3a\"], [0.8888888888888888, \"#fdca26\"], [1.0, \"#f0f921\"]], \"type\": \"histogram2d\"}], \"histogram2dcontour\": [{\"colorbar\": {\"outlinewidth\": 0, \"ticks\": \"\"}, \"colorscale\": [[0.0, \"#0d0887\"], [0.1111111111111111, \"#46039f\"], [0.2222222222222222, \"#7201a8\"], [0.3333333333333333, \"#9c179e\"], [0.4444444444444444, \"#bd3786\"], [0.5555555555555556, \"#d8576b\"], [0.6666666666666666, \"#ed7953\"], [0.7777777777777778, \"#fb9f3a\"], [0.8888888888888888, \"#fdca26\"], [1.0, \"#f0f921\"]], \"type\": \"histogram2dcontour\"}], \"mesh3d\": [{\"colorbar\": {\"outlinewidth\": 0, \"ticks\": \"\"}, \"type\": \"mesh3d\"}], \"parcoords\": [{\"line\": {\"colorbar\": {\"outlinewidth\": 0, \"ticks\": \"\"}}, \"type\": \"parcoords\"}], \"pie\": [{\"automargin\": true, \"type\": \"pie\"}], \"scatter\": [{\"marker\": {\"colorbar\": {\"outlinewidth\": 0, \"ticks\": \"\"}}, \"type\": \"scatter\"}], \"scatter3d\": [{\"line\": {\"colorbar\": {\"outlinewidth\": 0, \"ticks\": \"\"}}, \"marker\": {\"colorbar\": {\"outlinewidth\": 0, \"ticks\": \"\"}}, \"type\": \"scatter3d\"}], \"scattercarpet\": [{\"marker\": {\"colorbar\": {\"outlinewidth\": 0, \"ticks\": \"\"}}, \"type\": \"scattercarpet\"}], \"scattergeo\": [{\"marker\": {\"colorbar\": {\"outlinewidth\": 0, \"ticks\": \"\"}}, \"type\": \"scattergeo\"}], \"scattergl\": [{\"marker\": {\"colorbar\": {\"outlinewidth\": 0, \"ticks\": \"\"}}, \"type\": \"scattergl\"}], \"scattermapbox\": [{\"marker\": {\"colorbar\": {\"outlinewidth\": 0, \"ticks\": \"\"}}, \"type\": \"scattermapbox\"}], \"scatterpolar\": [{\"marker\": {\"colorbar\": {\"outlinewidth\": 0, \"ticks\": \"\"}}, \"type\": \"scatterpolar\"}], \"scatterpolargl\": [{\"marker\": {\"colorbar\": {\"outlinewidth\": 0, \"ticks\": \"\"}}, \"type\": \"scatterpolargl\"}], \"scatterternary\": [{\"marker\": {\"colorbar\": {\"outlinewidth\": 0, \"ticks\": \"\"}}, \"type\": \"scatterternary\"}], \"surface\": [{\"colorbar\": {\"outlinewidth\": 0, \"ticks\": \"\"}, \"colorscale\": [[0.0, \"#0d0887\"], [0.1111111111111111, \"#46039f\"], [0.2222222222222222, \"#7201a8\"], [0.3333333333333333, \"#9c179e\"], [0.4444444444444444, \"#bd3786\"], [0.5555555555555556, \"#d8576b\"], [0.6666666666666666, \"#ed7953\"], [0.7777777777777778, \"#fb9f3a\"], [0.8888888888888888, \"#fdca26\"], [1.0, \"#f0f921\"]], \"type\": \"surface\"}], \"table\": [{\"cells\": {\"fill\": {\"color\": \"#EBF0F8\"}, \"line\": {\"color\": \"white\"}}, \"header\": {\"fill\": {\"color\": \"#C8D4E3\"}, \"line\": {\"color\": \"white\"}}, \"type\": \"table\"}]}, \"layout\": {\"annotationdefaults\": {\"arrowcolor\": \"#2a3f5f\", \"arrowhead\": 0, \"arrowwidth\": 1}, \"autotypenumbers\": \"strict\", \"coloraxis\": {\"colorbar\": {\"outlinewidth\": 0, \"ticks\": \"\"}}, \"colorscale\": {\"diverging\": [[0, \"#8e0152\"], [0.1, \"#c51b7d\"], [0.2, \"#de77ae\"], [0.3, \"#f1b6da\"], [0.4, \"#fde0ef\"], [0.5, \"#f7f7f7\"], [0.6, \"#e6f5d0\"], [0.7, \"#b8e186\"], [0.8, \"#7fbc41\"], [0.9, \"#4d9221\"], [1, \"#276419\"]], \"sequential\": [[0.0, \"#0d0887\"], [0.1111111111111111, \"#46039f\"], [0.2222222222222222, \"#7201a8\"], [0.3333333333333333, \"#9c179e\"], [0.4444444444444444, \"#bd3786\"], [0.5555555555555556, \"#d8576b\"], [0.6666666666666666, \"#ed7953\"], [0.7777777777777778, \"#fb9f3a\"], [0.8888888888888888, \"#fdca26\"], [1.0, \"#f0f921\"]], \"sequentialminus\": [[0.0, \"#0d0887\"], [0.1111111111111111, \"#46039f\"], [0.2222222222222222, \"#7201a8\"], [0.3333333333333333, \"#9c179e\"], [0.4444444444444444, \"#bd3786\"], [0.5555555555555556, \"#d8576b\"], [0.6666666666666666, \"#ed7953\"], [0.7777777777777778, \"#fb9f3a\"], [0.8888888888888888, \"#fdca26\"], [1.0, \"#f0f921\"]]}, \"colorway\": [\"#636efa\", \"#EF553B\", \"#00cc96\", \"#ab63fa\", \"#FFA15A\", \"#19d3f3\", \"#FF6692\", \"#B6E880\", \"#FF97FF\", \"#FECB52\"], \"font\": {\"color\": \"#2a3f5f\"}, \"geo\": {\"bgcolor\": \"white\", \"lakecolor\": \"white\", \"landcolor\": \"#E5ECF6\", \"showlakes\": true, \"showland\": true, \"subunitcolor\": \"white\"}, \"hoverlabel\": {\"align\": \"left\"}, \"hovermode\": \"closest\", \"mapbox\": {\"style\": \"light\"}, \"paper_bgcolor\": \"white\", \"plot_bgcolor\": \"#E5ECF6\", \"polar\": {\"angularaxis\": {\"gridcolor\": \"white\", \"linecolor\": \"white\", \"ticks\": \"\"}, \"bgcolor\": \"#E5ECF6\", \"radialaxis\": {\"gridcolor\": \"white\", \"linecolor\": \"white\", \"ticks\": \"\"}}, \"scene\": {\"xaxis\": {\"backgroundcolor\": \"#E5ECF6\", \"gridcolor\": \"white\", \"gridwidth\": 2, \"linecolor\": \"white\", \"showbackground\": true, \"ticks\": \"\", \"zerolinecolor\": \"white\"}, \"yaxis\": {\"backgroundcolor\": \"#E5ECF6\", \"gridcolor\": \"white\", \"gridwidth\": 2, \"linecolor\": \"white\", \"showbackground\": true, \"ticks\": \"\", \"zerolinecolor\": \"white\"}, \"zaxis\": {\"backgroundcolor\": \"#E5ECF6\", \"gridcolor\": \"white\", \"gridwidth\": 2, \"linecolor\": \"white\", \"showbackground\": true, \"ticks\": \"\", \"zerolinecolor\": \"white\"}}, \"shapedefaults\": {\"line\": {\"color\": \"#2a3f5f\"}}, \"ternary\": {\"aaxis\": {\"gridcolor\": \"white\", \"linecolor\": \"white\", \"ticks\": \"\"}, \"baxis\": {\"gridcolor\": \"white\", \"linecolor\": \"white\", \"ticks\": \"\"}, \"bgcolor\": \"#E5ECF6\", \"caxis\": {\"gridcolor\": \"white\", \"linecolor\": \"white\", \"ticks\": \"\"}}, \"title\": {\"x\": 0.05}, \"xaxis\": {\"automargin\": true, \"gridcolor\": \"white\", \"linecolor\": \"white\", \"ticks\": \"\", \"title\": {\"standoff\": 15}, \"zerolinecolor\": \"white\", \"zerolinewidth\": 2}, \"yaxis\": {\"automargin\": true, \"gridcolor\": \"white\", \"linecolor\": \"white\", \"ticks\": \"\", \"title\": {\"standoff\": 15}, \"zerolinecolor\": \"white\", \"zerolinewidth\": 2}}}, \"title\": {\"text\": \"Posts on Medium (weekly)\"}},                        {\"responsive\": true}                    ).then(function(){\n",
       "                            \n",
       "var gd = document.getElementById('c43108bc-8a13-4b54-94a7-92d21e7ada00');\n",
       "var x = new MutationObserver(function (mutations, observer) {{\n",
       "        var display = window.getComputedStyle(gd).display;\n",
       "        if (!display || display === 'none') {{\n",
       "            console.log([gd, 'removed!']);\n",
       "            Plotly.purge(gd);\n",
       "            observer.disconnect();\n",
       "        }}\n",
       "}});\n",
       "\n",
       "// Listen for the removal of the full notebook cells\n",
       "var notebookContainer = gd.closest('#notebook-container');\n",
       "if (notebookContainer) {{\n",
       "    x.observe(notebookContainer, {childList: true});\n",
       "}}\n",
       "\n",
       "// Listen for the clearing of the current output cell\n",
       "var outputEl = gd.closest('.output');\n",
       "if (outputEl) {{\n",
       "    x.observe(outputEl, {childList: true});\n",
       "}}\n",
       "\n",
       "                        })                };                });            </script>        </div>"
      ]
     },
     "metadata": {},
     "output_type": "display_data"
    }
   ],
   "source": [
    "plotly_df(weekly_df, title='Posts on Medium (weekly)')"
   ]
  },
  {
   "cell_type": "markdown",
   "metadata": {
    "_uuid": "890d1dd4e5fed4bd6eda938555cff3c0ddc79a27"
   },
   "source": [
    "This downsampled chart proves to be somewhat better for an analyst's perception.\n",
    "\n",
    "One of the most useful functions that `Plotly` provides is the ability to quickly dive into different periods of timeline in order to better understand the data and find visual clues about possbile trends, periodic and irregular effects. \n",
    "\n",
    "For example, zooming-in on a couple of consecutive years shows us time points corresponding to Christmas holidays, which greatly influence human behaviors.\n",
    "\n",
    "Now, we're going to omit the first few years of observations, up to 2015. First, they won't contribute much into the forecast quality in 2017. Second, these first years, having very low number of posts per day, are likely to increase noise in our predictions, as the model would be forced to fit this abnormal historical data along with more relevant and indicative data from the recent years."
   ]
  },
  {
   "cell_type": "code",
   "execution_count": 24,
   "metadata": {
    "_uuid": "717cd8ad63d81e015155ed5b232f8169f801ba02"
   },
   "outputs": [
    {
     "data": {
      "text/html": [
       "<div>\n",
       "<style scoped>\n",
       "    .dataframe tbody tr th:only-of-type {\n",
       "        vertical-align: middle;\n",
       "    }\n",
       "\n",
       "    .dataframe tbody tr th {\n",
       "        vertical-align: top;\n",
       "    }\n",
       "\n",
       "    .dataframe thead th {\n",
       "        text-align: right;\n",
       "    }\n",
       "</style>\n",
       "<table border=\"1\" class=\"dataframe\">\n",
       "  <thead>\n",
       "    <tr style=\"text-align: right;\">\n",
       "      <th></th>\n",
       "      <th>posts</th>\n",
       "    </tr>\n",
       "    <tr>\n",
       "      <th>published</th>\n",
       "      <th></th>\n",
       "    </tr>\n",
       "  </thead>\n",
       "  <tbody>\n",
       "    <tr>\n",
       "      <th>2015-01-01 00:00:00+00:00</th>\n",
       "      <td>8</td>\n",
       "    </tr>\n",
       "    <tr>\n",
       "      <th>2015-01-02 00:00:00+00:00</th>\n",
       "      <td>11</td>\n",
       "    </tr>\n",
       "    <tr>\n",
       "      <th>2015-01-03 00:00:00+00:00</th>\n",
       "      <td>11</td>\n",
       "    </tr>\n",
       "  </tbody>\n",
       "</table>\n",
       "</div>"
      ],
      "text/plain": [
       "                           posts\n",
       "published                       \n",
       "2015-01-01 00:00:00+00:00      8\n",
       "2015-01-02 00:00:00+00:00     11\n",
       "2015-01-03 00:00:00+00:00     11"
      ]
     },
     "execution_count": 24,
     "metadata": {},
     "output_type": "execute_result"
    }
   ],
   "source": [
    "daily_df = daily_df.loc[daily_df.index >= '2015-01-01']\n",
    "daily_df.head(n=3)"
   ]
  },
  {
   "cell_type": "markdown",
   "metadata": {
    "_uuid": "19a2cdd816908b2735e3e10ef9adbe5f24ff9c08"
   },
   "source": [
    "To sum up, from visual analysis we can see that our dataset is non-stationary with a prominent growing trend. It also demonstrates weekly and yearly seasonality and a number of abnormal days in each year."
   ]
  },
  {
   "cell_type": "markdown",
   "metadata": {
    "_uuid": "7420b1187d7e3fbe55291838aa161e535b35b332"
   },
   "source": [
    "### 3.4 Making a forecast\n",
    "\n",
    "Prophet's API is very similar to the one you can find in `sklearn`. First we create a model, then call the method `fit`, and, finally, make a forecast. The input to the method `fit` is a `DataFrame` with two columns:\n",
    "* `ds` (datestamp) must be of type `date` or `datetime`.\n",
    "* `y` is a numeric value we want to predict.\n",
    "\n",
    "To get started, we'll import the library and mute unimportant diagnostic messages:"
   ]
  },
  {
   "cell_type": "code",
   "execution_count": 25,
   "metadata": {
    "_uuid": "c7983c563a26ec9a1d3b52cee5bdf3b1f3a451f8"
   },
   "outputs": [],
   "source": [
    "from fbprophet import Prophet\n",
    "\n",
    "import logging\n",
    "logging.getLogger().setLevel(logging.ERROR)"
   ]
  },
  {
   "cell_type": "markdown",
   "metadata": {
    "_uuid": "f20d80f732de63a0c3fbeb9febfa14dc09cf84ba"
   },
   "source": [
    "Let's convert our dataframe to the format required by Prophet:"
   ]
  },
  {
   "cell_type": "code",
   "execution_count": 26,
   "metadata": {
    "_uuid": "cac038f6ada5656f64c66b0aba15a9d17dccc49d"
   },
   "outputs": [
    {
     "data": {
      "text/html": [
       "<div>\n",
       "<style scoped>\n",
       "    .dataframe tbody tr th:only-of-type {\n",
       "        vertical-align: middle;\n",
       "    }\n",
       "\n",
       "    .dataframe tbody tr th {\n",
       "        vertical-align: top;\n",
       "    }\n",
       "\n",
       "    .dataframe thead th {\n",
       "        text-align: right;\n",
       "    }\n",
       "</style>\n",
       "<table border=\"1\" class=\"dataframe\">\n",
       "  <thead>\n",
       "    <tr style=\"text-align: right;\">\n",
       "      <th></th>\n",
       "      <th>ds</th>\n",
       "      <th>y</th>\n",
       "    </tr>\n",
       "  </thead>\n",
       "  <tbody>\n",
       "    <tr>\n",
       "      <th>904</th>\n",
       "      <td>2017-06-23</td>\n",
       "      <td>421</td>\n",
       "    </tr>\n",
       "    <tr>\n",
       "      <th>905</th>\n",
       "      <td>2017-06-24</td>\n",
       "      <td>277</td>\n",
       "    </tr>\n",
       "    <tr>\n",
       "      <th>906</th>\n",
       "      <td>2017-06-25</td>\n",
       "      <td>253</td>\n",
       "    </tr>\n",
       "  </tbody>\n",
       "</table>\n",
       "</div>"
      ],
      "text/plain": [
       "            ds    y\n",
       "904 2017-06-23  421\n",
       "905 2017-06-24  277\n",
       "906 2017-06-25  253"
      ]
     },
     "execution_count": 26,
     "metadata": {},
     "output_type": "execute_result"
    }
   ],
   "source": [
    "df = daily_df.reset_index()\n",
    "df.columns = ['ds', 'y']\n",
    "# converting timezones (issue https://github.com/facebook/prophet/issues/831)\n",
    "df['ds'] = df['ds'].dt.tz_convert(None)\n",
    "df.tail(n=3)"
   ]
  },
  {
   "cell_type": "markdown",
   "metadata": {
    "_uuid": "7510811901df8007b2921b5b28b7b20f8d24474b"
   },
   "source": [
    "The authors of the library generally advise to make predictions based on at least several months, ideally, more than a year of historical data. Luckily, in our case we have more than a couple of years of data to fit the model.\n",
    "\n",
    "To measure the quality of our forecast, we need to split our dataset into the *historical part*, which is the first and biggest slice of our data, and the *prediction part*, which will be located at the end of the timeline. We will remove the last month from the dataset in order to use it later as a prediction target:"
   ]
  },
  {
   "cell_type": "code",
   "execution_count": 27,
   "metadata": {
    "_uuid": "3f4e58c215554e382ce2585c129ab8c7b37ce525"
   },
   "outputs": [
    {
     "data": {
      "text/html": [
       "<div>\n",
       "<style scoped>\n",
       "    .dataframe tbody tr th:only-of-type {\n",
       "        vertical-align: middle;\n",
       "    }\n",
       "\n",
       "    .dataframe tbody tr th {\n",
       "        vertical-align: top;\n",
       "    }\n",
       "\n",
       "    .dataframe thead th {\n",
       "        text-align: right;\n",
       "    }\n",
       "</style>\n",
       "<table border=\"1\" class=\"dataframe\">\n",
       "  <thead>\n",
       "    <tr style=\"text-align: right;\">\n",
       "      <th></th>\n",
       "      <th>ds</th>\n",
       "      <th>y</th>\n",
       "    </tr>\n",
       "  </thead>\n",
       "  <tbody>\n",
       "    <tr>\n",
       "      <th>874</th>\n",
       "      <td>2017-05-24</td>\n",
       "      <td>375</td>\n",
       "    </tr>\n",
       "    <tr>\n",
       "      <th>875</th>\n",
       "      <td>2017-05-25</td>\n",
       "      <td>298</td>\n",
       "    </tr>\n",
       "    <tr>\n",
       "      <th>876</th>\n",
       "      <td>2017-05-26</td>\n",
       "      <td>269</td>\n",
       "    </tr>\n",
       "  </tbody>\n",
       "</table>\n",
       "</div>"
      ],
      "text/plain": [
       "            ds    y\n",
       "874 2017-05-24  375\n",
       "875 2017-05-25  298\n",
       "876 2017-05-26  269"
      ]
     },
     "execution_count": 27,
     "metadata": {},
     "output_type": "execute_result"
    }
   ],
   "source": [
    "prediction_size = 30\n",
    "train_df = df[:-prediction_size]\n",
    "train_df.tail(n=3)"
   ]
  },
  {
   "cell_type": "markdown",
   "metadata": {
    "_uuid": "ccd10b2ad35545797c62411c8757c45e053a5334"
   },
   "source": [
    "Now we need to create a new `Prophet` object. Here we can pass the parameters of the model into the constructor. But in this article we will use the defaults. Then we train our model by invoking its `fit` method on our training dataset:"
   ]
  },
  {
   "cell_type": "code",
   "execution_count": 28,
   "metadata": {
    "_uuid": "ddffb110e2e0898fda7e1d3442574d9830d80e33",
    "scrolled": true
   },
   "outputs": [
    {
     "name": "stderr",
     "output_type": "stream",
     "text": [
      "INFO:fbprophet:Disabling daily seasonality. Run prophet with daily_seasonality=True to override this.\n"
     ]
    }
   ],
   "source": [
    "m = Prophet()\n",
    "m.fit(train_df);"
   ]
  },
  {
   "cell_type": "code",
   "execution_count": 29,
   "metadata": {},
   "outputs": [
    {
     "data": {
      "text/html": [
       "<div>\n",
       "<style scoped>\n",
       "    .dataframe tbody tr th:only-of-type {\n",
       "        vertical-align: middle;\n",
       "    }\n",
       "\n",
       "    .dataframe tbody tr th {\n",
       "        vertical-align: top;\n",
       "    }\n",
       "\n",
       "    .dataframe thead th {\n",
       "        text-align: right;\n",
       "    }\n",
       "</style>\n",
       "<table border=\"1\" class=\"dataframe\">\n",
       "  <thead>\n",
       "    <tr style=\"text-align: right;\">\n",
       "      <th></th>\n",
       "      <th>ds</th>\n",
       "      <th>y</th>\n",
       "    </tr>\n",
       "  </thead>\n",
       "  <tbody>\n",
       "    <tr>\n",
       "      <th>0</th>\n",
       "      <td>2015-01-01</td>\n",
       "      <td>8</td>\n",
       "    </tr>\n",
       "    <tr>\n",
       "      <th>1</th>\n",
       "      <td>2015-01-02</td>\n",
       "      <td>11</td>\n",
       "    </tr>\n",
       "    <tr>\n",
       "      <th>2</th>\n",
       "      <td>2015-01-03</td>\n",
       "      <td>11</td>\n",
       "    </tr>\n",
       "    <tr>\n",
       "      <th>3</th>\n",
       "      <td>2015-01-04</td>\n",
       "      <td>8</td>\n",
       "    </tr>\n",
       "    <tr>\n",
       "      <th>4</th>\n",
       "      <td>2015-01-05</td>\n",
       "      <td>27</td>\n",
       "    </tr>\n",
       "    <tr>\n",
       "      <th>...</th>\n",
       "      <td>...</td>\n",
       "      <td>...</td>\n",
       "    </tr>\n",
       "    <tr>\n",
       "      <th>872</th>\n",
       "      <td>2017-05-22</td>\n",
       "      <td>341</td>\n",
       "    </tr>\n",
       "    <tr>\n",
       "      <th>873</th>\n",
       "      <td>2017-05-23</td>\n",
       "      <td>388</td>\n",
       "    </tr>\n",
       "    <tr>\n",
       "      <th>874</th>\n",
       "      <td>2017-05-24</td>\n",
       "      <td>375</td>\n",
       "    </tr>\n",
       "    <tr>\n",
       "      <th>875</th>\n",
       "      <td>2017-05-25</td>\n",
       "      <td>298</td>\n",
       "    </tr>\n",
       "    <tr>\n",
       "      <th>876</th>\n",
       "      <td>2017-05-26</td>\n",
       "      <td>269</td>\n",
       "    </tr>\n",
       "  </tbody>\n",
       "</table>\n",
       "<p>877 rows × 2 columns</p>\n",
       "</div>"
      ],
      "text/plain": [
       "            ds    y\n",
       "0   2015-01-01    8\n",
       "1   2015-01-02   11\n",
       "2   2015-01-03   11\n",
       "3   2015-01-04    8\n",
       "4   2015-01-05   27\n",
       "..         ...  ...\n",
       "872 2017-05-22  341\n",
       "873 2017-05-23  388\n",
       "874 2017-05-24  375\n",
       "875 2017-05-25  298\n",
       "876 2017-05-26  269\n",
       "\n",
       "[877 rows x 2 columns]"
      ]
     },
     "execution_count": 29,
     "metadata": {},
     "output_type": "execute_result"
    }
   ],
   "source": [
    "train_df"
   ]
  },
  {
   "cell_type": "markdown",
   "metadata": {
    "_uuid": "e2b9d6300c1efa0c080be981ab08b0cf1a657910"
   },
   "source": [
    "Using the helper method `Prophet.make_future_dataframe`, we create a dataframe which will contain all dates from the history and also extend into the future for those 30 days that we left out before."
   ]
  },
  {
   "cell_type": "code",
   "execution_count": 30,
   "metadata": {
    "_uuid": "21c307e7b9ec18f5d516932caf724ea2d4b00a14"
   },
   "outputs": [
    {
     "data": {
      "text/html": [
       "<div>\n",
       "<style scoped>\n",
       "    .dataframe tbody tr th:only-of-type {\n",
       "        vertical-align: middle;\n",
       "    }\n",
       "\n",
       "    .dataframe tbody tr th {\n",
       "        vertical-align: top;\n",
       "    }\n",
       "\n",
       "    .dataframe thead th {\n",
       "        text-align: right;\n",
       "    }\n",
       "</style>\n",
       "<table border=\"1\" class=\"dataframe\">\n",
       "  <thead>\n",
       "    <tr style=\"text-align: right;\">\n",
       "      <th></th>\n",
       "      <th>ds</th>\n",
       "    </tr>\n",
       "  </thead>\n",
       "  <tbody>\n",
       "    <tr>\n",
       "      <th>904</th>\n",
       "      <td>2017-06-23</td>\n",
       "    </tr>\n",
       "    <tr>\n",
       "      <th>905</th>\n",
       "      <td>2017-06-24</td>\n",
       "    </tr>\n",
       "    <tr>\n",
       "      <th>906</th>\n",
       "      <td>2017-06-25</td>\n",
       "    </tr>\n",
       "  </tbody>\n",
       "</table>\n",
       "</div>"
      ],
      "text/plain": [
       "            ds\n",
       "904 2017-06-23\n",
       "905 2017-06-24\n",
       "906 2017-06-25"
      ]
     },
     "execution_count": 30,
     "metadata": {},
     "output_type": "execute_result"
    }
   ],
   "source": [
    "future = m.make_future_dataframe(periods=prediction_size)\n",
    "future.tail(n=3)"
   ]
  },
  {
   "cell_type": "code",
   "execution_count": 31,
   "metadata": {},
   "outputs": [
    {
     "data": {
      "text/html": [
       "<div>\n",
       "<style scoped>\n",
       "    .dataframe tbody tr th:only-of-type {\n",
       "        vertical-align: middle;\n",
       "    }\n",
       "\n",
       "    .dataframe tbody tr th {\n",
       "        vertical-align: top;\n",
       "    }\n",
       "\n",
       "    .dataframe thead th {\n",
       "        text-align: right;\n",
       "    }\n",
       "</style>\n",
       "<table border=\"1\" class=\"dataframe\">\n",
       "  <thead>\n",
       "    <tr style=\"text-align: right;\">\n",
       "      <th></th>\n",
       "      <th>ds</th>\n",
       "    </tr>\n",
       "  </thead>\n",
       "  <tbody>\n",
       "    <tr>\n",
       "      <th>0</th>\n",
       "      <td>2015-01-01</td>\n",
       "    </tr>\n",
       "    <tr>\n",
       "      <th>1</th>\n",
       "      <td>2015-01-02</td>\n",
       "    </tr>\n",
       "    <tr>\n",
       "      <th>2</th>\n",
       "      <td>2015-01-03</td>\n",
       "    </tr>\n",
       "    <tr>\n",
       "      <th>3</th>\n",
       "      <td>2015-01-04</td>\n",
       "    </tr>\n",
       "    <tr>\n",
       "      <th>4</th>\n",
       "      <td>2015-01-05</td>\n",
       "    </tr>\n",
       "    <tr>\n",
       "      <th>...</th>\n",
       "      <td>...</td>\n",
       "    </tr>\n",
       "    <tr>\n",
       "      <th>902</th>\n",
       "      <td>2017-06-21</td>\n",
       "    </tr>\n",
       "    <tr>\n",
       "      <th>903</th>\n",
       "      <td>2017-06-22</td>\n",
       "    </tr>\n",
       "    <tr>\n",
       "      <th>904</th>\n",
       "      <td>2017-06-23</td>\n",
       "    </tr>\n",
       "    <tr>\n",
       "      <th>905</th>\n",
       "      <td>2017-06-24</td>\n",
       "    </tr>\n",
       "    <tr>\n",
       "      <th>906</th>\n",
       "      <td>2017-06-25</td>\n",
       "    </tr>\n",
       "  </tbody>\n",
       "</table>\n",
       "<p>907 rows × 1 columns</p>\n",
       "</div>"
      ],
      "text/plain": [
       "            ds\n",
       "0   2015-01-01\n",
       "1   2015-01-02\n",
       "2   2015-01-03\n",
       "3   2015-01-04\n",
       "4   2015-01-05\n",
       "..         ...\n",
       "902 2017-06-21\n",
       "903 2017-06-22\n",
       "904 2017-06-23\n",
       "905 2017-06-24\n",
       "906 2017-06-25\n",
       "\n",
       "[907 rows x 1 columns]"
      ]
     },
     "execution_count": 31,
     "metadata": {},
     "output_type": "execute_result"
    }
   ],
   "source": [
    "future"
   ]
  },
  {
   "cell_type": "markdown",
   "metadata": {
    "_uuid": "f7eeb03f76307cda790a40a85be8817b5421c23e"
   },
   "source": [
    "We predict values with `Prophet` by passing in the dates for which we want to create a forecast. If we also supply the historical dates (as in our case), then in addition to the prediction we will get an in-sample fit for the history. Let's call the model's `predict` method with our `future` dataframe as an input:"
   ]
  },
  {
   "cell_type": "code",
   "execution_count": 32,
   "metadata": {
    "_uuid": "57210f080bdb4977997bb7da15f8c650388d77ab"
   },
   "outputs": [
    {
     "data": {
      "text/html": [
       "<div>\n",
       "<style scoped>\n",
       "    .dataframe tbody tr th:only-of-type {\n",
       "        vertical-align: middle;\n",
       "    }\n",
       "\n",
       "    .dataframe tbody tr th {\n",
       "        vertical-align: top;\n",
       "    }\n",
       "\n",
       "    .dataframe thead th {\n",
       "        text-align: right;\n",
       "    }\n",
       "</style>\n",
       "<table border=\"1\" class=\"dataframe\">\n",
       "  <thead>\n",
       "    <tr style=\"text-align: right;\">\n",
       "      <th></th>\n",
       "      <th>ds</th>\n",
       "      <th>trend</th>\n",
       "      <th>yhat_lower</th>\n",
       "      <th>yhat_upper</th>\n",
       "      <th>trend_lower</th>\n",
       "      <th>trend_upper</th>\n",
       "      <th>additive_terms</th>\n",
       "      <th>additive_terms_lower</th>\n",
       "      <th>additive_terms_upper</th>\n",
       "      <th>weekly</th>\n",
       "      <th>weekly_lower</th>\n",
       "      <th>weekly_upper</th>\n",
       "      <th>yearly</th>\n",
       "      <th>yearly_lower</th>\n",
       "      <th>yearly_upper</th>\n",
       "      <th>multiplicative_terms</th>\n",
       "      <th>multiplicative_terms_lower</th>\n",
       "      <th>multiplicative_terms_upper</th>\n",
       "      <th>yhat</th>\n",
       "    </tr>\n",
       "  </thead>\n",
       "  <tbody>\n",
       "    <tr>\n",
       "      <th>904</th>\n",
       "      <td>2017-06-23</td>\n",
       "      <td>278.550006</td>\n",
       "      <td>255.390775</td>\n",
       "      <td>305.602602</td>\n",
       "      <td>278.085461</td>\n",
       "      <td>278.984962</td>\n",
       "      <td>2.069783</td>\n",
       "      <td>2.069783</td>\n",
       "      <td>2.069783</td>\n",
       "      <td>3.471594</td>\n",
       "      <td>3.471594</td>\n",
       "      <td>3.471594</td>\n",
       "      <td>-1.401811</td>\n",
       "      <td>-1.401811</td>\n",
       "      <td>-1.401811</td>\n",
       "      <td>0.0</td>\n",
       "      <td>0.0</td>\n",
       "      <td>0.0</td>\n",
       "      <td>280.619789</td>\n",
       "    </tr>\n",
       "    <tr>\n",
       "      <th>905</th>\n",
       "      <td>2017-06-24</td>\n",
       "      <td>279.275326</td>\n",
       "      <td>220.579222</td>\n",
       "      <td>270.343635</td>\n",
       "      <td>278.780044</td>\n",
       "      <td>279.757716</td>\n",
       "      <td>-35.238936</td>\n",
       "      <td>-35.238936</td>\n",
       "      <td>-35.238936</td>\n",
       "      <td>-34.023644</td>\n",
       "      <td>-34.023644</td>\n",
       "      <td>-34.023644</td>\n",
       "      <td>-1.215291</td>\n",
       "      <td>-1.215291</td>\n",
       "      <td>-1.215291</td>\n",
       "      <td>0.0</td>\n",
       "      <td>0.0</td>\n",
       "      <td>0.0</td>\n",
       "      <td>244.036391</td>\n",
       "    </tr>\n",
       "    <tr>\n",
       "      <th>906</th>\n",
       "      <td>2017-06-25</td>\n",
       "      <td>280.000646</td>\n",
       "      <td>226.261711</td>\n",
       "      <td>273.354593</td>\n",
       "      <td>279.459289</td>\n",
       "      <td>280.508734</td>\n",
       "      <td>-31.608830</td>\n",
       "      <td>-31.608830</td>\n",
       "      <td>-31.608830</td>\n",
       "      <td>-30.579639</td>\n",
       "      <td>-30.579639</td>\n",
       "      <td>-30.579639</td>\n",
       "      <td>-1.029190</td>\n",
       "      <td>-1.029190</td>\n",
       "      <td>-1.029190</td>\n",
       "      <td>0.0</td>\n",
       "      <td>0.0</td>\n",
       "      <td>0.0</td>\n",
       "      <td>248.391817</td>\n",
       "    </tr>\n",
       "  </tbody>\n",
       "</table>\n",
       "</div>"
      ],
      "text/plain": [
       "            ds       trend  yhat_lower  yhat_upper  trend_lower  trend_upper  \\\n",
       "904 2017-06-23  278.550006  255.390775  305.602602   278.085461   278.984962   \n",
       "905 2017-06-24  279.275326  220.579222  270.343635   278.780044   279.757716   \n",
       "906 2017-06-25  280.000646  226.261711  273.354593   279.459289   280.508734   \n",
       "\n",
       "     additive_terms  additive_terms_lower  additive_terms_upper     weekly  \\\n",
       "904        2.069783              2.069783              2.069783   3.471594   \n",
       "905      -35.238936            -35.238936            -35.238936 -34.023644   \n",
       "906      -31.608830            -31.608830            -31.608830 -30.579639   \n",
       "\n",
       "     weekly_lower  weekly_upper    yearly  yearly_lower  yearly_upper  \\\n",
       "904      3.471594      3.471594 -1.401811     -1.401811     -1.401811   \n",
       "905    -34.023644    -34.023644 -1.215291     -1.215291     -1.215291   \n",
       "906    -30.579639    -30.579639 -1.029190     -1.029190     -1.029190   \n",
       "\n",
       "     multiplicative_terms  multiplicative_terms_lower  \\\n",
       "904                   0.0                         0.0   \n",
       "905                   0.0                         0.0   \n",
       "906                   0.0                         0.0   \n",
       "\n",
       "     multiplicative_terms_upper        yhat  \n",
       "904                         0.0  280.619789  \n",
       "905                         0.0  244.036391  \n",
       "906                         0.0  248.391817  "
      ]
     },
     "execution_count": 32,
     "metadata": {},
     "output_type": "execute_result"
    }
   ],
   "source": [
    "forecast = m.predict(future)\n",
    "forecast.tail(n=3)"
   ]
  },
  {
   "cell_type": "code",
   "execution_count": 33,
   "metadata": {},
   "outputs": [
    {
     "data": {
      "text/html": [
       "<div>\n",
       "<style scoped>\n",
       "    .dataframe tbody tr th:only-of-type {\n",
       "        vertical-align: middle;\n",
       "    }\n",
       "\n",
       "    .dataframe tbody tr th {\n",
       "        vertical-align: top;\n",
       "    }\n",
       "\n",
       "    .dataframe thead th {\n",
       "        text-align: right;\n",
       "    }\n",
       "</style>\n",
       "<table border=\"1\" class=\"dataframe\">\n",
       "  <thead>\n",
       "    <tr style=\"text-align: right;\">\n",
       "      <th></th>\n",
       "      <th>ds</th>\n",
       "      <th>trend</th>\n",
       "      <th>yhat_lower</th>\n",
       "      <th>yhat_upper</th>\n",
       "      <th>trend_lower</th>\n",
       "      <th>trend_upper</th>\n",
       "      <th>additive_terms</th>\n",
       "      <th>additive_terms_lower</th>\n",
       "      <th>additive_terms_upper</th>\n",
       "      <th>weekly</th>\n",
       "      <th>weekly_lower</th>\n",
       "      <th>weekly_upper</th>\n",
       "      <th>yearly</th>\n",
       "      <th>yearly_lower</th>\n",
       "      <th>yearly_upper</th>\n",
       "      <th>multiplicative_terms</th>\n",
       "      <th>multiplicative_terms_lower</th>\n",
       "      <th>multiplicative_terms_upper</th>\n",
       "      <th>yhat</th>\n",
       "    </tr>\n",
       "  </thead>\n",
       "  <tbody>\n",
       "    <tr>\n",
       "      <th>0</th>\n",
       "      <td>2015-01-01</td>\n",
       "      <td>12.724265</td>\n",
       "      <td>-5.503218</td>\n",
       "      <td>45.443299</td>\n",
       "      <td>12.724265</td>\n",
       "      <td>12.724265</td>\n",
       "      <td>6.693295</td>\n",
       "      <td>6.693295</td>\n",
       "      <td>6.693295</td>\n",
       "      <td>13.067643</td>\n",
       "      <td>13.067643</td>\n",
       "      <td>13.067643</td>\n",
       "      <td>-6.374348</td>\n",
       "      <td>-6.374348</td>\n",
       "      <td>-6.374348</td>\n",
       "      <td>0.0</td>\n",
       "      <td>0.0</td>\n",
       "      <td>0.0</td>\n",
       "      <td>19.417560</td>\n",
       "    </tr>\n",
       "    <tr>\n",
       "      <th>1</th>\n",
       "      <td>2015-01-02</td>\n",
       "      <td>12.820278</td>\n",
       "      <td>-13.821564</td>\n",
       "      <td>32.565939</td>\n",
       "      <td>12.820278</td>\n",
       "      <td>12.820278</td>\n",
       "      <td>-2.250753</td>\n",
       "      <td>-2.250753</td>\n",
       "      <td>-2.250753</td>\n",
       "      <td>3.471594</td>\n",
       "      <td>3.471594</td>\n",
       "      <td>3.471594</td>\n",
       "      <td>-5.722347</td>\n",
       "      <td>-5.722347</td>\n",
       "      <td>-5.722347</td>\n",
       "      <td>0.0</td>\n",
       "      <td>0.0</td>\n",
       "      <td>0.0</td>\n",
       "      <td>10.569525</td>\n",
       "    </tr>\n",
       "    <tr>\n",
       "      <th>2</th>\n",
       "      <td>2015-01-03</td>\n",
       "      <td>12.916292</td>\n",
       "      <td>-51.545655</td>\n",
       "      <td>-1.588349</td>\n",
       "      <td>12.916292</td>\n",
       "      <td>12.916292</td>\n",
       "      <td>-39.056874</td>\n",
       "      <td>-39.056874</td>\n",
       "      <td>-39.056874</td>\n",
       "      <td>-34.023644</td>\n",
       "      <td>-34.023644</td>\n",
       "      <td>-34.023644</td>\n",
       "      <td>-5.033230</td>\n",
       "      <td>-5.033230</td>\n",
       "      <td>-5.033230</td>\n",
       "      <td>0.0</td>\n",
       "      <td>0.0</td>\n",
       "      <td>0.0</td>\n",
       "      <td>-26.140582</td>\n",
       "    </tr>\n",
       "    <tr>\n",
       "      <th>3</th>\n",
       "      <td>2015-01-04</td>\n",
       "      <td>13.012305</td>\n",
       "      <td>-46.882239</td>\n",
       "      <td>3.852535</td>\n",
       "      <td>13.012305</td>\n",
       "      <td>13.012305</td>\n",
       "      <td>-34.893690</td>\n",
       "      <td>-34.893690</td>\n",
       "      <td>-34.893690</td>\n",
       "      <td>-30.579639</td>\n",
       "      <td>-30.579639</td>\n",
       "      <td>-30.579639</td>\n",
       "      <td>-4.314051</td>\n",
       "      <td>-4.314051</td>\n",
       "      <td>-4.314051</td>\n",
       "      <td>0.0</td>\n",
       "      <td>0.0</td>\n",
       "      <td>0.0</td>\n",
       "      <td>-21.881385</td>\n",
       "    </tr>\n",
       "    <tr>\n",
       "      <th>4</th>\n",
       "      <td>2015-01-05</td>\n",
       "      <td>13.108319</td>\n",
       "      <td>-0.815583</td>\n",
       "      <td>48.844069</td>\n",
       "      <td>13.108319</td>\n",
       "      <td>13.108319</td>\n",
       "      <td>10.156943</td>\n",
       "      <td>10.156943</td>\n",
       "      <td>10.156943</td>\n",
       "      <td>13.729370</td>\n",
       "      <td>13.729370</td>\n",
       "      <td>13.729370</td>\n",
       "      <td>-3.572427</td>\n",
       "      <td>-3.572427</td>\n",
       "      <td>-3.572427</td>\n",
       "      <td>0.0</td>\n",
       "      <td>0.0</td>\n",
       "      <td>0.0</td>\n",
       "      <td>23.265262</td>\n",
       "    </tr>\n",
       "    <tr>\n",
       "      <th>...</th>\n",
       "      <td>...</td>\n",
       "      <td>...</td>\n",
       "      <td>...</td>\n",
       "      <td>...</td>\n",
       "      <td>...</td>\n",
       "      <td>...</td>\n",
       "      <td>...</td>\n",
       "      <td>...</td>\n",
       "      <td>...</td>\n",
       "      <td>...</td>\n",
       "      <td>...</td>\n",
       "      <td>...</td>\n",
       "      <td>...</td>\n",
       "      <td>...</td>\n",
       "      <td>...</td>\n",
       "      <td>...</td>\n",
       "      <td>...</td>\n",
       "      <td>...</td>\n",
       "      <td>...</td>\n",
       "    </tr>\n",
       "    <tr>\n",
       "      <th>902</th>\n",
       "      <td>2017-06-21</td>\n",
       "      <td>277.099366</td>\n",
       "      <td>267.641827</td>\n",
       "      <td>317.082874</td>\n",
       "      <td>276.684582</td>\n",
       "      <td>277.460692</td>\n",
       "      <td>15.375818</td>\n",
       "      <td>15.375818</td>\n",
       "      <td>15.375818</td>\n",
       "      <td>17.135073</td>\n",
       "      <td>17.135073</td>\n",
       "      <td>17.135073</td>\n",
       "      <td>-1.759255</td>\n",
       "      <td>-1.759255</td>\n",
       "      <td>-1.759255</td>\n",
       "      <td>0.0</td>\n",
       "      <td>0.0</td>\n",
       "      <td>0.0</td>\n",
       "      <td>292.475184</td>\n",
       "    </tr>\n",
       "    <tr>\n",
       "      <th>903</th>\n",
       "      <td>2017-06-22</td>\n",
       "      <td>277.824686</td>\n",
       "      <td>264.390767</td>\n",
       "      <td>314.757509</td>\n",
       "      <td>277.384002</td>\n",
       "      <td>278.234703</td>\n",
       "      <td>11.483092</td>\n",
       "      <td>11.483092</td>\n",
       "      <td>11.483092</td>\n",
       "      <td>13.067643</td>\n",
       "      <td>13.067643</td>\n",
       "      <td>13.067643</td>\n",
       "      <td>-1.584551</td>\n",
       "      <td>-1.584551</td>\n",
       "      <td>-1.584551</td>\n",
       "      <td>0.0</td>\n",
       "      <td>0.0</td>\n",
       "      <td>0.0</td>\n",
       "      <td>289.307779</td>\n",
       "    </tr>\n",
       "    <tr>\n",
       "      <th>904</th>\n",
       "      <td>2017-06-23</td>\n",
       "      <td>278.550006</td>\n",
       "      <td>255.390775</td>\n",
       "      <td>305.602602</td>\n",
       "      <td>278.085461</td>\n",
       "      <td>278.984962</td>\n",
       "      <td>2.069783</td>\n",
       "      <td>2.069783</td>\n",
       "      <td>2.069783</td>\n",
       "      <td>3.471594</td>\n",
       "      <td>3.471594</td>\n",
       "      <td>3.471594</td>\n",
       "      <td>-1.401811</td>\n",
       "      <td>-1.401811</td>\n",
       "      <td>-1.401811</td>\n",
       "      <td>0.0</td>\n",
       "      <td>0.0</td>\n",
       "      <td>0.0</td>\n",
       "      <td>280.619789</td>\n",
       "    </tr>\n",
       "    <tr>\n",
       "      <th>905</th>\n",
       "      <td>2017-06-24</td>\n",
       "      <td>279.275326</td>\n",
       "      <td>220.579222</td>\n",
       "      <td>270.343635</td>\n",
       "      <td>278.780044</td>\n",
       "      <td>279.757716</td>\n",
       "      <td>-35.238936</td>\n",
       "      <td>-35.238936</td>\n",
       "      <td>-35.238936</td>\n",
       "      <td>-34.023644</td>\n",
       "      <td>-34.023644</td>\n",
       "      <td>-34.023644</td>\n",
       "      <td>-1.215291</td>\n",
       "      <td>-1.215291</td>\n",
       "      <td>-1.215291</td>\n",
       "      <td>0.0</td>\n",
       "      <td>0.0</td>\n",
       "      <td>0.0</td>\n",
       "      <td>244.036391</td>\n",
       "    </tr>\n",
       "    <tr>\n",
       "      <th>906</th>\n",
       "      <td>2017-06-25</td>\n",
       "      <td>280.000646</td>\n",
       "      <td>226.261711</td>\n",
       "      <td>273.354593</td>\n",
       "      <td>279.459289</td>\n",
       "      <td>280.508734</td>\n",
       "      <td>-31.608830</td>\n",
       "      <td>-31.608830</td>\n",
       "      <td>-31.608830</td>\n",
       "      <td>-30.579639</td>\n",
       "      <td>-30.579639</td>\n",
       "      <td>-30.579639</td>\n",
       "      <td>-1.029190</td>\n",
       "      <td>-1.029190</td>\n",
       "      <td>-1.029190</td>\n",
       "      <td>0.0</td>\n",
       "      <td>0.0</td>\n",
       "      <td>0.0</td>\n",
       "      <td>248.391817</td>\n",
       "    </tr>\n",
       "  </tbody>\n",
       "</table>\n",
       "<p>907 rows × 19 columns</p>\n",
       "</div>"
      ],
      "text/plain": [
       "            ds       trend  yhat_lower  yhat_upper  trend_lower  trend_upper  \\\n",
       "0   2015-01-01   12.724265   -5.503218   45.443299    12.724265    12.724265   \n",
       "1   2015-01-02   12.820278  -13.821564   32.565939    12.820278    12.820278   \n",
       "2   2015-01-03   12.916292  -51.545655   -1.588349    12.916292    12.916292   \n",
       "3   2015-01-04   13.012305  -46.882239    3.852535    13.012305    13.012305   \n",
       "4   2015-01-05   13.108319   -0.815583   48.844069    13.108319    13.108319   \n",
       "..         ...         ...         ...         ...          ...          ...   \n",
       "902 2017-06-21  277.099366  267.641827  317.082874   276.684582   277.460692   \n",
       "903 2017-06-22  277.824686  264.390767  314.757509   277.384002   278.234703   \n",
       "904 2017-06-23  278.550006  255.390775  305.602602   278.085461   278.984962   \n",
       "905 2017-06-24  279.275326  220.579222  270.343635   278.780044   279.757716   \n",
       "906 2017-06-25  280.000646  226.261711  273.354593   279.459289   280.508734   \n",
       "\n",
       "     additive_terms  additive_terms_lower  additive_terms_upper     weekly  \\\n",
       "0          6.693295              6.693295              6.693295  13.067643   \n",
       "1         -2.250753             -2.250753             -2.250753   3.471594   \n",
       "2        -39.056874            -39.056874            -39.056874 -34.023644   \n",
       "3        -34.893690            -34.893690            -34.893690 -30.579639   \n",
       "4         10.156943             10.156943             10.156943  13.729370   \n",
       "..              ...                   ...                   ...        ...   \n",
       "902       15.375818             15.375818             15.375818  17.135073   \n",
       "903       11.483092             11.483092             11.483092  13.067643   \n",
       "904        2.069783              2.069783              2.069783   3.471594   \n",
       "905      -35.238936            -35.238936            -35.238936 -34.023644   \n",
       "906      -31.608830            -31.608830            -31.608830 -30.579639   \n",
       "\n",
       "     weekly_lower  weekly_upper    yearly  yearly_lower  yearly_upper  \\\n",
       "0       13.067643     13.067643 -6.374348     -6.374348     -6.374348   \n",
       "1        3.471594      3.471594 -5.722347     -5.722347     -5.722347   \n",
       "2      -34.023644    -34.023644 -5.033230     -5.033230     -5.033230   \n",
       "3      -30.579639    -30.579639 -4.314051     -4.314051     -4.314051   \n",
       "4       13.729370     13.729370 -3.572427     -3.572427     -3.572427   \n",
       "..            ...           ...       ...           ...           ...   \n",
       "902     17.135073     17.135073 -1.759255     -1.759255     -1.759255   \n",
       "903     13.067643     13.067643 -1.584551     -1.584551     -1.584551   \n",
       "904      3.471594      3.471594 -1.401811     -1.401811     -1.401811   \n",
       "905    -34.023644    -34.023644 -1.215291     -1.215291     -1.215291   \n",
       "906    -30.579639    -30.579639 -1.029190     -1.029190     -1.029190   \n",
       "\n",
       "     multiplicative_terms  multiplicative_terms_lower  \\\n",
       "0                     0.0                         0.0   \n",
       "1                     0.0                         0.0   \n",
       "2                     0.0                         0.0   \n",
       "3                     0.0                         0.0   \n",
       "4                     0.0                         0.0   \n",
       "..                    ...                         ...   \n",
       "902                   0.0                         0.0   \n",
       "903                   0.0                         0.0   \n",
       "904                   0.0                         0.0   \n",
       "905                   0.0                         0.0   \n",
       "906                   0.0                         0.0   \n",
       "\n",
       "     multiplicative_terms_upper        yhat  \n",
       "0                           0.0   19.417560  \n",
       "1                           0.0   10.569525  \n",
       "2                           0.0  -26.140582  \n",
       "3                           0.0  -21.881385  \n",
       "4                           0.0   23.265262  \n",
       "..                          ...         ...  \n",
       "902                         0.0  292.475184  \n",
       "903                         0.0  289.307779  \n",
       "904                         0.0  280.619789  \n",
       "905                         0.0  244.036391  \n",
       "906                         0.0  248.391817  \n",
       "\n",
       "[907 rows x 19 columns]"
      ]
     },
     "execution_count": 33,
     "metadata": {},
     "output_type": "execute_result"
    }
   ],
   "source": [
    "forecast"
   ]
  },
  {
   "cell_type": "markdown",
   "metadata": {
    "_uuid": "cfc1e27ea4930d049d02cde74f9662da9c02b5c2"
   },
   "source": [
    "In the resulting dataframe you can see many columns characterizing the prediction, including trend and seasonality components as well as their confidence intervals. The forecast itself is stored in the `yhat` column.\n",
    "\n",
    "The Prophet library has its own built-in tools for visualization that enable us to quickly evaluate the result.\n",
    "\n",
    "First, there is a method called `Prophet.plot` that plots all the points from the forecast:"
   ]
  },
  {
   "cell_type": "code",
   "execution_count": 34,
   "metadata": {
    "_uuid": "aab2a8ae82e9ac49dc72fbd973f6f9ee740c4973"
   },
   "outputs": [
    {
     "data": {
      "image/png": "[encoded data removed]",
      "text/plain": [
       "<Figure size 720x432 with 1 Axes>"
      ]
     },
     "metadata": {
      "image/png": {
       "height": 423,
       "width": 711
      }
     },
     "output_type": "display_data"
    }
   ],
   "source": [
    "m.plot(forecast);"
   ]
  },
  {
   "cell_type": "markdown",
   "metadata": {
    "_uuid": "f5296cfcb6ef4f8c7d856119ff73fee797ac71fb"
   },
   "source": [
    "This chart doesn't look very informative. The only definitive conclusion that we can draw here is that the model treated many of the data points as outliers.\n",
    "\n",
    "The second function `Prophet.plot_components` might be much more useful in our case. It allows us to observe different components of the model separately: trend, yearly and weekly seasonality. In addition, if you supply information about holidays and events to your model, they will also be shown in this plot.\n",
    "\n",
    "Let's try it out:"
   ]
  },
  {
   "cell_type": "code",
   "execution_count": 35,
   "metadata": {
    "_uuid": "8bc45e1b06190261c530ca52cf904ad6da17ad1b"
   },
   "outputs": [
    {
     "data": {
      "image/png": "[encoded data removed]",
      "text/plain": [
       "<Figure size 648x648 with 3 Axes>"
      ]
     },
     "metadata": {
      "image/png": {
       "height": 639,
       "width": 639
      }
     },
     "output_type": "display_data"
    }
   ],
   "source": [
    "m.plot_components(forecast);"
   ]
  },
  {
   "cell_type": "markdown",
   "metadata": {
    "_uuid": "b62f1b3ec9c35618d49d198ca98ccfcec353f549"
   },
   "source": [
    "As you can see from the trend graph, Prophet did a good job by fitting the accelerated growth of new posts at the end of 2016. The graph of weekly seasonality leads to the conclusion that usually there are less new posts on Saturdays and Sundays than on the other days of the week. In the yearly seasonality graph there is a prominent dip on Christmas Day."
   ]
  },
  {
   "cell_type": "markdown",
   "metadata": {
    "_uuid": "0d437afea58779426c3c5631768eff0a8afe0cec"
   },
   "source": [
    "### 3.5 Forecast quality evaluation"
   ]
  },
  {
   "cell_type": "markdown",
   "metadata": {
    "_uuid": "86c3cbe66ad4b4af8aa6c6461a159ea581c78137"
   },
   "source": [
    "Let's evaluate the quality of the algorithm by calculating the error metrics for the last 30 days that we predicted. For this, we will need the observations $y_i$ and the corresponding predicted values $\\hat{y}_i$.\n",
    "\n",
    "Let's look into the object `forecast` that the library created for us:"
   ]
  },
  {
   "cell_type": "code",
   "execution_count": 36,
   "metadata": {
    "_uuid": "4509daabded142779b078792d8fd6097dcc4465d"
   },
   "outputs": [
    {
     "name": "stdout",
     "output_type": "stream",
     "text": [
      "ds, trend, yhat_lower, yhat_upper, trend_lower, trend_upper, additive_terms, additive_terms_lower, additive_terms_upper, weekly, weekly_lower, weekly_upper, yearly, yearly_lower, yearly_upper, multiplicative_terms, multiplicative_terms_lower, multiplicative_terms_upper, yhat\n"
     ]
    }
   ],
   "source": [
    "print(', '.join(forecast.columns))"
   ]
  },
  {
   "cell_type": "markdown",
   "metadata": {
    "_uuid": "c75fb75baca60108a7fe0e8d7beeafb1e144b123"
   },
   "source": [
    "We can see that this dataframe contains all the information we need except for the historical values. We need to join the `forecast` object with the actual values `y` from the original dataset `df`. For this we will define a helper function that we will reuse later:"
   ]
  },
  {
   "cell_type": "code",
   "execution_count": 37,
   "metadata": {
    "_uuid": "56f0753df64b6586323a75a99bd1d4bbba0ae13e"
   },
   "outputs": [],
   "source": [
    "def make_comparison_dataframe(historical, forecast):\n",
    "    \"\"\"Join the history with the forecast.\n",
    "    \n",
    "       The resulting dataset will contain columns 'yhat', 'yhat_lower', 'yhat_upper' and 'y'.\n",
    "    \"\"\"\n",
    "    return forecast.set_index('ds')[['yhat', 'yhat_lower', 'yhat_upper']].join(historical.set_index('ds'))"
   ]
  },
  {
   "cell_type": "markdown",
   "metadata": {
    "_uuid": "31534173ecf1c2559ece2190080336cbdd4f8db0"
   },
   "source": [
    "Let's apply this function to our last forecast:"
   ]
  },
  {
   "cell_type": "code",
   "execution_count": 38,
   "metadata": {
    "_uuid": "99558427938cc553f8a0d0bb168d0e721c229f72"
   },
   "outputs": [
    {
     "data": {
      "text/html": [
       "<div>\n",
       "<style scoped>\n",
       "    .dataframe tbody tr th:only-of-type {\n",
       "        vertical-align: middle;\n",
       "    }\n",
       "\n",
       "    .dataframe tbody tr th {\n",
       "        vertical-align: top;\n",
       "    }\n",
       "\n",
       "    .dataframe thead th {\n",
       "        text-align: right;\n",
       "    }\n",
       "</style>\n",
       "<table border=\"1\" class=\"dataframe\">\n",
       "  <thead>\n",
       "    <tr style=\"text-align: right;\">\n",
       "      <th></th>\n",
       "      <th>yhat</th>\n",
       "      <th>yhat_lower</th>\n",
       "      <th>yhat_upper</th>\n",
       "      <th>y</th>\n",
       "    </tr>\n",
       "    <tr>\n",
       "      <th>ds</th>\n",
       "      <th></th>\n",
       "      <th></th>\n",
       "      <th></th>\n",
       "      <th></th>\n",
       "    </tr>\n",
       "  </thead>\n",
       "  <tbody>\n",
       "    <tr>\n",
       "      <th>2017-06-23</th>\n",
       "      <td>280.619789</td>\n",
       "      <td>255.390775</td>\n",
       "      <td>305.602602</td>\n",
       "      <td>421</td>\n",
       "    </tr>\n",
       "    <tr>\n",
       "      <th>2017-06-24</th>\n",
       "      <td>244.036391</td>\n",
       "      <td>220.579222</td>\n",
       "      <td>270.343635</td>\n",
       "      <td>277</td>\n",
       "    </tr>\n",
       "    <tr>\n",
       "      <th>2017-06-25</th>\n",
       "      <td>248.391817</td>\n",
       "      <td>226.261711</td>\n",
       "      <td>273.354593</td>\n",
       "      <td>253</td>\n",
       "    </tr>\n",
       "  </tbody>\n",
       "</table>\n",
       "</div>"
      ],
      "text/plain": [
       "                  yhat  yhat_lower  yhat_upper    y\n",
       "ds                                                 \n",
       "2017-06-23  280.619789  255.390775  305.602602  421\n",
       "2017-06-24  244.036391  220.579222  270.343635  277\n",
       "2017-06-25  248.391817  226.261711  273.354593  253"
      ]
     },
     "execution_count": 38,
     "metadata": {},
     "output_type": "execute_result"
    }
   ],
   "source": [
    "cmp_df = make_comparison_dataframe(df, forecast)\n",
    "cmp_df.tail(n=3)"
   ]
  },
  {
   "cell_type": "markdown",
   "metadata": {
    "_uuid": "922822ef83170f50ca6718a23fad55b5d3c07d9a"
   },
   "source": [
    "We are also going to define a helper function that we will use to gauge the quality of our forecasting with MAPE and MAE error measures:"
   ]
  },
  {
   "cell_type": "code",
   "execution_count": 39,
   "metadata": {
    "_uuid": "b2b763f14f1b493f2ebb37a6fdffca5940f1ebb8"
   },
   "outputs": [],
   "source": [
    "def calculate_forecast_errors(df, prediction_size):\n",
    "    \"\"\"Calculate MAPE and MAE of the forecast.\n",
    "    \n",
    "       Args:\n",
    "           df: joined dataset with 'y' and 'yhat' columns.\n",
    "           prediction_size: number of days at the end to predict.\n",
    "    \"\"\"\n",
    "    \n",
    "    # Make a copy\n",
    "    df = df.copy()\n",
    "    \n",
    "    # Now we calculate the values of e_i and p_i according to the formulas given in the article above.\n",
    "    df['e'] = df['y'] - df['yhat']\n",
    "    df['p'] = 100 * df['e'] / df['y']\n",
    "    \n",
    "    # Recall that we held out the values of the last `prediction_size` days\n",
    "    # in order to predict them and measure the quality of the model. \n",
    "    \n",
    "    # Now cut out the part of the data which we made our prediction for.\n",
    "    predicted_part = df[-prediction_size:]\n",
    "    \n",
    "    # Define the function that averages absolute error values over the predicted part.\n",
    "    error_mean = lambda error_name: np.mean(np.abs(predicted_part[error_name]))\n",
    "    \n",
    "    # Now we can calculate MAPE and MAE and return the resulting dictionary of errors.\n",
    "    return {'MAPE': error_mean('p'), 'MAE': error_mean('e')}"
   ]
  },
  {
   "cell_type": "markdown",
   "metadata": {
    "_uuid": "fbfa8da656613b995025c5a4d9b84f2806773fe6"
   },
   "source": [
    "Let's use our function:"
   ]
  },
  {
   "cell_type": "code",
   "execution_count": 40,
   "metadata": {
    "_uuid": "9c2a7722bd3eb4efcbbf0ba44e676a8679a43fc9"
   },
   "outputs": [
    {
     "name": "stdout",
     "output_type": "stream",
     "text": [
      "MAPE 22.530081284707197\n",
      "MAE 69.44727128982862\n"
     ]
    }
   ],
   "source": [
    "for err_name, err_value in calculate_forecast_errors(cmp_df, prediction_size).items():\n",
    "    print(err_name, err_value)"
   ]
  },
  {
   "cell_type": "markdown",
   "metadata": {
    "_uuid": "8d95e3c50b6d32675ea39abc2c7a7d021cf54048"
   },
   "source": [
    "As a result, the relative error of our forecast (MAPE) is about 22.7%, and on average our model is wrong by 70.5 posts (MAE)."
   ]
  },
  {
   "cell_type": "markdown",
   "metadata": {
    "_uuid": "a6c56589409cdb99c7377b1f0aeb678da312a593"
   },
   "source": [
    "### 3.6 Visualization\n",
    "\n",
    "Let's create our own visualization of the model built by Prophet. It will comprise the actual values, forecast and confidence intervals.\n",
    "\n",
    "First, we will plot the data for a shorter period of time to make the data points easier to distinguish. Second, we will show the model performance only for the period that we predicted, that is the last 30 days. It seems that these two measures should give us a more legible plot.\n",
    "\n",
    "Third, we will use `Plotly` to make our chart interactive, which is great for exploring.\n",
    "\n",
    "We will define a custom helper function `show_forecast` and call it (for more on how it works please refer to the comments in the code and the [documentation](https://plot.ly/python/)):"
   ]
  },
  {
   "cell_type": "code",
   "execution_count": 41,
   "metadata": {
    "_uuid": "eeeb8bfae88d2c24216c43f02d6b62b063936b86"
   },
   "outputs": [
    {
     "data": {
      "application/vnd.plotly.v1+json": {
       "config": {
        "linkText": "Export to plot.ly",
        "plotlyServerURL": "https://plot.ly",
        "showLink": false
       },
       "data": [
        {
         "line": {
          "width": 0
         },
         "marker": {
          "color": "gray"
         },
         "mode": "lines",
         "name": "Lower Bound",
         "type": "scatter",
         "x": [
          "2017-05-27T00:00:00",
          "2017-05-28T00:00:00",
          "2017-05-29T00:00:00",
          "2017-05-30T00:00:00",
          "2017-05-31T00:00:00",
          "2017-06-01T00:00:00",
          "2017-06-02T00:00:00",
          "2017-06-03T00:00:00",
          "2017-06-04T00:00:00",
          "2017-06-05T00:00:00",
          "2017-06-06T00:00:00",
          "2017-06-07T00:00:00",
          "2017-06-08T00:00:00",
          "2017-06-09T00:00:00",
          "2017-06-10T00:00:00",
          "2017-06-11T00:00:00",
          "2017-06-12T00:00:00",
          "2017-06-13T00:00:00",
          "2017-06-14T00:00:00",
          "2017-06-15T00:00:00",
          "2017-06-16T00:00:00",
          "2017-06-17T00:00:00",
          "2017-06-18T00:00:00",
          "2017-06-19T00:00:00",
          "2017-06-20T00:00:00",
          "2017-06-21T00:00:00",
          "2017-06-22T00:00:00",
          "2017-06-23T00:00:00",
          "2017-06-24T00:00:00",
          "2017-06-25T00:00:00"
         ],
         "y": [
          203.28624067655335,
          205.3601888214528,
          252.49313847841688,
          254.38231554416237,
          254.1038136757734,
          249.88422501489234,
          242.563868945997,
          206.53388690581778,
          206.7030480504942,
          254.68042968746528,
          255.88125582729927,
          257.568563433999,
          253.5891037176063,
          244.7135262561486,
          208.05681113625226,
          212.73489547003595,
          257.1931370754937,
          261.95582030514004,
          261.4639395966799,
          257.0846763913669,
          249.33955631683364,
          212.5091936395481,
          215.6932909298266,
          262.6438818087276,
          266.8273540080887,
          267.6418274612907,
          264.39076672401757,
          255.39077450927155,
          220.57922248988612,
          226.26171104311203
         ]
        },
        {
         "fill": "tonexty",
         "fillcolor": "rgba(68, 68, 68, 0.3)",
         "line": {
          "width": 0
         },
         "marker": {
          "color": "gray"
         },
         "mode": "lines",
         "name": "Upper Bound",
         "type": "scatter",
         "x": [
          "2017-05-27T00:00:00",
          "2017-05-28T00:00:00",
          "2017-05-29T00:00:00",
          "2017-05-30T00:00:00",
          "2017-05-31T00:00:00",
          "2017-06-01T00:00:00",
          "2017-06-02T00:00:00",
          "2017-06-03T00:00:00",
          "2017-06-04T00:00:00",
          "2017-06-05T00:00:00",
          "2017-06-06T00:00:00",
          "2017-06-07T00:00:00",
          "2017-06-08T00:00:00",
          "2017-06-09T00:00:00",
          "2017-06-10T00:00:00",
          "2017-06-11T00:00:00",
          "2017-06-12T00:00:00",
          "2017-06-13T00:00:00",
          "2017-06-14T00:00:00",
          "2017-06-15T00:00:00",
          "2017-06-16T00:00:00",
          "2017-06-17T00:00:00",
          "2017-06-18T00:00:00",
          "2017-06-19T00:00:00",
          "2017-06-20T00:00:00",
          "2017-06-21T00:00:00",
          "2017-06-22T00:00:00",
          "2017-06-23T00:00:00",
          "2017-06-24T00:00:00",
          "2017-06-25T00:00:00"
         ],
         "y": [
          251.3150186421382,
          253.74997656294113,
          300.86197365246255,
          304.22611175811994,
          304.6477271908604,
          302.4854049265108,
          291.5403233702148,
          253.0969679230722,
          256.8409521166812,
          302.27148875567065,
          307.7480793890548,
          307.67171429936957,
          303.93828767781787,
          294.90328136373245,
          257.64928090672066,
          262.9669891681213,
          305.9952989904041,
          310.7906701147616,
          311.67158877648217,
          307.76364262804105,
          299.3807101515428,
          260.16240678572007,
          266.549387609432,
          311.3148192494201,
          317.00783513310125,
          317.08287372563325,
          314.7575092462721,
          305.60260152608834,
          270.3436351602234,
          273.35459342018953
         ]
        },
        {
         "line": {
          "color": "rgb(31, 119, 180)"
         },
         "mode": "lines",
         "name": "Forecast",
         "type": "scatter",
         "x": [
          "2017-05-27T00:00:00",
          "2017-05-28T00:00:00",
          "2017-05-29T00:00:00",
          "2017-05-30T00:00:00",
          "2017-05-31T00:00:00",
          "2017-06-01T00:00:00",
          "2017-06-02T00:00:00",
          "2017-06-03T00:00:00",
          "2017-06-04T00:00:00",
          "2017-06-05T00:00:00",
          "2017-06-06T00:00:00",
          "2017-06-07T00:00:00",
          "2017-06-08T00:00:00",
          "2017-06-09T00:00:00",
          "2017-06-10T00:00:00",
          "2017-06-11T00:00:00",
          "2017-06-12T00:00:00",
          "2017-06-13T00:00:00",
          "2017-06-14T00:00:00",
          "2017-06-15T00:00:00",
          "2017-06-16T00:00:00",
          "2017-06-17T00:00:00",
          "2017-06-18T00:00:00",
          "2017-06-19T00:00:00",
          "2017-06-20T00:00:00",
          "2017-06-21T00:00:00",
          "2017-06-22T00:00:00",
          "2017-06-23T00:00:00",
          "2017-06-24T00:00:00",
          "2017-06-25T00:00:00"
         ],
         "y": [
          227.54559194848014,
          231.32786650899487,
          275.96284357164643,
          279.75219304648306,
          280.00539295241435,
          276.25971136603374,
          266.9946705392297,
          229.84470190494912,
          233.65291851665975,
          278.3493713322267,
          282.234113488384,
          282.6144736065703,
          279.02508159052087,
          269.9423846585087,
          232.99736122485334,
          237.02935797062443,
          281.964415240408,
          286.09840358630703,
          286.73437116170004,
          283.402644084563,
          274.5754162060345,
          237.87953463796373,
          242.15040518916845,
          287.31038174130714,
          291.6519613846158,
          292.4751841240009,
          289.30777851150845,
          280.61978900581227,
          244.0363909150076,
          248.39181671521624
         ]
        },
        {
         "marker": {
          "color": "red"
         },
         "mode": "lines",
         "name": "Actual",
         "type": "scatter",
         "x": [
          "2017-03-18T00:00:00",
          "2017-03-19T00:00:00",
          "2017-03-20T00:00:00",
          "2017-03-21T00:00:00",
          "2017-03-22T00:00:00",
          "2017-03-23T00:00:00",
          "2017-03-24T00:00:00",
          "2017-03-25T00:00:00",
          "2017-03-26T00:00:00",
          "2017-03-27T00:00:00",
          "2017-03-28T00:00:00",
          "2017-03-29T00:00:00",
          "2017-03-30T00:00:00",
          "2017-03-31T00:00:00",
          "2017-04-01T00:00:00",
          "2017-04-02T00:00:00",
          "2017-04-03T00:00:00",
          "2017-04-04T00:00:00",
          "2017-04-05T00:00:00",
          "2017-04-06T00:00:00",
          "2017-04-07T00:00:00",
          "2017-04-08T00:00:00",
          "2017-04-09T00:00:00",
          "2017-04-10T00:00:00",
          "2017-04-11T00:00:00",
          "2017-04-12T00:00:00",
          "2017-04-13T00:00:00",
          "2017-04-14T00:00:00",
          "2017-04-15T00:00:00",
          "2017-04-16T00:00:00",
          "2017-04-17T00:00:00",
          "2017-04-18T00:00:00",
          "2017-04-19T00:00:00",
          "2017-04-20T00:00:00",
          "2017-04-21T00:00:00",
          "2017-04-22T00:00:00",
          "2017-04-23T00:00:00",
          "2017-04-24T00:00:00",
          "2017-04-25T00:00:00",
          "2017-04-26T00:00:00",
          "2017-04-27T00:00:00",
          "2017-04-28T00:00:00",
          "2017-04-29T00:00:00",
          "2017-04-30T00:00:00",
          "2017-05-01T00:00:00",
          "2017-05-02T00:00:00",
          "2017-05-03T00:00:00",
          "2017-05-04T00:00:00",
          "2017-05-05T00:00:00",
          "2017-05-06T00:00:00",
          "2017-05-07T00:00:00",
          "2017-05-08T00:00:00",
          "2017-05-09T00:00:00",
          "2017-05-10T00:00:00",
          "2017-05-11T00:00:00",
          "2017-05-12T00:00:00",
          "2017-05-13T00:00:00",
          "2017-05-14T00:00:00",
          "2017-05-15T00:00:00",
          "2017-05-16T00:00:00",
          "2017-05-17T00:00:00",
          "2017-05-18T00:00:00",
          "2017-05-19T00:00:00",
          "2017-05-20T00:00:00",
          "2017-05-21T00:00:00",
          "2017-05-22T00:00:00",
          "2017-05-23T00:00:00",
          "2017-05-24T00:00:00",
          "2017-05-25T00:00:00",
          "2017-05-26T00:00:00",
          "2017-05-27T00:00:00",
          "2017-05-28T00:00:00",
          "2017-05-29T00:00:00",
          "2017-05-30T00:00:00",
          "2017-05-31T00:00:00",
          "2017-06-01T00:00:00",
          "2017-06-02T00:00:00",
          "2017-06-03T00:00:00",
          "2017-06-04T00:00:00",
          "2017-06-05T00:00:00",
          "2017-06-06T00:00:00",
          "2017-06-07T00:00:00",
          "2017-06-08T00:00:00",
          "2017-06-09T00:00:00",
          "2017-06-10T00:00:00",
          "2017-06-11T00:00:00",
          "2017-06-12T00:00:00",
          "2017-06-13T00:00:00",
          "2017-06-14T00:00:00",
          "2017-06-15T00:00:00",
          "2017-06-16T00:00:00",
          "2017-06-17T00:00:00",
          "2017-06-18T00:00:00",
          "2017-06-19T00:00:00",
          "2017-06-20T00:00:00",
          "2017-06-21T00:00:00",
          "2017-06-22T00:00:00",
          "2017-06-23T00:00:00",
          "2017-06-24T00:00:00",
          "2017-06-25T00:00:00"
         ],
         "y": [
          123,
          99,
          205,
          247,
          246,
          228,
          208,
          135,
          129,
          230,
          225,
          238,
          257,
          207,
          125,
          142,
          259,
          221,
          203,
          274,
          221,
          140,
          149,
          238,
          258,
          239,
          250,
          204,
          137,
          143,
          233,
          264,
          278,
          274,
          259,
          178,
          168,
          296,
          306,
          270,
          277,
          262,
          187,
          148,
          305,
          332,
          286,
          284,
          264,
          133,
          136,
          267,
          262,
          264,
          267,
          281,
          205,
          180,
          341,
          345,
          367,
          336,
          301,
          156,
          194,
          341,
          388,
          375,
          298,
          269,
          157,
          172,
          297,
          365,
          407,
          392,
          328,
          170,
          194,
          340,
          348,
          323,
          347,
          291,
          165,
          193,
          349,
          358,
          344,
          336,
          345,
          188,
          243,
          408,
          417,
          422,
          441,
          421,
          277,
          253
         ]
        }
       ],
       "layout": {
        "showlegend": false,
        "template": {
         "data": {
          "bar": [
           {
            "error_x": {
             "color": "#2a3f5f"
            },
            "error_y": {
             "color": "#2a3f5f"
            },
            "marker": {
             "line": {
              "color": "#E5ECF6",
              "width": 0.5
             }
            },
            "type": "bar"
           }
          ],
          "barpolar": [
           {
            "marker": {
             "line": {
              "color": "#E5ECF6",
              "width": 0.5
             }
            },
            "type": "barpolar"
           }
          ],
          "carpet": [
           {
            "aaxis": {
             "endlinecolor": "#2a3f5f",
             "gridcolor": "white",
             "linecolor": "white",
             "minorgridcolor": "white",
             "startlinecolor": "#2a3f5f"
            },
            "baxis": {
             "endlinecolor": "#2a3f5f",
             "gridcolor": "white",
             "linecolor": "white",
             "minorgridcolor": "white",
             "startlinecolor": "#2a3f5f"
            },
            "type": "carpet"
           }
          ],
          "choropleth": [
           {
            "colorbar": {
             "outlinewidth": 0,
             "ticks": ""
            },
            "type": "choropleth"
           }
          ],
          "contour": [
           {
            "colorbar": {
             "outlinewidth": 0,
             "ticks": ""
            },
            "colorscale": [
             [
              0,
              "#0d0887"
             ],
             [
              0.1111111111111111,
              "#46039f"
             ],
             [
              0.2222222222222222,
              "#7201a8"
             ],
             [
              0.3333333333333333,
              "#9c179e"
             ],
             [
              0.4444444444444444,
              "#bd3786"
             ],
             [
              0.5555555555555556,
              "#d8576b"
             ],
             [
              0.6666666666666666,
              "#ed7953"
             ],
             [
              0.7777777777777778,
              "#fb9f3a"
             ],
             [
              0.8888888888888888,
              "#fdca26"
             ],
             [
              1,
              "#f0f921"
             ]
            ],
            "type": "contour"
           }
          ],
          "contourcarpet": [
           {
            "colorbar": {
             "outlinewidth": 0,
             "ticks": ""
            },
            "type": "contourcarpet"
           }
          ],
          "heatmap": [
           {
            "colorbar": {
             "outlinewidth": 0,
             "ticks": ""
            },
            "colorscale": [
             [
              0,
              "#0d0887"
             ],
             [
              0.1111111111111111,
              "#46039f"
             ],
             [
              0.2222222222222222,
              "#7201a8"
             ],
             [
              0.3333333333333333,
              "#9c179e"
             ],
             [
              0.4444444444444444,
              "#bd3786"
             ],
             [
              0.5555555555555556,
              "#d8576b"
             ],
             [
              0.6666666666666666,
              "#ed7953"
             ],
             [
              0.7777777777777778,
              "#fb9f3a"
             ],
             [
              0.8888888888888888,
              "#fdca26"
             ],
             [
              1,
              "#f0f921"
             ]
            ],
            "type": "heatmap"
           }
          ],
          "heatmapgl": [
           {
            "colorbar": {
             "outlinewidth": 0,
             "ticks": ""
            },
            "colorscale": [
             [
              0,
              "#0d0887"
             ],
             [
              0.1111111111111111,
              "#46039f"
             ],
             [
              0.2222222222222222,
              "#7201a8"
             ],
             [
              0.3333333333333333,
              "#9c179e"
             ],
             [
              0.4444444444444444,
              "#bd3786"
             ],
             [
              0.5555555555555556,
              "#d8576b"
             ],
             [
              0.6666666666666666,
              "#ed7953"
             ],
             [
              0.7777777777777778,
              "#fb9f3a"
             ],
             [
              0.8888888888888888,
              "#fdca26"
             ],
             [
              1,
              "#f0f921"
             ]
            ],
            "type": "heatmapgl"
           }
          ],
          "histogram": [
           {
            "marker": {
             "colorbar": {
              "outlinewidth": 0,
              "ticks": ""
             }
            },
            "type": "histogram"
           }
          ],
          "histogram2d": [
           {
            "colorbar": {
             "outlinewidth": 0,
             "ticks": ""
            },
            "colorscale": [
             [
              0,
              "#0d0887"
             ],
             [
              0.1111111111111111,
              "#46039f"
             ],
             [
              0.2222222222222222,
              "#7201a8"
             ],
             [
              0.3333333333333333,
              "#9c179e"
             ],
             [
              0.4444444444444444,
              "#bd3786"
             ],
             [
              0.5555555555555556,
              "#d8576b"
             ],
             [
              0.6666666666666666,
              "#ed7953"
             ],
             [
              0.7777777777777778,
              "#fb9f3a"
             ],
             [
              0.8888888888888888,
              "#fdca26"
             ],
             [
              1,
              "#f0f921"
             ]
            ],
            "type": "histogram2d"
           }
          ],
          "histogram2dcontour": [
           {
            "colorbar": {
             "outlinewidth": 0,
             "ticks": ""
            },
            "colorscale": [
             [
              0,
              "#0d0887"
             ],
             [
              0.1111111111111111,
              "#46039f"
             ],
             [
              0.2222222222222222,
              "#7201a8"
             ],
             [
              0.3333333333333333,
              "#9c179e"
             ],
             [
              0.4444444444444444,
              "#bd3786"
             ],
             [
              0.5555555555555556,
              "#d8576b"
             ],
             [
              0.6666666666666666,
              "#ed7953"
             ],
             [
              0.7777777777777778,
              "#fb9f3a"
             ],
             [
              0.8888888888888888,
              "#fdca26"
             ],
             [
              1,
              "#f0f921"
             ]
            ],
            "type": "histogram2dcontour"
           }
          ],
          "mesh3d": [
           {
            "colorbar": {
             "outlinewidth": 0,
             "ticks": ""
            },
            "type": "mesh3d"
           }
          ],
          "parcoords": [
           {
            "line": {
             "colorbar": {
              "outlinewidth": 0,
              "ticks": ""
             }
            },
            "type": "parcoords"
           }
          ],
          "pie": [
           {
            "automargin": true,
            "type": "pie"
           }
          ],
          "scatter": [
           {
            "marker": {
             "colorbar": {
              "outlinewidth": 0,
              "ticks": ""
             }
            },
            "type": "scatter"
           }
          ],
          "scatter3d": [
           {
            "line": {
             "colorbar": {
              "outlinewidth": 0,
              "ticks": ""
             }
            },
            "marker": {
             "colorbar": {
              "outlinewidth": 0,
              "ticks": ""
             }
            },
            "type": "scatter3d"
           }
          ],
          "scattercarpet": [
           {
            "marker": {
             "colorbar": {
              "outlinewidth": 0,
              "ticks": ""
             }
            },
            "type": "scattercarpet"
           }
          ],
          "scattergeo": [
           {
            "marker": {
             "colorbar": {
              "outlinewidth": 0,
              "ticks": ""
             }
            },
            "type": "scattergeo"
           }
          ],
          "scattergl": [
           {
            "marker": {
             "colorbar": {
              "outlinewidth": 0,
              "ticks": ""
             }
            },
            "type": "scattergl"
           }
          ],
          "scattermapbox": [
           {
            "marker": {
             "colorbar": {
              "outlinewidth": 0,
              "ticks": ""
             }
            },
            "type": "scattermapbox"
           }
          ],
          "scatterpolar": [
           {
            "marker": {
             "colorbar": {
              "outlinewidth": 0,
              "ticks": ""
             }
            },
            "type": "scatterpolar"
           }
          ],
          "scatterpolargl": [
           {
            "marker": {
             "colorbar": {
              "outlinewidth": 0,
              "ticks": ""
             }
            },
            "type": "scatterpolargl"
           }
          ],
          "scatterternary": [
           {
            "marker": {
             "colorbar": {
              "outlinewidth": 0,
              "ticks": ""
             }
            },
            "type": "scatterternary"
           }
          ],
          "surface": [
           {
            "colorbar": {
             "outlinewidth": 0,
             "ticks": ""
            },
            "colorscale": [
             [
              0,
              "#0d0887"
             ],
             [
              0.1111111111111111,
              "#46039f"
             ],
             [
              0.2222222222222222,
              "#7201a8"
             ],
             [
              0.3333333333333333,
              "#9c179e"
             ],
             [
              0.4444444444444444,
              "#bd3786"
             ],
             [
              0.5555555555555556,
              "#d8576b"
             ],
             [
              0.6666666666666666,
              "#ed7953"
             ],
             [
              0.7777777777777778,
              "#fb9f3a"
             ],
             [
              0.8888888888888888,
              "#fdca26"
             ],
             [
              1,
              "#f0f921"
             ]
            ],
            "type": "surface"
           }
          ],
          "table": [
           {
            "cells": {
             "fill": {
              "color": "#EBF0F8"
             },
             "line": {
              "color": "white"
             }
            },
            "header": {
             "fill": {
              "color": "#C8D4E3"
             },
             "line": {
              "color": "white"
             }
            },
            "type": "table"
           }
          ]
         },
         "layout": {
          "annotationdefaults": {
           "arrowcolor": "#2a3f5f",
           "arrowhead": 0,
           "arrowwidth": 1
          },
          "autotypenumbers": "strict",
          "coloraxis": {
           "colorbar": {
            "outlinewidth": 0,
            "ticks": ""
           }
          },
          "colorscale": {
           "diverging": [
            [
             0,
             "#8e0152"
            ],
            [
             0.1,
             "#c51b7d"
            ],
            [
             0.2,
             "#de77ae"
            ],
            [
             0.3,
             "#f1b6da"
            ],
            [
             0.4,
             "#fde0ef"
            ],
            [
             0.5,
             "#f7f7f7"
            ],
            [
             0.6,
             "#e6f5d0"
            ],
            [
             0.7,
             "#b8e186"
            ],
            [
             0.8,
             "#7fbc41"
            ],
            [
             0.9,
             "#4d9221"
            ],
            [
             1,
             "#276419"
            ]
           ],
           "sequential": [
            [
             0,
             "#0d0887"
            ],
            [
             0.1111111111111111,
             "#46039f"
            ],
            [
             0.2222222222222222,
             "#7201a8"
            ],
            [
             0.3333333333333333,
             "#9c179e"
            ],
            [
             0.4444444444444444,
             "#bd3786"
            ],
            [
             0.5555555555555556,
             "#d8576b"
            ],
            [
             0.6666666666666666,
             "#ed7953"
            ],
            [
             0.7777777777777778,
             "#fb9f3a"
            ],
            [
             0.8888888888888888,
             "#fdca26"
            ],
            [
             1,
             "#f0f921"
            ]
           ],
           "sequentialminus": [
            [
             0,
             "#0d0887"
            ],
            [
             0.1111111111111111,
             "#46039f"
            ],
            [
             0.2222222222222222,
             "#7201a8"
            ],
            [
             0.3333333333333333,
             "#9c179e"
            ],
            [
             0.4444444444444444,
             "#bd3786"
            ],
            [
             0.5555555555555556,
             "#d8576b"
            ],
            [
             0.6666666666666666,
             "#ed7953"
            ],
            [
             0.7777777777777778,
             "#fb9f3a"
            ],
            [
             0.8888888888888888,
             "#fdca26"
            ],
            [
             1,
             "#f0f921"
            ]
           ]
          },
          "colorway": [
           "#636efa",
           "#EF553B",
           "#00cc96",
           "#ab63fa",
           "#FFA15A",
           "#19d3f3",
           "#FF6692",
           "#B6E880",
           "#FF97FF",
           "#FECB52"
          ],
          "font": {
           "color": "#2a3f5f"
          },
          "geo": {
           "bgcolor": "white",
           "lakecolor": "white",
           "landcolor": "#E5ECF6",
           "showlakes": true,
           "showland": true,
           "subunitcolor": "white"
          },
          "hoverlabel": {
           "align": "left"
          },
          "hovermode": "closest",
          "mapbox": {
           "style": "light"
          },
          "paper_bgcolor": "white",
          "plot_bgcolor": "#E5ECF6",
          "polar": {
           "angularaxis": {
            "gridcolor": "white",
            "linecolor": "white",
            "ticks": ""
           },
           "bgcolor": "#E5ECF6",
           "radialaxis": {
            "gridcolor": "white",
            "linecolor": "white",
            "ticks": ""
           }
          },
          "scene": {
           "xaxis": {
            "backgroundcolor": "#E5ECF6",
            "gridcolor": "white",
            "gridwidth": 2,
            "linecolor": "white",
            "showbackground": true,
            "ticks": "",
            "zerolinecolor": "white"
           },
           "yaxis": {
            "backgroundcolor": "#E5ECF6",
            "gridcolor": "white",
            "gridwidth": 2,
            "linecolor": "white",
            "showbackground": true,
            "ticks": "",
            "zerolinecolor": "white"
           },
           "zaxis": {
            "backgroundcolor": "#E5ECF6",
            "gridcolor": "white",
            "gridwidth": 2,
            "linecolor": "white",
            "showbackground": true,
            "ticks": "",
            "zerolinecolor": "white"
           }
          },
          "shapedefaults": {
           "line": {
            "color": "#2a3f5f"
           }
          },
          "ternary": {
           "aaxis": {
            "gridcolor": "white",
            "linecolor": "white",
            "ticks": ""
           },
           "baxis": {
            "gridcolor": "white",
            "linecolor": "white",
            "ticks": ""
           },
           "bgcolor": "#E5ECF6",
           "caxis": {
            "gridcolor": "white",
            "linecolor": "white",
            "ticks": ""
           }
          },
          "title": {
           "x": 0.05
          },
          "xaxis": {
           "automargin": true,
           "gridcolor": "white",
           "linecolor": "white",
           "ticks": "",
           "title": {
            "standoff": 15
           },
           "zerolinecolor": "white",
           "zerolinewidth": 2
          },
          "yaxis": {
           "automargin": true,
           "gridcolor": "white",
           "linecolor": "white",
           "ticks": "",
           "title": {
            "standoff": 15
           },
           "zerolinecolor": "white",
           "zerolinewidth": 2
          }
         }
        },
        "title": {
         "text": "New posts on Medium"
        },
        "yaxis": {
         "title": {
          "text": "Posts"
         }
        }
       }
      },
      "text/html": [
       "<div>                            <div id=\"b48090e0-17bc-452b-9d9c-309fba5ccf63\" class=\"plotly-graph-div\" style=\"height:525px; width:100%;\"></div>            <script type=\"text/javascript\">                require([\"plotly\"], function(Plotly) {                    window.PLOTLYENV=window.PLOTLYENV || {};                                    if (document.getElementById(\"b48090e0-17bc-452b-9d9c-309fba5ccf63\")) {                    Plotly.newPlot(                        \"b48090e0-17bc-452b-9d9c-309fba5ccf63\",                        [{\"line\": {\"width\": 0}, \"marker\": {\"color\": \"gray\"}, \"mode\": \"lines\", \"name\": \"Lower Bound\", \"type\": \"scatter\", \"x\": [\"2017-05-27T00:00:00\", \"2017-05-28T00:00:00\", \"2017-05-29T00:00:00\", \"2017-05-30T00:00:00\", \"2017-05-31T00:00:00\", \"2017-06-01T00:00:00\", \"2017-06-02T00:00:00\", \"2017-06-03T00:00:00\", \"2017-06-04T00:00:00\", \"2017-06-05T00:00:00\", \"2017-06-06T00:00:00\", \"2017-06-07T00:00:00\", \"2017-06-08T00:00:00\", \"2017-06-09T00:00:00\", \"2017-06-10T00:00:00\", \"2017-06-11T00:00:00\", \"2017-06-12T00:00:00\", \"2017-06-13T00:00:00\", \"2017-06-14T00:00:00\", \"2017-06-15T00:00:00\", \"2017-06-16T00:00:00\", \"2017-06-17T00:00:00\", \"2017-06-18T00:00:00\", \"2017-06-19T00:00:00\", \"2017-06-20T00:00:00\", \"2017-06-21T00:00:00\", \"2017-06-22T00:00:00\", \"2017-06-23T00:00:00\", \"2017-06-24T00:00:00\", \"2017-06-25T00:00:00\"], \"y\": [203.28624067655335, 205.3601888214528, 252.49313847841688, 254.38231554416237, 254.1038136757734, 249.88422501489234, 242.563868945997, 206.53388690581778, 206.7030480504942, 254.68042968746528, 255.88125582729927, 257.568563433999, 253.5891037176063, 244.7135262561486, 208.05681113625226, 212.73489547003595, 257.1931370754937, 261.95582030514004, 261.4639395966799, 257.0846763913669, 249.33955631683364, 212.5091936395481, 215.6932909298266, 262.6438818087276, 266.8273540080887, 267.6418274612907, 264.39076672401757, 255.39077450927155, 220.57922248988612, 226.26171104311203]}, {\"fill\": \"tonexty\", \"fillcolor\": \"rgba(68, 68, 68, 0.3)\", \"line\": {\"width\": 0}, \"marker\": {\"color\": \"gray\"}, \"mode\": \"lines\", \"name\": \"Upper Bound\", \"type\": \"scatter\", \"x\": [\"2017-05-27T00:00:00\", \"2017-05-28T00:00:00\", \"2017-05-29T00:00:00\", \"2017-05-30T00:00:00\", \"2017-05-31T00:00:00\", \"2017-06-01T00:00:00\", \"2017-06-02T00:00:00\", \"2017-06-03T00:00:00\", \"2017-06-04T00:00:00\", \"2017-06-05T00:00:00\", \"2017-06-06T00:00:00\", \"2017-06-07T00:00:00\", \"2017-06-08T00:00:00\", \"2017-06-09T00:00:00\", \"2017-06-10T00:00:00\", \"2017-06-11T00:00:00\", \"2017-06-12T00:00:00\", \"2017-06-13T00:00:00\", \"2017-06-14T00:00:00\", \"2017-06-15T00:00:00\", \"2017-06-16T00:00:00\", \"2017-06-17T00:00:00\", \"2017-06-18T00:00:00\", \"2017-06-19T00:00:00\", \"2017-06-20T00:00:00\", \"2017-06-21T00:00:00\", \"2017-06-22T00:00:00\", \"2017-06-23T00:00:00\", \"2017-06-24T00:00:00\", \"2017-06-25T00:00:00\"], \"y\": [251.3150186421382, 253.74997656294113, 300.86197365246255, 304.22611175811994, 304.6477271908604, 302.4854049265108, 291.5403233702148, 253.0969679230722, 256.8409521166812, 302.27148875567065, 307.7480793890548, 307.67171429936957, 303.93828767781787, 294.90328136373245, 257.64928090672066, 262.9669891681213, 305.9952989904041, 310.7906701147616, 311.67158877648217, 307.76364262804105, 299.3807101515428, 260.16240678572007, 266.549387609432, 311.3148192494201, 317.00783513310125, 317.08287372563325, 314.7575092462721, 305.60260152608834, 270.3436351602234, 273.35459342018953]}, {\"line\": {\"color\": \"rgb(31, 119, 180)\"}, \"mode\": \"lines\", \"name\": \"Forecast\", \"type\": \"scatter\", \"x\": [\"2017-05-27T00:00:00\", \"2017-05-28T00:00:00\", \"2017-05-29T00:00:00\", \"2017-05-30T00:00:00\", \"2017-05-31T00:00:00\", \"2017-06-01T00:00:00\", \"2017-06-02T00:00:00\", \"2017-06-03T00:00:00\", \"2017-06-04T00:00:00\", \"2017-06-05T00:00:00\", \"2017-06-06T00:00:00\", \"2017-06-07T00:00:00\", \"2017-06-08T00:00:00\", \"2017-06-09T00:00:00\", \"2017-06-10T00:00:00\", \"2017-06-11T00:00:00\", \"2017-06-12T00:00:00\", \"2017-06-13T00:00:00\", \"2017-06-14T00:00:00\", \"2017-06-15T00:00:00\", \"2017-06-16T00:00:00\", \"2017-06-17T00:00:00\", \"2017-06-18T00:00:00\", \"2017-06-19T00:00:00\", \"2017-06-20T00:00:00\", \"2017-06-21T00:00:00\", \"2017-06-22T00:00:00\", \"2017-06-23T00:00:00\", \"2017-06-24T00:00:00\", \"2017-06-25T00:00:00\"], \"y\": [227.54559194848014, 231.32786650899487, 275.96284357164643, 279.75219304648306, 280.00539295241435, 276.25971136603374, 266.9946705392297, 229.84470190494912, 233.65291851665975, 278.3493713322267, 282.234113488384, 282.6144736065703, 279.02508159052087, 269.9423846585087, 232.99736122485334, 237.02935797062443, 281.964415240408, 286.09840358630703, 286.73437116170004, 283.402644084563, 274.5754162060345, 237.87953463796373, 242.15040518916845, 287.31038174130714, 291.6519613846158, 292.4751841240009, 289.30777851150845, 280.61978900581227, 244.0363909150076, 248.39181671521624]}, {\"marker\": {\"color\": \"red\"}, \"mode\": \"lines\", \"name\": \"Actual\", \"type\": \"scatter\", \"x\": [\"2017-03-18T00:00:00\", \"2017-03-19T00:00:00\", \"2017-03-20T00:00:00\", \"2017-03-21T00:00:00\", \"2017-03-22T00:00:00\", \"2017-03-23T00:00:00\", \"2017-03-24T00:00:00\", \"2017-03-25T00:00:00\", \"2017-03-26T00:00:00\", \"2017-03-27T00:00:00\", \"2017-03-28T00:00:00\", \"2017-03-29T00:00:00\", \"2017-03-30T00:00:00\", \"2017-03-31T00:00:00\", \"2017-04-01T00:00:00\", \"2017-04-02T00:00:00\", \"2017-04-03T00:00:00\", \"2017-04-04T00:00:00\", \"2017-04-05T00:00:00\", \"2017-04-06T00:00:00\", \"2017-04-07T00:00:00\", \"2017-04-08T00:00:00\", \"2017-04-09T00:00:00\", \"2017-04-10T00:00:00\", \"2017-04-11T00:00:00\", \"2017-04-12T00:00:00\", \"2017-04-13T00:00:00\", \"2017-04-14T00:00:00\", \"2017-04-15T00:00:00\", \"2017-04-16T00:00:00\", \"2017-04-17T00:00:00\", \"2017-04-18T00:00:00\", \"2017-04-19T00:00:00\", \"2017-04-20T00:00:00\", \"2017-04-21T00:00:00\", \"2017-04-22T00:00:00\", \"2017-04-23T00:00:00\", \"2017-04-24T00:00:00\", \"2017-04-25T00:00:00\", \"2017-04-26T00:00:00\", \"2017-04-27T00:00:00\", \"2017-04-28T00:00:00\", \"2017-04-29T00:00:00\", \"2017-04-30T00:00:00\", \"2017-05-01T00:00:00\", \"2017-05-02T00:00:00\", \"2017-05-03T00:00:00\", \"2017-05-04T00:00:00\", \"2017-05-05T00:00:00\", \"2017-05-06T00:00:00\", \"2017-05-07T00:00:00\", \"2017-05-08T00:00:00\", \"2017-05-09T00:00:00\", \"2017-05-10T00:00:00\", \"2017-05-11T00:00:00\", \"2017-05-12T00:00:00\", \"2017-05-13T00:00:00\", \"2017-05-14T00:00:00\", \"2017-05-15T00:00:00\", \"2017-05-16T00:00:00\", \"2017-05-17T00:00:00\", \"2017-05-18T00:00:00\", \"2017-05-19T00:00:00\", \"2017-05-20T00:00:00\", \"2017-05-21T00:00:00\", \"2017-05-22T00:00:00\", \"2017-05-23T00:00:00\", \"2017-05-24T00:00:00\", \"2017-05-25T00:00:00\", \"2017-05-26T00:00:00\", \"2017-05-27T00:00:00\", \"2017-05-28T00:00:00\", \"2017-05-29T00:00:00\", \"2017-05-30T00:00:00\", \"2017-05-31T00:00:00\", \"2017-06-01T00:00:00\", \"2017-06-02T00:00:00\", \"2017-06-03T00:00:00\", \"2017-06-04T00:00:00\", \"2017-06-05T00:00:00\", \"2017-06-06T00:00:00\", \"2017-06-07T00:00:00\", \"2017-06-08T00:00:00\", \"2017-06-09T00:00:00\", \"2017-06-10T00:00:00\", \"2017-06-11T00:00:00\", \"2017-06-12T00:00:00\", \"2017-06-13T00:00:00\", \"2017-06-14T00:00:00\", \"2017-06-15T00:00:00\", \"2017-06-16T00:00:00\", \"2017-06-17T00:00:00\", \"2017-06-18T00:00:00\", \"2017-06-19T00:00:00\", \"2017-06-20T00:00:00\", \"2017-06-21T00:00:00\", \"2017-06-22T00:00:00\", \"2017-06-23T00:00:00\", \"2017-06-24T00:00:00\", \"2017-06-25T00:00:00\"], \"y\": [123, 99, 205, 247, 246, 228, 208, 135, 129, 230, 225, 238, 257, 207, 125, 142, 259, 221, 203, 274, 221, 140, 149, 238, 258, 239, 250, 204, 137, 143, 233, 264, 278, 274, 259, 178, 168, 296, 306, 270, 277, 262, 187, 148, 305, 332, 286, 284, 264, 133, 136, 267, 262, 264, 267, 281, 205, 180, 341, 345, 367, 336, 301, 156, 194, 341, 388, 375, 298, 269, 157, 172, 297, 365, 407, 392, 328, 170, 194, 340, 348, 323, 347, 291, 165, 193, 349, 358, 344, 336, 345, 188, 243, 408, 417, 422, 441, 421, 277, 253]}],                        {\"showlegend\": false, \"template\": {\"data\": {\"bar\": [{\"error_x\": {\"color\": \"#2a3f5f\"}, \"error_y\": {\"color\": \"#2a3f5f\"}, \"marker\": {\"line\": {\"color\": \"#E5ECF6\", \"width\": 0.5}}, \"type\": \"bar\"}], \"barpolar\": [{\"marker\": {\"line\": {\"color\": \"#E5ECF6\", \"width\": 0.5}}, \"type\": \"barpolar\"}], \"carpet\": [{\"aaxis\": {\"endlinecolor\": \"#2a3f5f\", \"gridcolor\": \"white\", \"linecolor\": \"white\", \"minorgridcolor\": \"white\", \"startlinecolor\": \"#2a3f5f\"}, \"baxis\": {\"endlinecolor\": \"#2a3f5f\", \"gridcolor\": \"white\", \"linecolor\": \"white\", \"minorgridcolor\": \"white\", \"startlinecolor\": \"#2a3f5f\"}, \"type\": \"carpet\"}], \"choropleth\": [{\"colorbar\": {\"outlinewidth\": 0, \"ticks\": \"\"}, \"type\": \"choropleth\"}], \"contour\": [{\"colorbar\": {\"outlinewidth\": 0, \"ticks\": \"\"}, \"colorscale\": [[0.0, \"#0d0887\"], [0.1111111111111111, \"#46039f\"], [0.2222222222222222, \"#7201a8\"], [0.3333333333333333, \"#9c179e\"], [0.4444444444444444, \"#bd3786\"], [0.5555555555555556, \"#d8576b\"], [0.6666666666666666, \"#ed7953\"], [0.7777777777777778, \"#fb9f3a\"], [0.8888888888888888, \"#fdca26\"], [1.0, \"#f0f921\"]], \"type\": \"contour\"}], \"contourcarpet\": [{\"colorbar\": {\"outlinewidth\": 0, \"ticks\": \"\"}, \"type\": \"contourcarpet\"}], \"heatmap\": [{\"colorbar\": {\"outlinewidth\": 0, \"ticks\": \"\"}, \"colorscale\": [[0.0, \"#0d0887\"], [0.1111111111111111, \"#46039f\"], [0.2222222222222222, \"#7201a8\"], [0.3333333333333333, \"#9c179e\"], [0.4444444444444444, \"#bd3786\"], [0.5555555555555556, \"#d8576b\"], [0.6666666666666666, \"#ed7953\"], [0.7777777777777778, \"#fb9f3a\"], [0.8888888888888888, \"#fdca26\"], [1.0, \"#f0f921\"]], \"type\": \"heatmap\"}], \"heatmapgl\": [{\"colorbar\": {\"outlinewidth\": 0, \"ticks\": \"\"}, \"colorscale\": [[0.0, \"#0d0887\"], [0.1111111111111111, \"#46039f\"], [0.2222222222222222, \"#7201a8\"], [0.3333333333333333, \"#9c179e\"], [0.4444444444444444, \"#bd3786\"], [0.5555555555555556, \"#d8576b\"], [0.6666666666666666, \"#ed7953\"], [0.7777777777777778, \"#fb9f3a\"], [0.8888888888888888, \"#fdca26\"], [1.0, \"#f0f921\"]], \"type\": \"heatmapgl\"}], \"histogram\": [{\"marker\": {\"colorbar\": {\"outlinewidth\": 0, \"ticks\": \"\"}}, \"type\": \"histogram\"}], \"histogram2d\": [{\"colorbar\": {\"outlinewidth\": 0, \"ticks\": \"\"}, \"colorscale\": [[0.0, \"#0d0887\"], [0.1111111111111111, \"#46039f\"], [0.2222222222222222, \"#7201a8\"], [0.3333333333333333, \"#9c179e\"], [0.4444444444444444, \"#bd3786\"], [0.5555555555555556, \"#d8576b\"], [0.6666666666666666, \"#ed7953\"], [0.7777777777777778, \"#fb9f3a\"], [0.8888888888888888, \"#fdca26\"], [1.0, \"#f0f921\"]], \"type\": \"histogram2d\"}], \"histogram2dcontour\": [{\"colorbar\": {\"outlinewidth\": 0, \"ticks\": \"\"}, \"colorscale\": [[0.0, \"#0d0887\"], [0.1111111111111111, \"#46039f\"], [0.2222222222222222, \"#7201a8\"], [0.3333333333333333, \"#9c179e\"], [0.4444444444444444, \"#bd3786\"], [0.5555555555555556, \"#d8576b\"], [0.6666666666666666, \"#ed7953\"], [0.7777777777777778, \"#fb9f3a\"], [0.8888888888888888, \"#fdca26\"], [1.0, \"#f0f921\"]], \"type\": \"histogram2dcontour\"}], \"mesh3d\": [{\"colorbar\": {\"outlinewidth\": 0, \"ticks\": \"\"}, \"type\": \"mesh3d\"}], \"parcoords\": [{\"line\": {\"colorbar\": {\"outlinewidth\": 0, \"ticks\": \"\"}}, \"type\": \"parcoords\"}], \"pie\": [{\"automargin\": true, \"type\": \"pie\"}], \"scatter\": [{\"marker\": {\"colorbar\": {\"outlinewidth\": 0, \"ticks\": \"\"}}, \"type\": \"scatter\"}], \"scatter3d\": [{\"line\": {\"colorbar\": {\"outlinewidth\": 0, \"ticks\": \"\"}}, \"marker\": {\"colorbar\": {\"outlinewidth\": 0, \"ticks\": \"\"}}, \"type\": \"scatter3d\"}], \"scattercarpet\": [{\"marker\": {\"colorbar\": {\"outlinewidth\": 0, \"ticks\": \"\"}}, \"type\": \"scattercarpet\"}], \"scattergeo\": [{\"marker\": {\"colorbar\": {\"outlinewidth\": 0, \"ticks\": \"\"}}, \"type\": \"scattergeo\"}], \"scattergl\": [{\"marker\": {\"colorbar\": {\"outlinewidth\": 0, \"ticks\": \"\"}}, \"type\": \"scattergl\"}], \"scattermapbox\": [{\"marker\": {\"colorbar\": {\"outlinewidth\": 0, \"ticks\": \"\"}}, \"type\": \"scattermapbox\"}], \"scatterpolar\": [{\"marker\": {\"colorbar\": {\"outlinewidth\": 0, \"ticks\": \"\"}}, \"type\": \"scatterpolar\"}], \"scatterpolargl\": [{\"marker\": {\"colorbar\": {\"outlinewidth\": 0, \"ticks\": \"\"}}, \"type\": \"scatterpolargl\"}], \"scatterternary\": [{\"marker\": {\"colorbar\": {\"outlinewidth\": 0, \"ticks\": \"\"}}, \"type\": \"scatterternary\"}], \"surface\": [{\"colorbar\": {\"outlinewidth\": 0, \"ticks\": \"\"}, \"colorscale\": [[0.0, \"#0d0887\"], [0.1111111111111111, \"#46039f\"], [0.2222222222222222, \"#7201a8\"], [0.3333333333333333, \"#9c179e\"], [0.4444444444444444, \"#bd3786\"], [0.5555555555555556, \"#d8576b\"], [0.6666666666666666, \"#ed7953\"], [0.7777777777777778, \"#fb9f3a\"], [0.8888888888888888, \"#fdca26\"], [1.0, \"#f0f921\"]], \"type\": \"surface\"}], \"table\": [{\"cells\": {\"fill\": {\"color\": \"#EBF0F8\"}, \"line\": {\"color\": \"white\"}}, \"header\": {\"fill\": {\"color\": \"#C8D4E3\"}, \"line\": {\"color\": \"white\"}}, \"type\": \"table\"}]}, \"layout\": {\"annotationdefaults\": {\"arrowcolor\": \"#2a3f5f\", \"arrowhead\": 0, \"arrowwidth\": 1}, \"autotypenumbers\": \"strict\", \"coloraxis\": {\"colorbar\": {\"outlinewidth\": 0, \"ticks\": \"\"}}, \"colorscale\": {\"diverging\": [[0, \"#8e0152\"], [0.1, \"#c51b7d\"], [0.2, \"#de77ae\"], [0.3, \"#f1b6da\"], [0.4, \"#fde0ef\"], [0.5, \"#f7f7f7\"], [0.6, \"#e6f5d0\"], [0.7, \"#b8e186\"], [0.8, \"#7fbc41\"], [0.9, \"#4d9221\"], [1, \"#276419\"]], \"sequential\": [[0.0, \"#0d0887\"], [0.1111111111111111, \"#46039f\"], [0.2222222222222222, \"#7201a8\"], [0.3333333333333333, \"#9c179e\"], [0.4444444444444444, \"#bd3786\"], [0.5555555555555556, \"#d8576b\"], [0.6666666666666666, \"#ed7953\"], [0.7777777777777778, \"#fb9f3a\"], [0.8888888888888888, \"#fdca26\"], [1.0, \"#f0f921\"]], \"sequentialminus\": [[0.0, \"#0d0887\"], [0.1111111111111111, \"#46039f\"], [0.2222222222222222, \"#7201a8\"], [0.3333333333333333, \"#9c179e\"], [0.4444444444444444, \"#bd3786\"], [0.5555555555555556, \"#d8576b\"], [0.6666666666666666, \"#ed7953\"], [0.7777777777777778, \"#fb9f3a\"], [0.8888888888888888, \"#fdca26\"], [1.0, \"#f0f921\"]]}, \"colorway\": [\"#636efa\", \"#EF553B\", \"#00cc96\", \"#ab63fa\", \"#FFA15A\", \"#19d3f3\", \"#FF6692\", \"#B6E880\", \"#FF97FF\", \"#FECB52\"], \"font\": {\"color\": \"#2a3f5f\"}, \"geo\": {\"bgcolor\": \"white\", \"lakecolor\": \"white\", \"landcolor\": \"#E5ECF6\", \"showlakes\": true, \"showland\": true, \"subunitcolor\": \"white\"}, \"hoverlabel\": {\"align\": \"left\"}, \"hovermode\": \"closest\", \"mapbox\": {\"style\": \"light\"}, \"paper_bgcolor\": \"white\", \"plot_bgcolor\": \"#E5ECF6\", \"polar\": {\"angularaxis\": {\"gridcolor\": \"white\", \"linecolor\": \"white\", \"ticks\": \"\"}, \"bgcolor\": \"#E5ECF6\", \"radialaxis\": {\"gridcolor\": \"white\", \"linecolor\": \"white\", \"ticks\": \"\"}}, \"scene\": {\"xaxis\": {\"backgroundcolor\": \"#E5ECF6\", \"gridcolor\": \"white\", \"gridwidth\": 2, \"linecolor\": \"white\", \"showbackground\": true, \"ticks\": \"\", \"zerolinecolor\": \"white\"}, \"yaxis\": {\"backgroundcolor\": \"#E5ECF6\", \"gridcolor\": \"white\", \"gridwidth\": 2, \"linecolor\": \"white\", \"showbackground\": true, \"ticks\": \"\", \"zerolinecolor\": \"white\"}, \"zaxis\": {\"backgroundcolor\": \"#E5ECF6\", \"gridcolor\": \"white\", \"gridwidth\": 2, \"linecolor\": \"white\", \"showbackground\": true, \"ticks\": \"\", \"zerolinecolor\": \"white\"}}, \"shapedefaults\": {\"line\": {\"color\": \"#2a3f5f\"}}, \"ternary\": {\"aaxis\": {\"gridcolor\": \"white\", \"linecolor\": \"white\", \"ticks\": \"\"}, \"baxis\": {\"gridcolor\": \"white\", \"linecolor\": \"white\", \"ticks\": \"\"}, \"bgcolor\": \"#E5ECF6\", \"caxis\": {\"gridcolor\": \"white\", \"linecolor\": \"white\", \"ticks\": \"\"}}, \"title\": {\"x\": 0.05}, \"xaxis\": {\"automargin\": true, \"gridcolor\": \"white\", \"linecolor\": \"white\", \"ticks\": \"\", \"title\": {\"standoff\": 15}, \"zerolinecolor\": \"white\", \"zerolinewidth\": 2}, \"yaxis\": {\"automargin\": true, \"gridcolor\": \"white\", \"linecolor\": \"white\", \"ticks\": \"\", \"title\": {\"standoff\": 15}, \"zerolinecolor\": \"white\", \"zerolinewidth\": 2}}}, \"title\": {\"text\": \"New posts on Medium\"}, \"yaxis\": {\"title\": {\"text\": \"Posts\"}}},                        {\"responsive\": true}                    ).then(function(){\n",
       "                            \n",
       "var gd = document.getElementById('b48090e0-17bc-452b-9d9c-309fba5ccf63');\n",
       "var x = new MutationObserver(function (mutations, observer) {{\n",
       "        var display = window.getComputedStyle(gd).display;\n",
       "        if (!display || display === 'none') {{\n",
       "            console.log([gd, 'removed!']);\n",
       "            Plotly.purge(gd);\n",
       "            observer.disconnect();\n",
       "        }}\n",
       "}});\n",
       "\n",
       "// Listen for the removal of the full notebook cells\n",
       "var notebookContainer = gd.closest('#notebook-container');\n",
       "if (notebookContainer) {{\n",
       "    x.observe(notebookContainer, {childList: true});\n",
       "}}\n",
       "\n",
       "// Listen for the clearing of the current output cell\n",
       "var outputEl = gd.closest('.output');\n",
       "if (outputEl) {{\n",
       "    x.observe(outputEl, {childList: true});\n",
       "}}\n",
       "\n",
       "                        })                };                });            </script>        </div>"
      ]
     },
     "metadata": {},
     "output_type": "display_data"
    }
   ],
   "source": [
    "def show_forecast(cmp_df, num_predictions, num_values, title):\n",
    "    \"\"\"Visualize the forecast.\"\"\"\n",
    "    \n",
    "    def create_go(name, column, num, **kwargs):\n",
    "        points = cmp_df.tail(num)\n",
    "        args = dict(name=name, x=points.index, y=points[column], mode='lines')\n",
    "        args.update(kwargs)\n",
    "        return go.Scatter(**args)\n",
    "    \n",
    "    lower_bound = create_go('Lower Bound', 'yhat_lower', num_predictions,\n",
    "                            line=dict(width=0),\n",
    "                            marker=dict(color=\"gray\"))\n",
    "    upper_bound = create_go('Upper Bound', 'yhat_upper', num_predictions,\n",
    "                            line=dict(width=0),\n",
    "                            marker=dict(color=\"gray\"),\n",
    "                            fillcolor='rgba(68, 68, 68, 0.3)', \n",
    "                            fill='tonexty')\n",
    "    forecast = create_go('Forecast', 'yhat', num_predictions,\n",
    "                         line=dict(color='rgb(31, 119, 180)'))\n",
    "    actual = create_go('Actual', 'y', num_values,\n",
    "                       marker=dict(color=\"red\"))\n",
    "    \n",
    "    # In this case the order of the series is important because of the filling\n",
    "    data = [lower_bound, upper_bound, forecast, actual]\n",
    "\n",
    "    layout = go.Layout(yaxis=dict(title='Posts'), title=title, showlegend = False)\n",
    "    fig = go.Figure(data=data, layout=layout)\n",
    "    iplot(fig, show_link=False)\n",
    "\n",
    "show_forecast(cmp_df, prediction_size, 100, 'New posts on Medium')"
   ]
  },
  {
   "cell_type": "markdown",
   "metadata": {
    "_uuid": "4a8c76e26da79076aeced5d77a90193016819f48"
   },
   "source": [
    "At first glance, the prediction of the mean values by our model seems to be sensible. The high value of MAPE that we got above may be explained by the fact that the model failed to catch on to increasing peak-to-peak amplitude of weakly seasonality.\n",
    "\n",
    "Also, we can conclude from the graph above that many of the actual values lie outside the confidence interval. Prophet may not be suitable for time series with unstable variance, at least when the default settings are used. We will try to fix this by applying a transform to our data."
   ]
  },
  {
   "cell_type": "markdown",
   "metadata": {
    "_uuid": "5bb384d525974d23dc320f98d73cc96c455bf2b8"
   },
   "source": [
    "## 4. Box-Cox Transformation"
   ]
  },
  {
   "cell_type": "markdown",
   "metadata": {
    "_uuid": "629da83db5c7e6124ba68813c31fdfd129c666c7"
   },
   "source": [
    "So far we have used Prophet with the default settings and the original data. We will leave the parameters of the model alone. But despite this we still have some room for improvement. In this section, we will apply the [Box–Cox transformation](http://onlinestatbook.com/2/transformations/box-cox.html) to our original series. Let's see where it will lead us.\n",
    "\n",
    "A few words about this transformation. This is a monotonic data transformation that can be used to stabilize variance. We will use the one-parameter Box–Cox transformation, which is defined by the following expression:\n",
    "\n",
    "$$\n",
    "\\begin{equation}\n",
    "  boxcox^{(\\lambda)}(y_{i}) = \\begin{cases}\n",
    "    \\frac{\\displaystyle y_{i}^{\\lambda} - 1}{\\displaystyle \\lambda} &, \\text{if $\\lambda \\neq 0$}.\\\\\n",
    "    ln(y_{i}) &, \\text{if $\\lambda = 0$}.\n",
    "  \\end{cases}\n",
    "\\end{equation}\n",
    "$$\n",
    "\n",
    "We will need to implement the inverse of this function in order to be able to restore the original data scale. It is easy to see that the inverse is defined as:\n",
    "\n",
    "$$\n",
    "\\begin{equation}\n",
    "  invboxcox^{(\\lambda)}(y_{i}) = \\begin{cases}\n",
    "    e^{\\left (\\frac{\\displaystyle ln(\\lambda y_{i} + 1)}{\\displaystyle \\lambda} \\right )} &, \\text{if $\\lambda \\neq 0$}.\\\\\n",
    "    e^{y_{i}} &, \\text{if $\\lambda = 0$}.\n",
    "  \\end{cases}\n",
    "\\end{equation}\n",
    "$$\n",
    "\n",
    "The corresponding function in Python is implemented as follows:"
   ]
  },
  {
   "cell_type": "code",
   "execution_count": 42,
   "metadata": {
    "_uuid": "39ce1961844a28e5fecf0b75a794bbfb3d1a65a3"
   },
   "outputs": [],
   "source": [
    "def inverse_boxcox(y, lambda_):\n",
    "    return np.exp(y) if lambda_ == 0 else np.exp(np.log(lambda_ * y + 1) / lambda_)"
   ]
  },
  {
   "cell_type": "markdown",
   "metadata": {
    "_uuid": "2ce4e69c6437ef7bb9f5be8879531691efe0942b"
   },
   "source": [
    "First, we prepare our dataset by setting its index:"
   ]
  },
  {
   "cell_type": "code",
   "execution_count": 43,
   "metadata": {
    "_uuid": "c27fd56eb35f757313a6414e4d27fc9b76c57948"
   },
   "outputs": [],
   "source": [
    "train_df2 = train_df.copy().set_index('ds')"
   ]
  },
  {
   "cell_type": "markdown",
   "metadata": {
    "_uuid": "7fc13b9a722e9343864f26e5d0ebfc5a75c7147a"
   },
   "source": [
    "Then, we apply the function `stats.boxcox` from `Scipy`, which applies the Box–Cox transformation. In our case it will return two values. The first one is the transformed series and the second one is the found value of $\\lambda$ that is optimal in terms of the maximum log-likelihood:"
   ]
  },
  {
   "cell_type": "code",
   "execution_count": 44,
   "metadata": {
    "_uuid": "7557b0eded0e424a9470a9ab98faf7b29314868d"
   },
   "outputs": [],
   "source": [
    "train_df2['y'], lambda_prophet = stats.boxcox(train_df2['y'])\n",
    "train_df2.reset_index(inplace=True)"
   ]
  },
  {
   "cell_type": "markdown",
   "metadata": {
    "_uuid": "adf93208ea7e43e2ee6c99b6daebcaea8f82a2e3"
   },
   "source": [
    "We create a new `Prophet` model and repeat the fit-predict cycle that we have already done above:"
   ]
  },
  {
   "cell_type": "code",
   "execution_count": 45,
   "metadata": {
    "_uuid": "7df4a1bdf99b0f1e50a2ff3bf9af358946ba3d96"
   },
   "outputs": [
    {
     "name": "stderr",
     "output_type": "stream",
     "text": [
      "INFO:fbprophet:Disabling daily seasonality. Run prophet with daily_seasonality=True to override this.\n"
     ]
    }
   ],
   "source": [
    "m2 = Prophet()\n",
    "m2.fit(train_df2)\n",
    "future2 = m2.make_future_dataframe(periods=prediction_size)\n",
    "forecast2 = m2.predict(future2)"
   ]
  },
  {
   "cell_type": "markdown",
   "metadata": {
    "_uuid": "c63d00a087061ae54d2a6c58a04e9d8c648aa647"
   },
   "source": [
    "At this point, we need to revert the Box–Cox transformation with our inverse function and the known value of $\\lambda$:"
   ]
  },
  {
   "cell_type": "code",
   "execution_count": 46,
   "metadata": {
    "_uuid": "2fbfa38418e173eac77b8fcddc08a84b9fe3368b"
   },
   "outputs": [],
   "source": [
    "for column in ['yhat', 'yhat_lower', 'yhat_upper']:\n",
    "    forecast2[column] = inverse_boxcox(forecast2[column], lambda_prophet)"
   ]
  },
  {
   "cell_type": "markdown",
   "metadata": {
    "_uuid": "c2a6742112742652a6099155e27a195193f4c850"
   },
   "source": [
    "Here we will reuse our tools for making the comparison dataframe and calculating the errors:"
   ]
  },
  {
   "cell_type": "code",
   "execution_count": 47,
   "metadata": {
    "_uuid": "f5d721a282833d93e89bde8fbdcace2a4b6ce9ff"
   },
   "outputs": [
    {
     "name": "stdout",
     "output_type": "stream",
     "text": [
      "MAPE 11.906908454423201\n",
      "MAE 40.40158559248332\n"
     ]
    }
   ],
   "source": [
    "cmp_df2 = make_comparison_dataframe(df, forecast2)\n",
    "for err_name, err_value in calculate_forecast_errors(cmp_df2, prediction_size).items():\n",
    "    print(err_name, err_value)"
   ]
  },
  {
   "cell_type": "markdown",
   "metadata": {
    "_uuid": "d7b0a79a51e8c63eb53d2b9f84ff239336ff850b"
   },
   "source": [
    "So, we can definitely state an increase in the quality of the model.\n",
    "\n",
    "Finally, let's plot our previous performance with the latest results side-by-side. Note that we use `prediction_size` for the third parameter in order to zoom in on the interval being predicted:"
   ]
  },
  {
   "cell_type": "code",
   "execution_count": 48,
   "metadata": {
    "_uuid": "cc01ea4c37a45874106df1aafd588f105d79b5dd"
   },
   "outputs": [
    {
     "data": {
      "application/vnd.plotly.v1+json": {
       "config": {
        "linkText": "Export to plot.ly",
        "plotlyServerURL": "https://plot.ly",
        "showLink": false
       },
       "data": [
        {
         "line": {
          "width": 0
         },
         "marker": {
          "color": "gray"
         },
         "mode": "lines",
         "name": "Lower Bound",
         "type": "scatter",
         "x": [
          "2017-05-27T00:00:00",
          "2017-05-28T00:00:00",
          "2017-05-29T00:00:00",
          "2017-05-30T00:00:00",
          "2017-05-31T00:00:00",
          "2017-06-01T00:00:00",
          "2017-06-02T00:00:00",
          "2017-06-03T00:00:00",
          "2017-06-04T00:00:00",
          "2017-06-05T00:00:00",
          "2017-06-06T00:00:00",
          "2017-06-07T00:00:00",
          "2017-06-08T00:00:00",
          "2017-06-09T00:00:00",
          "2017-06-10T00:00:00",
          "2017-06-11T00:00:00",
          "2017-06-12T00:00:00",
          "2017-06-13T00:00:00",
          "2017-06-14T00:00:00",
          "2017-06-15T00:00:00",
          "2017-06-16T00:00:00",
          "2017-06-17T00:00:00",
          "2017-06-18T00:00:00",
          "2017-06-19T00:00:00",
          "2017-06-20T00:00:00",
          "2017-06-21T00:00:00",
          "2017-06-22T00:00:00",
          "2017-06-23T00:00:00",
          "2017-06-24T00:00:00",
          "2017-06-25T00:00:00"
         ],
         "y": [
          203.28624067655335,
          205.3601888214528,
          252.49313847841688,
          254.38231554416237,
          254.1038136757734,
          249.88422501489234,
          242.563868945997,
          206.53388690581778,
          206.7030480504942,
          254.68042968746528,
          255.88125582729927,
          257.568563433999,
          253.5891037176063,
          244.7135262561486,
          208.05681113625226,
          212.73489547003595,
          257.1931370754937,
          261.95582030514004,
          261.4639395966799,
          257.0846763913669,
          249.33955631683364,
          212.5091936395481,
          215.6932909298266,
          262.6438818087276,
          266.8273540080887,
          267.6418274612907,
          264.39076672401757,
          255.39077450927155,
          220.57922248988612,
          226.26171104311203
         ]
        },
        {
         "fill": "tonexty",
         "fillcolor": "rgba(68, 68, 68, 0.3)",
         "line": {
          "width": 0
         },
         "marker": {
          "color": "gray"
         },
         "mode": "lines",
         "name": "Upper Bound",
         "type": "scatter",
         "x": [
          "2017-05-27T00:00:00",
          "2017-05-28T00:00:00",
          "2017-05-29T00:00:00",
          "2017-05-30T00:00:00",
          "2017-05-31T00:00:00",
          "2017-06-01T00:00:00",
          "2017-06-02T00:00:00",
          "2017-06-03T00:00:00",
          "2017-06-04T00:00:00",
          "2017-06-05T00:00:00",
          "2017-06-06T00:00:00",
          "2017-06-07T00:00:00",
          "2017-06-08T00:00:00",
          "2017-06-09T00:00:00",
          "2017-06-10T00:00:00",
          "2017-06-11T00:00:00",
          "2017-06-12T00:00:00",
          "2017-06-13T00:00:00",
          "2017-06-14T00:00:00",
          "2017-06-15T00:00:00",
          "2017-06-16T00:00:00",
          "2017-06-17T00:00:00",
          "2017-06-18T00:00:00",
          "2017-06-19T00:00:00",
          "2017-06-20T00:00:00",
          "2017-06-21T00:00:00",
          "2017-06-22T00:00:00",
          "2017-06-23T00:00:00",
          "2017-06-24T00:00:00",
          "2017-06-25T00:00:00"
         ],
         "y": [
          251.3150186421382,
          253.74997656294113,
          300.86197365246255,
          304.22611175811994,
          304.6477271908604,
          302.4854049265108,
          291.5403233702148,
          253.0969679230722,
          256.8409521166812,
          302.27148875567065,
          307.7480793890548,
          307.67171429936957,
          303.93828767781787,
          294.90328136373245,
          257.64928090672066,
          262.9669891681213,
          305.9952989904041,
          310.7906701147616,
          311.67158877648217,
          307.76364262804105,
          299.3807101515428,
          260.16240678572007,
          266.549387609432,
          311.3148192494201,
          317.00783513310125,
          317.08287372563325,
          314.7575092462721,
          305.60260152608834,
          270.3436351602234,
          273.35459342018953
         ]
        },
        {
         "line": {
          "color": "rgb(31, 119, 180)"
         },
         "mode": "lines",
         "name": "Forecast",
         "type": "scatter",
         "x": [
          "2017-05-27T00:00:00",
          "2017-05-28T00:00:00",
          "2017-05-29T00:00:00",
          "2017-05-30T00:00:00",
          "2017-05-31T00:00:00",
          "2017-06-01T00:00:00",
          "2017-06-02T00:00:00",
          "2017-06-03T00:00:00",
          "2017-06-04T00:00:00",
          "2017-06-05T00:00:00",
          "2017-06-06T00:00:00",
          "2017-06-07T00:00:00",
          "2017-06-08T00:00:00",
          "2017-06-09T00:00:00",
          "2017-06-10T00:00:00",
          "2017-06-11T00:00:00",
          "2017-06-12T00:00:00",
          "2017-06-13T00:00:00",
          "2017-06-14T00:00:00",
          "2017-06-15T00:00:00",
          "2017-06-16T00:00:00",
          "2017-06-17T00:00:00",
          "2017-06-18T00:00:00",
          "2017-06-19T00:00:00",
          "2017-06-20T00:00:00",
          "2017-06-21T00:00:00",
          "2017-06-22T00:00:00",
          "2017-06-23T00:00:00",
          "2017-06-24T00:00:00",
          "2017-06-25T00:00:00"
         ],
         "y": [
          227.54559194848014,
          231.32786650899487,
          275.96284357164643,
          279.75219304648306,
          280.00539295241435,
          276.25971136603374,
          266.9946705392297,
          229.84470190494912,
          233.65291851665975,
          278.3493713322267,
          282.234113488384,
          282.6144736065703,
          279.02508159052087,
          269.9423846585087,
          232.99736122485334,
          237.02935797062443,
          281.964415240408,
          286.09840358630703,
          286.73437116170004,
          283.402644084563,
          274.5754162060345,
          237.87953463796373,
          242.15040518916845,
          287.31038174130714,
          291.6519613846158,
          292.4751841240009,
          289.30777851150845,
          280.61978900581227,
          244.0363909150076,
          248.39181671521624
         ]
        },
        {
         "marker": {
          "color": "red"
         },
         "mode": "lines",
         "name": "Actual",
         "type": "scatter",
         "x": [
          "2017-03-18T00:00:00",
          "2017-03-19T00:00:00",
          "2017-03-20T00:00:00",
          "2017-03-21T00:00:00",
          "2017-03-22T00:00:00",
          "2017-03-23T00:00:00",
          "2017-03-24T00:00:00",
          "2017-03-25T00:00:00",
          "2017-03-26T00:00:00",
          "2017-03-27T00:00:00",
          "2017-03-28T00:00:00",
          "2017-03-29T00:00:00",
          "2017-03-30T00:00:00",
          "2017-03-31T00:00:00",
          "2017-04-01T00:00:00",
          "2017-04-02T00:00:00",
          "2017-04-03T00:00:00",
          "2017-04-04T00:00:00",
          "2017-04-05T00:00:00",
          "2017-04-06T00:00:00",
          "2017-04-07T00:00:00",
          "2017-04-08T00:00:00",
          "2017-04-09T00:00:00",
          "2017-04-10T00:00:00",
          "2017-04-11T00:00:00",
          "2017-04-12T00:00:00",
          "2017-04-13T00:00:00",
          "2017-04-14T00:00:00",
          "2017-04-15T00:00:00",
          "2017-04-16T00:00:00",
          "2017-04-17T00:00:00",
          "2017-04-18T00:00:00",
          "2017-04-19T00:00:00",
          "2017-04-20T00:00:00",
          "2017-04-21T00:00:00",
          "2017-04-22T00:00:00",
          "2017-04-23T00:00:00",
          "2017-04-24T00:00:00",
          "2017-04-25T00:00:00",
          "2017-04-26T00:00:00",
          "2017-04-27T00:00:00",
          "2017-04-28T00:00:00",
          "2017-04-29T00:00:00",
          "2017-04-30T00:00:00",
          "2017-05-01T00:00:00",
          "2017-05-02T00:00:00",
          "2017-05-03T00:00:00",
          "2017-05-04T00:00:00",
          "2017-05-05T00:00:00",
          "2017-05-06T00:00:00",
          "2017-05-07T00:00:00",
          "2017-05-08T00:00:00",
          "2017-05-09T00:00:00",
          "2017-05-10T00:00:00",
          "2017-05-11T00:00:00",
          "2017-05-12T00:00:00",
          "2017-05-13T00:00:00",
          "2017-05-14T00:00:00",
          "2017-05-15T00:00:00",
          "2017-05-16T00:00:00",
          "2017-05-17T00:00:00",
          "2017-05-18T00:00:00",
          "2017-05-19T00:00:00",
          "2017-05-20T00:00:00",
          "2017-05-21T00:00:00",
          "2017-05-22T00:00:00",
          "2017-05-23T00:00:00",
          "2017-05-24T00:00:00",
          "2017-05-25T00:00:00",
          "2017-05-26T00:00:00",
          "2017-05-27T00:00:00",
          "2017-05-28T00:00:00",
          "2017-05-29T00:00:00",
          "2017-05-30T00:00:00",
          "2017-05-31T00:00:00",
          "2017-06-01T00:00:00",
          "2017-06-02T00:00:00",
          "2017-06-03T00:00:00",
          "2017-06-04T00:00:00",
          "2017-06-05T00:00:00",
          "2017-06-06T00:00:00",
          "2017-06-07T00:00:00",
          "2017-06-08T00:00:00",
          "2017-06-09T00:00:00",
          "2017-06-10T00:00:00",
          "2017-06-11T00:00:00",
          "2017-06-12T00:00:00",
          "2017-06-13T00:00:00",
          "2017-06-14T00:00:00",
          "2017-06-15T00:00:00",
          "2017-06-16T00:00:00",
          "2017-06-17T00:00:00",
          "2017-06-18T00:00:00",
          "2017-06-19T00:00:00",
          "2017-06-20T00:00:00",
          "2017-06-21T00:00:00",
          "2017-06-22T00:00:00",
          "2017-06-23T00:00:00",
          "2017-06-24T00:00:00",
          "2017-06-25T00:00:00"
         ],
         "y": [
          123,
          99,
          205,
          247,
          246,
          228,
          208,
          135,
          129,
          230,
          225,
          238,
          257,
          207,
          125,
          142,
          259,
          221,
          203,
          274,
          221,
          140,
          149,
          238,
          258,
          239,
          250,
          204,
          137,
          143,
          233,
          264,
          278,
          274,
          259,
          178,
          168,
          296,
          306,
          270,
          277,
          262,
          187,
          148,
          305,
          332,
          286,
          284,
          264,
          133,
          136,
          267,
          262,
          264,
          267,
          281,
          205,
          180,
          341,
          345,
          367,
          336,
          301,
          156,
          194,
          341,
          388,
          375,
          298,
          269,
          157,
          172,
          297,
          365,
          407,
          392,
          328,
          170,
          194,
          340,
          348,
          323,
          347,
          291,
          165,
          193,
          349,
          358,
          344,
          336,
          345,
          188,
          243,
          408,
          417,
          422,
          441,
          421,
          277,
          253
         ]
        }
       ],
       "layout": {
        "showlegend": false,
        "template": {
         "data": {
          "bar": [
           {
            "error_x": {
             "color": "#2a3f5f"
            },
            "error_y": {
             "color": "#2a3f5f"
            },
            "marker": {
             "line": {
              "color": "#E5ECF6",
              "width": 0.5
             }
            },
            "type": "bar"
           }
          ],
          "barpolar": [
           {
            "marker": {
             "line": {
              "color": "#E5ECF6",
              "width": 0.5
             }
            },
            "type": "barpolar"
           }
          ],
          "carpet": [
           {
            "aaxis": {
             "endlinecolor": "#2a3f5f",
             "gridcolor": "white",
             "linecolor": "white",
             "minorgridcolor": "white",
             "startlinecolor": "#2a3f5f"
            },
            "baxis": {
             "endlinecolor": "#2a3f5f",
             "gridcolor": "white",
             "linecolor": "white",
             "minorgridcolor": "white",
             "startlinecolor": "#2a3f5f"
            },
            "type": "carpet"
           }
          ],
          "choropleth": [
           {
            "colorbar": {
             "outlinewidth": 0,
             "ticks": ""
            },
            "type": "choropleth"
           }
          ],
          "contour": [
           {
            "colorbar": {
             "outlinewidth": 0,
             "ticks": ""
            },
            "colorscale": [
             [
              0,
              "#0d0887"
             ],
             [
              0.1111111111111111,
              "#46039f"
             ],
             [
              0.2222222222222222,
              "#7201a8"
             ],
             [
              0.3333333333333333,
              "#9c179e"
             ],
             [
              0.4444444444444444,
              "#bd3786"
             ],
             [
              0.5555555555555556,
              "#d8576b"
             ],
             [
              0.6666666666666666,
              "#ed7953"
             ],
             [
              0.7777777777777778,
              "#fb9f3a"
             ],
             [
              0.8888888888888888,
              "#fdca26"
             ],
             [
              1,
              "#f0f921"
             ]
            ],
            "type": "contour"
           }
          ],
          "contourcarpet": [
           {
            "colorbar": {
             "outlinewidth": 0,
             "ticks": ""
            },
            "type": "contourcarpet"
           }
          ],
          "heatmap": [
           {
            "colorbar": {
             "outlinewidth": 0,
             "ticks": ""
            },
            "colorscale": [
             [
              0,
              "#0d0887"
             ],
             [
              0.1111111111111111,
              "#46039f"
             ],
             [
              0.2222222222222222,
              "#7201a8"
             ],
             [
              0.3333333333333333,
              "#9c179e"
             ],
             [
              0.4444444444444444,
              "#bd3786"
             ],
             [
              0.5555555555555556,
              "#d8576b"
             ],
             [
              0.6666666666666666,
              "#ed7953"
             ],
             [
              0.7777777777777778,
              "#fb9f3a"
             ],
             [
              0.8888888888888888,
              "#fdca26"
             ],
             [
              1,
              "#f0f921"
             ]
            ],
            "type": "heatmap"
           }
          ],
          "heatmapgl": [
           {
            "colorbar": {
             "outlinewidth": 0,
             "ticks": ""
            },
            "colorscale": [
             [
              0,
              "#0d0887"
             ],
             [
              0.1111111111111111,
              "#46039f"
             ],
             [
              0.2222222222222222,
              "#7201a8"
             ],
             [
              0.3333333333333333,
              "#9c179e"
             ],
             [
              0.4444444444444444,
              "#bd3786"
             ],
             [
              0.5555555555555556,
              "#d8576b"
             ],
             [
              0.6666666666666666,
              "#ed7953"
             ],
             [
              0.7777777777777778,
              "#fb9f3a"
             ],
             [
              0.8888888888888888,
              "#fdca26"
             ],
             [
              1,
              "#f0f921"
             ]
            ],
            "type": "heatmapgl"
           }
          ],
          "histogram": [
           {
            "marker": {
             "colorbar": {
              "outlinewidth": 0,
              "ticks": ""
             }
            },
            "type": "histogram"
           }
          ],
          "histogram2d": [
           {
            "colorbar": {
             "outlinewidth": 0,
             "ticks": ""
            },
            "colorscale": [
             [
              0,
              "#0d0887"
             ],
             [
              0.1111111111111111,
              "#46039f"
             ],
             [
              0.2222222222222222,
              "#7201a8"
             ],
             [
              0.3333333333333333,
              "#9c179e"
             ],
             [
              0.4444444444444444,
              "#bd3786"
             ],
             [
              0.5555555555555556,
              "#d8576b"
             ],
             [
              0.6666666666666666,
              "#ed7953"
             ],
             [
              0.7777777777777778,
              "#fb9f3a"
             ],
             [
              0.8888888888888888,
              "#fdca26"
             ],
             [
              1,
              "#f0f921"
             ]
            ],
            "type": "histogram2d"
           }
          ],
          "histogram2dcontour": [
           {
            "colorbar": {
             "outlinewidth": 0,
             "ticks": ""
            },
            "colorscale": [
             [
              0,
              "#0d0887"
             ],
             [
              0.1111111111111111,
              "#46039f"
             ],
             [
              0.2222222222222222,
              "#7201a8"
             ],
             [
              0.3333333333333333,
              "#9c179e"
             ],
             [
              0.4444444444444444,
              "#bd3786"
             ],
             [
              0.5555555555555556,
              "#d8576b"
             ],
             [
              0.6666666666666666,
              "#ed7953"
             ],
             [
              0.7777777777777778,
              "#fb9f3a"
             ],
             [
              0.8888888888888888,
              "#fdca26"
             ],
             [
              1,
              "#f0f921"
             ]
            ],
            "type": "histogram2dcontour"
           }
          ],
          "mesh3d": [
           {
            "colorbar": {
             "outlinewidth": 0,
             "ticks": ""
            },
            "type": "mesh3d"
           }
          ],
          "parcoords": [
           {
            "line": {
             "colorbar": {
              "outlinewidth": 0,
              "ticks": ""
             }
            },
            "type": "parcoords"
           }
          ],
          "pie": [
           {
            "automargin": true,
            "type": "pie"
           }
          ],
          "scatter": [
           {
            "marker": {
             "colorbar": {
              "outlinewidth": 0,
              "ticks": ""
             }
            },
            "type": "scatter"
           }
          ],
          "scatter3d": [
           {
            "line": {
             "colorbar": {
              "outlinewidth": 0,
              "ticks": ""
             }
            },
            "marker": {
             "colorbar": {
              "outlinewidth": 0,
              "ticks": ""
             }
            },
            "type": "scatter3d"
           }
          ],
          "scattercarpet": [
           {
            "marker": {
             "colorbar": {
              "outlinewidth": 0,
              "ticks": ""
             }
            },
            "type": "scattercarpet"
           }
          ],
          "scattergeo": [
           {
            "marker": {
             "colorbar": {
              "outlinewidth": 0,
              "ticks": ""
             }
            },
            "type": "scattergeo"
           }
          ],
          "scattergl": [
           {
            "marker": {
             "colorbar": {
              "outlinewidth": 0,
              "ticks": ""
             }
            },
            "type": "scattergl"
           }
          ],
          "scattermapbox": [
           {
            "marker": {
             "colorbar": {
              "outlinewidth": 0,
              "ticks": ""
             }
            },
            "type": "scattermapbox"
           }
          ],
          "scatterpolar": [
           {
            "marker": {
             "colorbar": {
              "outlinewidth": 0,
              "ticks": ""
             }
            },
            "type": "scatterpolar"
           }
          ],
          "scatterpolargl": [
           {
            "marker": {
             "colorbar": {
              "outlinewidth": 0,
              "ticks": ""
             }
            },
            "type": "scatterpolargl"
           }
          ],
          "scatterternary": [
           {
            "marker": {
             "colorbar": {
              "outlinewidth": 0,
              "ticks": ""
             }
            },
            "type": "scatterternary"
           }
          ],
          "surface": [
           {
            "colorbar": {
             "outlinewidth": 0,
             "ticks": ""
            },
            "colorscale": [
             [
              0,
              "#0d0887"
             ],
             [
              0.1111111111111111,
              "#46039f"
             ],
             [
              0.2222222222222222,
              "#7201a8"
             ],
             [
              0.3333333333333333,
              "#9c179e"
             ],
             [
              0.4444444444444444,
              "#bd3786"
             ],
             [
              0.5555555555555556,
              "#d8576b"
             ],
             [
              0.6666666666666666,
              "#ed7953"
             ],
             [
              0.7777777777777778,
              "#fb9f3a"
             ],
             [
              0.8888888888888888,
              "#fdca26"
             ],
             [
              1,
              "#f0f921"
             ]
            ],
            "type": "surface"
           }
          ],
          "table": [
           {
            "cells": {
             "fill": {
              "color": "#EBF0F8"
             },
             "line": {
              "color": "white"
             }
            },
            "header": {
             "fill": {
              "color": "#C8D4E3"
             },
             "line": {
              "color": "white"
             }
            },
            "type": "table"
           }
          ]
         },
         "layout": {
          "annotationdefaults": {
           "arrowcolor": "#2a3f5f",
           "arrowhead": 0,
           "arrowwidth": 1
          },
          "autotypenumbers": "strict",
          "coloraxis": {
           "colorbar": {
            "outlinewidth": 0,
            "ticks": ""
           }
          },
          "colorscale": {
           "diverging": [
            [
             0,
             "#8e0152"
            ],
            [
             0.1,
             "#c51b7d"
            ],
            [
             0.2,
             "#de77ae"
            ],
            [
             0.3,
             "#f1b6da"
            ],
            [
             0.4,
             "#fde0ef"
            ],
            [
             0.5,
             "#f7f7f7"
            ],
            [
             0.6,
             "#e6f5d0"
            ],
            [
             0.7,
             "#b8e186"
            ],
            [
             0.8,
             "#7fbc41"
            ],
            [
             0.9,
             "#4d9221"
            ],
            [
             1,
             "#276419"
            ]
           ],
           "sequential": [
            [
             0,
             "#0d0887"
            ],
            [
             0.1111111111111111,
             "#46039f"
            ],
            [
             0.2222222222222222,
             "#7201a8"
            ],
            [
             0.3333333333333333,
             "#9c179e"
            ],
            [
             0.4444444444444444,
             "#bd3786"
            ],
            [
             0.5555555555555556,
             "#d8576b"
            ],
            [
             0.6666666666666666,
             "#ed7953"
            ],
            [
             0.7777777777777778,
             "#fb9f3a"
            ],
            [
             0.8888888888888888,
             "#fdca26"
            ],
            [
             1,
             "#f0f921"
            ]
           ],
           "sequentialminus": [
            [
             0,
             "#0d0887"
            ],
            [
             0.1111111111111111,
             "#46039f"
            ],
            [
             0.2222222222222222,
             "#7201a8"
            ],
            [
             0.3333333333333333,
             "#9c179e"
            ],
            [
             0.4444444444444444,
             "#bd3786"
            ],
            [
             0.5555555555555556,
             "#d8576b"
            ],
            [
             0.6666666666666666,
             "#ed7953"
            ],
            [
             0.7777777777777778,
             "#fb9f3a"
            ],
            [
             0.8888888888888888,
             "#fdca26"
            ],
            [
             1,
             "#f0f921"
            ]
           ]
          },
          "colorway": [
           "#636efa",
           "#EF553B",
           "#00cc96",
           "#ab63fa",
           "#FFA15A",
           "#19d3f3",
           "#FF6692",
           "#B6E880",
           "#FF97FF",
           "#FECB52"
          ],
          "font": {
           "color": "#2a3f5f"
          },
          "geo": {
           "bgcolor": "white",
           "lakecolor": "white",
           "landcolor": "#E5ECF6",
           "showlakes": true,
           "showland": true,
           "subunitcolor": "white"
          },
          "hoverlabel": {
           "align": "left"
          },
          "hovermode": "closest",
          "mapbox": {
           "style": "light"
          },
          "paper_bgcolor": "white",
          "plot_bgcolor": "#E5ECF6",
          "polar": {
           "angularaxis": {
            "gridcolor": "white",
            "linecolor": "white",
            "ticks": ""
           },
           "bgcolor": "#E5ECF6",
           "radialaxis": {
            "gridcolor": "white",
            "linecolor": "white",
            "ticks": ""
           }
          },
          "scene": {
           "xaxis": {
            "backgroundcolor": "#E5ECF6",
            "gridcolor": "white",
            "gridwidth": 2,
            "linecolor": "white",
            "showbackground": true,
            "ticks": "",
            "zerolinecolor": "white"
           },
           "yaxis": {
            "backgroundcolor": "#E5ECF6",
            "gridcolor": "white",
            "gridwidth": 2,
            "linecolor": "white",
            "showbackground": true,
            "ticks": "",
            "zerolinecolor": "white"
           },
           "zaxis": {
            "backgroundcolor": "#E5ECF6",
            "gridcolor": "white",
            "gridwidth": 2,
            "linecolor": "white",
            "showbackground": true,
            "ticks": "",
            "zerolinecolor": "white"
           }
          },
          "shapedefaults": {
           "line": {
            "color": "#2a3f5f"
           }
          },
          "ternary": {
           "aaxis": {
            "gridcolor": "white",
            "linecolor": "white",
            "ticks": ""
           },
           "baxis": {
            "gridcolor": "white",
            "linecolor": "white",
            "ticks": ""
           },
           "bgcolor": "#E5ECF6",
           "caxis": {
            "gridcolor": "white",
            "linecolor": "white",
            "ticks": ""
           }
          },
          "title": {
           "x": 0.05
          },
          "xaxis": {
           "automargin": true,
           "gridcolor": "white",
           "linecolor": "white",
           "ticks": "",
           "title": {
            "standoff": 15
           },
           "zerolinecolor": "white",
           "zerolinewidth": 2
          },
          "yaxis": {
           "automargin": true,
           "gridcolor": "white",
           "linecolor": "white",
           "ticks": "",
           "title": {
            "standoff": 15
           },
           "zerolinecolor": "white",
           "zerolinewidth": 2
          }
         }
        },
        "title": {
         "text": "No transformations"
        },
        "yaxis": {
         "title": {
          "text": "Posts"
         }
        }
       }
      },
      "text/html": [
       "<div>                            <div id=\"a64231db-85bb-433d-9f15-65315d24490e\" class=\"plotly-graph-div\" style=\"height:525px; width:100%;\"></div>            <script type=\"text/javascript\">                require([\"plotly\"], function(Plotly) {                    window.PLOTLYENV=window.PLOTLYENV || {};                                    if (document.getElementById(\"a64231db-85bb-433d-9f15-65315d24490e\")) {                    Plotly.newPlot(                        \"a64231db-85bb-433d-9f15-65315d24490e\",                        [{\"line\": {\"width\": 0}, \"marker\": {\"color\": \"gray\"}, \"mode\": \"lines\", \"name\": \"Lower Bound\", \"type\": \"scatter\", \"x\": [\"2017-05-27T00:00:00\", \"2017-05-28T00:00:00\", \"2017-05-29T00:00:00\", \"2017-05-30T00:00:00\", \"2017-05-31T00:00:00\", \"2017-06-01T00:00:00\", \"2017-06-02T00:00:00\", \"2017-06-03T00:00:00\", \"2017-06-04T00:00:00\", \"2017-06-05T00:00:00\", \"2017-06-06T00:00:00\", \"2017-06-07T00:00:00\", \"2017-06-08T00:00:00\", \"2017-06-09T00:00:00\", \"2017-06-10T00:00:00\", \"2017-06-11T00:00:00\", \"2017-06-12T00:00:00\", \"2017-06-13T00:00:00\", \"2017-06-14T00:00:00\", \"2017-06-15T00:00:00\", \"2017-06-16T00:00:00\", \"2017-06-17T00:00:00\", \"2017-06-18T00:00:00\", \"2017-06-19T00:00:00\", \"2017-06-20T00:00:00\", \"2017-06-21T00:00:00\", \"2017-06-22T00:00:00\", \"2017-06-23T00:00:00\", \"2017-06-24T00:00:00\", \"2017-06-25T00:00:00\"], \"y\": [203.28624067655335, 205.3601888214528, 252.49313847841688, 254.38231554416237, 254.1038136757734, 249.88422501489234, 242.563868945997, 206.53388690581778, 206.7030480504942, 254.68042968746528, 255.88125582729927, 257.568563433999, 253.5891037176063, 244.7135262561486, 208.05681113625226, 212.73489547003595, 257.1931370754937, 261.95582030514004, 261.4639395966799, 257.0846763913669, 249.33955631683364, 212.5091936395481, 215.6932909298266, 262.6438818087276, 266.8273540080887, 267.6418274612907, 264.39076672401757, 255.39077450927155, 220.57922248988612, 226.26171104311203]}, {\"fill\": \"tonexty\", \"fillcolor\": \"rgba(68, 68, 68, 0.3)\", \"line\": {\"width\": 0}, \"marker\": {\"color\": \"gray\"}, \"mode\": \"lines\", \"name\": \"Upper Bound\", \"type\": \"scatter\", \"x\": [\"2017-05-27T00:00:00\", \"2017-05-28T00:00:00\", \"2017-05-29T00:00:00\", \"2017-05-30T00:00:00\", \"2017-05-31T00:00:00\", \"2017-06-01T00:00:00\", \"2017-06-02T00:00:00\", \"2017-06-03T00:00:00\", \"2017-06-04T00:00:00\", \"2017-06-05T00:00:00\", \"2017-06-06T00:00:00\", \"2017-06-07T00:00:00\", \"2017-06-08T00:00:00\", \"2017-06-09T00:00:00\", \"2017-06-10T00:00:00\", \"2017-06-11T00:00:00\", \"2017-06-12T00:00:00\", \"2017-06-13T00:00:00\", \"2017-06-14T00:00:00\", \"2017-06-15T00:00:00\", \"2017-06-16T00:00:00\", \"2017-06-17T00:00:00\", \"2017-06-18T00:00:00\", \"2017-06-19T00:00:00\", \"2017-06-20T00:00:00\", \"2017-06-21T00:00:00\", \"2017-06-22T00:00:00\", \"2017-06-23T00:00:00\", \"2017-06-24T00:00:00\", \"2017-06-25T00:00:00\"], \"y\": [251.3150186421382, 253.74997656294113, 300.86197365246255, 304.22611175811994, 304.6477271908604, 302.4854049265108, 291.5403233702148, 253.0969679230722, 256.8409521166812, 302.27148875567065, 307.7480793890548, 307.67171429936957, 303.93828767781787, 294.90328136373245, 257.64928090672066, 262.9669891681213, 305.9952989904041, 310.7906701147616, 311.67158877648217, 307.76364262804105, 299.3807101515428, 260.16240678572007, 266.549387609432, 311.3148192494201, 317.00783513310125, 317.08287372563325, 314.7575092462721, 305.60260152608834, 270.3436351602234, 273.35459342018953]}, {\"line\": {\"color\": \"rgb(31, 119, 180)\"}, \"mode\": \"lines\", \"name\": \"Forecast\", \"type\": \"scatter\", \"x\": [\"2017-05-27T00:00:00\", \"2017-05-28T00:00:00\", \"2017-05-29T00:00:00\", \"2017-05-30T00:00:00\", \"2017-05-31T00:00:00\", \"2017-06-01T00:00:00\", \"2017-06-02T00:00:00\", \"2017-06-03T00:00:00\", \"2017-06-04T00:00:00\", \"2017-06-05T00:00:00\", \"2017-06-06T00:00:00\", \"2017-06-07T00:00:00\", \"2017-06-08T00:00:00\", \"2017-06-09T00:00:00\", \"2017-06-10T00:00:00\", \"2017-06-11T00:00:00\", \"2017-06-12T00:00:00\", \"2017-06-13T00:00:00\", \"2017-06-14T00:00:00\", \"2017-06-15T00:00:00\", \"2017-06-16T00:00:00\", \"2017-06-17T00:00:00\", \"2017-06-18T00:00:00\", \"2017-06-19T00:00:00\", \"2017-06-20T00:00:00\", \"2017-06-21T00:00:00\", \"2017-06-22T00:00:00\", \"2017-06-23T00:00:00\", \"2017-06-24T00:00:00\", \"2017-06-25T00:00:00\"], \"y\": [227.54559194848014, 231.32786650899487, 275.96284357164643, 279.75219304648306, 280.00539295241435, 276.25971136603374, 266.9946705392297, 229.84470190494912, 233.65291851665975, 278.3493713322267, 282.234113488384, 282.6144736065703, 279.02508159052087, 269.9423846585087, 232.99736122485334, 237.02935797062443, 281.964415240408, 286.09840358630703, 286.73437116170004, 283.402644084563, 274.5754162060345, 237.87953463796373, 242.15040518916845, 287.31038174130714, 291.6519613846158, 292.4751841240009, 289.30777851150845, 280.61978900581227, 244.0363909150076, 248.39181671521624]}, {\"marker\": {\"color\": \"red\"}, \"mode\": \"lines\", \"name\": \"Actual\", \"type\": \"scatter\", \"x\": [\"2017-03-18T00:00:00\", \"2017-03-19T00:00:00\", \"2017-03-20T00:00:00\", \"2017-03-21T00:00:00\", \"2017-03-22T00:00:00\", \"2017-03-23T00:00:00\", \"2017-03-24T00:00:00\", \"2017-03-25T00:00:00\", \"2017-03-26T00:00:00\", \"2017-03-27T00:00:00\", \"2017-03-28T00:00:00\", \"2017-03-29T00:00:00\", \"2017-03-30T00:00:00\", \"2017-03-31T00:00:00\", \"2017-04-01T00:00:00\", \"2017-04-02T00:00:00\", \"2017-04-03T00:00:00\", \"2017-04-04T00:00:00\", \"2017-04-05T00:00:00\", \"2017-04-06T00:00:00\", \"2017-04-07T00:00:00\", \"2017-04-08T00:00:00\", \"2017-04-09T00:00:00\", \"2017-04-10T00:00:00\", \"2017-04-11T00:00:00\", \"2017-04-12T00:00:00\", \"2017-04-13T00:00:00\", \"2017-04-14T00:00:00\", \"2017-04-15T00:00:00\", \"2017-04-16T00:00:00\", \"2017-04-17T00:00:00\", \"2017-04-18T00:00:00\", \"2017-04-19T00:00:00\", \"2017-04-20T00:00:00\", \"2017-04-21T00:00:00\", \"2017-04-22T00:00:00\", \"2017-04-23T00:00:00\", \"2017-04-24T00:00:00\", \"2017-04-25T00:00:00\", \"2017-04-26T00:00:00\", \"2017-04-27T00:00:00\", \"2017-04-28T00:00:00\", \"2017-04-29T00:00:00\", \"2017-04-30T00:00:00\", \"2017-05-01T00:00:00\", \"2017-05-02T00:00:00\", \"2017-05-03T00:00:00\", \"2017-05-04T00:00:00\", \"2017-05-05T00:00:00\", \"2017-05-06T00:00:00\", \"2017-05-07T00:00:00\", \"2017-05-08T00:00:00\", \"2017-05-09T00:00:00\", \"2017-05-10T00:00:00\", \"2017-05-11T00:00:00\", \"2017-05-12T00:00:00\", \"2017-05-13T00:00:00\", \"2017-05-14T00:00:00\", \"2017-05-15T00:00:00\", \"2017-05-16T00:00:00\", \"2017-05-17T00:00:00\", \"2017-05-18T00:00:00\", \"2017-05-19T00:00:00\", \"2017-05-20T00:00:00\", \"2017-05-21T00:00:00\", \"2017-05-22T00:00:00\", \"2017-05-23T00:00:00\", \"2017-05-24T00:00:00\", \"2017-05-25T00:00:00\", \"2017-05-26T00:00:00\", \"2017-05-27T00:00:00\", \"2017-05-28T00:00:00\", \"2017-05-29T00:00:00\", \"2017-05-30T00:00:00\", \"2017-05-31T00:00:00\", \"2017-06-01T00:00:00\", \"2017-06-02T00:00:00\", \"2017-06-03T00:00:00\", \"2017-06-04T00:00:00\", \"2017-06-05T00:00:00\", \"2017-06-06T00:00:00\", \"2017-06-07T00:00:00\", \"2017-06-08T00:00:00\", \"2017-06-09T00:00:00\", \"2017-06-10T00:00:00\", \"2017-06-11T00:00:00\", \"2017-06-12T00:00:00\", \"2017-06-13T00:00:00\", \"2017-06-14T00:00:00\", \"2017-06-15T00:00:00\", \"2017-06-16T00:00:00\", \"2017-06-17T00:00:00\", \"2017-06-18T00:00:00\", \"2017-06-19T00:00:00\", \"2017-06-20T00:00:00\", \"2017-06-21T00:00:00\", \"2017-06-22T00:00:00\", \"2017-06-23T00:00:00\", \"2017-06-24T00:00:00\", \"2017-06-25T00:00:00\"], \"y\": [123, 99, 205, 247, 246, 228, 208, 135, 129, 230, 225, 238, 257, 207, 125, 142, 259, 221, 203, 274, 221, 140, 149, 238, 258, 239, 250, 204, 137, 143, 233, 264, 278, 274, 259, 178, 168, 296, 306, 270, 277, 262, 187, 148, 305, 332, 286, 284, 264, 133, 136, 267, 262, 264, 267, 281, 205, 180, 341, 345, 367, 336, 301, 156, 194, 341, 388, 375, 298, 269, 157, 172, 297, 365, 407, 392, 328, 170, 194, 340, 348, 323, 347, 291, 165, 193, 349, 358, 344, 336, 345, 188, 243, 408, 417, 422, 441, 421, 277, 253]}],                        {\"showlegend\": false, \"template\": {\"data\": {\"bar\": [{\"error_x\": {\"color\": \"#2a3f5f\"}, \"error_y\": {\"color\": \"#2a3f5f\"}, \"marker\": {\"line\": {\"color\": \"#E5ECF6\", \"width\": 0.5}}, \"type\": \"bar\"}], \"barpolar\": [{\"marker\": {\"line\": {\"color\": \"#E5ECF6\", \"width\": 0.5}}, \"type\": \"barpolar\"}], \"carpet\": [{\"aaxis\": {\"endlinecolor\": \"#2a3f5f\", \"gridcolor\": \"white\", \"linecolor\": \"white\", \"minorgridcolor\": \"white\", \"startlinecolor\": \"#2a3f5f\"}, \"baxis\": {\"endlinecolor\": \"#2a3f5f\", \"gridcolor\": \"white\", \"linecolor\": \"white\", \"minorgridcolor\": \"white\", \"startlinecolor\": \"#2a3f5f\"}, \"type\": \"carpet\"}], \"choropleth\": [{\"colorbar\": {\"outlinewidth\": 0, \"ticks\": \"\"}, \"type\": \"choropleth\"}], \"contour\": [{\"colorbar\": {\"outlinewidth\": 0, \"ticks\": \"\"}, \"colorscale\": [[0.0, \"#0d0887\"], [0.1111111111111111, \"#46039f\"], [0.2222222222222222, \"#7201a8\"], [0.3333333333333333, \"#9c179e\"], [0.4444444444444444, \"#bd3786\"], [0.5555555555555556, \"#d8576b\"], [0.6666666666666666, \"#ed7953\"], [0.7777777777777778, \"#fb9f3a\"], [0.8888888888888888, \"#fdca26\"], [1.0, \"#f0f921\"]], \"type\": \"contour\"}], \"contourcarpet\": [{\"colorbar\": {\"outlinewidth\": 0, \"ticks\": \"\"}, \"type\": \"contourcarpet\"}], \"heatmap\": [{\"colorbar\": {\"outlinewidth\": 0, \"ticks\": \"\"}, \"colorscale\": [[0.0, \"#0d0887\"], [0.1111111111111111, \"#46039f\"], [0.2222222222222222, \"#7201a8\"], [0.3333333333333333, \"#9c179e\"], [0.4444444444444444, \"#bd3786\"], [0.5555555555555556, \"#d8576b\"], [0.6666666666666666, \"#ed7953\"], [0.7777777777777778, \"#fb9f3a\"], [0.8888888888888888, \"#fdca26\"], [1.0, \"#f0f921\"]], \"type\": \"heatmap\"}], \"heatmapgl\": [{\"colorbar\": {\"outlinewidth\": 0, \"ticks\": \"\"}, \"colorscale\": [[0.0, \"#0d0887\"], [0.1111111111111111, \"#46039f\"], [0.2222222222222222, \"#7201a8\"], [0.3333333333333333, \"#9c179e\"], [0.4444444444444444, \"#bd3786\"], [0.5555555555555556, \"#d8576b\"], [0.6666666666666666, \"#ed7953\"], [0.7777777777777778, \"#fb9f3a\"], [0.8888888888888888, \"#fdca26\"], [1.0, \"#f0f921\"]], \"type\": \"heatmapgl\"}], \"histogram\": [{\"marker\": {\"colorbar\": {\"outlinewidth\": 0, \"ticks\": \"\"}}, \"type\": \"histogram\"}], \"histogram2d\": [{\"colorbar\": {\"outlinewidth\": 0, \"ticks\": \"\"}, \"colorscale\": [[0.0, \"#0d0887\"], [0.1111111111111111, \"#46039f\"], [0.2222222222222222, \"#7201a8\"], [0.3333333333333333, \"#9c179e\"], [0.4444444444444444, \"#bd3786\"], [0.5555555555555556, \"#d8576b\"], [0.6666666666666666, \"#ed7953\"], [0.7777777777777778, \"#fb9f3a\"], [0.8888888888888888, \"#fdca26\"], [1.0, \"#f0f921\"]], \"type\": \"histogram2d\"}], \"histogram2dcontour\": [{\"colorbar\": {\"outlinewidth\": 0, \"ticks\": \"\"}, \"colorscale\": [[0.0, \"#0d0887\"], [0.1111111111111111, \"#46039f\"], [0.2222222222222222, \"#7201a8\"], [0.3333333333333333, \"#9c179e\"], [0.4444444444444444, \"#bd3786\"], [0.5555555555555556, \"#d8576b\"], [0.6666666666666666, \"#ed7953\"], [0.7777777777777778, \"#fb9f3a\"], [0.8888888888888888, \"#fdca26\"], [1.0, \"#f0f921\"]], \"type\": \"histogram2dcontour\"}], \"mesh3d\": [{\"colorbar\": {\"outlinewidth\": 0, \"ticks\": \"\"}, \"type\": \"mesh3d\"}], \"parcoords\": [{\"line\": {\"colorbar\": {\"outlinewidth\": 0, \"ticks\": \"\"}}, \"type\": \"parcoords\"}], \"pie\": [{\"automargin\": true, \"type\": \"pie\"}], \"scatter\": [{\"marker\": {\"colorbar\": {\"outlinewidth\": 0, \"ticks\": \"\"}}, \"type\": \"scatter\"}], \"scatter3d\": [{\"line\": {\"colorbar\": {\"outlinewidth\": 0, \"ticks\": \"\"}}, \"marker\": {\"colorbar\": {\"outlinewidth\": 0, \"ticks\": \"\"}}, \"type\": \"scatter3d\"}], \"scattercarpet\": [{\"marker\": {\"colorbar\": {\"outlinewidth\": 0, \"ticks\": \"\"}}, \"type\": \"scattercarpet\"}], \"scattergeo\": [{\"marker\": {\"colorbar\": {\"outlinewidth\": 0, \"ticks\": \"\"}}, \"type\": \"scattergeo\"}], \"scattergl\": [{\"marker\": {\"colorbar\": {\"outlinewidth\": 0, \"ticks\": \"\"}}, \"type\": \"scattergl\"}], \"scattermapbox\": [{\"marker\": {\"colorbar\": {\"outlinewidth\": 0, \"ticks\": \"\"}}, \"type\": \"scattermapbox\"}], \"scatterpolar\": [{\"marker\": {\"colorbar\": {\"outlinewidth\": 0, \"ticks\": \"\"}}, \"type\": \"scatterpolar\"}], \"scatterpolargl\": [{\"marker\": {\"colorbar\": {\"outlinewidth\": 0, \"ticks\": \"\"}}, \"type\": \"scatterpolargl\"}], \"scatterternary\": [{\"marker\": {\"colorbar\": {\"outlinewidth\": 0, \"ticks\": \"\"}}, \"type\": \"scatterternary\"}], \"surface\": [{\"colorbar\": {\"outlinewidth\": 0, \"ticks\": \"\"}, \"colorscale\": [[0.0, \"#0d0887\"], [0.1111111111111111, \"#46039f\"], [0.2222222222222222, \"#7201a8\"], [0.3333333333333333, \"#9c179e\"], [0.4444444444444444, \"#bd3786\"], [0.5555555555555556, \"#d8576b\"], [0.6666666666666666, \"#ed7953\"], [0.7777777777777778, \"#fb9f3a\"], [0.8888888888888888, \"#fdca26\"], [1.0, \"#f0f921\"]], \"type\": \"surface\"}], \"table\": [{\"cells\": {\"fill\": {\"color\": \"#EBF0F8\"}, \"line\": {\"color\": \"white\"}}, \"header\": {\"fill\": {\"color\": \"#C8D4E3\"}, \"line\": {\"color\": \"white\"}}, \"type\": \"table\"}]}, \"layout\": {\"annotationdefaults\": {\"arrowcolor\": \"#2a3f5f\", \"arrowhead\": 0, \"arrowwidth\": 1}, \"autotypenumbers\": \"strict\", \"coloraxis\": {\"colorbar\": {\"outlinewidth\": 0, \"ticks\": \"\"}}, \"colorscale\": {\"diverging\": [[0, \"#8e0152\"], [0.1, \"#c51b7d\"], [0.2, \"#de77ae\"], [0.3, \"#f1b6da\"], [0.4, \"#fde0ef\"], [0.5, \"#f7f7f7\"], [0.6, \"#e6f5d0\"], [0.7, \"#b8e186\"], [0.8, \"#7fbc41\"], [0.9, \"#4d9221\"], [1, \"#276419\"]], \"sequential\": [[0.0, \"#0d0887\"], [0.1111111111111111, \"#46039f\"], [0.2222222222222222, \"#7201a8\"], [0.3333333333333333, \"#9c179e\"], [0.4444444444444444, \"#bd3786\"], [0.5555555555555556, \"#d8576b\"], [0.6666666666666666, \"#ed7953\"], [0.7777777777777778, \"#fb9f3a\"], [0.8888888888888888, \"#fdca26\"], [1.0, \"#f0f921\"]], \"sequentialminus\": [[0.0, \"#0d0887\"], [0.1111111111111111, \"#46039f\"], [0.2222222222222222, \"#7201a8\"], [0.3333333333333333, \"#9c179e\"], [0.4444444444444444, \"#bd3786\"], [0.5555555555555556, \"#d8576b\"], [0.6666666666666666, \"#ed7953\"], [0.7777777777777778, \"#fb9f3a\"], [0.8888888888888888, \"#fdca26\"], [1.0, \"#f0f921\"]]}, \"colorway\": [\"#636efa\", \"#EF553B\", \"#00cc96\", \"#ab63fa\", \"#FFA15A\", \"#19d3f3\", \"#FF6692\", \"#B6E880\", \"#FF97FF\", \"#FECB52\"], \"font\": {\"color\": \"#2a3f5f\"}, \"geo\": {\"bgcolor\": \"white\", \"lakecolor\": \"white\", \"landcolor\": \"#E5ECF6\", \"showlakes\": true, \"showland\": true, \"subunitcolor\": \"white\"}, \"hoverlabel\": {\"align\": \"left\"}, \"hovermode\": \"closest\", \"mapbox\": {\"style\": \"light\"}, \"paper_bgcolor\": \"white\", \"plot_bgcolor\": \"#E5ECF6\", \"polar\": {\"angularaxis\": {\"gridcolor\": \"white\", \"linecolor\": \"white\", \"ticks\": \"\"}, \"bgcolor\": \"#E5ECF6\", \"radialaxis\": {\"gridcolor\": \"white\", \"linecolor\": \"white\", \"ticks\": \"\"}}, \"scene\": {\"xaxis\": {\"backgroundcolor\": \"#E5ECF6\", \"gridcolor\": \"white\", \"gridwidth\": 2, \"linecolor\": \"white\", \"showbackground\": true, \"ticks\": \"\", \"zerolinecolor\": \"white\"}, \"yaxis\": {\"backgroundcolor\": \"#E5ECF6\", \"gridcolor\": \"white\", \"gridwidth\": 2, \"linecolor\": \"white\", \"showbackground\": true, \"ticks\": \"\", \"zerolinecolor\": \"white\"}, \"zaxis\": {\"backgroundcolor\": \"#E5ECF6\", \"gridcolor\": \"white\", \"gridwidth\": 2, \"linecolor\": \"white\", \"showbackground\": true, \"ticks\": \"\", \"zerolinecolor\": \"white\"}}, \"shapedefaults\": {\"line\": {\"color\": \"#2a3f5f\"}}, \"ternary\": {\"aaxis\": {\"gridcolor\": \"white\", \"linecolor\": \"white\", \"ticks\": \"\"}, \"baxis\": {\"gridcolor\": \"white\", \"linecolor\": \"white\", \"ticks\": \"\"}, \"bgcolor\": \"#E5ECF6\", \"caxis\": {\"gridcolor\": \"white\", \"linecolor\": \"white\", \"ticks\": \"\"}}, \"title\": {\"x\": 0.05}, \"xaxis\": {\"automargin\": true, \"gridcolor\": \"white\", \"linecolor\": \"white\", \"ticks\": \"\", \"title\": {\"standoff\": 15}, \"zerolinecolor\": \"white\", \"zerolinewidth\": 2}, \"yaxis\": {\"automargin\": true, \"gridcolor\": \"white\", \"linecolor\": \"white\", \"ticks\": \"\", \"title\": {\"standoff\": 15}, \"zerolinecolor\": \"white\", \"zerolinewidth\": 2}}}, \"title\": {\"text\": \"No transformations\"}, \"yaxis\": {\"title\": {\"text\": \"Posts\"}}},                        {\"responsive\": true}                    ).then(function(){\n",
       "                            \n",
       "var gd = document.getElementById('a64231db-85bb-433d-9f15-65315d24490e');\n",
       "var x = new MutationObserver(function (mutations, observer) {{\n",
       "        var display = window.getComputedStyle(gd).display;\n",
       "        if (!display || display === 'none') {{\n",
       "            console.log([gd, 'removed!']);\n",
       "            Plotly.purge(gd);\n",
       "            observer.disconnect();\n",
       "        }}\n",
       "}});\n",
       "\n",
       "// Listen for the removal of the full notebook cells\n",
       "var notebookContainer = gd.closest('#notebook-container');\n",
       "if (notebookContainer) {{\n",
       "    x.observe(notebookContainer, {childList: true});\n",
       "}}\n",
       "\n",
       "// Listen for the clearing of the current output cell\n",
       "var outputEl = gd.closest('.output');\n",
       "if (outputEl) {{\n",
       "    x.observe(outputEl, {childList: true});\n",
       "}}\n",
       "\n",
       "                        })                };                });            </script>        </div>"
      ]
     },
     "metadata": {},
     "output_type": "display_data"
    },
    {
     "data": {
      "application/vnd.plotly.v1+json": {
       "config": {
        "linkText": "Export to plot.ly",
        "plotlyServerURL": "https://plot.ly",
        "showLink": false
       },
       "data": [
        {
         "line": {
          "width": 0
         },
         "marker": {
          "color": "gray"
         },
         "mode": "lines",
         "name": "Lower Bound",
         "type": "scatter",
         "x": [
          "2017-05-27T00:00:00",
          "2017-05-28T00:00:00",
          "2017-05-29T00:00:00",
          "2017-05-30T00:00:00",
          "2017-05-31T00:00:00",
          "2017-06-01T00:00:00",
          "2017-06-02T00:00:00",
          "2017-06-03T00:00:00",
          "2017-06-04T00:00:00",
          "2017-06-05T00:00:00",
          "2017-06-06T00:00:00",
          "2017-06-07T00:00:00",
          "2017-06-08T00:00:00",
          "2017-06-09T00:00:00",
          "2017-06-10T00:00:00",
          "2017-06-11T00:00:00",
          "2017-06-12T00:00:00",
          "2017-06-13T00:00:00",
          "2017-06-14T00:00:00",
          "2017-06-15T00:00:00",
          "2017-06-16T00:00:00",
          "2017-06-17T00:00:00",
          "2017-06-18T00:00:00",
          "2017-06-19T00:00:00",
          "2017-06-20T00:00:00",
          "2017-06-21T00:00:00",
          "2017-06-22T00:00:00",
          "2017-06-23T00:00:00",
          "2017-06-24T00:00:00",
          "2017-06-25T00:00:00"
         ],
         "y": [
          144.96518201459284,
          152.371611248283,
          253.00448084071502,
          257.81704099543043,
          263.5093954458685,
          252.45780209342962,
          230.90677249365285,
          149.8839897124561,
          160.89509941378316,
          262.40465017639514,
          272.9668039568828,
          275.11577493037873,
          263.32372965302284,
          244.62133801532968,
          158.09951259907717,
          169.2495497518822,
          275.405444899109,
          286.8487209775456,
          287.0557292654773,
          275.79935435334374,
          253.41138098402922,
          167.76357177501345,
          177.29242282500255,
          284.67208340992573,
          290.64304242183835,
          296.40266107290205,
          285.350717087832,
          262.1921208594477,
          168.72958561264758,
          180.34163555441904
         ]
        },
        {
         "fill": "tonexty",
         "fillcolor": "rgba(68, 68, 68, 0.3)",
         "line": {
          "width": 0
         },
         "marker": {
          "color": "gray"
         },
         "mode": "lines",
         "name": "Upper Bound",
         "type": "scatter",
         "x": [
          "2017-05-27T00:00:00",
          "2017-05-28T00:00:00",
          "2017-05-29T00:00:00",
          "2017-05-30T00:00:00",
          "2017-05-31T00:00:00",
          "2017-06-01T00:00:00",
          "2017-06-02T00:00:00",
          "2017-06-03T00:00:00",
          "2017-06-04T00:00:00",
          "2017-06-05T00:00:00",
          "2017-06-06T00:00:00",
          "2017-06-07T00:00:00",
          "2017-06-08T00:00:00",
          "2017-06-09T00:00:00",
          "2017-06-10T00:00:00",
          "2017-06-11T00:00:00",
          "2017-06-12T00:00:00",
          "2017-06-13T00:00:00",
          "2017-06-14T00:00:00",
          "2017-06-15T00:00:00",
          "2017-06-16T00:00:00",
          "2017-06-17T00:00:00",
          "2017-06-18T00:00:00",
          "2017-06-19T00:00:00",
          "2017-06-20T00:00:00",
          "2017-06-21T00:00:00",
          "2017-06-22T00:00:00",
          "2017-06-23T00:00:00",
          "2017-06-24T00:00:00",
          "2017-06-25T00:00:00"
         ],
         "y": [
          208.56996834405905,
          219.12624021498397,
          347.9786862234555,
          356.4690759537322,
          360.112808234223,
          348.71068586532203,
          322.4863694936237,
          215.06042090564242,
          227.9216700289814,
          367.7987623478345,
          370.16444632572905,
          376.16840260052874,
          361.8172690942961,
          334.77006535391604,
          223.6643530779296,
          242.23051815979187,
          376.2466131169022,
          385.1106371616461,
          390.9539043692805,
          378.769302529517,
          351.24939707750264,
          236.17950037680552,
          249.58703126962894,
          391.8367431173732,
          400.87479706854265,
          406.9443193949962,
          388.34465621151537,
          361.2587754849975,
          235.40048736840507,
          253.84033945208614
         ]
        },
        {
         "line": {
          "color": "rgb(31, 119, 180)"
         },
         "mode": "lines",
         "name": "Forecast",
         "type": "scatter",
         "x": [
          "2017-05-27T00:00:00",
          "2017-05-28T00:00:00",
          "2017-05-29T00:00:00",
          "2017-05-30T00:00:00",
          "2017-05-31T00:00:00",
          "2017-06-01T00:00:00",
          "2017-06-02T00:00:00",
          "2017-06-03T00:00:00",
          "2017-06-04T00:00:00",
          "2017-06-05T00:00:00",
          "2017-06-06T00:00:00",
          "2017-06-07T00:00:00",
          "2017-06-08T00:00:00",
          "2017-06-09T00:00:00",
          "2017-06-10T00:00:00",
          "2017-06-11T00:00:00",
          "2017-06-12T00:00:00",
          "2017-06-13T00:00:00",
          "2017-06-14T00:00:00",
          "2017-06-15T00:00:00",
          "2017-06-16T00:00:00",
          "2017-06-17T00:00:00",
          "2017-06-18T00:00:00",
          "2017-06-19T00:00:00",
          "2017-06-20T00:00:00",
          "2017-06-21T00:00:00",
          "2017-06-22T00:00:00",
          "2017-06-23T00:00:00",
          "2017-06-24T00:00:00",
          "2017-06-25T00:00:00"
         ],
         "y": [
          172.4465444821706,
          183.36451473327227,
          296.1869182664017,
          304.3770911598185,
          307.00816550027423,
          296.1660757071215,
          273.7020562932637,
          180.1722393309507,
          191.95430252618604,
          309.39923989970987,
          318.37437724890555,
          321.47087070329434,
          310.44502101565354,
          287.1935357493186,
          189.7958718202686,
          201.9587119888043,
          323.76407900884334,
          332.64678467153175,
          335.3223369809724,
          323.31279454788927,
          298.6556206929049,
          197.5368885773165,
          209.57053926168064,
          334.10828087051783,
          342.44293707475987,
          344.43405705651327,
          331.4838566872206,
          305.74557899894785,
          202.26028821192062,
          214.20239502463374
         ]
        },
        {
         "marker": {
          "color": "red"
         },
         "mode": "lines",
         "name": "Actual",
         "type": "scatter",
         "x": [
          "2017-03-18T00:00:00",
          "2017-03-19T00:00:00",
          "2017-03-20T00:00:00",
          "2017-03-21T00:00:00",
          "2017-03-22T00:00:00",
          "2017-03-23T00:00:00",
          "2017-03-24T00:00:00",
          "2017-03-25T00:00:00",
          "2017-03-26T00:00:00",
          "2017-03-27T00:00:00",
          "2017-03-28T00:00:00",
          "2017-03-29T00:00:00",
          "2017-03-30T00:00:00",
          "2017-03-31T00:00:00",
          "2017-04-01T00:00:00",
          "2017-04-02T00:00:00",
          "2017-04-03T00:00:00",
          "2017-04-04T00:00:00",
          "2017-04-05T00:00:00",
          "2017-04-06T00:00:00",
          "2017-04-07T00:00:00",
          "2017-04-08T00:00:00",
          "2017-04-09T00:00:00",
          "2017-04-10T00:00:00",
          "2017-04-11T00:00:00",
          "2017-04-12T00:00:00",
          "2017-04-13T00:00:00",
          "2017-04-14T00:00:00",
          "2017-04-15T00:00:00",
          "2017-04-16T00:00:00",
          "2017-04-17T00:00:00",
          "2017-04-18T00:00:00",
          "2017-04-19T00:00:00",
          "2017-04-20T00:00:00",
          "2017-04-21T00:00:00",
          "2017-04-22T00:00:00",
          "2017-04-23T00:00:00",
          "2017-04-24T00:00:00",
          "2017-04-25T00:00:00",
          "2017-04-26T00:00:00",
          "2017-04-27T00:00:00",
          "2017-04-28T00:00:00",
          "2017-04-29T00:00:00",
          "2017-04-30T00:00:00",
          "2017-05-01T00:00:00",
          "2017-05-02T00:00:00",
          "2017-05-03T00:00:00",
          "2017-05-04T00:00:00",
          "2017-05-05T00:00:00",
          "2017-05-06T00:00:00",
          "2017-05-07T00:00:00",
          "2017-05-08T00:00:00",
          "2017-05-09T00:00:00",
          "2017-05-10T00:00:00",
          "2017-05-11T00:00:00",
          "2017-05-12T00:00:00",
          "2017-05-13T00:00:00",
          "2017-05-14T00:00:00",
          "2017-05-15T00:00:00",
          "2017-05-16T00:00:00",
          "2017-05-17T00:00:00",
          "2017-05-18T00:00:00",
          "2017-05-19T00:00:00",
          "2017-05-20T00:00:00",
          "2017-05-21T00:00:00",
          "2017-05-22T00:00:00",
          "2017-05-23T00:00:00",
          "2017-05-24T00:00:00",
          "2017-05-25T00:00:00",
          "2017-05-26T00:00:00",
          "2017-05-27T00:00:00",
          "2017-05-28T00:00:00",
          "2017-05-29T00:00:00",
          "2017-05-30T00:00:00",
          "2017-05-31T00:00:00",
          "2017-06-01T00:00:00",
          "2017-06-02T00:00:00",
          "2017-06-03T00:00:00",
          "2017-06-04T00:00:00",
          "2017-06-05T00:00:00",
          "2017-06-06T00:00:00",
          "2017-06-07T00:00:00",
          "2017-06-08T00:00:00",
          "2017-06-09T00:00:00",
          "2017-06-10T00:00:00",
          "2017-06-11T00:00:00",
          "2017-06-12T00:00:00",
          "2017-06-13T00:00:00",
          "2017-06-14T00:00:00",
          "2017-06-15T00:00:00",
          "2017-06-16T00:00:00",
          "2017-06-17T00:00:00",
          "2017-06-18T00:00:00",
          "2017-06-19T00:00:00",
          "2017-06-20T00:00:00",
          "2017-06-21T00:00:00",
          "2017-06-22T00:00:00",
          "2017-06-23T00:00:00",
          "2017-06-24T00:00:00",
          "2017-06-25T00:00:00"
         ],
         "y": [
          123,
          99,
          205,
          247,
          246,
          228,
          208,
          135,
          129,
          230,
          225,
          238,
          257,
          207,
          125,
          142,
          259,
          221,
          203,
          274,
          221,
          140,
          149,
          238,
          258,
          239,
          250,
          204,
          137,
          143,
          233,
          264,
          278,
          274,
          259,
          178,
          168,
          296,
          306,
          270,
          277,
          262,
          187,
          148,
          305,
          332,
          286,
          284,
          264,
          133,
          136,
          267,
          262,
          264,
          267,
          281,
          205,
          180,
          341,
          345,
          367,
          336,
          301,
          156,
          194,
          341,
          388,
          375,
          298,
          269,
          157,
          172,
          297,
          365,
          407,
          392,
          328,
          170,
          194,
          340,
          348,
          323,
          347,
          291,
          165,
          193,
          349,
          358,
          344,
          336,
          345,
          188,
          243,
          408,
          417,
          422,
          441,
          421,
          277,
          253
         ]
        }
       ],
       "layout": {
        "showlegend": false,
        "template": {
         "data": {
          "bar": [
           {
            "error_x": {
             "color": "#2a3f5f"
            },
            "error_y": {
             "color": "#2a3f5f"
            },
            "marker": {
             "line": {
              "color": "#E5ECF6",
              "width": 0.5
             }
            },
            "type": "bar"
           }
          ],
          "barpolar": [
           {
            "marker": {
             "line": {
              "color": "#E5ECF6",
              "width": 0.5
             }
            },
            "type": "barpolar"
           }
          ],
          "carpet": [
           {
            "aaxis": {
             "endlinecolor": "#2a3f5f",
             "gridcolor": "white",
             "linecolor": "white",
             "minorgridcolor": "white",
             "startlinecolor": "#2a3f5f"
            },
            "baxis": {
             "endlinecolor": "#2a3f5f",
             "gridcolor": "white",
             "linecolor": "white",
             "minorgridcolor": "white",
             "startlinecolor": "#2a3f5f"
            },
            "type": "carpet"
           }
          ],
          "choropleth": [
           {
            "colorbar": {
             "outlinewidth": 0,
             "ticks": ""
            },
            "type": "choropleth"
           }
          ],
          "contour": [
           {
            "colorbar": {
             "outlinewidth": 0,
             "ticks": ""
            },
            "colorscale": [
             [
              0,
              "#0d0887"
             ],
             [
              0.1111111111111111,
              "#46039f"
             ],
             [
              0.2222222222222222,
              "#7201a8"
             ],
             [
              0.3333333333333333,
              "#9c179e"
             ],
             [
              0.4444444444444444,
              "#bd3786"
             ],
             [
              0.5555555555555556,
              "#d8576b"
             ],
             [
              0.6666666666666666,
              "#ed7953"
             ],
             [
              0.7777777777777778,
              "#fb9f3a"
             ],
             [
              0.8888888888888888,
              "#fdca26"
             ],
             [
              1,
              "#f0f921"
             ]
            ],
            "type": "contour"
           }
          ],
          "contourcarpet": [
           {
            "colorbar": {
             "outlinewidth": 0,
             "ticks": ""
            },
            "type": "contourcarpet"
           }
          ],
          "heatmap": [
           {
            "colorbar": {
             "outlinewidth": 0,
             "ticks": ""
            },
            "colorscale": [
             [
              0,
              "#0d0887"
             ],
             [
              0.1111111111111111,
              "#46039f"
             ],
             [
              0.2222222222222222,
              "#7201a8"
             ],
             [
              0.3333333333333333,
              "#9c179e"
             ],
             [
              0.4444444444444444,
              "#bd3786"
             ],
             [
              0.5555555555555556,
              "#d8576b"
             ],
             [
              0.6666666666666666,
              "#ed7953"
             ],
             [
              0.7777777777777778,
              "#fb9f3a"
             ],
             [
              0.8888888888888888,
              "#fdca26"
             ],
             [
              1,
              "#f0f921"
             ]
            ],
            "type": "heatmap"
           }
          ],
          "heatmapgl": [
           {
            "colorbar": {
             "outlinewidth": 0,
             "ticks": ""
            },
            "colorscale": [
             [
              0,
              "#0d0887"
             ],
             [
              0.1111111111111111,
              "#46039f"
             ],
             [
              0.2222222222222222,
              "#7201a8"
             ],
             [
              0.3333333333333333,
              "#9c179e"
             ],
             [
              0.4444444444444444,
              "#bd3786"
             ],
             [
              0.5555555555555556,
              "#d8576b"
             ],
             [
              0.6666666666666666,
              "#ed7953"
             ],
             [
              0.7777777777777778,
              "#fb9f3a"
             ],
             [
              0.8888888888888888,
              "#fdca26"
             ],
             [
              1,
              "#f0f921"
             ]
            ],
            "type": "heatmapgl"
           }
          ],
          "histogram": [
           {
            "marker": {
             "colorbar": {
              "outlinewidth": 0,
              "ticks": ""
             }
            },
            "type": "histogram"
           }
          ],
          "histogram2d": [
           {
            "colorbar": {
             "outlinewidth": 0,
             "ticks": ""
            },
            "colorscale": [
             [
              0,
              "#0d0887"
             ],
             [
              0.1111111111111111,
              "#46039f"
             ],
             [
              0.2222222222222222,
              "#7201a8"
             ],
             [
              0.3333333333333333,
              "#9c179e"
             ],
             [
              0.4444444444444444,
              "#bd3786"
             ],
             [
              0.5555555555555556,
              "#d8576b"
             ],
             [
              0.6666666666666666,
              "#ed7953"
             ],
             [
              0.7777777777777778,
              "#fb9f3a"
             ],
             [
              0.8888888888888888,
              "#fdca26"
             ],
             [
              1,
              "#f0f921"
             ]
            ],
            "type": "histogram2d"
           }
          ],
          "histogram2dcontour": [
           {
            "colorbar": {
             "outlinewidth": 0,
             "ticks": ""
            },
            "colorscale": [
             [
              0,
              "#0d0887"
             ],
             [
              0.1111111111111111,
              "#46039f"
             ],
             [
              0.2222222222222222,
              "#7201a8"
             ],
             [
              0.3333333333333333,
              "#9c179e"
             ],
             [
              0.4444444444444444,
              "#bd3786"
             ],
             [
              0.5555555555555556,
              "#d8576b"
             ],
             [
              0.6666666666666666,
              "#ed7953"
             ],
             [
              0.7777777777777778,
              "#fb9f3a"
             ],
             [
              0.8888888888888888,
              "#fdca26"
             ],
             [
              1,
              "#f0f921"
             ]
            ],
            "type": "histogram2dcontour"
           }
          ],
          "mesh3d": [
           {
            "colorbar": {
             "outlinewidth": 0,
             "ticks": ""
            },
            "type": "mesh3d"
           }
          ],
          "parcoords": [
           {
            "line": {
             "colorbar": {
              "outlinewidth": 0,
              "ticks": ""
             }
            },
            "type": "parcoords"
           }
          ],
          "pie": [
           {
            "automargin": true,
            "type": "pie"
           }
          ],
          "scatter": [
           {
            "marker": {
             "colorbar": {
              "outlinewidth": 0,
              "ticks": ""
             }
            },
            "type": "scatter"
           }
          ],
          "scatter3d": [
           {
            "line": {
             "colorbar": {
              "outlinewidth": 0,
              "ticks": ""
             }
            },
            "marker": {
             "colorbar": {
              "outlinewidth": 0,
              "ticks": ""
             }
            },
            "type": "scatter3d"
           }
          ],
          "scattercarpet": [
           {
            "marker": {
             "colorbar": {
              "outlinewidth": 0,
              "ticks": ""
             }
            },
            "type": "scattercarpet"
           }
          ],
          "scattergeo": [
           {
            "marker": {
             "colorbar": {
              "outlinewidth": 0,
              "ticks": ""
             }
            },
            "type": "scattergeo"
           }
          ],
          "scattergl": [
           {
            "marker": {
             "colorbar": {
              "outlinewidth": 0,
              "ticks": ""
             }
            },
            "type": "scattergl"
           }
          ],
          "scattermapbox": [
           {
            "marker": {
             "colorbar": {
              "outlinewidth": 0,
              "ticks": ""
             }
            },
            "type": "scattermapbox"
           }
          ],
          "scatterpolar": [
           {
            "marker": {
             "colorbar": {
              "outlinewidth": 0,
              "ticks": ""
             }
            },
            "type": "scatterpolar"
           }
          ],
          "scatterpolargl": [
           {
            "marker": {
             "colorbar": {
              "outlinewidth": 0,
              "ticks": ""
             }
            },
            "type": "scatterpolargl"
           }
          ],
          "scatterternary": [
           {
            "marker": {
             "colorbar": {
              "outlinewidth": 0,
              "ticks": ""
             }
            },
            "type": "scatterternary"
           }
          ],
          "surface": [
           {
            "colorbar": {
             "outlinewidth": 0,
             "ticks": ""
            },
            "colorscale": [
             [
              0,
              "#0d0887"
             ],
             [
              0.1111111111111111,
              "#46039f"
             ],
             [
              0.2222222222222222,
              "#7201a8"
             ],
             [
              0.3333333333333333,
              "#9c179e"
             ],
             [
              0.4444444444444444,
              "#bd3786"
             ],
             [
              0.5555555555555556,
              "#d8576b"
             ],
             [
              0.6666666666666666,
              "#ed7953"
             ],
             [
              0.7777777777777778,
              "#fb9f3a"
             ],
             [
              0.8888888888888888,
              "#fdca26"
             ],
             [
              1,
              "#f0f921"
             ]
            ],
            "type": "surface"
           }
          ],
          "table": [
           {
            "cells": {
             "fill": {
              "color": "#EBF0F8"
             },
             "line": {
              "color": "white"
             }
            },
            "header": {
             "fill": {
              "color": "#C8D4E3"
             },
             "line": {
              "color": "white"
             }
            },
            "type": "table"
           }
          ]
         },
         "layout": {
          "annotationdefaults": {
           "arrowcolor": "#2a3f5f",
           "arrowhead": 0,
           "arrowwidth": 1
          },
          "autotypenumbers": "strict",
          "coloraxis": {
           "colorbar": {
            "outlinewidth": 0,
            "ticks": ""
           }
          },
          "colorscale": {
           "diverging": [
            [
             0,
             "#8e0152"
            ],
            [
             0.1,
             "#c51b7d"
            ],
            [
             0.2,
             "#de77ae"
            ],
            [
             0.3,
             "#f1b6da"
            ],
            [
             0.4,
             "#fde0ef"
            ],
            [
             0.5,
             "#f7f7f7"
            ],
            [
             0.6,
             "#e6f5d0"
            ],
            [
             0.7,
             "#b8e186"
            ],
            [
             0.8,
             "#7fbc41"
            ],
            [
             0.9,
             "#4d9221"
            ],
            [
             1,
             "#276419"
            ]
           ],
           "sequential": [
            [
             0,
             "#0d0887"
            ],
            [
             0.1111111111111111,
             "#46039f"
            ],
            [
             0.2222222222222222,
             "#7201a8"
            ],
            [
             0.3333333333333333,
             "#9c179e"
            ],
            [
             0.4444444444444444,
             "#bd3786"
            ],
            [
             0.5555555555555556,
             "#d8576b"
            ],
            [
             0.6666666666666666,
             "#ed7953"
            ],
            [
             0.7777777777777778,
             "#fb9f3a"
            ],
            [
             0.8888888888888888,
             "#fdca26"
            ],
            [
             1,
             "#f0f921"
            ]
           ],
           "sequentialminus": [
            [
             0,
             "#0d0887"
            ],
            [
             0.1111111111111111,
             "#46039f"
            ],
            [
             0.2222222222222222,
             "#7201a8"
            ],
            [
             0.3333333333333333,
             "#9c179e"
            ],
            [
             0.4444444444444444,
             "#bd3786"
            ],
            [
             0.5555555555555556,
             "#d8576b"
            ],
            [
             0.6666666666666666,
             "#ed7953"
            ],
            [
             0.7777777777777778,
             "#fb9f3a"
            ],
            [
             0.8888888888888888,
             "#fdca26"
            ],
            [
             1,
             "#f0f921"
            ]
           ]
          },
          "colorway": [
           "#636efa",
           "#EF553B",
           "#00cc96",
           "#ab63fa",
           "#FFA15A",
           "#19d3f3",
           "#FF6692",
           "#B6E880",
           "#FF97FF",
           "#FECB52"
          ],
          "font": {
           "color": "#2a3f5f"
          },
          "geo": {
           "bgcolor": "white",
           "lakecolor": "white",
           "landcolor": "#E5ECF6",
           "showlakes": true,
           "showland": true,
           "subunitcolor": "white"
          },
          "hoverlabel": {
           "align": "left"
          },
          "hovermode": "closest",
          "mapbox": {
           "style": "light"
          },
          "paper_bgcolor": "white",
          "plot_bgcolor": "#E5ECF6",
          "polar": {
           "angularaxis": {
            "gridcolor": "white",
            "linecolor": "white",
            "ticks": ""
           },
           "bgcolor": "#E5ECF6",
           "radialaxis": {
            "gridcolor": "white",
            "linecolor": "white",
            "ticks": ""
           }
          },
          "scene": {
           "xaxis": {
            "backgroundcolor": "#E5ECF6",
            "gridcolor": "white",
            "gridwidth": 2,
            "linecolor": "white",
            "showbackground": true,
            "ticks": "",
            "zerolinecolor": "white"
           },
           "yaxis": {
            "backgroundcolor": "#E5ECF6",
            "gridcolor": "white",
            "gridwidth": 2,
            "linecolor": "white",
            "showbackground": true,
            "ticks": "",
            "zerolinecolor": "white"
           },
           "zaxis": {
            "backgroundcolor": "#E5ECF6",
            "gridcolor": "white",
            "gridwidth": 2,
            "linecolor": "white",
            "showbackground": true,
            "ticks": "",
            "zerolinecolor": "white"
           }
          },
          "shapedefaults": {
           "line": {
            "color": "#2a3f5f"
           }
          },
          "ternary": {
           "aaxis": {
            "gridcolor": "white",
            "linecolor": "white",
            "ticks": ""
           },
           "baxis": {
            "gridcolor": "white",
            "linecolor": "white",
            "ticks": ""
           },
           "bgcolor": "#E5ECF6",
           "caxis": {
            "gridcolor": "white",
            "linecolor": "white",
            "ticks": ""
           }
          },
          "title": {
           "x": 0.05
          },
          "xaxis": {
           "automargin": true,
           "gridcolor": "white",
           "linecolor": "white",
           "ticks": "",
           "title": {
            "standoff": 15
           },
           "zerolinecolor": "white",
           "zerolinewidth": 2
          },
          "yaxis": {
           "automargin": true,
           "gridcolor": "white",
           "linecolor": "white",
           "ticks": "",
           "title": {
            "standoff": 15
           },
           "zerolinecolor": "white",
           "zerolinewidth": 2
          }
         }
        },
        "title": {
         "text": "Box–Cox transformation"
        },
        "yaxis": {
         "title": {
          "text": "Posts"
         }
        }
       }
      },
      "text/html": [
       "<div>                            <div id=\"be92b9a2-1f2c-4525-8042-863bed888e50\" class=\"plotly-graph-div\" style=\"height:525px; width:100%;\"></div>            <script type=\"text/javascript\">                require([\"plotly\"], function(Plotly) {                    window.PLOTLYENV=window.PLOTLYENV || {};                                    if (document.getElementById(\"be92b9a2-1f2c-4525-8042-863bed888e50\")) {                    Plotly.newPlot(                        \"be92b9a2-1f2c-4525-8042-863bed888e50\",                        [{\"line\": {\"width\": 0}, \"marker\": {\"color\": \"gray\"}, \"mode\": \"lines\", \"name\": \"Lower Bound\", \"type\": \"scatter\", \"x\": [\"2017-05-27T00:00:00\", \"2017-05-28T00:00:00\", \"2017-05-29T00:00:00\", \"2017-05-30T00:00:00\", \"2017-05-31T00:00:00\", \"2017-06-01T00:00:00\", \"2017-06-02T00:00:00\", \"2017-06-03T00:00:00\", \"2017-06-04T00:00:00\", \"2017-06-05T00:00:00\", \"2017-06-06T00:00:00\", \"2017-06-07T00:00:00\", \"2017-06-08T00:00:00\", \"2017-06-09T00:00:00\", \"2017-06-10T00:00:00\", \"2017-06-11T00:00:00\", \"2017-06-12T00:00:00\", \"2017-06-13T00:00:00\", \"2017-06-14T00:00:00\", \"2017-06-15T00:00:00\", \"2017-06-16T00:00:00\", \"2017-06-17T00:00:00\", \"2017-06-18T00:00:00\", \"2017-06-19T00:00:00\", \"2017-06-20T00:00:00\", \"2017-06-21T00:00:00\", \"2017-06-22T00:00:00\", \"2017-06-23T00:00:00\", \"2017-06-24T00:00:00\", \"2017-06-25T00:00:00\"], \"y\": [144.96518201459284, 152.371611248283, 253.00448084071502, 257.81704099543043, 263.5093954458685, 252.45780209342962, 230.90677249365285, 149.8839897124561, 160.89509941378316, 262.40465017639514, 272.9668039568828, 275.11577493037873, 263.32372965302284, 244.62133801532968, 158.09951259907717, 169.2495497518822, 275.405444899109, 286.8487209775456, 287.0557292654773, 275.79935435334374, 253.41138098402922, 167.76357177501345, 177.29242282500255, 284.67208340992573, 290.64304242183835, 296.40266107290205, 285.350717087832, 262.1921208594477, 168.72958561264758, 180.34163555441904]}, {\"fill\": \"tonexty\", \"fillcolor\": \"rgba(68, 68, 68, 0.3)\", \"line\": {\"width\": 0}, \"marker\": {\"color\": \"gray\"}, \"mode\": \"lines\", \"name\": \"Upper Bound\", \"type\": \"scatter\", \"x\": [\"2017-05-27T00:00:00\", \"2017-05-28T00:00:00\", \"2017-05-29T00:00:00\", \"2017-05-30T00:00:00\", \"2017-05-31T00:00:00\", \"2017-06-01T00:00:00\", \"2017-06-02T00:00:00\", \"2017-06-03T00:00:00\", \"2017-06-04T00:00:00\", \"2017-06-05T00:00:00\", \"2017-06-06T00:00:00\", \"2017-06-07T00:00:00\", \"2017-06-08T00:00:00\", \"2017-06-09T00:00:00\", \"2017-06-10T00:00:00\", \"2017-06-11T00:00:00\", \"2017-06-12T00:00:00\", \"2017-06-13T00:00:00\", \"2017-06-14T00:00:00\", \"2017-06-15T00:00:00\", \"2017-06-16T00:00:00\", \"2017-06-17T00:00:00\", \"2017-06-18T00:00:00\", \"2017-06-19T00:00:00\", \"2017-06-20T00:00:00\", \"2017-06-21T00:00:00\", \"2017-06-22T00:00:00\", \"2017-06-23T00:00:00\", \"2017-06-24T00:00:00\", \"2017-06-25T00:00:00\"], \"y\": [208.56996834405905, 219.12624021498397, 347.9786862234555, 356.4690759537322, 360.112808234223, 348.71068586532203, 322.4863694936237, 215.06042090564242, 227.9216700289814, 367.7987623478345, 370.16444632572905, 376.16840260052874, 361.8172690942961, 334.77006535391604, 223.6643530779296, 242.23051815979187, 376.2466131169022, 385.1106371616461, 390.9539043692805, 378.769302529517, 351.24939707750264, 236.17950037680552, 249.58703126962894, 391.8367431173732, 400.87479706854265, 406.9443193949962, 388.34465621151537, 361.2587754849975, 235.40048736840507, 253.84033945208614]}, {\"line\": {\"color\": \"rgb(31, 119, 180)\"}, \"mode\": \"lines\", \"name\": \"Forecast\", \"type\": \"scatter\", \"x\": [\"2017-05-27T00:00:00\", \"2017-05-28T00:00:00\", \"2017-05-29T00:00:00\", \"2017-05-30T00:00:00\", \"2017-05-31T00:00:00\", \"2017-06-01T00:00:00\", \"2017-06-02T00:00:00\", \"2017-06-03T00:00:00\", \"2017-06-04T00:00:00\", \"2017-06-05T00:00:00\", \"2017-06-06T00:00:00\", \"2017-06-07T00:00:00\", \"2017-06-08T00:00:00\", \"2017-06-09T00:00:00\", \"2017-06-10T00:00:00\", \"2017-06-11T00:00:00\", \"2017-06-12T00:00:00\", \"2017-06-13T00:00:00\", \"2017-06-14T00:00:00\", \"2017-06-15T00:00:00\", \"2017-06-16T00:00:00\", \"2017-06-17T00:00:00\", \"2017-06-18T00:00:00\", \"2017-06-19T00:00:00\", \"2017-06-20T00:00:00\", \"2017-06-21T00:00:00\", \"2017-06-22T00:00:00\", \"2017-06-23T00:00:00\", \"2017-06-24T00:00:00\", \"2017-06-25T00:00:00\"], \"y\": [172.4465444821706, 183.36451473327227, 296.1869182664017, 304.3770911598185, 307.00816550027423, 296.1660757071215, 273.7020562932637, 180.1722393309507, 191.95430252618604, 309.39923989970987, 318.37437724890555, 321.47087070329434, 310.44502101565354, 287.1935357493186, 189.7958718202686, 201.9587119888043, 323.76407900884334, 332.64678467153175, 335.3223369809724, 323.31279454788927, 298.6556206929049, 197.5368885773165, 209.57053926168064, 334.10828087051783, 342.44293707475987, 344.43405705651327, 331.4838566872206, 305.74557899894785, 202.26028821192062, 214.20239502463374]}, {\"marker\": {\"color\": \"red\"}, \"mode\": \"lines\", \"name\": \"Actual\", \"type\": \"scatter\", \"x\": [\"2017-03-18T00:00:00\", \"2017-03-19T00:00:00\", \"2017-03-20T00:00:00\", \"2017-03-21T00:00:00\", \"2017-03-22T00:00:00\", \"2017-03-23T00:00:00\", \"2017-03-24T00:00:00\", \"2017-03-25T00:00:00\", \"2017-03-26T00:00:00\", \"2017-03-27T00:00:00\", \"2017-03-28T00:00:00\", \"2017-03-29T00:00:00\", \"2017-03-30T00:00:00\", \"2017-03-31T00:00:00\", \"2017-04-01T00:00:00\", \"2017-04-02T00:00:00\", \"2017-04-03T00:00:00\", \"2017-04-04T00:00:00\", \"2017-04-05T00:00:00\", \"2017-04-06T00:00:00\", \"2017-04-07T00:00:00\", \"2017-04-08T00:00:00\", \"2017-04-09T00:00:00\", \"2017-04-10T00:00:00\", \"2017-04-11T00:00:00\", \"2017-04-12T00:00:00\", \"2017-04-13T00:00:00\", \"2017-04-14T00:00:00\", \"2017-04-15T00:00:00\", \"2017-04-16T00:00:00\", \"2017-04-17T00:00:00\", \"2017-04-18T00:00:00\", \"2017-04-19T00:00:00\", \"2017-04-20T00:00:00\", \"2017-04-21T00:00:00\", \"2017-04-22T00:00:00\", \"2017-04-23T00:00:00\", \"2017-04-24T00:00:00\", \"2017-04-25T00:00:00\", \"2017-04-26T00:00:00\", \"2017-04-27T00:00:00\", \"2017-04-28T00:00:00\", \"2017-04-29T00:00:00\", \"2017-04-30T00:00:00\", \"2017-05-01T00:00:00\", \"2017-05-02T00:00:00\", \"2017-05-03T00:00:00\", \"2017-05-04T00:00:00\", \"2017-05-05T00:00:00\", \"2017-05-06T00:00:00\", \"2017-05-07T00:00:00\", \"2017-05-08T00:00:00\", \"2017-05-09T00:00:00\", \"2017-05-10T00:00:00\", \"2017-05-11T00:00:00\", \"2017-05-12T00:00:00\", \"2017-05-13T00:00:00\", \"2017-05-14T00:00:00\", \"2017-05-15T00:00:00\", \"2017-05-16T00:00:00\", \"2017-05-17T00:00:00\", \"2017-05-18T00:00:00\", \"2017-05-19T00:00:00\", \"2017-05-20T00:00:00\", \"2017-05-21T00:00:00\", \"2017-05-22T00:00:00\", \"2017-05-23T00:00:00\", \"2017-05-24T00:00:00\", \"2017-05-25T00:00:00\", \"2017-05-26T00:00:00\", \"2017-05-27T00:00:00\", \"2017-05-28T00:00:00\", \"2017-05-29T00:00:00\", \"2017-05-30T00:00:00\", \"2017-05-31T00:00:00\", \"2017-06-01T00:00:00\", \"2017-06-02T00:00:00\", \"2017-06-03T00:00:00\", \"2017-06-04T00:00:00\", \"2017-06-05T00:00:00\", \"2017-06-06T00:00:00\", \"2017-06-07T00:00:00\", \"2017-06-08T00:00:00\", \"2017-06-09T00:00:00\", \"2017-06-10T00:00:00\", \"2017-06-11T00:00:00\", \"2017-06-12T00:00:00\", \"2017-06-13T00:00:00\", \"2017-06-14T00:00:00\", \"2017-06-15T00:00:00\", \"2017-06-16T00:00:00\", \"2017-06-17T00:00:00\", \"2017-06-18T00:00:00\", \"2017-06-19T00:00:00\", \"2017-06-20T00:00:00\", \"2017-06-21T00:00:00\", \"2017-06-22T00:00:00\", \"2017-06-23T00:00:00\", \"2017-06-24T00:00:00\", \"2017-06-25T00:00:00\"], \"y\": [123, 99, 205, 247, 246, 228, 208, 135, 129, 230, 225, 238, 257, 207, 125, 142, 259, 221, 203, 274, 221, 140, 149, 238, 258, 239, 250, 204, 137, 143, 233, 264, 278, 274, 259, 178, 168, 296, 306, 270, 277, 262, 187, 148, 305, 332, 286, 284, 264, 133, 136, 267, 262, 264, 267, 281, 205, 180, 341, 345, 367, 336, 301, 156, 194, 341, 388, 375, 298, 269, 157, 172, 297, 365, 407, 392, 328, 170, 194, 340, 348, 323, 347, 291, 165, 193, 349, 358, 344, 336, 345, 188, 243, 408, 417, 422, 441, 421, 277, 253]}],                        {\"showlegend\": false, \"template\": {\"data\": {\"bar\": [{\"error_x\": {\"color\": \"#2a3f5f\"}, \"error_y\": {\"color\": \"#2a3f5f\"}, \"marker\": {\"line\": {\"color\": \"#E5ECF6\", \"width\": 0.5}}, \"type\": \"bar\"}], \"barpolar\": [{\"marker\": {\"line\": {\"color\": \"#E5ECF6\", \"width\": 0.5}}, \"type\": \"barpolar\"}], \"carpet\": [{\"aaxis\": {\"endlinecolor\": \"#2a3f5f\", \"gridcolor\": \"white\", \"linecolor\": \"white\", \"minorgridcolor\": \"white\", \"startlinecolor\": \"#2a3f5f\"}, \"baxis\": {\"endlinecolor\": \"#2a3f5f\", \"gridcolor\": \"white\", \"linecolor\": \"white\", \"minorgridcolor\": \"white\", \"startlinecolor\": \"#2a3f5f\"}, \"type\": \"carpet\"}], \"choropleth\": [{\"colorbar\": {\"outlinewidth\": 0, \"ticks\": \"\"}, \"type\": \"choropleth\"}], \"contour\": [{\"colorbar\": {\"outlinewidth\": 0, \"ticks\": \"\"}, \"colorscale\": [[0.0, \"#0d0887\"], [0.1111111111111111, \"#46039f\"], [0.2222222222222222, \"#7201a8\"], [0.3333333333333333, \"#9c179e\"], [0.4444444444444444, \"#bd3786\"], [0.5555555555555556, \"#d8576b\"], [0.6666666666666666, \"#ed7953\"], [0.7777777777777778, \"#fb9f3a\"], [0.8888888888888888, \"#fdca26\"], [1.0, \"#f0f921\"]], \"type\": \"contour\"}], \"contourcarpet\": [{\"colorbar\": {\"outlinewidth\": 0, \"ticks\": \"\"}, \"type\": \"contourcarpet\"}], \"heatmap\": [{\"colorbar\": {\"outlinewidth\": 0, \"ticks\": \"\"}, \"colorscale\": [[0.0, \"#0d0887\"], [0.1111111111111111, \"#46039f\"], [0.2222222222222222, \"#7201a8\"], [0.3333333333333333, \"#9c179e\"], [0.4444444444444444, \"#bd3786\"], [0.5555555555555556, \"#d8576b\"], [0.6666666666666666, \"#ed7953\"], [0.7777777777777778, \"#fb9f3a\"], [0.8888888888888888, \"#fdca26\"], [1.0, \"#f0f921\"]], \"type\": \"heatmap\"}], \"heatmapgl\": [{\"colorbar\": {\"outlinewidth\": 0, \"ticks\": \"\"}, \"colorscale\": [[0.0, \"#0d0887\"], [0.1111111111111111, \"#46039f\"], [0.2222222222222222, \"#7201a8\"], [0.3333333333333333, \"#9c179e\"], [0.4444444444444444, \"#bd3786\"], [0.5555555555555556, \"#d8576b\"], [0.6666666666666666, \"#ed7953\"], [0.7777777777777778, \"#fb9f3a\"], [0.8888888888888888, \"#fdca26\"], [1.0, \"#f0f921\"]], \"type\": \"heatmapgl\"}], \"histogram\": [{\"marker\": {\"colorbar\": {\"outlinewidth\": 0, \"ticks\": \"\"}}, \"type\": \"histogram\"}], \"histogram2d\": [{\"colorbar\": {\"outlinewidth\": 0, \"ticks\": \"\"}, \"colorscale\": [[0.0, \"#0d0887\"], [0.1111111111111111, \"#46039f\"], [0.2222222222222222, \"#7201a8\"], [0.3333333333333333, \"#9c179e\"], [0.4444444444444444, \"#bd3786\"], [0.5555555555555556, \"#d8576b\"], [0.6666666666666666, \"#ed7953\"], [0.7777777777777778, \"#fb9f3a\"], [0.8888888888888888, \"#fdca26\"], [1.0, \"#f0f921\"]], \"type\": \"histogram2d\"}], \"histogram2dcontour\": [{\"colorbar\": {\"outlinewidth\": 0, \"ticks\": \"\"}, \"colorscale\": [[0.0, \"#0d0887\"], [0.1111111111111111, \"#46039f\"], [0.2222222222222222, \"#7201a8\"], [0.3333333333333333, \"#9c179e\"], [0.4444444444444444, \"#bd3786\"], [0.5555555555555556, \"#d8576b\"], [0.6666666666666666, \"#ed7953\"], [0.7777777777777778, \"#fb9f3a\"], [0.8888888888888888, \"#fdca26\"], [1.0, \"#f0f921\"]], \"type\": \"histogram2dcontour\"}], \"mesh3d\": [{\"colorbar\": {\"outlinewidth\": 0, \"ticks\": \"\"}, \"type\": \"mesh3d\"}], \"parcoords\": [{\"line\": {\"colorbar\": {\"outlinewidth\": 0, \"ticks\": \"\"}}, \"type\": \"parcoords\"}], \"pie\": [{\"automargin\": true, \"type\": \"pie\"}], \"scatter\": [{\"marker\": {\"colorbar\": {\"outlinewidth\": 0, \"ticks\": \"\"}}, \"type\": \"scatter\"}], \"scatter3d\": [{\"line\": {\"colorbar\": {\"outlinewidth\": 0, \"ticks\": \"\"}}, \"marker\": {\"colorbar\": {\"outlinewidth\": 0, \"ticks\": \"\"}}, \"type\": \"scatter3d\"}], \"scattercarpet\": [{\"marker\": {\"colorbar\": {\"outlinewidth\": 0, \"ticks\": \"\"}}, \"type\": \"scattercarpet\"}], \"scattergeo\": [{\"marker\": {\"colorbar\": {\"outlinewidth\": 0, \"ticks\": \"\"}}, \"type\": \"scattergeo\"}], \"scattergl\": [{\"marker\": {\"colorbar\": {\"outlinewidth\": 0, \"ticks\": \"\"}}, \"type\": \"scattergl\"}], \"scattermapbox\": [{\"marker\": {\"colorbar\": {\"outlinewidth\": 0, \"ticks\": \"\"}}, \"type\": \"scattermapbox\"}], \"scatterpolar\": [{\"marker\": {\"colorbar\": {\"outlinewidth\": 0, \"ticks\": \"\"}}, \"type\": \"scatterpolar\"}], \"scatterpolargl\": [{\"marker\": {\"colorbar\": {\"outlinewidth\": 0, \"ticks\": \"\"}}, \"type\": \"scatterpolargl\"}], \"scatterternary\": [{\"marker\": {\"colorbar\": {\"outlinewidth\": 0, \"ticks\": \"\"}}, \"type\": \"scatterternary\"}], \"surface\": [{\"colorbar\": {\"outlinewidth\": 0, \"ticks\": \"\"}, \"colorscale\": [[0.0, \"#0d0887\"], [0.1111111111111111, \"#46039f\"], [0.2222222222222222, \"#7201a8\"], [0.3333333333333333, \"#9c179e\"], [0.4444444444444444, \"#bd3786\"], [0.5555555555555556, \"#d8576b\"], [0.6666666666666666, \"#ed7953\"], [0.7777777777777778, \"#fb9f3a\"], [0.8888888888888888, \"#fdca26\"], [1.0, \"#f0f921\"]], \"type\": \"surface\"}], \"table\": [{\"cells\": {\"fill\": {\"color\": \"#EBF0F8\"}, \"line\": {\"color\": \"white\"}}, \"header\": {\"fill\": {\"color\": \"#C8D4E3\"}, \"line\": {\"color\": \"white\"}}, \"type\": \"table\"}]}, \"layout\": {\"annotationdefaults\": {\"arrowcolor\": \"#2a3f5f\", \"arrowhead\": 0, \"arrowwidth\": 1}, \"autotypenumbers\": \"strict\", \"coloraxis\": {\"colorbar\": {\"outlinewidth\": 0, \"ticks\": \"\"}}, \"colorscale\": {\"diverging\": [[0, \"#8e0152\"], [0.1, \"#c51b7d\"], [0.2, \"#de77ae\"], [0.3, \"#f1b6da\"], [0.4, \"#fde0ef\"], [0.5, \"#f7f7f7\"], [0.6, \"#e6f5d0\"], [0.7, \"#b8e186\"], [0.8, \"#7fbc41\"], [0.9, \"#4d9221\"], [1, \"#276419\"]], \"sequential\": [[0.0, \"#0d0887\"], [0.1111111111111111, \"#46039f\"], [0.2222222222222222, \"#7201a8\"], [0.3333333333333333, \"#9c179e\"], [0.4444444444444444, \"#bd3786\"], [0.5555555555555556, \"#d8576b\"], [0.6666666666666666, \"#ed7953\"], [0.7777777777777778, \"#fb9f3a\"], [0.8888888888888888, \"#fdca26\"], [1.0, \"#f0f921\"]], \"sequentialminus\": [[0.0, \"#0d0887\"], [0.1111111111111111, \"#46039f\"], [0.2222222222222222, \"#7201a8\"], [0.3333333333333333, \"#9c179e\"], [0.4444444444444444, \"#bd3786\"], [0.5555555555555556, \"#d8576b\"], [0.6666666666666666, \"#ed7953\"], [0.7777777777777778, \"#fb9f3a\"], [0.8888888888888888, \"#fdca26\"], [1.0, \"#f0f921\"]]}, \"colorway\": [\"#636efa\", \"#EF553B\", \"#00cc96\", \"#ab63fa\", \"#FFA15A\", \"#19d3f3\", \"#FF6692\", \"#B6E880\", \"#FF97FF\", \"#FECB52\"], \"font\": {\"color\": \"#2a3f5f\"}, \"geo\": {\"bgcolor\": \"white\", \"lakecolor\": \"white\", \"landcolor\": \"#E5ECF6\", \"showlakes\": true, \"showland\": true, \"subunitcolor\": \"white\"}, \"hoverlabel\": {\"align\": \"left\"}, \"hovermode\": \"closest\", \"mapbox\": {\"style\": \"light\"}, \"paper_bgcolor\": \"white\", \"plot_bgcolor\": \"#E5ECF6\", \"polar\": {\"angularaxis\": {\"gridcolor\": \"white\", \"linecolor\": \"white\", \"ticks\": \"\"}, \"bgcolor\": \"#E5ECF6\", \"radialaxis\": {\"gridcolor\": \"white\", \"linecolor\": \"white\", \"ticks\": \"\"}}, \"scene\": {\"xaxis\": {\"backgroundcolor\": \"#E5ECF6\", \"gridcolor\": \"white\", \"gridwidth\": 2, \"linecolor\": \"white\", \"showbackground\": true, \"ticks\": \"\", \"zerolinecolor\": \"white\"}, \"yaxis\": {\"backgroundcolor\": \"#E5ECF6\", \"gridcolor\": \"white\", \"gridwidth\": 2, \"linecolor\": \"white\", \"showbackground\": true, \"ticks\": \"\", \"zerolinecolor\": \"white\"}, \"zaxis\": {\"backgroundcolor\": \"#E5ECF6\", \"gridcolor\": \"white\", \"gridwidth\": 2, \"linecolor\": \"white\", \"showbackground\": true, \"ticks\": \"\", \"zerolinecolor\": \"white\"}}, \"shapedefaults\": {\"line\": {\"color\": \"#2a3f5f\"}}, \"ternary\": {\"aaxis\": {\"gridcolor\": \"white\", \"linecolor\": \"white\", \"ticks\": \"\"}, \"baxis\": {\"gridcolor\": \"white\", \"linecolor\": \"white\", \"ticks\": \"\"}, \"bgcolor\": \"#E5ECF6\", \"caxis\": {\"gridcolor\": \"white\", \"linecolor\": \"white\", \"ticks\": \"\"}}, \"title\": {\"x\": 0.05}, \"xaxis\": {\"automargin\": true, \"gridcolor\": \"white\", \"linecolor\": \"white\", \"ticks\": \"\", \"title\": {\"standoff\": 15}, \"zerolinecolor\": \"white\", \"zerolinewidth\": 2}, \"yaxis\": {\"automargin\": true, \"gridcolor\": \"white\", \"linecolor\": \"white\", \"ticks\": \"\", \"title\": {\"standoff\": 15}, \"zerolinecolor\": \"white\", \"zerolinewidth\": 2}}}, \"title\": {\"text\": \"Box\\u2013Cox transformation\"}, \"yaxis\": {\"title\": {\"text\": \"Posts\"}}},                        {\"responsive\": true}                    ).then(function(){\n",
       "                            \n",
       "var gd = document.getElementById('be92b9a2-1f2c-4525-8042-863bed888e50');\n",
       "var x = new MutationObserver(function (mutations, observer) {{\n",
       "        var display = window.getComputedStyle(gd).display;\n",
       "        if (!display || display === 'none') {{\n",
       "            console.log([gd, 'removed!']);\n",
       "            Plotly.purge(gd);\n",
       "            observer.disconnect();\n",
       "        }}\n",
       "}});\n",
       "\n",
       "// Listen for the removal of the full notebook cells\n",
       "var notebookContainer = gd.closest('#notebook-container');\n",
       "if (notebookContainer) {{\n",
       "    x.observe(notebookContainer, {childList: true});\n",
       "}}\n",
       "\n",
       "// Listen for the clearing of the current output cell\n",
       "var outputEl = gd.closest('.output');\n",
       "if (outputEl) {{\n",
       "    x.observe(outputEl, {childList: true});\n",
       "}}\n",
       "\n",
       "                        })                };                });            </script>        </div>"
      ]
     },
     "metadata": {},
     "output_type": "display_data"
    }
   ],
   "source": [
    "show_forecast(cmp_df, prediction_size, 100, 'No transformations')\n",
    "show_forecast(cmp_df2, prediction_size, 100, 'Box–Cox transformation')"
   ]
  },
  {
   "cell_type": "markdown",
   "metadata": {
    "_uuid": "4ff680ad5c92295a0e97fdb45b2aae4e304a4263"
   },
   "source": [
    "We see that the forecast of weekly changes in the second graph is much closer to the real values now."
   ]
  },
  {
   "cell_type": "markdown",
   "metadata": {
    "_uuid": "ce5ec13361cc4fdce15c631233e428522b414db7"
   },
   "source": [
    "## 5. Summary"
   ]
  },
  {
   "cell_type": "markdown",
   "metadata": {
    "_uuid": "0fe1e5ebdcebb26dde6610ee0625b5a0f5cccaa6"
   },
   "source": [
    "We have taken a look at *Prophet*, an open-source forecasting library that is specifically targeted at business time series. We have also done some hands-on practice in time series prediction.\n",
    "\n",
    "As we have seen, the Prophet library does not make wonders, and its predictions out-of-box are not [ideal](https://en.wikipedia.org/wiki/No_free_lunch_in_search_and_optimization). It is still up to the data scientist to explore the forecast results, tune model parameters and transform data when necessary.\n",
    "\n",
    "However, this library is user-friendly and easily customizable. The sole ability to take into account abnormal days that are known to the analyst beforehand might make a difference in some cases.\n",
    "\n",
    "All in all, the Prophet library is worth being a part of your analytical toolbox."
   ]
  },
  {
   "cell_type": "markdown",
   "metadata": {
    "_uuid": "08c0bd527f0fb3ec34b9ea4245f9f59eb3d83421"
   },
   "source": [
    "## 6. References"
   ]
  },
  {
   "cell_type": "markdown",
   "metadata": {
    "_uuid": "8936bf3e6f222ba8905f3c90a2c55836a87b8921"
   },
   "source": [
    "- Official [Prophet repository](https://github.com/facebookincubator/prophet) on GitHub.\n",
    "- Official [Prophet documentation](https://facebookincubator.github.io/prophet/docs/quick_start.html).\n",
    "- Sean J. Taylor, Benjamin Letham [\"Forecasting at scale\"](https://facebookincubator.github.io/prophet/static/prophet_paper_20170113.pdf) — scientific paper explaining the algorithm which lays the foundation of `Prophet`.\n",
    "- [Forecasting Website Traffic Using Facebook’s Prophet Library](http://pbpython.com/prophet-overview.html) — `Prophet` overview with an example of website traffic forecasting.\n",
    "- Rob J. Hyndman, George Athanasopoulos [\"Forecasting: principles and practice\"](https://www.otexts.org/fpp) – a very good online book about time series forecasting."
   ]
  },
  {
   "cell_type": "markdown",
   "metadata": {},
   "source": [
    "## Support course creators\n",
    "<br>\n",
    "<center>\n",
    "You can make a monthly (Patreon) or one-time (Ko-Fi) donation ↓\n",
    "\n",
    "<br>\n",
    "<br>\n",
    "\n",
    "<a href=\"https://www.patreon.com/ods_mlcourse\">\n",
    "<img src=\"https://habrastorage.org/webt/zc/11/0y/zc110yh0u3kgnlmay1gwbekk0ys.png\" width=20% />\n",
    "\n",
    "<br>\n",
    "\n",
    "<a href=\"https://ko-fi.com/mlcourse_ai\">\n",
    "<img src=\"https://habrastorage.org/webt/8r/ml/xf/8rmlxfpdzukegpxa62cxlfvgkqe.png\" width=20% />\n",
    "    \n",
    "</center>"
   ]
  }
 ],
 "metadata": {
  "kernelspec": {
   "display_name": "Python 3",
   "language": "python",
   "name": "python3"
  },
  "language_info": {
   "codemirror_mode": {
    "name": "ipython",
    "version": 3
   },
   "file_extension": ".py",
   "mimetype": "text/x-python",
   "name": "python",
   "nbconvert_exporter": "python",
   "pygments_lexer": "ipython3",
   "version": "3.7.9"
  }
 },
 "nbformat": 4,
 "nbformat_minor": 4
}
