{
 "cells": [
  {
   "cell_type": "markdown",
   "metadata": {},
   "source": [
    "[StackOverflow data](https://drive.google.com/file/d/1w8z6HmFe4oCQSG6DjomSRUWvJ-gK0LTe/view?usp=sharing) "
   ]
  },
  {
   "cell_type": "code",
   "execution_count": 7,
   "metadata": {},
   "outputs": [],
   "source": [
    "PATH_TO_DATA = '../../data/stackoverflow'"
   ]
  },
  {
   "cell_type": "code",
   "execution_count": 2,
   "metadata": {},
   "outputs": [],
   "source": [
    "classes = ['javascript', 'java', 'python', 'ruby',\n",
    "           'php', 'c++', 'c#', 'go', 'scala', 'swift']"
   ]
  },
  {
   "cell_type": "code",
   "execution_count": 3,
   "metadata": {},
   "outputs": [
    {
     "name": "stdout",
     "output_type": "stream",
     "text": [
      "../../data/stackoverflow/stackoverflow_raw_train_7500k.tsv\r\n"
     ]
    }
   ],
   "source": [
    "!ls $PATH_TO_DATA/*.tsv"
   ]
  },
  {
   "cell_type": "code",
   "execution_count": 4,
   "metadata": {},
   "outputs": [
    {
     "name": "stdout",
     "output_type": "stream",
     "text": [
      "7.8G\t../../data/stackoverflow/stackoverflow_raw_train_7500k.tsv\r\n",
      "7.8G\ttotal\r\n"
     ]
    }
   ],
   "source": [
    "!du -hc $PATH_TO_DATA/*.tsv"
   ]
  },
  {
   "cell_type": "code",
   "execution_count": 8,
   "metadata": {},
   "outputs": [
    {
     "name": "stdout",
     "output_type": "stream",
     "text": [
      " is there a way to apply a background color through css at the tr level i can apply it at the td level like this my td background color e8e8e8 background e8e8e8 however the background color doesn t seem to get applied when i attempt to apply the background color at the tr level like this my tr background color e8e8e8 background e8e8e8 is there a css trick to making this work or does css not natively support this for some reason \tcss css3 css-selectors\n",
      "\n",
      " i m using rails 3 2 13 ruby 1 9 3 and oracle 11g when saving a record in the db with a character like i get the error below activerecord statementinvalid encoding undefinedconversionerror u+00f1 from utf 8 to us ascii insert into omniauth_users created_at first_name id last_name status uid updated_at values a1 a2 a3 a4 a5 a6 a7 app controllers user_sessions_controller rb 18 in create i tried to run this query to see the language used by oracle select userenv language from dual it returned american_america al32utf8 these are my gems for oracle gem ruby oci8 gt 2 1 5 gem activerecord oracle_enhanced adapter gt 1 4 2 gem ruby plsql gt 0 5 0 what should i do \truby-on-rails ruby-on-rails-3 oracle activerecord oracle11g\n",
      "\n",
      " i ve got some code in window scroll that checks if an element is visible then triggers another function however only the first section of code is firing both bits of code work in and of themselves if i swap their order whichever is on top fires correctly my code is as follows fn isonscreen function use strict var win window viewport top win scrolltop left win scrollleft bounds this offset viewport right viewport left + win width viewport bottom viewport top + win height bounds right bounds left + this outerwidth bounds bottom bounds top + this outerheight return viewport right lt bounds left viewport left gt bounds right viewport bottom lt bounds top viewport top gt bounds bottom window scroll function use strict var load_more_results ajax load_more_results isonscreen if load_more_results true loadmoreresults var load_more_staff ajax load_more_staff isonscreen if load_more_staff true loadmorestaff what am i doing wrong can you only fire one event from window scroll i assume not \tjavascript jquery scroll\n",
      "\n",
      " redefining some constant in ruby ex foo bar generates the warning already initialized constant i m trying to write a sort of reallyconstants module where this code should have this behaviour reallyconstants define_constant foo bar gt sets the constant reallyconstants foo to bar reallyconstants foo gt bar reallyconstants foo foobar gt this should raise an exception that is constant redefinition should generate an exception is that possible \truby constants redefinition\n",
      "\n",
      " i have a php apache service and meteor on the same server i am using the accounts ui package is there anyway to know in my php script that a user is logged in given the login token session id this is my original need upload a profile picture for a logged in user very simple right but i have not found an answer after hours of googling first solution would be using html5 file apis to send data to meteor server and the server save the image but this solution wont even work for ie9 second solution is what i am trying using a html form to upload picture to a php script or whatever script it can be a nodejs script if needed this script will save the image like a traditional php script does the thing is i cannot know if the upload request is authorized otherwise everybody can change profile picture of anybody i must add some information in the upload request and verify them in the php code before saving the image i am thinking about sending a request from php script to meteor server but i need to know which parameters to send and how meteor responses it how can i achieve the second solution or if someone has a another solution for my origin problem that would be great thank you \tauthentication meteor\n",
      "\n",
      " a solar query returns docs containing following fields as output field_1 field_2 field_3 i want to compute difference between field_2 of different documents what is the solar query for this case \tsolr\n",
      "\n",
      " i am designing a rest service for my company no one here has had much experience with rest so i read through a few books on the subject but i am stuck on resource design of a post vs the resource design of a get request for the same data particularly in the case of foreign relationships for instance i have a class purchaserequest which represents a request to purchase some fixed asset behind the scenes my service is an interface to a relational db there is a purchase_request table which has a foreign key to an asset table defining which of a fixed list of assets are being requested and a person table defining which of the users is doing the requesting currently in my service when a get command is issued for a purchase request the service returns the whole thing an xml representation of the purchase_request table entry along with a list of asset entries like so lt purchaserequest gt lt id gt lt id gt lt requestdate gt lt requestdate gt lt requestor href requestors requestorid gt lt requestorid gt lt requestorid gt lt firstname gt lt firstname gt lt lastname gt lt lastname gt lt requestor gt lt requestedassets gt lt requestedasset href assets assetnumber gt lt assetnumber gt lt assetnumber gt lt year gt lt year gt lt make gt lt make gt lt model gt lt model gt lt cost gt lt cost gt lt requestedasset gt lt requestedasset href assets assetnumber gt lt assetnumber gt lt assetnumber gt lt year gt lt year gt lt make gt lt make gt lt model gt lt model gt lt cost gt lt cost gt lt requestedasset gt lt requestedasset href assets assetnumber gt lt assetnumber gt lt assetnumber gt lt year gt lt year gt lt make gt lt make gt lt model gt lt model gt lt cost gt lt cost gt lt requestedasset gt lt requestedassets gt lt purchaserequest gt this works pretty efficiently the consuming application makes a single request and gets the whole thing and links to the full resource requestor resource or asset resource if they need them the problem comes on a post my gut tells me to try to use the same resource layout for posting a new purchase request as i used to retrieve an existing one this is what all the examples in the books i have read do anyway i don t need to know anything more than the asset number and requestor id to fulfill the post that means that data is not necessary but the inefficiency alone is not what bothers me the main thing is you should not be able to edit the year make or model of an asset when creating a purchase request those fields are pre defined you also should be able to create a new asset definition when creating a purchase request similarly you should not be able to update create a person s details when creating a purchase request there are separate services for creating updating people and assets the only thing i can think of is to define a different datacontract class for the post which has the minimum info to identify an asset or a person and does not expose those fields which cannot be updated i really don t love this option because it is going to create a large number of datacontracts classes nearly all of the tables in my db have foreign relationships this is not isolated to one request or i would not be worrying about it however i really don t love my current design because rest does not have read only fields the burden is now on the consumers of my service to constantly be checking does it save this field what about this one has anyone else ran into this issue is it common to have to define a separate datacontract class for posting and geting seems like a pretty basic design question but i don t see a lot of posts out there on the subject so i am hoping i just missed something any help is appreciated \twcf rest\n",
      "\n",
      " i need to write a web application which works only with mysql database but all actual data lies within an oracle so now i m looking for some way to syncronize partially or use some automated tools to do that or just for a best practice for that case to be clear there s no way to use oracle directly from web applications due to security policies any advices \tmysql oracle\n",
      "\n",
      " i ve recently downloaded git in my laptop and according to the pro git book i have to set it up before working with it and i m using visual studio as a code editor so my question is what is the correct command to use in the git bash to do so \tgit visual-studio\n",
      "\n",
      " i have followed the instructions on laravel s upgrade page by firstly adding the nullable text column into the user s table within my migration file labelled remember_token i then add the three functions into the user s model when i run composer update it brings up an abstract class error referencing the user s model within any page i visit why is this have i followed the instructions incorrectly i need to run composer update to remove another plugin but it will update \tlaravel laravel-4\n",
      "\n"
     ]
    }
   ],
   "source": [
    "with open(f'{PATH_TO_DATA}/stackoverflow_raw_train_7500k.tsv') as reader:\n",
    "    for i in range(10):\n",
    "        print(reader.readline())"
   ]
  },
  {
   "cell_type": "code",
   "execution_count": 9,
   "metadata": {},
   "outputs": [
    {
     "name": "stdout",
     "output_type": "stream",
     "text": [
      "7500000 ../../data/stackoverflow/stackoverflow_raw_train_7500k.tsv\r\n"
     ]
    }
   ],
   "source": [
    "!wc -l $PATH_TO_DATA/*.tsv"
   ]
  },
  {
   "cell_type": "markdown",
   "metadata": {},
   "source": [
    "Convert csv to vw"
   ]
  },
  {
   "cell_type": "code",
   "execution_count": 47,
   "metadata": {
    "scrolled": false
   },
   "outputs": [
    {
     "name": "stdout",
     "output_type": "stream",
     "text": [
      "Wall time: 13min 10s\n"
     ]
    }
   ],
   "source": [
    "%%time\n",
    "with open(f'{PATH_TO_DATA}/stackoverflow_raw_train_7500k.tsv') as file:\n",
    "    for line in file:\n",
    "        question, topics = line.split('\\t')\n",
    "        try:\n",
    "            topic_i = classes.index(topics.split()[0]) + 1\n",
    "            line_vw = ' | '.join([str(topic_i), question.strip()])\n",
    "            with open(f'{PATH_TO_DATA}/stackoverflow.vw', 'a') as writer:\n",
    "                writer.write(line_vw)\n",
    "                writer.write('\\n')\n",
    "        except ValueError:\n",
    "            None        "
   ]
  },
  {
   "cell_type": "code",
   "execution_count": 13,
   "metadata": {},
   "outputs": [
    {
     "name": "stdout",
     "output_type": "stream",
     "text": [
      "../../data/stackoverflow/stackoverflow.vw\r\n"
     ]
    }
   ],
   "source": [
    "!ls $PATH_TO_DATA/*.vw"
   ]
  },
  {
   "cell_type": "code",
   "execution_count": 6,
   "metadata": {},
   "outputs": [
    {
     "name": "stdout",
     "output_type": "stream",
     "text": [
      " 2194270 ../../data/stackoverflow/stackoverflow_train.vw\n",
      " 1097133 ../../data/stackoverflow/stackoverflow_valid.vw\n",
      " 3291403 total\n"
     ]
    }
   ],
   "source": [
    "# example\n",
    "!wc -l $PATH_TO_DATA/*.vw"
   ]
  },
  {
   "cell_type": "code",
   "execution_count": 10,
   "metadata": {},
   "outputs": [
    {
     "data": {
      "text/plain": [
       "0.33333292823759353"
      ]
     },
     "execution_count": 10,
     "metadata": {},
     "output_type": "execute_result"
    }
   ],
   "source": [
    "# example\n",
    "1097133 / (2194270 + 1097133 )"
   ]
  },
  {
   "cell_type": "code",
   "execution_count": 10,
   "metadata": {},
   "outputs": [
    {
     "name": "stdout",
     "output_type": "stream",
     "text": [
      "3273792 ../../data/stackoverflow/stackoverflow_train.vw\r\n"
     ]
    }
   ],
   "source": [
    "# %%time\n",
    "!wc -l $PATH_TO_DATA/*.vw"
   ]
  },
  {
   "cell_type": "code",
   "execution_count": 12,
   "metadata": {},
   "outputs": [
    {
     "data": {
      "text/plain": [
       "2182528.0"
      ]
     },
     "execution_count": 12,
     "metadata": {},
     "output_type": "execute_result"
    }
   ],
   "source": [
    "3273792 / 3 * 2"
   ]
  },
  {
   "cell_type": "code",
   "execution_count": 15,
   "metadata": {},
   "outputs": [],
   "source": [
    "!split -l 2182528 $PATH_TO_DATA/stackoverflow.vw"
   ]
  },
  {
   "cell_type": "code",
   "execution_count": 18,
   "metadata": {},
   "outputs": [
    {
     "name": "stdout",
     "output_type": "stream",
     "text": [
      "../../data/stackoverflow/stackoverflow.vw\r\n",
      "../../data/stackoverflow/stackoverflow_test.vw\r\n",
      "../../data/stackoverflow/stackoverflow_train.vw\r\n"
     ]
    }
   ],
   "source": [
    "!ls $PATH_TO_DATA/*.vw"
   ]
  },
  {
   "cell_type": "code",
   "execution_count": 19,
   "metadata": {},
   "outputs": [
    {
     "name": "stdout",
     "output_type": "stream",
     "text": [
      "   3273792 ../../data/stackoverflow/stackoverflow.vw\n",
      "   1091264 ../../data/stackoverflow/stackoverflow_test.vw\n",
      "   2182528 ../../data/stackoverflow/stackoverflow_train.vw\n",
      "   6547584 total\n"
     ]
    }
   ],
   "source": [
    "# %%time\n",
    "!wc -l $PATH_TO_DATA/*.vw"
   ]
  },
  {
   "cell_type": "code",
   "execution_count": 20,
   "metadata": {},
   "outputs": [
    {
     "data": {
      "text/plain": [
       "3273792.0"
      ]
     },
     "execution_count": 20,
     "metadata": {},
     "output_type": "execute_result"
    }
   ],
   "source": [
    "6547584 / 2"
   ]
  },
  {
   "cell_type": "code",
   "execution_count": 17,
   "metadata": {},
   "outputs": [
    {
     "name": "stdout",
     "output_type": "stream",
     "text": [
      "1 | i ve got some code in window scroll that checks if an element is visible then triggers another function however only the first section of code is firing both bits of code work in and of themselves if i swap their order whichever is on top fires correctly my code is as follows fn isonscreen function use strict var win window viewport top win scrolltop left win scrollleft bounds this offset viewport right viewport left + win width viewport bottom viewport top + win height bounds right bounds left + this outerwidth bounds bottom bounds top + this outerheight return viewport right lt bounds left viewport left gt bounds right viewport bottom lt bounds top viewport top gt bounds bottom window scroll function use strict var load_more_results ajax load_more_results isonscreen if load_more_results true loadmoreresults var load_more_staff ajax load_more_staff isonscreen if load_more_staff true loadmorestaff what am i doing wrong can you only fire one event from window scroll i assume not\r",
      "\r\n",
      "4 | redefining some constant in ruby ex foo bar generates the warning already initialized constant i m trying to write a sort of reallyconstants module where this code should have this behaviour reallyconstants define_constant foo bar gt sets the constant reallyconstants foo to bar reallyconstants foo gt bar reallyconstants foo foobar gt this should raise an exception that is constant redefinition should generate an exception is that possible\r",
      "\r\n",
      "1 | in my form panel i added a checkbox setting stateful true stateid loginpanelremeberme then before sending form i save state calling this savestate on the panel all other componenets save their state and whe i reload the page they recall the previous state but checkbox alway start in unchecked state is there any way to force save value\r",
      "\r\n",
      "7 | i have the two dates variables startwork and endwork i need to define whether person includes worked in the period from 23 hours to 05 hours for example startwork hour endwork hour result 21 5 yes 22 3 yes 12 21 no 23 8 yes 21 8 yes 7 9 no my code if startwork hour gt 23 amp amp startwork hour lt 5 return true if endwork hour gt 23 amp amp endwork hour lt 5 return true but this code is not coverage all variants\r",
      "\r\n",
      "2 | i have a collection of objects that are guaranteed to be distinct in particular indexed by a unique integer id i also know exactly how many of them there are and the number won t change and was wondering whether array would have a notable performance advantage over hashset for storing retrieving said elements on paper array guarantees constant time insertion since i know the size ahead of time and retrieval but the code for hashset looks much cleaner and adds some flexibility so i m wondering if i m losing anything performance wise using it at least theoretically\r",
      "\r\n"
     ]
    }
   ],
   "source": [
    "!head -5 $PATH_TO_DATA/stackoverflow_train.vw"
   ]
  },
  {
   "cell_type": "code",
   "execution_count": 21,
   "metadata": {},
   "outputs": [
    {
     "name": "stdout",
     "output_type": "stream",
     "text": [
      "8.5.0\r\n"
     ]
    }
   ],
   "source": [
    "# mac: brew install vowpal-wabbit\n",
    "!vw --version"
   ]
  },
  {
   "cell_type": "code",
   "execution_count": 22,
   "metadata": {},
   "outputs": [
    {
     "name": "stdout",
     "output_type": "stream",
     "text": [
      "Num weight bits = 18\r\n",
      "learning rate = 0.5\r\n",
      "initial_t = 0\r\n",
      "power_t = 0.5\r\n",
      "using no cache\r\n",
      "Reading datafile = \r\n",
      "num sources = 1\r\n",
      "\r\n",
      "VW options:\r\n",
      "  --ring_size arg                       size of example ring\r\n",
      "  --onethread                           Disable parse thread\r\n",
      "\r\n",
      "Update options:\r\n",
      "  -l [ --learning_rate ] arg            Set learning rate\r\n",
      "  --power_t arg                         t power value\r\n",
      "  --decay_learning_rate arg             Set Decay factor for learning_rate \r\n",
      "                                        between passes\r\n",
      "  --initial_t arg                       initial t value\r\n",
      "  --feature_mask arg                    Use existing regressor to determine \r\n",
      "                                        which parameters may be updated.  If no\r\n",
      "                                        initial_regressor given, also used for \r\n",
      "                                        initial weights.\r\n",
      "\r\n",
      "Weight options:\r\n",
      "  -i [ --initial_regressor ] arg        Initial regressor(s)\r\n",
      "  --initial_weight arg                  Set all weights to an initial value of \r\n",
      "                                        arg.\r\n",
      "  --random_weights arg                  make initial weights random\r\n",
      "  --normal_weights arg                  make initial weights normal\r\n",
      "  --truncated_normal_weights arg        make initial weights truncated normal\r\n",
      "  --sparse_weights                      Use a sparse datastructure for weights\r\n",
      "  --input_feature_regularizer arg       Per feature regularization input file\r\n",
      "\r\n",
      "Parallelization options:\r\n",
      "  --span_server arg                     Location of server for setting up \r\n",
      "                                        spanning tree\r\n",
      "  --threads                             Enable multi-threading\r\n",
      "  --unique_id arg (=0)                  unique id used for cluster parallel \r\n",
      "                                        jobs\r\n",
      "  --total arg (=1)                      total number of nodes used in cluster \r\n",
      "                                        parallel job\r\n",
      "  --node arg (=0)                       node number in cluster parallel job\r\n",
      "\r\n",
      "Diagnostic options:\r\n",
      "  --version                             Version information\r\n",
      "  -a [ --audit ]                        print weights of features\r\n",
      "  -P [ --progress ] arg                 Progress update frequency. int: \r\n",
      "                                        additive, float: multiplicative\r\n",
      "  --quiet                               Don't output disgnostics and progress \r\n",
      "                                        updates\r\n",
      "  -h [ --help ]                         Look here: http://hunch.net/~vw/ and \r\n",
      "                                        click on Tutorial.\r\n",
      "\r\n",
      "Random Seed option:\r\n",
      "  --random_seed arg                     seed random number generator\r\n",
      "\r\n",
      "Feature options:\r\n",
      "  --hash arg                            how to hash the features. Available \r\n",
      "                                        options: strings, all\r\n",
      "  --hash_seed arg (=0)                  seed for hash function\r\n",
      "  --ignore arg                          ignore namespaces beginning with \r\n",
      "                                        character <arg>\r\n",
      "  --ignore_linear arg                   ignore namespaces beginning with \r\n",
      "                                        character <arg> for linear terms only\r\n",
      "  --keep arg                            keep namespaces beginning with \r\n",
      "                                        character <arg>\r\n",
      "  --redefine arg                        redefine namespaces beginning with \r\n",
      "                                        characters of string S as namespace N. \r\n",
      "                                        <arg> shall be in form 'N:=S' where := \r\n",
      "                                        is operator. Empty N or S are treated \r\n",
      "                                        as default namespace. Use ':' as a \r\n",
      "                                        wildcard in S.\r\n",
      "  -b [ --bit_precision ] arg            number of bits in the feature table\r\n",
      "  --noconstant                          Don't add a constant feature\r\n",
      "  -C [ --constant ] arg                 Set initial value of constant\r\n",
      "  --ngram arg                           Generate N grams. To generate N grams \r\n",
      "                                        for a single namespace 'foo', arg \r\n",
      "                                        should be fN.\r\n",
      "  --skips arg                           Generate skips in N grams. This in \r\n",
      "                                        conjunction with the ngram tag can be \r\n",
      "                                        used to generate generalized \r\n",
      "                                        n-skip-k-gram. To generate n-skips for \r\n",
      "                                        a single namespace 'foo', arg should be\r\n",
      "                                        fN.\r\n",
      "  --feature_limit arg                   limit to N features. To apply to a \r\n",
      "                                        single namespace 'foo', arg should be \r\n",
      "                                        fN\r\n",
      "  --affix arg                           generate prefixes/suffixes of features;\r\n",
      "                                        argument '+2a,-3b,+1' means generate \r\n",
      "                                        2-char prefixes for namespace a, 3-char\r\n",
      "                                        suffixes for b and 1 char prefixes for \r\n",
      "                                        default namespace\r\n",
      "  --spelling arg                        compute spelling features for a give \r\n",
      "                                        namespace (use '_' for default \r\n",
      "                                        namespace)\r\n",
      "  --dictionary arg                      read a dictionary for additional \r\n",
      "                                        features (arg either 'x:file' or just \r\n",
      "                                        'file')\r\n",
      "  --dictionary_path arg                 look in this directory for \r\n",
      "                                        dictionaries; defaults to current \r\n",
      "                                        directory or env{PATH}\r\n",
      "  --interactions arg                    Create feature interactions of any \r\n",
      "                                        level between namespaces.\r\n",
      "  --permutations                        Use permutations instead of \r\n",
      "                                        combinations for feature interactions \r\n",
      "                                        of same namespace.\r\n",
      "  --leave_duplicate_interactions        Don't remove interactions with \r\n",
      "                                        duplicate combinations of namespaces. \r\n",
      "                                        For ex. this is a duplicate: '-q ab -q \r\n",
      "                                        ba' and a lot more in '-q ::'.\r\n",
      "  -q [ --quadratic ] arg                Create and use quadratic features\r\n",
      "  --q: arg                              : corresponds to a wildcard for all \r\n",
      "                                        printable characters\r\n",
      "  --cubic arg                           Create and use cubic features\r\n",
      "\r\n",
      "Example options:\r\n",
      "  -t [ --testonly ]                     Ignore label information and just test\r\n",
      "  --holdout_off                         no holdout data in multiple passes\r\n",
      "  --holdout_period arg (=10)            holdout period for test only\r\n",
      "  --holdout_after arg                   holdout after n training examples, \r\n",
      "                                        default off (disables holdout_period)\r\n",
      "  --early_terminate arg (=3)            Specify the number of passes tolerated \r\n",
      "                                        when holdout loss doesn't decrease \r\n",
      "                                        before early termination\r\n",
      "  --passes arg                          Number of Training Passes\r\n",
      "  --initial_pass_length arg             initial number of examples per pass\r\n",
      "  --examples arg                        number of examples to parse\r\n",
      "  --min_prediction arg                  Smallest prediction to output\r\n",
      "  --max_prediction arg                  Largest prediction to output\r\n",
      "  --sort_features                       turn this on to disregard order in \r\n",
      "                                        which features have been defined. This \r\n",
      "                                        will lead to smaller cache sizes\r\n",
      "  --loss_function arg (=squared)        Specify the loss function to be used, \r\n",
      "                                        uses squared by default. Currently \r\n",
      "                                        available ones are squared, classic, \r\n",
      "                                        hinge, logistic, quantile and poisson.\r\n",
      "  --quantile_tau arg (=0.5)             Parameter \\tau associated with Quantile\r\n",
      "                                        loss. Defaults to 0.5\r\n",
      "  --l1 arg                              l_1 lambda\r\n",
      "  --l2 arg                              l_2 lambda\r\n",
      "  --no_bias_regularization arg          no bias in regularization\r\n",
      "  --named_labels arg                    use names for labels (multiclass, etc.)\r\n",
      "                                        rather than integers, argument \r\n",
      "                                        specified all possible labels, \r\n",
      "                                        comma-sep, eg \"--named_labels \r\n",
      "                                        Noun,Verb,Adj,Punc\"\r\n",
      "\r\n",
      "Output model:\r\n",
      "  -f [ --final_regressor ] arg          Final regressor\r\n",
      "  --readable_model arg                  Output human-readable final regressor \r\n",
      "                                        with numeric features\r\n",
      "  --invert_hash arg                     Output human-readable final regressor \r\n",
      "                                        with feature names.  Computationally \r\n",
      "                                        expensive.\r\n",
      "  --save_resume                         save extra state so learning can be \r\n",
      "                                        resumed later with new data\r\n",
      "  --preserve_performance_counters       reset performance counters when \r\n",
      "                                        warmstarting\r\n",
      "  --save_per_pass                       Save the model after every pass over \r\n",
      "                                        data\r\n",
      "  --output_feature_regularizer_binary arg\r\n",
      "                                        Per feature regularization output file\r\n",
      "  --output_feature_regularizer_text arg Per feature regularization output file,\r\n",
      "                                        in text\r\n",
      "  --id arg                              User supplied ID embedded into the \r\n",
      "                                        final regressor\r\n",
      "\r\n",
      "Output options:\r\n",
      "  -p [ --predictions ] arg              File to output predictions to\r\n",
      "  -r [ --raw_predictions ] arg          File to output unnormalized predictions\r\n",
      "                                        to\r\n",
      "\r\n",
      "Audit Regressor:\r\n",
      "  --audit_regressor arg                 stores feature names and their \r\n",
      "                                        regressor values. Same dataset must be \r\n",
      "                                        used for both regressor training and \r\n",
      "                                        this mode.\r\n",
      "\r\n",
      "\r\n",
      "Search options:\r\n",
      "  --search arg                          Use learning to search, \r\n",
      "                                        argument=maximum action id or 0 for LDF\r\n",
      "  --search_task arg                     the search task (use \"--search_task \r\n",
      "                                        list\" to get a list of available tasks)\r\n",
      "\r\n",
      "  --search_metatask arg                 the search metatask (use \r\n",
      "                                        \"--search_metatask list\" to get a list \r\n",
      "                                        of available metatasks)\r\n",
      "  --search_interpolation arg            at what level should interpolation \r\n",
      "                                        happen? [*data|policy]\r\n",
      "  --search_rollout arg                  how should rollouts be executed?       \r\n",
      "                                            [policy|oracle|*mix_per_state|mix_p\r\n",
      "                                        er_roll|none]\r\n",
      "  --search_rollin arg                   how should past trajectories be \r\n",
      "                                        generated? [policy|oracle|*mix_per_stat\r\n",
      "                                        e|mix_per_roll]\r\n",
      "  --search_passes_per_policy arg (=1)   number of passes per policy (only valid\r\n",
      "                                        for search_interpolation=policy)\r\n",
      "  --search_beta arg (=0.5)              interpolation rate for policies (only \r\n",
      "                                        valid for search_interpolation=policy)\r\n",
      "  --search_alpha arg (=1.00000001e-10)  annealed beta = 1-(1-alpha)^t (only \r\n",
      "                                        valid for search_interpolation=data)\r\n",
      "  --search_total_nb_policies arg        if we are going to train the policies \r\n",
      "                                        through multiple separate calls to vw, \r\n",
      "                                        we need to specify this parameter and \r\n",
      "                                        tell vw how many policies are \r\n",
      "                                        eventually going to be trained\r\n",
      "  --search_trained_nb_policies arg      the number of trained policies in a \r\n",
      "                                        file\r\n",
      "  --search_allowed_transitions arg      read file of allowed transitions [def: \r\n",
      "                                        all transitions are allowed]\r\n",
      "  --search_subsample_time arg           instead of training at all timesteps, \r\n",
      "                                        use a subset. if value in (0,1), train \r\n",
      "                                        on a random v%. if v>=1, train on \r\n",
      "                                        precisely v steps per example, if \r\n",
      "                                        v<=-1, use active learning\r\n",
      "  --search_neighbor_features arg        copy features from neighboring lines. \r\n",
      "                                        argument looks like: '-1:a,+2' meaning \r\n",
      "                                        copy previous line namespace a and next\r\n",
      "                                        next line from namespace _unnamed_, \r\n",
      "                                        where ',' separates them\r\n",
      "  --search_rollout_num_steps arg        how many calls of \"loss\" before we stop\r\n",
      "                                        really predicting on rollouts and \r\n",
      "                                        switch to oracle (default means \r\n",
      "                                        \"infinite\")\r\n",
      "  --search_history_length arg (=1)      some tasks allow you to specify how \r\n",
      "                                        much history their depend on; specify \r\n",
      "                                        that here\r\n",
      "  --search_no_caching                   turn off the built-in caching ability \r\n",
      "                                        (makes things slower, but technically \r\n",
      "                                        more safe)\r\n",
      "  --search_xv                           train two separate policies, \r\n",
      "                                        alternating prediction/learning\r\n",
      "  --search_perturb_oracle arg (=0)      perturb the oracle on rollin with this \r\n",
      "                                        probability\r\n",
      "  --search_linear_ordering              insist on generating examples in linear\r\n",
      "                                        order (def: hoopla permutation)\r\n",
      "  --search_active_verify arg            verify that active learning is doing \r\n",
      "                                        the right thing (arg = multiplier, \r\n",
      "                                        should be = cost_range * range_c)\r\n",
      "  --search_save_every_k_runs arg        save model every k runs\r\n",
      "\r\n",
      "Experience Replay:\r\n",
      "  --replay_c arg                        use experience replay at a specified \r\n",
      "                                        level [b=classification/regression, \r\n",
      "                                        m=multiclass, c=cost sensitive] with \r\n",
      "                                        specified buffer size\r\n",
      "\r\n",
      "  --replay_c_count arg (=1)             how many times (in expectation) should \r\n",
      "                                        each example be played (default: 1 = \r\n",
      "                                        permuting)\r\n",
      "\r\n",
      "Explore evaluation:\r\n",
      "  --explore_eval                        Evaluate explore_eval adf policies\r\n",
      "\r\n",
      "  --multiplier arg                      Multiplier used to make all rejection \r\n",
      "                                        sample probabilities <= 1\r\n",
      "\r\n",
      "Make Multiclass into Contextual Bandit:\r\n",
      "  --cbify arg                           Convert multiclass on <k> classes into \r\n",
      "                                        a contextual bandit problem\r\n",
      "\r\n",
      "  --cbify_cs                            consume cost-sensitive classification \r\n",
      "                                        examples instead of multiclass\r\n",
      "  --loss0 arg (=0)                      loss for correct label\r\n",
      "  --loss1 arg (=1)                      loss for incorrect label\r\n",
      "\r\n",
      "Contextual Bandit Exploration with Action Dependent Features:\r\n",
      "  --cb_explore_adf                      Online explore-exploit for a contextual\r\n",
      "                                        bandit problem with multiline action \r\n",
      "                                        dependent features\r\n",
      "\r\n",
      "  --first arg                           tau-first exploration\r\n",
      "  --epsilon arg                         epsilon-greedy exploration\r\n",
      "  --bag arg                             bagging-based exploration\r\n",
      "  --cover arg                           Online cover based exploration\r\n",
      "  --psi arg (=1)                        disagreement parameter for cover\r\n",
      "  --nounif                              do not explore uniformly on \r\n",
      "                                        zero-probability actions in cover\r\n",
      "  --softmax                             softmax exploration\r\n",
      "  --regcb                               RegCB-elim exploration\r\n",
      "  --regcbopt                            RegCB optimistic exploration\r\n",
      "  --mellowness arg (=0.100000001)       RegCB mellowness parameter c_0. Default\r\n",
      "                                        0.1\r\n",
      "  --greedify                            always update first policy once in \r\n",
      "                                        bagging\r\n",
      "  --cb_min_cost arg (=0)                lower bound on cost\r\n",
      "  --cb_max_cost arg (=1)                upper bound on cost\r\n",
      "  --first_only                          Only explore the first action in a \r\n",
      "                                        tie-breaking event\r\n",
      "  --lambda arg (=-1)                    parameter for softmax\r\n",
      "\r\n",
      "Contextual Bandit Exploration:\r\n",
      "  --cb_explore arg                      Online explore-exploit for a <k> action\r\n",
      "                                        contextual bandit problem\r\n",
      "\r\n",
      "  --first arg                           tau-first exploration\r\n",
      "  --epsilon arg (=0.0500000007)         epsilon-greedy exploration\r\n",
      "  --bag arg                             bagging-based exploration\r\n",
      "  --cover arg                           Online cover based exploration\r\n",
      "  --psi arg (=1)                        disagreement parameter for cover\r\n",
      "\r\n",
      "Multiworld Testing Options:\r\n",
      "  --multiworld_test arg                 Evaluate features as a policies\r\n",
      "\r\n",
      "  --learn arg                           Do Contextual Bandit learning on <n> \r\n",
      "                                        classes.\r\n",
      "  --exclude_eval                        Discard mwt policy features before \r\n",
      "                                        learning\r\n",
      "\r\n",
      "Contextual Bandit with Action Dependent Features:\r\n",
      "  --cb_adf                              Do Contextual Bandit learning with \r\n",
      "                                        multiline action dependent features.\r\n",
      "\r\n",
      "  --rank_all                            Return actions sorted by score order\r\n",
      "  --no_predict                          Do not do a prediction when training\r\n",
      "  --cb_type arg (=ips)                  contextual bandit method to use in \r\n",
      "                                        {ips,dm,dr, mtr}\r\n",
      "\r\n",
      "Contextual Bandit Options:\r\n",
      "  --cb arg                              Use contextual bandit learning with <k>\r\n",
      "                                        costs\r\n",
      "\r\n",
      "  --cb_type arg (=dr)                   contextual bandit method to use in \r\n",
      "                                        {ips,dm,dr}\r\n",
      "  --eval                                Evaluate a policy rather than \r\n",
      "                                        optimizing.\r\n",
      "\r\n",
      "Cost Sensitive One Against All with Label Dependent Features:\r\n",
      "  --csoaa_ldf arg                       Use one-against-all multiclass learning\r\n",
      "                                        with label dependent features.\r\n",
      "\r\n",
      "  --ldf_override arg                    Override singleline or multiline from \r\n",
      "                                        csoaa_ldf or wap_ldf, eg if stored in \r\n",
      "                                        file\r\n",
      "  --csoaa_rank                          Return actions sorted by score order\r\n",
      "  --probabilities                       predict probabilites of all classes\r\n",
      "\r\n",
      "  --wap_ldf arg                         Use weighted all-pairs multiclass \r\n",
      "                                        learning with label dependent features.\r\n",
      "                                          Specify singleline or multiline.\r\n",
      "\r\n",
      "\r\n",
      "Interact via elementwise multiplication:\r\n",
      "  --interact arg                        Put weights on feature products from \r\n",
      "                                        namespaces <n1> and <n2>\r\n",
      "\r\n",
      "\r\n",
      "Cost Sensitive One Against All:\r\n",
      "  --csoaa arg                           One-against-all multiclass with <k> \r\n",
      "                                        costs\r\n",
      "\r\n",
      "\r\n",
      "Cost-sensitive Active Learning:\r\n",
      "  --cs_active arg                       Cost-sensitive active learning with <k>\r\n",
      "                                        costs\r\n",
      "\r\n",
      "  --simulation                          cost-sensitive active learning \r\n",
      "                                        simulation mode\r\n",
      "  --baseline                            cost-sensitive active learning baseline\r\n",
      "  --domination                          cost-sensitive active learning use \r\n",
      "                                        domination. Default 1\r\n",
      "  --mellowness arg (=0.100000001)       mellowness parameter c_0. Default 0.1.\r\n",
      "  --range_c arg (=0.5)                  parameter controlling the threshold for\r\n",
      "                                        per-label cost uncertainty. Default \r\n",
      "                                        0.5.\r\n",
      "  --max_labels arg (=18446744073709551615)\r\n",
      "                                        maximum number of label queries.\r\n",
      "  --min_labels arg (=18446744073709551615)\r\n",
      "                                        minimum number of label queries.\r\n",
      "  --cost_max arg (=1)                   cost upper bound. Default 1.\r\n",
      "  --cost_min arg (=0)                   cost lower bound. Default 0.\r\n",
      "  --csa_debug                           print debug stuff for cs_active\r\n",
      "\r\n",
      "Multilabel One Against All:\r\n",
      "  --multilabel_oaa arg                  One-against-all multilabel with <k> \r\n",
      "                                        labels\r\n",
      "\r\n",
      "\r\n",
      "importance weight classes:\r\n",
      "  --classweight arg                     importance weight multiplier for class\r\n",
      "\r\n",
      "\r\n",
      "Recall Tree:\r\n",
      "  --recall_tree arg                     Use online tree for multiclass\r\n",
      "\r\n",
      "  --max_candidates arg                  maximum number of labels per leaf in \r\n",
      "                                        the tree\r\n",
      "  --bern_hyper arg (=1)                 recall tree depth penalty\r\n",
      "  --max_depth arg                       maximum depth of the tree, default \r\n",
      "                                        log_2 (#classes)\r\n",
      "  --node_only arg (=0)                  only use node features, not full path \r\n",
      "                                        features\r\n",
      "  --randomized_routing arg (=0)         randomized routing\r\n",
      "\r\n",
      "Logarithmic Time Multiclass Tree:\r\n",
      "  --log_multi arg                       Use online tree for multiclass\r\n",
      "\r\n",
      "  --no_progress                         disable progressive validation\r\n",
      "  --swap_resistance arg (=4)            higher = more resistance to swap, \r\n",
      "                                        default=4\r\n",
      "\r\n",
      "Error Correcting Tournament Options:\r\n",
      "  --ect arg                             Error correcting tournament with <k> \r\n",
      "                                        labels\r\n",
      "\r\n",
      "  --error arg (=0)                      errors allowed by ECT\r\n",
      "\r\n",
      "Boosting:\r\n",
      "  --boosting arg                        Online boosting with <N> weak learners\r\n",
      "\r\n",
      "  --gamma arg (=0.100000001)            weak learner's edge (=0.1), used only \r\n",
      "                                        by online BBM\r\n",
      "  --alg arg (=BBM)                      specify the boosting algorithm: BBM \r\n",
      "                                        (default), logistic (AdaBoost.OL.W), \r\n",
      "                                        adaptive (AdaBoost.OL)\r\n",
      "\r\n",
      "One Against All Options:\r\n",
      "  --oaa arg                             One-against-all multiclass with <k> \r\n",
      "                                        labels\r\n",
      "\r\n",
      "  --oaa_subsample arg                   subsample this number of negative \r\n",
      "                                        examples when learning\r\n",
      "  --probabilities                       predict probabilites of all classes\r\n",
      "  --scores                              output raw scores per class\r\n",
      "\r\n",
      "Top K:\r\n",
      "  --top arg                             top k recommendation\r\n",
      "\r\n",
      "\r\n",
      "Experience Replay:\r\n",
      "  --replay_m arg                        use experience replay at a specified \r\n",
      "                                        level [b=classification/regression, \r\n",
      "                                        m=multiclass, c=cost sensitive] with \r\n",
      "                                        specified buffer size\r\n",
      "\r\n",
      "  --replay_m_count arg (=1)             how many times (in expectation) should \r\n",
      "                                        each example be played (default: 1 = \r\n",
      "                                        permuting)\r\n",
      "\r\n",
      "Binary loss:\r\n",
      "  --binary                              report loss as binary classification on\r\n",
      "                                        -1,1\r\n",
      "\r\n",
      "\r\n",
      "Bootstrap:\r\n",
      "  --bootstrap arg                       k-way bootstrap by online importance \r\n",
      "                                        resampling\r\n",
      "\r\n",
      "  --bs_type arg                         prediction type {mean,vote}\r\n",
      "\r\n",
      "scorer options:\r\n",
      "  --link arg (=identity)                Specify the link function: identity, \r\n",
      "                                        logistic, glf1 or poisson\r\n",
      "\r\n",
      "Stagewise polynomial options:\r\n",
      "  --stage_poly                          use stagewise polynomial feature \r\n",
      "                                        learning\r\n",
      "\r\n",
      "  --sched_exponent arg (=1)             exponent controlling quantity of \r\n",
      "                                        included features\r\n",
      "  --batch_sz arg (=1000)                multiplier on batch size before \r\n",
      "                                        including more features\r\n",
      "  --batch_sz_no_doubling                batch_sz does not double\r\n",
      "\r\n",
      "Low Rank Quadratics FA:\r\n",
      "  --lrqfa arg                           use low rank quadratic features with \r\n",
      "                                        field aware weights\r\n",
      "\r\n",
      "\r\n",
      "Low Rank Quadratics:\r\n",
      "  --lrq arg                             use low rank quadratic features\r\n",
      "\r\n",
      "  --lrqdropout                          use dropout training for low rank \r\n",
      "                                        quadratic features\r\n",
      "\r\n",
      "Autolink:\r\n",
      "  --autolink arg                        create link function with polynomial d\r\n",
      "\r\n",
      "\r\n",
      "Marginal:\r\n",
      "  --marginal arg                        substitute marginal label estimates for\r\n",
      "                                        ids\r\n",
      "\r\n",
      "  --initial_denominator arg (=1)        initial denominator\r\n",
      "  --initial_numerator arg (=0.5)        initial numerator\r\n",
      "  --compete                             enable competition with marginal \r\n",
      "                                        features\r\n",
      "  --update_before_learn arg (=0)        update marginal values before learning\r\n",
      "  --unweighted_marginals arg (=0)       ignore importance weights when \r\n",
      "                                        computing marginals\r\n",
      "  --decay arg (=0)                      decay multiplier per event (1e-3 for \r\n",
      "                                        example)\r\n",
      "\r\n",
      "Matrix Factorization Reduction:\r\n",
      "  --new_mf arg                          rank for reduction-based matrix \r\n",
      "                                        factorization\r\n",
      "\r\n",
      "\r\n",
      "Neural Network:\r\n",
      "  --nn arg                              Sigmoidal feedforward network with <k> \r\n",
      "                                        hidden units\r\n",
      "\r\n",
      "  --inpass                              Train or test sigmoidal feedforward \r\n",
      "                                        network with input passthrough.\r\n",
      "  --multitask                           Share hidden layer across all reduced \r\n",
      "                                        tasks.\r\n",
      "  --dropout                             Train or test sigmoidal feedforward \r\n",
      "                                        network using dropout.\r\n",
      "  --meanfield                           Train or test sigmoidal feedforward \r\n",
      "                                        network using mean field.\r\n",
      "\r\n",
      "Confidence:\r\n",
      "  --confidence                          Get confidence for binary predictions\r\n",
      "\r\n",
      "  --confidence_after_training           Confidence after training\r\n",
      "\r\n",
      "Active Learning with Cover:\r\n",
      "  --active_cover                        enable active learning with cover\r\n",
      "\r\n",
      "  --mellowness arg (=8)                 active learning mellowness parameter \r\n",
      "                                        c_0. Default 8.\r\n",
      "  --alpha arg (=1)                      active learning variance upper bound \r\n",
      "                                        parameter alpha. Default 1.\r\n",
      "  --beta_scale arg (=3.1622777)         active learning variance upper bound \r\n",
      "                                        parameter beta_scale. Default sqrt(10).\r\n",
      "  --cover arg (=12)                     cover size. Default 12.\r\n",
      "  --oracular                            Use Oracular-CAL style query or not. \r\n",
      "                                        Default false.\r\n",
      "\r\n",
      "Active Learning:\r\n",
      "  --active                              enable active learning\r\n",
      "\r\n",
      "  --simulation                          active learning simulation mode\r\n",
      "  --mellowness arg (=8)                 active learning mellowness parameter \r\n",
      "                                        c_0. Default 8\r\n",
      "\r\n",
      "Experience Replay:\r\n",
      "  --replay_b arg                        use experience replay at a specified \r\n",
      "                                        level [b=classification/regression, \r\n",
      "                                        m=multiclass, c=cost sensitive] with \r\n",
      "                                        specified buffer size\r\n",
      "\r\n",
      "  --replay_b_count arg (=1)             how many times (in expectation) should \r\n",
      "                                        each example be played (default: 1 = \r\n",
      "                                        permuting)\r\n",
      "\r\n",
      "Baseline options:\r\n",
      "  --baseline                            Learn an additive baseline (from \r\n",
      "                                        constant features) and a residual \r\n",
      "                                        separately in regression.\r\n",
      "\r\n",
      "  --lr_multiplier arg                   learning rate multiplier for baseline \r\n",
      "                                        model\r\n",
      "  --global_only                         use separate example with only global \r\n",
      "                                        constant for baseline predictions\r\n",
      "  --check_enabled                       only use baseline when the example \r\n",
      "                                        contains enabled flag\r\n",
      "\r\n",
      "OjaNewton options:\r\n",
      "  --OjaNewton                           Online Newton with Oja's Sketch\r\n",
      "\r\n",
      "  --sketch_size arg (=10)               size of sketch\r\n",
      "  --epoch_size arg (=1)                 size of epoch\r\n",
      "  --alpha arg (=1)                      mutiplicative constant for indentiy\r\n",
      "  --alpha_inverse arg                   one over alpha, similar to learning \r\n",
      "                                        rate\r\n",
      "  --learning_rate_cnt arg (=2)          constant for the learning rate 1/t\r\n",
      "  --normalize arg (=1)                  normalize the features or not\r\n",
      "  --random_init arg (=1)                randomize initialization of Oja or not\r\n",
      "\r\n",
      "LBFGS and Conjugate Gradient options:\r\n",
      "  --conjugate_gradient                  use conjugate gradient based \r\n",
      "                                        optimization\r\n",
      "\r\n",
      "\r\n",
      "  --bfgs                                use bfgs optimization\r\n",
      "\r\n",
      "  --hessian_on                          use second derivative in line search\r\n",
      "  --mem arg (=15)                       memory in bfgs\r\n",
      "  --termination arg (=0.00100000005)    Termination threshold\r\n",
      "\r\n",
      "Latent Dirichlet Allocation:\r\n",
      "  --lda arg                             Run lda with <int> topics\r\n",
      "\r\n",
      "  --lda_alpha arg (=0.100000001)        Prior on sparsity of per-document topic\r\n",
      "                                        weights\r\n",
      "  --lda_rho arg (=0.100000001)          Prior on sparsity of topic \r\n",
      "                                        distributions\r\n",
      "  --lda_D arg (=10000)                  Number of documents\r\n",
      "  --lda_epsilon arg (=0.00100000005)    Loop convergence threshold\r\n",
      "  --minibatch arg (=1)                  Minibatch size, for LDA\r\n",
      "  --math-mode arg (=0)                  Math mode: simd, accuracy, fast-approx\r\n",
      "  --metrics arg (=0)                    Compute metrics\r\n",
      "\r\n",
      "Noop Learner:\r\n",
      "  --noop                                do no learning\r\n",
      "\r\n",
      "\r\n",
      "Print psuedolearner:\r\n",
      "  --print                               print examples\r\n",
      "\r\n",
      "\r\n",
      "Gradient Descent Matrix Factorization:\r\n",
      "  --rank arg                            rank for matrix factorization.\r\n",
      "\r\n",
      "\r\n",
      "Network sending:\r\n",
      "  --sendto arg                          send examples to <host>\r\n",
      "\r\n",
      "\r\n",
      "Stochastic Variance Reduced Gradient:\r\n",
      "  --svrg                                Streaming Stochastic Variance Reduced \r\n",
      "                                        Gradient\r\n",
      "\r\n",
      "  --stage_size arg (=1)                 Number of passes per SVRG stage\r\n",
      "\r\n",
      "Follow the Regularized Leader:\r\n",
      "  --ftrl                                FTRL: Follow the Proximal Regularized \r\n",
      "                                        Leader\r\n",
      "\r\n",
      "  --ftrl_alpha arg (=0.00499999989)     Learning rate for FTRL optimization\r\n",
      "  --ftrl_beta arg (=0.100000001)        FTRL beta parameter\r\n",
      "\r\n",
      "  --pistol                              FTRL: Parameter-free Stochastic \r\n",
      "                                        Learning\r\n",
      "\r\n",
      "  --ftrl_alpha arg (=1)                 Learning rate for FTRL optimization\r\n",
      "  --ftrl_beta arg (=0.5)                FTRL beta parameter\r\n",
      "\r\n",
      "Kernel SVM:\r\n",
      "  --ksvm                                kernel svm\r\n",
      "\r\n",
      "  --reprocess arg (=1)                  number of reprocess steps for LASVM\r\n",
      "  --pool_greedy                         use greedy selection on mini pools\r\n",
      "  --para_active                         do parallel active learning\r\n",
      "  --pool_size arg (=1)                  size of pools for active learning\r\n",
      "  --subsample arg (=1)                  number of items to subsample from the \r\n",
      "                                        pool\r\n",
      "  --kernel arg (=linear)                type of kernel (rbf or linear \r\n",
      "                                        (default))\r\n",
      "  --bandwidth arg (=1)                  bandwidth of rbf kernel\r\n",
      "  --degree arg (=2)                     degree of poly kernel\r\n",
      "  --lambda arg                          saving regularization for test time\r\n",
      "\r\n",
      "Gradient Descent options:\r\n",
      "  --sgd                                 use regular stochastic gradient descent\r\n",
      "                                        update.\r\n",
      "  --adaptive                            use adaptive, individual learning \r\n",
      "                                        rates.\r\n",
      "  --adax                                use adaptive learning rates with x^2 \r\n",
      "                                        instead of g^2x^2\r\n",
      "  --invariant                           use safe/importance aware updates.\r\n",
      "  --normalized                          use per feature normalized updates\r\n",
      "  --sparse_l2 arg (=0)                  use per feature normalized updates\r\n",
      "  --l1_state arg (=0)                   use per feature normalized updates\r\n",
      "  --l2_state arg (=1)                   use per feature normalized updates\r\n",
      "\r\n",
      "Input options:\r\n",
      "  -d [ --data ] arg                     Example Set\r\n",
      "  --daemon                              persistent daemon mode on port 26542\r\n",
      "  --foreground                          in persistent daemon mode, do not run \r\n",
      "                                        in the background\r\n",
      "  --port arg                            port to listen on; use 0 to pick unused\r\n",
      "                                        port\r\n",
      "  --num_children arg                    number of children for persistent \r\n",
      "                                        daemon mode\r\n",
      "  --pid_file arg                        Write pid file in persistent daemon \r\n",
      "                                        mode\r\n",
      "  --port_file arg                       Write port used in persistent daemon \r\n",
      "                                        mode\r\n",
      "  -c [ --cache ]                        Use a cache.  The default is \r\n",
      "                                        <data>.cache\r\n",
      "  --cache_file arg                      The location(s) of cache_file.\r\n",
      "  --json                                Enable JSON parsing.\r\n",
      "  --dsjson                              Enable Decision Service JSON parsing.\r\n",
      "  -k [ --kill_cache ]                   do not reuse existing cache: create a \r\n",
      "                                        new one always\r\n",
      "  --compressed                          use gzip format whenever possible. If a\r\n",
      "                                        cache file is being created, this \r\n",
      "                                        option creates a compressed cache file.\r\n",
      "                                        A mixture of raw-text & compressed \r\n",
      "                                        inputs are supported with \r\n",
      "                                        autodetection.\r\n",
      "  --no_stdin                            do not default to reading from stdin\r\n"
     ]
    }
   ],
   "source": [
    "!vw --help"
   ]
  },
  {
   "cell_type": "code",
   "execution_count": 23,
   "metadata": {},
   "outputs": [
    {
     "name": "stdout",
     "output_type": "stream",
     "text": [
      "final_regressor = ../../data/stackoverflow/model.vw\n",
      "Num weight bits = 18\n",
      "learning rate = 0.5\n",
      "initial_t = 0\n",
      "power_t = 0.5\n",
      "using no cache\n",
      "Reading datafile = ../../data/stackoverflow/stackoverflow_train.vw\n",
      "num sources = 1\n",
      "average  since         example        example  current  current  current\n",
      "loss     last          counter         weight    label  predict features\n",
      "0.000000 0.000000            1            1.0        1        1      161\n",
      "0.500000 1.000000            2            2.0        4        1       68\n",
      "0.750000 1.000000            4            4.0        7        1       88\n",
      "0.875000 1.000000            8            8.0        7        2       95\n",
      "0.875000 0.875000           16           16.0        7        7      209\n",
      "0.843750 0.812500           32           32.0        7        5      174\n",
      "0.812500 0.781250           64           64.0        7        6      125\n",
      "0.695312 0.578125          128          128.0        5        1      143\n",
      "0.621094 0.546875          256          256.0        2        3      110\n",
      "0.554688 0.488281          512          512.0        5        5      117\n",
      "0.464844 0.375000         1024         1024.0        2        2      482\n",
      "0.392578 0.320312         2048         2048.0        2        2       35\n",
      "0.331299 0.270020         4096         4096.0        5        5     1623\n",
      "0.285767 0.240234         8192         8192.0        6        6      153\n",
      "0.252258 0.218750        16384        16384.0        2        2      365\n",
      "0.219330 0.186401        32768        32768.0        2        2       58\n",
      "0.197342 0.175354        65536        65536.0        1        1      180\n",
      "0.181763 0.166183       131072       131072.0        9        9      190\n",
      "0.167713 0.153664       262144       262144.0        1        1      358\n",
      "0.159019 0.150326       524288       524288.0        2        5       75\n",
      "0.152725 0.146431      1048576      1048576.0        5        5       82\n",
      "0.146525 0.140325      2097152      2097152.0        2        2      145\n",
      "\n",
      "finished run\n",
      "number of examples = 2182528\n",
      "weighted example sum = 2182528.000000\n",
      "weighted label sum = 0.000000\n",
      "average loss = 0.146262\n",
      "total feature number = 438495871\n",
      "CPU times: user 516 ms, sys: 340 ms, total: 857 ms\n",
      "Wall time: 31.2 s\n"
     ]
    }
   ],
   "source": [
    "%%time\n",
    "!vw --oaa 10 -d $PATH_TO_DATA/stackoverflow_train.vw -f $PATH_TO_DATA/model.vw"
   ]
  },
  {
   "cell_type": "markdown",
   "metadata": {},
   "source": [
    "prediction for the validation set"
   ]
  },
  {
   "cell_type": "code",
   "execution_count": 24,
   "metadata": {},
   "outputs": [
    {
     "name": "stdout",
     "output_type": "stream",
     "text": [
      "predictions = ../../data/stackoverflow/valid_pred.txt\n",
      "Num weight bits = 18\n",
      "learning rate = 0.5\n",
      "initial_t = 0\n",
      "power_t = 0.5\n",
      "using no cache\n",
      "Reading datafile = ../../data/stackoverflow/stackoverflow_valid.vw\n",
      "num sources = 1\n",
      "average  since         example        example  current  current  current\n",
      "loss     last          counter         weight    label  predict features\n",
      "0.000000 0.000000            1            1.0        2        2       87\n",
      "0.000000 0.000000            2            2.0        7        7      114\n",
      "0.000000 0.000000            4            4.0        7        7       61\n",
      "0.250000 0.500000            8            8.0        1        3      383\n",
      "0.187500 0.125000           16           16.0        7        7      132\n",
      "0.281250 0.375000           32           32.0        6        6      288\n",
      "0.171875 0.062500           64           64.0        7        7      514\n",
      "0.148438 0.125000          128          128.0        6        6       55\n",
      "0.183594 0.218750          256          256.0        2        2      116\n",
      "0.183594 0.183594          512          512.0        3        3      109\n",
      "0.162109 0.140625         1024         1024.0        1        1       58\n",
      "0.166016 0.169922         2048         2048.0        6        6      601\n",
      "0.172607 0.179199         4096         4096.0        7        2       18\n",
      "0.169434 0.166260         8192         8192.0        5        5       89\n",
      "0.169861 0.170288        16384        16384.0        7        7      161\n",
      "0.167664 0.165466        32768        32768.0        2        2      153\n",
      "0.162079 0.156494        65536        65536.0        1        1      507\n",
      "0.158737 0.155396       131072       131072.0        5        5       71\n",
      "0.155769 0.152802       262144       262144.0        5        5      376\n",
      "0.151136 0.146503       524288       524288.0        1        1       63\n",
      "0.147882 0.144629      1048576      1048576.0        5        5      222\n",
      "\n",
      "finished run\n",
      "number of examples = 1091264\n",
      "weighted example sum = 1091264.000000\n",
      "weighted label sum = 0.000000\n",
      "average loss = 0.147569\n",
      "total feature number = 219085866\n",
      "CPU times: user 3.41 s, sys: 1.96 s, total: 5.37 s\n",
      "Wall time: 3min 39s\n"
     ]
    }
   ],
   "source": [
    "%%time\n",
    "!vw -i $PATH_TO_DATA/model.vw \\\n",
    "    -d $PATH_TO_DATA/stackoverflow_valid.vw \\\n",
    "    -p $PATH_TO_DATA/valid_pred.txt"
   ]
  },
  {
   "cell_type": "code",
   "execution_count": 25,
   "metadata": {},
   "outputs": [
    {
     "name": "stdout",
     "output_type": "stream",
     "text": [
      "2\r\n",
      "7\r\n",
      "7\r\n",
      "7\r\n",
      "6\r\n",
      "2\r\n",
      "5\r\n",
      "3\r\n",
      "3\r\n",
      "3\r\n"
     ]
    }
   ],
   "source": [
    "!head $PATH_TO_DATA/valid_pred.txt"
   ]
  },
  {
   "cell_type": "code",
   "execution_count": 32,
   "metadata": {},
   "outputs": [
    {
     "name": "stdout",
     "output_type": "stream",
     "text": [
      "CPU times: user 3.25 s, sys: 1.43 s, total: 4.68 s\n",
      "Wall time: 26.1 s\n"
     ]
    }
   ],
   "source": [
    "%%time\n",
    "valid_labels = []\n",
    "with open(f'{PATH_TO_DATA}/stackoverflow_valid.vw') as file:\n",
    "    for line in file:\n",
    "#         print(file.readline()[0])\n",
    "        valid_labels.append(line[0])"
   ]
  },
  {
   "cell_type": "code",
   "execution_count": 33,
   "metadata": {},
   "outputs": [
    {
     "data": {
      "text/plain": [
       "1091264"
      ]
     },
     "execution_count": 33,
     "metadata": {},
     "output_type": "execute_result"
    }
   ],
   "source": [
    "len(valid_labels)"
   ]
  },
  {
   "cell_type": "code",
   "execution_count": 34,
   "metadata": {},
   "outputs": [
    {
     "name": "stdout",
     "output_type": "stream",
     "text": [
      "CPU times: user 257 ms, sys: 0 ns, total: 257 ms\n",
      "Wall time: 327 ms\n"
     ]
    }
   ],
   "source": [
    "%%time\n",
    "with open(f'{PATH_TO_DATA}/stackoverflow_valid_labels.txt', 'w') as writer:\n",
    "    writer.writelines('\\n'.join(valid_labels))"
   ]
  },
  {
   "cell_type": "code",
   "execution_count": 35,
   "metadata": {},
   "outputs": [
    {
     "name": "stdout",
     "output_type": "stream",
     "text": [
      "../../data/stackoverflow/stackoverflow_valid_labels.txt\r\n",
      "../../data/stackoverflow/valid_pred.txt\r\n"
     ]
    }
   ],
   "source": [
    "!ls $PATH_TO_DATA/*.txt"
   ]
  },
  {
   "cell_type": "code",
   "execution_count": 36,
   "metadata": {},
   "outputs": [],
   "source": [
    "import numpy as np\n",
    "from sklearn.metrics import accuracy_score, confusion_matrix"
   ]
  },
  {
   "cell_type": "code",
   "execution_count": 37,
   "metadata": {},
   "outputs": [
    {
     "name": "stdout",
     "output_type": "stream",
     "text": [
      "CPU times: user 7.64 s, sys: 0 ns, total: 7.64 s\n",
      "Wall time: 7.83 s\n"
     ]
    }
   ],
   "source": [
    "%%time\n",
    "y_valid = np.loadtxt(PATH_TO_DATA + '/stackoverflow_valid_labels.txt')\n",
    "valid_pred = np.loadtxt(PATH_TO_DATA + '/valid_pred.txt')"
   ]
  },
  {
   "cell_type": "code",
   "execution_count": 22,
   "metadata": {},
   "outputs": [
    {
     "data": {
      "text/plain": [
       "0.8722643471666608"
      ]
     },
     "execution_count": 22,
     "metadata": {},
     "output_type": "execute_result"
    }
   ],
   "source": [
    "# example\n",
    "accuracy_score(y_valid, valid_pred)"
   ]
  },
  {
   "cell_type": "code",
   "execution_count": 38,
   "metadata": {},
   "outputs": [
    {
     "data": {
      "text/plain": [
       "0.8480321901941235"
      ]
     },
     "execution_count": 38,
     "metadata": {},
     "output_type": "execute_result"
    }
   ],
   "source": [
    "accuracy_score(y_valid, valid_pred)"
   ]
  },
  {
   "cell_type": "code",
   "execution_count": 39,
   "metadata": {},
   "outputs": [
    {
     "data": {
      "text/plain": [
       "array([     0, 245277, 224670, 128734,  15307, 180878,  88584, 196789,\n",
       "         1948,   9077])"
      ]
     },
     "execution_count": 39,
     "metadata": {},
     "output_type": "execute_result"
    }
   ],
   "source": [
    "np.bincount(y_valid.astype('int'))"
   ]
  },
  {
   "cell_type": "code",
   "execution_count": 40,
   "metadata": {},
   "outputs": [],
   "source": [
    "from matplotlib import pyplot as plt \n",
    "import itertools \n",
    "%config InlineBackend.figure_format = 'retina'\n",
    "\n",
    "def plot_confusion_matrix(actual, predicted, classes,\n",
    "                          normalize=False,\n",
    "                          title='Confusion matrix', figsize=(7,7),\n",
    "                          cmap=plt.cm.Blues, path_to_save_fig=None):\n",
    "    \"\"\"\n",
    "    This function prints and plots the confusion matrix.\n",
    "    Normalization can be applied by setting `normalize=True`.\n",
    "    \"\"\"\n",
    "    \n",
    "    \n",
    "    cm = confusion_matrix(actual, predicted).T\n",
    "    if normalize:\n",
    "        cm = cm.astype('float') / cm.sum(axis=1)[:, np.newaxis]\n",
    "    \n",
    "    plt.figure(figsize=figsize)\n",
    "    plt.imshow(cm, interpolation='nearest', cmap=cmap)\n",
    "    plt.title(title)\n",
    "    tick_marks = np.arange(len(classes))\n",
    "    plt.xticks(tick_marks, classes, rotation=90)\n",
    "    plt.yticks(tick_marks, classes)\n",
    "\n",
    "    fmt = '.2f' if normalize else 'd'\n",
    "    thresh = cm.max() / 2.\n",
    "    for i, j in itertools.product(range(cm.shape[0]), range(cm.shape[1])):\n",
    "        plt.text(j, i, format(cm[i, j], fmt),\n",
    "                 horizontalalignment=\"center\",\n",
    "                 color=\"white\" if cm[i, j] > thresh else \"black\")\n",
    "\n",
    "    plt.tight_layout()\n",
    "    plt.ylabel('Predicted label')\n",
    "    plt.xlabel('True label')\n",
    "    \n",
    "    if path_to_save_fig:\n",
    "        plt.savefig(path_to_save_fig, dpi=300, bbox_inches='tight')"
   ]
  },
  {
   "cell_type": "code",
   "execution_count": 41,
   "metadata": {},
   "outputs": [
    {
     "data": {
      "image/png": "[encoded data removed]",
      "text/plain": [
       "<Figure size 504x504 with 1 Axes>"
      ]
     },
     "metadata": {
      "image/png": {
       "height": 509,
       "width": 496
      },
      "needs_background": "light"
     },
     "output_type": "display_data"
    }
   ],
   "source": [
    "plot_confusion_matrix(actual=y_valid,\n",
    "                     predicted=valid_pred,\n",
    "                     classes=classes)"
   ]
  },
  {
   "cell_type": "markdown",
   "metadata": {},
   "source": [
    "adding ngrams, increase hash space dim (#bits)"
   ]
  },
  {
   "cell_type": "code",
   "execution_count": 42,
   "metadata": {},
   "outputs": [
    {
     "data": {
      "text/plain": [
       "67108864"
      ]
     },
     "execution_count": 42,
     "metadata": {},
     "output_type": "execute_result"
    }
   ],
   "source": [
    "2 ** 26"
   ]
  },
  {
   "cell_type": "code",
   "execution_count": 43,
   "metadata": {},
   "outputs": [
    {
     "name": "stdout",
     "output_type": "stream",
     "text": [
      "Generating 2-grams for all namespaces.\n",
      "final_regressor = ../../data/stackoverflow/model2.vw\n",
      "Num weight bits = 22\n",
      "learning rate = 0.5\n",
      "initial_t = 0\n",
      "power_t = 0.5\n",
      "using no cache\n",
      "Reading datafile = ../../data/stackoverflow/stackoverflow_train.vw\n",
      "num sources = 1\n",
      "average  since         example        example  current  current  current\n",
      "loss     last          counter         weight    label  predict features\n",
      "0.000000 0.000000            1            1.0        1        1      320\n",
      "0.500000 1.000000            2            2.0        4        1      134\n",
      "0.750000 1.000000            4            4.0        7        1      174\n",
      "0.750000 0.750000            8            8.0        7        1      188\n",
      "0.750000 0.750000           16           16.0        7        7      416\n",
      "0.781250 0.812500           32           32.0        7        2      346\n",
      "0.734375 0.687500           64           64.0        7        6      248\n",
      "0.632812 0.531250          128          128.0        5        1      284\n",
      "0.582031 0.531250          256          256.0        2        3      218\n",
      "0.511719 0.441406          512          512.0        5        5      232\n",
      "0.418945 0.326172         1024         1024.0        2        2      962\n",
      "0.355469 0.291992         2048         2048.0        2        2       68\n",
      "0.303955 0.252441         4096         4096.0        5        5     3244\n",
      "0.258667 0.213379         8192         8192.0        6        6      304\n",
      "0.222900 0.187134        16384        16384.0        2        2      728\n",
      "0.191498 0.160095        32768        32768.0        2        2      114\n",
      "0.167542 0.143585        65536        65536.0        1        1      358\n",
      "0.148880 0.130219       131072       131072.0        9        9      378\n",
      "0.133701 0.118523       262144       262144.0        1        1      714\n",
      "0.123671 0.113640       524288       524288.0        2        2      148\n",
      "0.115517 0.107363      1048576      1048576.0        5        5      162\n",
      "0.108425 0.101333      2097152      2097152.0        2        2      288\n",
      "\n",
      "finished run\n",
      "number of examples = 2182528\n",
      "weighted example sum = 2182528.000000\n",
      "weighted label sum = 0.000000\n",
      "average loss = 0.108163\n",
      "total feature number = 872626688\n",
      "CPU times: user 1.65 s, sys: 877 ms, total: 2.52 s\n",
      "Wall time: 1min 25s\n"
     ]
    }
   ],
   "source": [
    "%%time\n",
    "!vw --oaa 10 -b 22 -d $PATH_TO_DATA/stackoverflow_train.vw \\\n",
    "    -f $PATH_TO_DATA/model2.vw --ngram 2 # --random_seed 17 --quiet -passes"
   ]
  },
  {
   "cell_type": "code",
   "execution_count": 44,
   "metadata": {
    "scrolled": false
   },
   "outputs": [
    {
     "name": "stdout",
     "output_type": "stream",
     "text": [
      "Generating 2-grams for all namespaces.\n",
      "predictions = ../../data/stackoverflow/valid_pred2.txt\n",
      "Num weight bits = 22\n",
      "learning rate = 0.5\n",
      "initial_t = 0\n",
      "power_t = 0.5\n",
      "using no cache\n",
      "Reading datafile = ../../data/stackoverflow/stackoverflow_valid.vw\n",
      "num sources = 1\n",
      "average  since         example        example  current  current  current\n",
      "loss     last          counter         weight    label  predict features\n",
      "0.000000 0.000000            1            1.0        2        2      172\n",
      "0.000000 0.000000            2            2.0        7        7      226\n",
      "0.000000 0.000000            4            4.0        7        7      120\n",
      "0.250000 0.500000            8            8.0        1        3      764\n",
      "0.187500 0.125000           16           16.0        7        7      262\n",
      "0.218750 0.250000           32           32.0        6        6      574\n",
      "0.140625 0.062500           64           64.0        7        7     1026\n",
      "0.109375 0.078125          128          128.0        6        6      108\n",
      "0.136719 0.164062          256          256.0        2        2      230\n",
      "0.117188 0.097656          512          512.0        3        3      216\n",
      "0.102539 0.087891         1024         1024.0        1        1      114\n",
      "0.104980 0.107422         2048         2048.0        6        6     1200\n",
      "0.107422 0.109863         4096         4096.0        7        2       34\n",
      "0.110596 0.113770         8192         8192.0        5        5      176\n",
      "0.110107 0.109619        16384        16384.0        7        7      320\n",
      "0.109344 0.108582        32768        32768.0        2        2      304\n",
      "0.109726 0.110107        65536        65536.0        1        1     1012\n",
      "0.109734 0.109741       131072       131072.0        5        5      140\n",
      "0.107903 0.106071       262144       262144.0        5        5      750\n",
      "0.105547 0.103191       524288       524288.0        1        1      124\n",
      "0.104023 0.102499      1048576      1048576.0        5        5      442\n",
      "\n",
      "finished run\n",
      "number of examples = 1091264\n",
      "weighted example sum = 1091264.000000\n",
      "weighted label sum = 0.000000\n",
      "average loss = 0.103797\n",
      "total feature number = 435989205\n",
      "CPU times: user 4.89 s, sys: 2.65 s, total: 7.54 s\n",
      "Wall time: 4min 13s\n"
     ]
    }
   ],
   "source": [
    "%%time\n",
    "!vw -i $PATH_TO_DATA/model2.vw \\\n",
    "    -d $PATH_TO_DATA/stackoverflow_valid.vw \\\n",
    "    -p $PATH_TO_DATA/valid_pred2.txt"
   ]
  },
  {
   "cell_type": "code",
   "execution_count": 45,
   "metadata": {},
   "outputs": [
    {
     "name": "stdout",
     "output_type": "stream",
     "text": [
      "CPU times: user 3.91 s, sys: 0 ns, total: 3.91 s\n",
      "Wall time: 4 s\n"
     ]
    }
   ],
   "source": [
    "%%time\n",
    "valid_pred2 = np.loadtxt(PATH_TO_DATA + '/valid_pred2.txt')"
   ]
  },
  {
   "cell_type": "code",
   "execution_count": 46,
   "metadata": {},
   "outputs": [
    {
     "data": {
      "text/plain": [
       "0.891086849744883"
      ]
     },
     "execution_count": 46,
     "metadata": {},
     "output_type": "execute_result"
    }
   ],
   "source": [
    "accuracy_score(y_valid, valid_pred2)"
   ]
  },
  {
   "cell_type": "markdown",
   "metadata": {},
   "source": [
    "## Python wrapper"
   ]
  },
  {
   "cell_type": "markdown",
   "metadata": {},
   "source": [
    "### Docker"
   ]
  },
  {
   "cell_type": "code",
   "execution_count": 5,
   "metadata": {},
   "outputs": [],
   "source": [
    "#!sh run_docker_jupyter.sh festline/mlcourse_ai"
   ]
  },
  {
   "cell_type": "code",
   "execution_count": 47,
   "metadata": {},
   "outputs": [
    {
     "name": "stdout",
     "output_type": "stream",
     "text": [
      "8.5.0\r\n"
     ]
    }
   ],
   "source": [
    "!vw --version"
   ]
  },
  {
   "cell_type": "code",
   "execution_count": 48,
   "metadata": {},
   "outputs": [],
   "source": [
    "from vowpalwabbit import pyvw"
   ]
  },
  {
   "cell_type": "code",
   "execution_count": 49,
   "metadata": {},
   "outputs": [],
   "source": [
    "vw_model = pyvw.vw(b=18, oaa=10, quiet=True)"
   ]
  },
  {
   "cell_type": "code",
   "execution_count": 50,
   "metadata": {},
   "outputs": [
    {
     "name": "stdout",
     "output_type": "stream",
     "text": [
      "../../data/stackoverflow/model.vw\r\n",
      "../../data/stackoverflow/model2.vw\r\n",
      "../../data/stackoverflow/stackoverflow.vw\r\n",
      "../../data/stackoverflow/stackoverflow_train.vw\r\n",
      "../../data/stackoverflow/stackoverflow_valid.vw\r\n"
     ]
    }
   ],
   "source": [
    "!ls $PATH_TO_DATA/*.vw"
   ]
  },
  {
   "cell_type": "code",
   "execution_count": 51,
   "metadata": {},
   "outputs": [
    {
     "name": "stdout",
     "output_type": "stream",
     "text": [
      "   3273792 ../../data/stackoverflow/stackoverflow.vw\n",
      "   2182528 ../../data/stackoverflow/stackoverflow_train.vw\n",
      "   1091264 ../../data/stackoverflow/stackoverflow_valid.vw\n",
      "   6547584 total\n"
     ]
    }
   ],
   "source": [
    "!wc -l $PATH_TO_DATA/stack*.vw"
   ]
  },
  {
   "cell_type": "code",
   "execution_count": 53,
   "metadata": {},
   "outputs": [],
   "source": [
    "from tqdm.notebook import tqdm"
   ]
  },
  {
   "cell_type": "code",
   "execution_count": 54,
   "metadata": {},
   "outputs": [
    {
     "data": {
      "application/vnd.jupyter.widget-view+json": {
       "model_id": "212685b1c17e4ea7a7c1e9aeb8c284ab",
       "version_major": 2,
       "version_minor": 0
      },
      "text/plain": [
       "HBox(children=(IntProgress(value=0, max=2182528), HTML(value='')))"
      ]
     },
     "metadata": {},
     "output_type": "display_data"
    },
    {
     "name": "stdout",
     "output_type": "stream",
     "text": [
      "\n",
      "CPU times: user 56.9 s, sys: 2.89 s, total: 59.8 s\n",
      "Wall time: 1min 40s\n"
     ]
    }
   ],
   "source": [
    "%%time\n",
    "with open(PATH_TO_DATA + '/stackoverflow_train.vw') as f:\n",
    "    # '1 | question text'\n",
    "    for line in tqdm(f, total=2182528):\n",
    "        vw_model.learn(line)"
   ]
  },
  {
   "cell_type": "code",
   "execution_count": 56,
   "metadata": {},
   "outputs": [
    {
     "data": {
      "application/vnd.jupyter.widget-view+json": {
       "model_id": "9a8eea13be494a9f944f5a28319bccaa",
       "version_major": 2,
       "version_minor": 0
      },
      "text/plain": [
       "HBox(children=(IntProgress(value=0, max=1091264), HTML(value='')))"
      ]
     },
     "metadata": {},
     "output_type": "display_data"
    },
    {
     "name": "stdout",
     "output_type": "stream",
     "text": [
      "\n",
      "CPU times: user 50.3 s, sys: 1.27 s, total: 51.6 s\n",
      "Wall time: 1min 16s\n"
     ]
    }
   ],
   "source": [
    "%%time\n",
    "valid_predictions = []\n",
    "with open(PATH_TO_DATA + '/stackoverflow_valid.vw') as f:\n",
    "    # '1 | question text'\n",
    "    for line in tqdm(f, total=1091264):\n",
    "        curr_prediction = vw_model.predict(line)\n",
    "        valid_predictions.append(curr_prediction)"
   ]
  },
  {
   "cell_type": "code",
   "execution_count": 57,
   "metadata": {},
   "outputs": [],
   "source": [
    "import numpy as np\n",
    "from sklearn.metrics import accuracy_score"
   ]
  },
  {
   "cell_type": "code",
   "execution_count": 58,
   "metadata": {},
   "outputs": [],
   "source": [
    "y_valid = np.loadtxt(PATH_TO_DATA + '/stackoverflow_valid_labels.txt')"
   ]
  },
  {
   "cell_type": "code",
   "execution_count": 59,
   "metadata": {},
   "outputs": [
    {
     "data": {
      "text/plain": [
       "0.8582387030086212"
      ]
     },
     "execution_count": 59,
     "metadata": {},
     "output_type": "execute_result"
    }
   ],
   "source": [
    "accuracy_score(y_valid, valid_predictions)"
   ]
  },
  {
   "cell_type": "markdown",
   "metadata": {},
   "source": [
    "### Local"
   ]
  },
  {
   "cell_type": "code",
   "execution_count": 1,
   "metadata": {},
   "outputs": [],
   "source": [
    "from vowpalwabbit import pyvw"
   ]
  },
  {
   "cell_type": "code",
   "execution_count": 2,
   "metadata": {},
   "outputs": [],
   "source": [
    "vw_model = pyvw.vw(b=18, oaa=10, quiet=True)"
   ]
  },
  {
   "cell_type": "code",
   "execution_count": 5,
   "metadata": {},
   "outputs": [],
   "source": [
    "from tqdm.notebook import tqdm"
   ]
  },
  {
   "cell_type": "code",
   "execution_count": 8,
   "metadata": {},
   "outputs": [
    {
     "data": {
      "application/vnd.jupyter.widget-view+json": {
       "model_id": "0e992e53bfc44d74b94594f2e3713acf",
       "version_major": 2,
       "version_minor": 0
      },
      "text/plain": [
       "  0%|          | 0/2182528 [00:00<?, ?it/s]"
      ]
     },
     "metadata": {},
     "output_type": "display_data"
    },
    {
     "name": "stdout",
     "output_type": "stream",
     "text": [
      "Wall time: 1min 13s\n"
     ]
    }
   ],
   "source": [
    "%%time\n",
    "with open(PATH_TO_DATA + '/stackoverflow_train.vw') as f:\n",
    "    # '1 | question text'\n",
    "    for line in tqdm(f, total=2182528):\n",
    "        vw_model.learn(line)"
   ]
  },
  {
   "cell_type": "code",
   "execution_count": 9,
   "metadata": {},
   "outputs": [
    {
     "data": {
      "application/vnd.jupyter.widget-view+json": {
       "model_id": "e01e52a7bb364a98bea6fe3e87dcca83",
       "version_major": 2,
       "version_minor": 0
      },
      "text/plain": [
       "  0%|          | 0/1091264 [00:00<?, ?it/s]"
      ]
     },
     "metadata": {},
     "output_type": "display_data"
    },
    {
     "name": "stdout",
     "output_type": "stream",
     "text": [
      "Wall time: 41 s\n"
     ]
    }
   ],
   "source": [
    "%%time\n",
    "valid_predictions = []\n",
    "with open(PATH_TO_DATA + '/stackoverflow_valid.vw') as f:\n",
    "    # '1 | question text'\n",
    "    for line in tqdm(f, total=1091264):\n",
    "        curr_prediction = vw_model.predict(line)\n",
    "        valid_predictions.append(curr_prediction)"
   ]
  },
  {
   "cell_type": "code",
   "execution_count": 10,
   "metadata": {},
   "outputs": [],
   "source": [
    "import numpy as np\n",
    "from sklearn.metrics import accuracy_score"
   ]
  },
  {
   "cell_type": "code",
   "execution_count": 11,
   "metadata": {},
   "outputs": [],
   "source": [
    "y_valid = np.loadtxt(PATH_TO_DATA + '/stackoverflow_valid_labels.txt')"
   ]
  },
  {
   "cell_type": "code",
   "execution_count": 12,
   "metadata": {},
   "outputs": [
    {
     "data": {
      "text/plain": [
       "0.8582872705413173"
      ]
     },
     "execution_count": 12,
     "metadata": {},
     "output_type": "execute_result"
    }
   ],
   "source": [
    "accuracy_score(y_valid, valid_predictions)"
   ]
  }
 ],
 "metadata": {
  "kernelspec": {
   "display_name": "Python 3",
   "language": "python",
   "name": "python3"
  },
  "language_info": {
   "codemirror_mode": {
    "name": "ipython",
    "version": 3
   },
   "file_extension": ".py",
   "mimetype": "text/x-python",
   "name": "python",
   "nbconvert_exporter": "python",
   "pygments_lexer": "ipython3",
   "version": "3.6.6"
  }
 },
 "nbformat": 4,
 "nbformat_minor": 2
}
