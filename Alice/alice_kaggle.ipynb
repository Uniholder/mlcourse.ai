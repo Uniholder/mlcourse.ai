{
 "cells": [
  {
   "cell_type": "markdown",
   "id": "explicit-request",
   "metadata": {},
   "source": [
    "### Notes"
   ]
  },
  {
   "cell_type": "code",
   "execution_count": 68,
   "id": "certain-contrast",
   "metadata": {
    "scrolled": true
   },
   "outputs": [],
   "source": [
    "# X_train.todense() # MemoryError: Unable to allocate 78.6 GiB for an array with shape (253561, 41592) and data type int64"
   ]
  },
  {
   "cell_type": "markdown",
   "id": "formed-model",
   "metadata": {},
   "source": [
    "### Task"
   ]
  },
  {
   "cell_type": "code",
   "execution_count": 83,
   "id": "burning-implementation",
   "metadata": {},
   "outputs": [],
   "source": [
    "# import libraries\n",
    "import pandas as pd\n",
    "import numpy as np\n",
    "from sklearn.feature_extraction.text import CountVectorizer\n",
    "from sklearn.linear_model import LogisticRegression\n",
    "from sklearn.model_selection import cross_val_score, train_test_split, cross_validate\n",
    "from sklearn.metrics import accuracy_score, roc_auc_score\n",
    "from scipy.sparse import hstack\n",
    "import pickle"
   ]
  },
  {
   "cell_type": "code",
   "execution_count": 42,
   "id": "round-freight",
   "metadata": {},
   "outputs": [],
   "source": [
    "import warnings\n",
    "warnings.filterwarnings('ignore')"
   ]
  },
  {
   "cell_type": "code",
   "execution_count": 43,
   "id": "precise-fitness",
   "metadata": {},
   "outputs": [],
   "source": [
    "%alias head powershell -command \"& {Get-Content %s -Head 10}\""
   ]
  },
  {
   "cell_type": "code",
   "execution_count": 44,
   "id": "imported-banner",
   "metadata": {},
   "outputs": [],
   "source": [
    "# helper function for writing predictions\n",
    "def write_to_submission_file(predicted_labels, out_file, target='target', index_label='session_id'):\n",
    "    predicted_df = pd.DataFrame(predicted_labels, index=np.arange(1, predicted_labels.shape[0] + 1), columns=[target])\n",
    "    predicted_df.to_csv(out_file, index_label=index_label)"
   ]
  },
  {
   "cell_type": "markdown",
   "id": "searching-direction",
   "metadata": {},
   "source": [
    "**Read training and test sets, sort set train set by session start time**"
   ]
  },
  {
   "cell_type": "code",
   "execution_count": 107,
   "id": "suitable-curtis",
   "metadata": {
    "scrolled": true
   },
   "outputs": [],
   "source": [
    "train_df = pd.read_csv('./data/train_sessions.csv')\n",
    "test_df = pd.read_csv('./data/test_sessions.csv')\n",
    "\n",
    "# Convert time1, ...,time10 to columns to datetime type\n",
    "times = [f'time{s}' for s in range(1, 11)]\n",
    "train_df[times] = train_df[times].apply(pd.to_datetime)\n",
    "test_df[times] = test_df[times].apply(pd.to_datetime)\n",
    "\n",
    "# Sort the data by time\n",
    "train_df = train_df.sort_values(by='time1')\n",
    "\n",
    "# Extract labels\n",
    "y_train = train_df.target.astype('int')"
   ]
  },
  {
   "cell_type": "code",
   "execution_count": 108,
   "id": "electoral-bridal",
   "metadata": {},
   "outputs": [
    {
     "data": {
      "text/plain": [
       "0    251264\n",
       "1      2297\n",
       "Name: target, dtype: int64"
      ]
     },
     "execution_count": 108,
     "metadata": {},
     "output_type": "execute_result"
    }
   ],
   "source": [
    "y_train.value_counts()"
   ]
  },
  {
   "cell_type": "code",
   "execution_count": 109,
   "id": "trying-rally",
   "metadata": {},
   "outputs": [
    {
     "data": {
      "text/html": [
       "<div>\n",
       "<style scoped>\n",
       "    .dataframe tbody tr th:only-of-type {\n",
       "        vertical-align: middle;\n",
       "    }\n",
       "\n",
       "    .dataframe tbody tr th {\n",
       "        vertical-align: top;\n",
       "    }\n",
       "\n",
       "    .dataframe thead th {\n",
       "        text-align: right;\n",
       "    }\n",
       "</style>\n",
       "<table border=\"1\" class=\"dataframe\">\n",
       "  <thead>\n",
       "    <tr style=\"text-align: right;\">\n",
       "      <th></th>\n",
       "      <th>session_id</th>\n",
       "      <th>site1</th>\n",
       "      <th>time1</th>\n",
       "      <th>site2</th>\n",
       "      <th>time2</th>\n",
       "      <th>site3</th>\n",
       "      <th>time3</th>\n",
       "      <th>site4</th>\n",
       "      <th>time4</th>\n",
       "      <th>site5</th>\n",
       "      <th>...</th>\n",
       "      <th>time6</th>\n",
       "      <th>site7</th>\n",
       "      <th>time7</th>\n",
       "      <th>site8</th>\n",
       "      <th>time8</th>\n",
       "      <th>site9</th>\n",
       "      <th>time9</th>\n",
       "      <th>site10</th>\n",
       "      <th>time10</th>\n",
       "      <th>target</th>\n",
       "    </tr>\n",
       "  </thead>\n",
       "  <tbody>\n",
       "    <tr>\n",
       "      <th>21668</th>\n",
       "      <td>21669</td>\n",
       "      <td>56</td>\n",
       "      <td>2013-01-12 08:05:57</td>\n",
       "      <td>55.0</td>\n",
       "      <td>2013-01-12 08:05:57</td>\n",
       "      <td>NaN</td>\n",
       "      <td>NaT</td>\n",
       "      <td>NaN</td>\n",
       "      <td>NaT</td>\n",
       "      <td>NaN</td>\n",
       "      <td>...</td>\n",
       "      <td>NaT</td>\n",
       "      <td>NaN</td>\n",
       "      <td>NaT</td>\n",
       "      <td>NaN</td>\n",
       "      <td>NaT</td>\n",
       "      <td>NaN</td>\n",
       "      <td>NaT</td>\n",
       "      <td>NaN</td>\n",
       "      <td>NaT</td>\n",
       "      <td>0</td>\n",
       "    </tr>\n",
       "    <tr>\n",
       "      <th>54842</th>\n",
       "      <td>54843</td>\n",
       "      <td>56</td>\n",
       "      <td>2013-01-12 08:37:23</td>\n",
       "      <td>55.0</td>\n",
       "      <td>2013-01-12 08:37:23</td>\n",
       "      <td>56.0</td>\n",
       "      <td>2013-01-12 09:07:07</td>\n",
       "      <td>55.0</td>\n",
       "      <td>2013-01-12 09:07:09</td>\n",
       "      <td>NaN</td>\n",
       "      <td>...</td>\n",
       "      <td>NaT</td>\n",
       "      <td>NaN</td>\n",
       "      <td>NaT</td>\n",
       "      <td>NaN</td>\n",
       "      <td>NaT</td>\n",
       "      <td>NaN</td>\n",
       "      <td>NaT</td>\n",
       "      <td>NaN</td>\n",
       "      <td>NaT</td>\n",
       "      <td>0</td>\n",
       "    </tr>\n",
       "    <tr>\n",
       "      <th>77291</th>\n",
       "      <td>77292</td>\n",
       "      <td>946</td>\n",
       "      <td>2013-01-12 08:50:13</td>\n",
       "      <td>946.0</td>\n",
       "      <td>2013-01-12 08:50:14</td>\n",
       "      <td>951.0</td>\n",
       "      <td>2013-01-12 08:50:15</td>\n",
       "      <td>946.0</td>\n",
       "      <td>2013-01-12 08:50:15</td>\n",
       "      <td>946.0</td>\n",
       "      <td>...</td>\n",
       "      <td>2013-01-12 08:50:16</td>\n",
       "      <td>948.0</td>\n",
       "      <td>2013-01-12 08:50:16</td>\n",
       "      <td>784.0</td>\n",
       "      <td>2013-01-12 08:50:16</td>\n",
       "      <td>949.0</td>\n",
       "      <td>2013-01-12 08:50:17</td>\n",
       "      <td>946.0</td>\n",
       "      <td>2013-01-12 08:50:17</td>\n",
       "      <td>0</td>\n",
       "    </tr>\n",
       "    <tr>\n",
       "      <th>114020</th>\n",
       "      <td>114021</td>\n",
       "      <td>945</td>\n",
       "      <td>2013-01-12 08:50:17</td>\n",
       "      <td>948.0</td>\n",
       "      <td>2013-01-12 08:50:17</td>\n",
       "      <td>949.0</td>\n",
       "      <td>2013-01-12 08:50:18</td>\n",
       "      <td>948.0</td>\n",
       "      <td>2013-01-12 08:50:18</td>\n",
       "      <td>945.0</td>\n",
       "      <td>...</td>\n",
       "      <td>2013-01-12 08:50:18</td>\n",
       "      <td>947.0</td>\n",
       "      <td>2013-01-12 08:50:19</td>\n",
       "      <td>945.0</td>\n",
       "      <td>2013-01-12 08:50:19</td>\n",
       "      <td>946.0</td>\n",
       "      <td>2013-01-12 08:50:19</td>\n",
       "      <td>946.0</td>\n",
       "      <td>2013-01-12 08:50:20</td>\n",
       "      <td>0</td>\n",
       "    </tr>\n",
       "    <tr>\n",
       "      <th>146669</th>\n",
       "      <td>146670</td>\n",
       "      <td>947</td>\n",
       "      <td>2013-01-12 08:50:20</td>\n",
       "      <td>950.0</td>\n",
       "      <td>2013-01-12 08:50:20</td>\n",
       "      <td>948.0</td>\n",
       "      <td>2013-01-12 08:50:20</td>\n",
       "      <td>947.0</td>\n",
       "      <td>2013-01-12 08:50:21</td>\n",
       "      <td>950.0</td>\n",
       "      <td>...</td>\n",
       "      <td>2013-01-12 08:50:21</td>\n",
       "      <td>946.0</td>\n",
       "      <td>2013-01-12 08:50:21</td>\n",
       "      <td>951.0</td>\n",
       "      <td>2013-01-12 08:50:22</td>\n",
       "      <td>946.0</td>\n",
       "      <td>2013-01-12 08:50:22</td>\n",
       "      <td>947.0</td>\n",
       "      <td>2013-01-12 08:50:22</td>\n",
       "      <td>0</td>\n",
       "    </tr>\n",
       "    <tr>\n",
       "      <th>...</th>\n",
       "      <td>...</td>\n",
       "      <td>...</td>\n",
       "      <td>...</td>\n",
       "      <td>...</td>\n",
       "      <td>...</td>\n",
       "      <td>...</td>\n",
       "      <td>...</td>\n",
       "      <td>...</td>\n",
       "      <td>...</td>\n",
       "      <td>...</td>\n",
       "      <td>...</td>\n",
       "      <td>...</td>\n",
       "      <td>...</td>\n",
       "      <td>...</td>\n",
       "      <td>...</td>\n",
       "      <td>...</td>\n",
       "      <td>...</td>\n",
       "      <td>...</td>\n",
       "      <td>...</td>\n",
       "      <td>...</td>\n",
       "      <td>...</td>\n",
       "    </tr>\n",
       "    <tr>\n",
       "      <th>12223</th>\n",
       "      <td>12224</td>\n",
       "      <td>50</td>\n",
       "      <td>2014-04-30 23:33:48</td>\n",
       "      <td>50.0</td>\n",
       "      <td>2014-04-30 23:33:49</td>\n",
       "      <td>48.0</td>\n",
       "      <td>2014-04-30 23:33:52</td>\n",
       "      <td>49.0</td>\n",
       "      <td>2014-04-30 23:33:52</td>\n",
       "      <td>48.0</td>\n",
       "      <td>...</td>\n",
       "      <td>2014-04-30 23:33:53</td>\n",
       "      <td>52.0</td>\n",
       "      <td>2014-04-30 23:33:54</td>\n",
       "      <td>49.0</td>\n",
       "      <td>2014-04-30 23:33:54</td>\n",
       "      <td>303.0</td>\n",
       "      <td>2014-04-30 23:33:57</td>\n",
       "      <td>304.0</td>\n",
       "      <td>2014-04-30 23:34:00</td>\n",
       "      <td>0</td>\n",
       "    </tr>\n",
       "    <tr>\n",
       "      <th>164437</th>\n",
       "      <td>164438</td>\n",
       "      <td>4207</td>\n",
       "      <td>2014-04-30 23:34:15</td>\n",
       "      <td>753.0</td>\n",
       "      <td>2014-04-30 23:34:16</td>\n",
       "      <td>753.0</td>\n",
       "      <td>2014-04-30 23:34:17</td>\n",
       "      <td>52.0</td>\n",
       "      <td>2014-04-30 23:34:18</td>\n",
       "      <td>50.0</td>\n",
       "      <td>...</td>\n",
       "      <td>2014-04-30 23:35:16</td>\n",
       "      <td>3346.0</td>\n",
       "      <td>2014-04-30 23:35:29</td>\n",
       "      <td>3359.0</td>\n",
       "      <td>2014-04-30 23:36:12</td>\n",
       "      <td>3346.0</td>\n",
       "      <td>2014-04-30 23:36:42</td>\n",
       "      <td>38.0</td>\n",
       "      <td>2014-04-30 23:37:13</td>\n",
       "      <td>0</td>\n",
       "    </tr>\n",
       "    <tr>\n",
       "      <th>12220</th>\n",
       "      <td>12221</td>\n",
       "      <td>52</td>\n",
       "      <td>2014-04-30 23:38:08</td>\n",
       "      <td>3346.0</td>\n",
       "      <td>2014-04-30 23:38:10</td>\n",
       "      <td>784.0</td>\n",
       "      <td>2014-04-30 23:38:13</td>\n",
       "      <td>784.0</td>\n",
       "      <td>2014-04-30 23:38:18</td>\n",
       "      <td>3346.0</td>\n",
       "      <td>...</td>\n",
       "      <td>2014-04-30 23:38:24</td>\n",
       "      <td>3324.0</td>\n",
       "      <td>2014-04-30 23:38:35</td>\n",
       "      <td>7330.0</td>\n",
       "      <td>2014-04-30 23:38:35</td>\n",
       "      <td>3594.0</td>\n",
       "      <td>2014-04-30 23:38:35</td>\n",
       "      <td>3329.0</td>\n",
       "      <td>2014-04-30 23:38:36</td>\n",
       "      <td>0</td>\n",
       "    </tr>\n",
       "    <tr>\n",
       "      <th>156967</th>\n",
       "      <td>156968</td>\n",
       "      <td>3328</td>\n",
       "      <td>2014-04-30 23:38:36</td>\n",
       "      <td>3324.0</td>\n",
       "      <td>2014-04-30 23:38:36</td>\n",
       "      <td>3599.0</td>\n",
       "      <td>2014-04-30 23:38:38</td>\n",
       "      <td>3413.0</td>\n",
       "      <td>2014-04-30 23:38:38</td>\n",
       "      <td>753.0</td>\n",
       "      <td>...</td>\n",
       "      <td>2014-04-30 23:38:40</td>\n",
       "      <td>3599.0</td>\n",
       "      <td>2014-04-30 23:38:40</td>\n",
       "      <td>3359.0</td>\n",
       "      <td>2014-04-30 23:39:07</td>\n",
       "      <td>3359.0</td>\n",
       "      <td>2014-04-30 23:39:08</td>\n",
       "      <td>3346.0</td>\n",
       "      <td>2014-04-30 23:39:53</td>\n",
       "      <td>0</td>\n",
       "    </tr>\n",
       "    <tr>\n",
       "      <th>204761</th>\n",
       "      <td>204762</td>\n",
       "      <td>222</td>\n",
       "      <td>2014-04-30 23:39:53</td>\n",
       "      <td>3346.0</td>\n",
       "      <td>2014-04-30 23:39:59</td>\n",
       "      <td>3346.0</td>\n",
       "      <td>2014-04-30 23:40:00</td>\n",
       "      <td>3359.0</td>\n",
       "      <td>2014-04-30 23:40:05</td>\n",
       "      <td>55.0</td>\n",
       "      <td>...</td>\n",
       "      <td>2014-04-30 23:40:05</td>\n",
       "      <td>3346.0</td>\n",
       "      <td>2014-04-30 23:40:05</td>\n",
       "      <td>NaN</td>\n",
       "      <td>NaT</td>\n",
       "      <td>NaN</td>\n",
       "      <td>NaT</td>\n",
       "      <td>NaN</td>\n",
       "      <td>NaT</td>\n",
       "      <td>0</td>\n",
       "    </tr>\n",
       "  </tbody>\n",
       "</table>\n",
       "<p>253561 rows × 22 columns</p>\n",
       "</div>"
      ],
      "text/plain": [
       "        session_id  site1               time1   site2               time2  \\\n",
       "21668        21669     56 2013-01-12 08:05:57    55.0 2013-01-12 08:05:57   \n",
       "54842        54843     56 2013-01-12 08:37:23    55.0 2013-01-12 08:37:23   \n",
       "77291        77292    946 2013-01-12 08:50:13   946.0 2013-01-12 08:50:14   \n",
       "114020      114021    945 2013-01-12 08:50:17   948.0 2013-01-12 08:50:17   \n",
       "146669      146670    947 2013-01-12 08:50:20   950.0 2013-01-12 08:50:20   \n",
       "...            ...    ...                 ...     ...                 ...   \n",
       "12223        12224     50 2014-04-30 23:33:48    50.0 2014-04-30 23:33:49   \n",
       "164437      164438   4207 2014-04-30 23:34:15   753.0 2014-04-30 23:34:16   \n",
       "12220        12221     52 2014-04-30 23:38:08  3346.0 2014-04-30 23:38:10   \n",
       "156967      156968   3328 2014-04-30 23:38:36  3324.0 2014-04-30 23:38:36   \n",
       "204761      204762    222 2014-04-30 23:39:53  3346.0 2014-04-30 23:39:59   \n",
       "\n",
       "         site3               time3   site4               time4   site5  ...  \\\n",
       "21668      NaN                 NaT     NaN                 NaT     NaN  ...   \n",
       "54842     56.0 2013-01-12 09:07:07    55.0 2013-01-12 09:07:09     NaN  ...   \n",
       "77291    951.0 2013-01-12 08:50:15   946.0 2013-01-12 08:50:15   946.0  ...   \n",
       "114020   949.0 2013-01-12 08:50:18   948.0 2013-01-12 08:50:18   945.0  ...   \n",
       "146669   948.0 2013-01-12 08:50:20   947.0 2013-01-12 08:50:21   950.0  ...   \n",
       "...        ...                 ...     ...                 ...     ...  ...   \n",
       "12223     48.0 2014-04-30 23:33:52    49.0 2014-04-30 23:33:52    48.0  ...   \n",
       "164437   753.0 2014-04-30 23:34:17    52.0 2014-04-30 23:34:18    50.0  ...   \n",
       "12220    784.0 2014-04-30 23:38:13   784.0 2014-04-30 23:38:18  3346.0  ...   \n",
       "156967  3599.0 2014-04-30 23:38:38  3413.0 2014-04-30 23:38:38   753.0  ...   \n",
       "204761  3346.0 2014-04-30 23:40:00  3359.0 2014-04-30 23:40:05    55.0  ...   \n",
       "\n",
       "                     time6   site7               time7   site8  \\\n",
       "21668                  NaT     NaN                 NaT     NaN   \n",
       "54842                  NaT     NaN                 NaT     NaN   \n",
       "77291  2013-01-12 08:50:16   948.0 2013-01-12 08:50:16   784.0   \n",
       "114020 2013-01-12 08:50:18   947.0 2013-01-12 08:50:19   945.0   \n",
       "146669 2013-01-12 08:50:21   946.0 2013-01-12 08:50:21   951.0   \n",
       "...                    ...     ...                 ...     ...   \n",
       "12223  2014-04-30 23:33:53    52.0 2014-04-30 23:33:54    49.0   \n",
       "164437 2014-04-30 23:35:16  3346.0 2014-04-30 23:35:29  3359.0   \n",
       "12220  2014-04-30 23:38:24  3324.0 2014-04-30 23:38:35  7330.0   \n",
       "156967 2014-04-30 23:38:40  3599.0 2014-04-30 23:38:40  3359.0   \n",
       "204761 2014-04-30 23:40:05  3346.0 2014-04-30 23:40:05     NaN   \n",
       "\n",
       "                     time8   site9               time9  site10  \\\n",
       "21668                  NaT     NaN                 NaT     NaN   \n",
       "54842                  NaT     NaN                 NaT     NaN   \n",
       "77291  2013-01-12 08:50:16   949.0 2013-01-12 08:50:17   946.0   \n",
       "114020 2013-01-12 08:50:19   946.0 2013-01-12 08:50:19   946.0   \n",
       "146669 2013-01-12 08:50:22   946.0 2013-01-12 08:50:22   947.0   \n",
       "...                    ...     ...                 ...     ...   \n",
       "12223  2014-04-30 23:33:54   303.0 2014-04-30 23:33:57   304.0   \n",
       "164437 2014-04-30 23:36:12  3346.0 2014-04-30 23:36:42    38.0   \n",
       "12220  2014-04-30 23:38:35  3594.0 2014-04-30 23:38:35  3329.0   \n",
       "156967 2014-04-30 23:39:07  3359.0 2014-04-30 23:39:08  3346.0   \n",
       "204761                 NaT     NaN                 NaT     NaN   \n",
       "\n",
       "                    time10  target  \n",
       "21668                  NaT       0  \n",
       "54842                  NaT       0  \n",
       "77291  2013-01-12 08:50:17       0  \n",
       "114020 2013-01-12 08:50:20       0  \n",
       "146669 2013-01-12 08:50:22       0  \n",
       "...                    ...     ...  \n",
       "12223  2014-04-30 23:34:00       0  \n",
       "164437 2014-04-30 23:37:13       0  \n",
       "12220  2014-04-30 23:38:36       0  \n",
       "156967 2014-04-30 23:39:53       0  \n",
       "204761                 NaT       0  \n",
       "\n",
       "[253561 rows x 22 columns]"
      ]
     },
     "execution_count": 109,
     "metadata": {},
     "output_type": "execute_result"
    }
   ],
   "source": [
    "# Look at the training set\n",
    "train_df"
   ]
  },
  {
   "cell_type": "code",
   "execution_count": 110,
   "id": "committed-growth",
   "metadata": {},
   "outputs": [
    {
     "name": "stdout",
     "output_type": "stream",
     "text": [
      "<class 'pandas.core.frame.DataFrame'>\n",
      "Int64Index: 253561 entries, 21668 to 204761\n",
      "Data columns (total 22 columns):\n",
      " #   Column      Non-Null Count   Dtype         \n",
      "---  ------      --------------   -----         \n",
      " 0   session_id  253561 non-null  int64         \n",
      " 1   site1       253561 non-null  int64         \n",
      " 2   time1       253561 non-null  datetime64[ns]\n",
      " 3   site2       250098 non-null  float64       \n",
      " 4   time2       250098 non-null  datetime64[ns]\n",
      " 5   site3       246919 non-null  float64       \n",
      " 6   time3       246919 non-null  datetime64[ns]\n",
      " 7   site4       244321 non-null  float64       \n",
      " 8   time4       244321 non-null  datetime64[ns]\n",
      " 9   site5       241829 non-null  float64       \n",
      " 10  time5       241829 non-null  datetime64[ns]\n",
      " 11  site6       239495 non-null  float64       \n",
      " 12  time6       239495 non-null  datetime64[ns]\n",
      " 13  site7       237297 non-null  float64       \n",
      " 14  time7       237297 non-null  datetime64[ns]\n",
      " 15  site8       235224 non-null  float64       \n",
      " 16  time8       235224 non-null  datetime64[ns]\n",
      " 17  site9       233084 non-null  float64       \n",
      " 18  time9       233084 non-null  datetime64[ns]\n",
      " 19  site10      231052 non-null  float64       \n",
      " 20  time10      231052 non-null  datetime64[ns]\n",
      " 21  target      253561 non-null  int64         \n",
      "dtypes: datetime64[ns](10), float64(9), int64(3)\n",
      "memory usage: 44.5 MB\n"
     ]
    }
   ],
   "source": [
    "train_df.info()"
   ]
  },
  {
   "cell_type": "code",
   "execution_count": 111,
   "id": "textile-helen",
   "metadata": {},
   "outputs": [
    {
     "data": {
      "text/html": [
       "<div>\n",
       "<style scoped>\n",
       "    .dataframe tbody tr th:only-of-type {\n",
       "        vertical-align: middle;\n",
       "    }\n",
       "\n",
       "    .dataframe tbody tr th {\n",
       "        vertical-align: top;\n",
       "    }\n",
       "\n",
       "    .dataframe thead th {\n",
       "        text-align: right;\n",
       "    }\n",
       "</style>\n",
       "<table border=\"1\" class=\"dataframe\">\n",
       "  <thead>\n",
       "    <tr style=\"text-align: right;\">\n",
       "      <th></th>\n",
       "      <th>session_id</th>\n",
       "      <th>site1</th>\n",
       "      <th>time1</th>\n",
       "      <th>site2</th>\n",
       "      <th>time2</th>\n",
       "      <th>site3</th>\n",
       "      <th>time3</th>\n",
       "      <th>site4</th>\n",
       "      <th>time4</th>\n",
       "      <th>site5</th>\n",
       "      <th>...</th>\n",
       "      <th>site6</th>\n",
       "      <th>time6</th>\n",
       "      <th>site7</th>\n",
       "      <th>time7</th>\n",
       "      <th>site8</th>\n",
       "      <th>time8</th>\n",
       "      <th>site9</th>\n",
       "      <th>time9</th>\n",
       "      <th>site10</th>\n",
       "      <th>time10</th>\n",
       "    </tr>\n",
       "  </thead>\n",
       "  <tbody>\n",
       "    <tr>\n",
       "      <th>0</th>\n",
       "      <td>1</td>\n",
       "      <td>29</td>\n",
       "      <td>2014-10-04 11:19:53</td>\n",
       "      <td>35.0</td>\n",
       "      <td>2014-10-04 11:19:53</td>\n",
       "      <td>22.0</td>\n",
       "      <td>2014-10-04 11:19:54</td>\n",
       "      <td>321.0</td>\n",
       "      <td>2014-10-04 11:19:54</td>\n",
       "      <td>23.0</td>\n",
       "      <td>...</td>\n",
       "      <td>2211.0</td>\n",
       "      <td>2014-10-04 11:19:54</td>\n",
       "      <td>6730.0</td>\n",
       "      <td>2014-10-04 11:19:54</td>\n",
       "      <td>21.0</td>\n",
       "      <td>2014-10-04 11:19:54</td>\n",
       "      <td>44582.0</td>\n",
       "      <td>2014-10-04 11:20:00</td>\n",
       "      <td>15336.0</td>\n",
       "      <td>2014-10-04 11:20:00</td>\n",
       "    </tr>\n",
       "    <tr>\n",
       "      <th>1</th>\n",
       "      <td>2</td>\n",
       "      <td>782</td>\n",
       "      <td>2014-07-03 11:00:28</td>\n",
       "      <td>782.0</td>\n",
       "      <td>2014-07-03 11:00:53</td>\n",
       "      <td>782.0</td>\n",
       "      <td>2014-07-03 11:00:58</td>\n",
       "      <td>782.0</td>\n",
       "      <td>2014-07-03 11:01:06</td>\n",
       "      <td>782.0</td>\n",
       "      <td>...</td>\n",
       "      <td>782.0</td>\n",
       "      <td>2014-07-03 11:01:10</td>\n",
       "      <td>782.0</td>\n",
       "      <td>2014-07-03 11:01:23</td>\n",
       "      <td>782.0</td>\n",
       "      <td>2014-07-03 11:01:29</td>\n",
       "      <td>782.0</td>\n",
       "      <td>2014-07-03 11:01:30</td>\n",
       "      <td>782.0</td>\n",
       "      <td>2014-07-03 11:01:53</td>\n",
       "    </tr>\n",
       "    <tr>\n",
       "      <th>2</th>\n",
       "      <td>3</td>\n",
       "      <td>55</td>\n",
       "      <td>2014-12-05 15:55:12</td>\n",
       "      <td>55.0</td>\n",
       "      <td>2014-12-05 15:55:13</td>\n",
       "      <td>55.0</td>\n",
       "      <td>2014-12-05 15:55:14</td>\n",
       "      <td>55.0</td>\n",
       "      <td>2014-12-05 15:56:15</td>\n",
       "      <td>55.0</td>\n",
       "      <td>...</td>\n",
       "      <td>55.0</td>\n",
       "      <td>2014-12-05 15:56:17</td>\n",
       "      <td>55.0</td>\n",
       "      <td>2014-12-05 15:56:18</td>\n",
       "      <td>55.0</td>\n",
       "      <td>2014-12-05 15:56:19</td>\n",
       "      <td>1445.0</td>\n",
       "      <td>2014-12-05 15:56:33</td>\n",
       "      <td>1445.0</td>\n",
       "      <td>2014-12-05 15:56:36</td>\n",
       "    </tr>\n",
       "    <tr>\n",
       "      <th>3</th>\n",
       "      <td>4</td>\n",
       "      <td>1023</td>\n",
       "      <td>2014-11-04 10:03:19</td>\n",
       "      <td>1022.0</td>\n",
       "      <td>2014-11-04 10:03:19</td>\n",
       "      <td>50.0</td>\n",
       "      <td>2014-11-04 10:03:20</td>\n",
       "      <td>222.0</td>\n",
       "      <td>2014-11-04 10:03:21</td>\n",
       "      <td>202.0</td>\n",
       "      <td>...</td>\n",
       "      <td>3374.0</td>\n",
       "      <td>2014-11-04 10:03:22</td>\n",
       "      <td>50.0</td>\n",
       "      <td>2014-11-04 10:03:22</td>\n",
       "      <td>48.0</td>\n",
       "      <td>2014-11-04 10:03:22</td>\n",
       "      <td>48.0</td>\n",
       "      <td>2014-11-04 10:03:23</td>\n",
       "      <td>3374.0</td>\n",
       "      <td>2014-11-04 10:03:23</td>\n",
       "    </tr>\n",
       "    <tr>\n",
       "      <th>4</th>\n",
       "      <td>5</td>\n",
       "      <td>301</td>\n",
       "      <td>2014-05-16 15:05:31</td>\n",
       "      <td>301.0</td>\n",
       "      <td>2014-05-16 15:05:32</td>\n",
       "      <td>301.0</td>\n",
       "      <td>2014-05-16 15:05:33</td>\n",
       "      <td>66.0</td>\n",
       "      <td>2014-05-16 15:05:39</td>\n",
       "      <td>67.0</td>\n",
       "      <td>...</td>\n",
       "      <td>69.0</td>\n",
       "      <td>2014-05-16 15:05:40</td>\n",
       "      <td>70.0</td>\n",
       "      <td>2014-05-16 15:05:40</td>\n",
       "      <td>68.0</td>\n",
       "      <td>2014-05-16 15:05:40</td>\n",
       "      <td>71.0</td>\n",
       "      <td>2014-05-16 15:05:40</td>\n",
       "      <td>167.0</td>\n",
       "      <td>2014-05-16 15:05:44</td>\n",
       "    </tr>\n",
       "  </tbody>\n",
       "</table>\n",
       "<p>5 rows × 21 columns</p>\n",
       "</div>"
      ],
      "text/plain": [
       "   session_id  site1               time1   site2               time2  site3  \\\n",
       "0           1     29 2014-10-04 11:19:53    35.0 2014-10-04 11:19:53   22.0   \n",
       "1           2    782 2014-07-03 11:00:28   782.0 2014-07-03 11:00:53  782.0   \n",
       "2           3     55 2014-12-05 15:55:12    55.0 2014-12-05 15:55:13   55.0   \n",
       "3           4   1023 2014-11-04 10:03:19  1022.0 2014-11-04 10:03:19   50.0   \n",
       "4           5    301 2014-05-16 15:05:31   301.0 2014-05-16 15:05:32  301.0   \n",
       "\n",
       "                time3  site4               time4  site5  ...   site6  \\\n",
       "0 2014-10-04 11:19:54  321.0 2014-10-04 11:19:54   23.0  ...  2211.0   \n",
       "1 2014-07-03 11:00:58  782.0 2014-07-03 11:01:06  782.0  ...   782.0   \n",
       "2 2014-12-05 15:55:14   55.0 2014-12-05 15:56:15   55.0  ...    55.0   \n",
       "3 2014-11-04 10:03:20  222.0 2014-11-04 10:03:21  202.0  ...  3374.0   \n",
       "4 2014-05-16 15:05:33   66.0 2014-05-16 15:05:39   67.0  ...    69.0   \n",
       "\n",
       "                time6   site7               time7  site8               time8  \\\n",
       "0 2014-10-04 11:19:54  6730.0 2014-10-04 11:19:54   21.0 2014-10-04 11:19:54   \n",
       "1 2014-07-03 11:01:10   782.0 2014-07-03 11:01:23  782.0 2014-07-03 11:01:29   \n",
       "2 2014-12-05 15:56:17    55.0 2014-12-05 15:56:18   55.0 2014-12-05 15:56:19   \n",
       "3 2014-11-04 10:03:22    50.0 2014-11-04 10:03:22   48.0 2014-11-04 10:03:22   \n",
       "4 2014-05-16 15:05:40    70.0 2014-05-16 15:05:40   68.0 2014-05-16 15:05:40   \n",
       "\n",
       "     site9               time9   site10              time10  \n",
       "0  44582.0 2014-10-04 11:20:00  15336.0 2014-10-04 11:20:00  \n",
       "1    782.0 2014-07-03 11:01:30    782.0 2014-07-03 11:01:53  \n",
       "2   1445.0 2014-12-05 15:56:33   1445.0 2014-12-05 15:56:36  \n",
       "3     48.0 2014-11-04 10:03:23   3374.0 2014-11-04 10:03:23  \n",
       "4     71.0 2014-05-16 15:05:40    167.0 2014-05-16 15:05:44  \n",
       "\n",
       "[5 rows x 21 columns]"
      ]
     },
     "execution_count": 111,
     "metadata": {},
     "output_type": "execute_result"
    }
   ],
   "source": [
    "test_df.head()"
   ]
  },
  {
   "cell_type": "code",
   "execution_count": 112,
   "id": "allied-jacksonville",
   "metadata": {},
   "outputs": [
    {
     "name": "stdout",
     "output_type": "stream",
     "text": [
      "Websites total: 48371\n"
     ]
    },
    {
     "data": {
      "text/html": [
       "<div>\n",
       "<style scoped>\n",
       "    .dataframe tbody tr th:only-of-type {\n",
       "        vertical-align: middle;\n",
       "    }\n",
       "\n",
       "    .dataframe tbody tr th {\n",
       "        vertical-align: top;\n",
       "    }\n",
       "\n",
       "    .dataframe thead th {\n",
       "        text-align: right;\n",
       "    }\n",
       "</style>\n",
       "<table border=\"1\" class=\"dataframe\">\n",
       "  <thead>\n",
       "    <tr style=\"text-align: right;\">\n",
       "      <th></th>\n",
       "      <th>site</th>\n",
       "    </tr>\n",
       "  </thead>\n",
       "  <tbody>\n",
       "    <tr>\n",
       "      <th>25075</th>\n",
       "      <td>www.abmecatronique.com</td>\n",
       "    </tr>\n",
       "    <tr>\n",
       "      <th>13997</th>\n",
       "      <td>groups.live.com</td>\n",
       "    </tr>\n",
       "    <tr>\n",
       "      <th>42436</th>\n",
       "      <td>majeureliguefootball.wordpress.com</td>\n",
       "    </tr>\n",
       "    <tr>\n",
       "      <th>30911</th>\n",
       "      <td>cdt46.media.tourinsoft.eu</td>\n",
       "    </tr>\n",
       "    <tr>\n",
       "      <th>8104</th>\n",
       "      <td>www.hdwallpapers.eu</td>\n",
       "    </tr>\n",
       "  </tbody>\n",
       "</table>\n",
       "</div>"
      ],
      "text/plain": [
       "                                     site\n",
       "25075              www.abmecatronique.com\n",
       "13997                     groups.live.com\n",
       "42436  majeureliguefootball.wordpress.com\n",
       "30911           cdt46.media.tourinsoft.eu\n",
       "8104                  www.hdwallpapers.eu"
      ]
     },
     "execution_count": 112,
     "metadata": {},
     "output_type": "execute_result"
    }
   ],
   "source": [
    "# Load websites dictionary\n",
    "with open('./data/site_dic.pkl', mode='rb') as input_file:\n",
    "    site_dict = pickle.load(input_file)\n",
    "\n",
    "# Create dataframe for the dictionary\n",
    "sites_dict = pd.DataFrame(list(site_dict.keys()), index=list(site_dict.values()), columns=['site'])\n",
    "print(u'Websites total:', sites_dict.shape[0])\n",
    "sites_dict.head()"
   ]
  },
  {
   "cell_type": "markdown",
   "id": "accessible-friday",
   "metadata": {},
   "source": [
    "**Tranform data into format which can be fed into `CountVectorizer`**"
   ]
  },
  {
   "cell_type": "code",
   "execution_count": 113,
   "id": "popular-waters",
   "metadata": {},
   "outputs": [],
   "source": [
    "sites = [f'site{s}' for s in range(1, 11)]\n",
    "train_df[sites].fillna(0).astype('int').to_csv('train_sessions_text.txt', sep=' ', index=0, header=0)\n",
    "test_df[sites].fillna(0).astype('int').to_csv('test_sessions_text.txt', sep=' ', index=0, header=0)"
   ]
  },
  {
   "cell_type": "code",
   "execution_count": 114,
   "id": "cloudy-recipient",
   "metadata": {},
   "outputs": [
    {
     "name": "stdout",
     "output_type": "stream",
     "text": [
      "56 55 0 0 0 0 0 0 0 0\n",
      "56 55 56 55 0 0 0 0 0 0\n",
      "946 946 951 946 946 945 948 784 949 946\n",
      "945 948 949 948 945 946 947 945 946 946\n",
      "947 950 948 947 950 952 946 951 946 947\n",
      "952 947 953 946 947 946 953 955 946 947\n",
      "953 947 946 953 955 947 953 946 953 1033\n",
      "946 947 954 953 946 954 946 956 957 956\n",
      "946 956 946 946 955 954 946 946 946 948\n",
      "948 946 948 784 49 53 812 982 52 52\n"
     ]
    }
   ],
   "source": [
    "%head train_sessions_text.txt"
   ]
  },
  {
   "cell_type": "markdown",
   "id": "bronze-ridge",
   "metadata": {},
   "source": [
    "**Fit `CountVectorizer` and transform data with it**"
   ]
  },
  {
   "cell_type": "code",
   "execution_count": 128,
   "id": "published-superintendent",
   "metadata": {},
   "outputs": [
    {
     "name": "stdout",
     "output_type": "stream",
     "text": [
      "(253561, 41592) (82797, 41592)\n",
      "Wall time: 3.36 s\n"
     ]
    }
   ],
   "source": [
    "%%time\n",
    "cv = CountVectorizer() # idea: add n-grams\n",
    "with open('train_sessions_text.txt') as input_train_file:\n",
    "    X_train = cv.fit_transform(input_train_file)\n",
    "with open('test_sessions_text.txt') as input_test_file:\n",
    "    X_test = cv.transform(input_test_file)\n",
    "    \n",
    "print(X_train.shape, X_test.shape)"
   ]
  },
  {
   "cell_type": "markdown",
   "id": "subtle-newsletter",
   "metadata": {},
   "source": [
    "### Train Logisitic regression"
   ]
  },
  {
   "cell_type": "code",
   "execution_count": 129,
   "id": "cosmetic-inspiration",
   "metadata": {},
   "outputs": [],
   "source": [
    "logit = LogisticRegression(C=1, random_state=17, max_iter=500)"
   ]
  },
  {
   "cell_type": "code",
   "execution_count": 130,
   "id": "accessible-indonesia",
   "metadata": {},
   "outputs": [
    {
     "name": "stdout",
     "output_type": "stream",
     "text": [
      "[0.91384326 0.8319114  0.87616935 0.8912072  0.91287018]\n",
      "Wall time: 28.2 s\n"
     ]
    },
    {
     "data": {
      "text/plain": [
       "0.8852002773592662"
      ]
     },
     "execution_count": 130,
     "metadata": {},
     "output_type": "execute_result"
    }
   ],
   "source": [
    "%%time\n",
    "cv_scores = cross_val_score(estimator=logit, X=X_train, y=y_train, cv=5, scoring='roc_auc')\n",
    "print(cv_scores)\n",
    "cv_scores.mean()"
   ]
  },
  {
   "cell_type": "code",
   "execution_count": 101,
   "id": "wicked-dubai",
   "metadata": {},
   "outputs": [
    {
     "name": "stdout",
     "output_type": "stream",
     "text": [
      "Wall time: 2.86 s\n"
     ]
    },
    {
     "data": {
      "text/plain": [
       "LogisticRegression(C=1, random_state=17)"
      ]
     },
     "execution_count": 101,
     "metadata": {},
     "output_type": "execute_result"
    }
   ],
   "source": [
    "%%time\n",
    "logit.fit(X_train, y_train)"
   ]
  },
  {
   "cell_type": "code",
   "execution_count": 102,
   "id": "cutting-translation",
   "metadata": {},
   "outputs": [
    {
     "data": {
      "text/plain": [
       "array([2.29625029e-03, 3.44054063e-09, 1.11962356e-08, ...,\n",
       "       8.71038556e-03, 4.32088081e-04, 1.86131406e-05])"
      ]
     },
     "execution_count": 102,
     "metadata": {},
     "output_type": "execute_result"
    }
   ],
   "source": [
    "test_pred_logit1 = logit.predict_proba(X_test)[:, 1]\n",
    "test_pred_logit1"
   ]
  },
  {
   "cell_type": "code",
   "execution_count": 57,
   "id": "monetary-sitting",
   "metadata": {},
   "outputs": [],
   "source": [
    "# CV 0.885\n",
    "# write_to_submission_file(predicted_labels=test_pred_logit1, out_file='logit_subm1.txt') # 0.90703 ROC AUC Public LB"
   ]
  },
  {
   "cell_type": "code",
   "execution_count": 103,
   "id": "communist-dairy",
   "metadata": {},
   "outputs": [],
   "source": [
    "# CV 0.962\n",
    "# write_to_submission_file(predicted_labels=test_pred_logit1, out_file='logit_subm2.txt') # 0.90703 ROC AUC Public LB"
   ]
  },
  {
   "cell_type": "code",
   "execution_count": null,
   "id": "religious-violence",
   "metadata": {},
   "outputs": [],
   "source": []
  },
  {
   "cell_type": "markdown",
   "id": "extraordinary-while",
   "metadata": {},
   "source": [
    "without sorting CV 0.963"
   ]
  },
  {
   "cell_type": "markdown",
   "id": "cardiovascular-oklahoma",
   "metadata": {},
   "source": [
    "### Time features\n",
    "- morning\n",
    "- day\n",
    "- evening\n",
    "- night"
   ]
  },
  {
   "cell_type": "code",
   "execution_count": 65,
   "id": "concrete-auckland",
   "metadata": {},
   "outputs": [],
   "source": [
    "def add_time_features(time1_series, X_sparse):\n",
    "    hour = time1_series.apply(lambda ts: ts.hour)\n",
    "    morning = ((hour >= 7) & (hour <= 11)).astype('int')\n",
    "    day = ((hour >= 12) & (hour <= 18)).astype('int')\n",
    "    evening = ((hour >= 19) & (hour <= 23)).astype('int')\n",
    "    night = ((hour >= 0) & (hour <= 6)).astype('int')\n",
    "    X = hstack([X_sparse, morning.values.reshape(-1, 1), \n",
    "                day.values.reshape(-1, 1), evening.values.reshape(-1, 1), \n",
    "                night.values.reshape(-1, 1)])\n",
    "    return X"
   ]
  },
  {
   "cell_type": "code",
   "execution_count": 80,
   "id": "urban-difficulty",
   "metadata": {},
   "outputs": [
    {
     "name": "stdout",
     "output_type": "stream",
     "text": [
      "Wall time: 1.58 s\n"
     ]
    }
   ],
   "source": [
    "%%time\n",
    "X_train_with_time = add_time_features(train_df.time1.fillna(0), X_train)\n",
    "X_test_with_time = add_time_features(test_df.time1.fillna(0), X_test)"
   ]
  },
  {
   "cell_type": "code",
   "execution_count": 81,
   "id": "casual-avenue",
   "metadata": {},
   "outputs": [
    {
     "data": {
      "text/plain": [
       "((253561, 41596), (82797, 41596))"
      ]
     },
     "execution_count": 81,
     "metadata": {},
     "output_type": "execute_result"
    }
   ],
   "source": [
    "X_train_with_time.shape, X_test_with_time.shape"
   ]
  },
  {
   "cell_type": "code",
   "execution_count": 82,
   "id": "vertical-version",
   "metadata": {},
   "outputs": [
    {
     "name": "stdout",
     "output_type": "stream",
     "text": [
      "[0.9248067  0.90742585 0.93214609 0.94361812 0.94776403]\n",
      "Wall time: 12.3 s\n"
     ]
    },
    {
     "data": {
      "text/plain": [
       "0.9311521580955209"
      ]
     },
     "execution_count": 82,
     "metadata": {},
     "output_type": "execute_result"
    }
   ],
   "source": [
    "%%time\n",
    "cv_scores = cross_val_score(estimator=logit, X=X_train_with_time, y=y_train, cv=5, scoring='roc_auc')\n",
    "print(cv_scores)\n",
    "cv_scores.mean()"
   ]
  },
  {
   "cell_type": "code",
   "execution_count": null,
   "id": "grateful-above",
   "metadata": {},
   "outputs": [],
   "source": []
  }
 ],
 "metadata": {
  "kernelspec": {
   "display_name": "Python 3",
   "language": "python",
   "name": "python3"
  },
  "language_info": {
   "codemirror_mode": {
    "name": "ipython",
    "version": 3
   },
   "file_extension": ".py",
   "mimetype": "text/x-python",
   "name": "python",
   "nbconvert_exporter": "python",
   "pygments_lexer": "ipython3",
   "version": "3.7.9"
  }
 },
 "nbformat": 4,
 "nbformat_minor": 5
}
